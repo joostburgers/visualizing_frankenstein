{
 "cells": [
  {
   "cell_type": "markdown",
   "id": "d519c96e",
   "metadata": {},
   "source": [
    "# Visualizing Alienation: Mapping Emotional Spaces in Frankenstein\n",
    "\n",
    "This brief analysis uses sentiment analysis to understand the emotional valence of the locations and characters in Mary Shelley's *Frankenstein*. \n",
    "\n",
    "## Methodology\n",
    "\n",
    "The data was created by splitting the text of Frankenstein into Vol. Chapter and paragraphs. For each paragraph, the location of the narrative present was noted. This is distinct from all the locations that are *mentioned* in the text. For example, South America is mentioned, but as the text never *goes* there it is not part of this data set. Subsequently, the roBERTa Sentiment analyzer was run on each paragraph and the aggregate score per location was registered. \n",
    "\n",
    "A follow up analysis was performed of the sentiments surrounding each character. This is less accurate as the calculation purely replies on character name as indicative of character presence. No attempt was made to reconcile pronouns with characters. Thus, \"I\" could be Walton, Victor, or The Monster. Without significantly more work, these distinctions cannot be recovered from the data without supervision."
   ]
  },
  {
   "cell_type": "code",
   "execution_count": null,
   "id": "844a0181",
   "metadata": {},
   "outputs": [
    {
     "name": "stdout",
     "output_type": "stream",
     "text": [
      "📊 Loading Frankenstein analysis results...\n",
      "✅ Successfully loaded all datasets:\n"
     ]
    }
   ],
   "source": [
    "# Load analysis results from parquet files\n",
    "import pandas as pd\n",
    "import plotly.express as px\n",
    "import plotly.graph_objects as go\n",
    "import plotly.offline as py\n",
    "\n",
    "# Configure Plotly for HTML export - this ensures charts work in exported HTML\n",
    "py.init_notebook_mode(connected=False)  # Use offline mode for HTML export\n",
    "import plotly.io as pio\n",
    "pio.renderers.default = \"notebook\"  # Ensure charts render in notebook and HTML\n",
    "\n",
    "print(\"📊 Loading Frankenstein analysis results...\")\n",
    "\n",
    "\n",
    "try:\n",
    "    # Load all datasets from parquet files (fast and efficient)\n",
    "    frankenstein_all_with_sentiment = pd.read_parquet(\"frankenstein_all_paragraphs_with_sentiment.parquet\")\n",
    "    frankenstein_all_with_sentiment.to_csv(\"frankenstein_all_paragraphs_with_sentiment.csv\")\n",
    "    character_sentiment_df = pd.read_parquet(\"frankenstein_character_sentiment.parquet\")\n",
    "    location_sentiment_summary = pd.read_parquet(\"frankenstein_location_sentiment.parquet\")\n",
    "    frankenstein_manual_locations = pd.read_parquet(\"frankenstein_manual_locations.parquet\")\n",
    "    \n",
    "    print(\"✅ Successfully loaded all datasets:\")\n",
    "  \n",
    "    \n",
    "    # Set up coordinate columns\n",
    "    coords_columns = list(frankenstein_manual_locations.columns[-2:])\n",
    "    lat_col = coords_columns[0]\n",
    "    lon_col = coords_columns[1]\n",
    "    \n",
    "   \n",
    "    \n",
    "except FileNotFoundError as e:\n",
    "    print(f\"❌ Error loading data: {e}\")"
   ]
  },
  {
   "cell_type": "markdown",
   "id": "d0e8e465",
   "metadata": {},
   "source": [
    "## Part I: The Geographic Imagination of Frankenstein\n",
    "\n",
    "The text has a remarkably large geographic canvas given its relative brevity. Some of this is no doubt due to the fact that Mary Shelley traveled quite a bit during the composition of the text. \n",
    "\n",
    "### Geographic Distribution and Narrative Weight\n",
    "\n",
    "The map below shows all the locations in *Frankenstein* where the text travels. The circle sizes represent the total word count associated with each location. Note that this does not necessarily indicate how long the text stays in that location in terms of narrative duration. For example, Victor is in Ingolstadt for quite some time, but the relative amount of text there is quite small."
   ]
  },
  {
   "cell_type": "code",
   "execution_count": null,
   "id": "46238f4f",
   "metadata": {},
   "outputs": [
    {
     "data": {
      "application/vnd.plotly.v1+json": {
       "config": {
        "plotlyServerURL": "https://plot.ly"
       },
       "data": [
        {
         "customdata": {
          "bdata": "rkfhehSu9z8AAAAAAJiQQHXCU+HyIlBArZYJ+f9DREAK16NwPQq3PwAAAAAAAFFAmEx4toXWRUAKZIj5eJASQB+F61G4HiVAAAAAAACfvUClseaVJedUQGEdPh431BlAH4XrUbge1T8AAAAAAMBtQLY08e1hj1NA8M+Yi/DNPkDXo3A9CtcVQAAAAAAAoK5AR8Pvx2mZS0DZsr55WIcawFyPwvUoXPs/AAAAAAAwk0BwIn7uGSFHQK23beJbxxhAPQrXo3A98j8AAAAAAKCJQHZCXPde9kZAx3SVrJJ7G0CamZmZmZmpPwAAAAAAAEJAi1knFap2SUA101VrdVYcQKRwPQrXo8A/AAAAAABAV0CswJhGdoFEQG+6I2sm+jxAj8L1KFyP4j8AAAAAAEB6QKqAGHQEPUtA/P0gmpJbCMA9CtejcD0sQAAAAACAy8NAvyPwqK1QSEAUwc0ccU4mQArXo3A9Ctc/AAAAAAAQcECW1yFpfaxKQLFiTlZgChnApHA9CtejwD8AAAAAAABYQPDaKUYr+ktATKPq0wGHCcAfhetRuB7VPwAAAAAAoG1A8doAx3k4RkBXwofQEHMlQLgehetRODhAAAAAAMD60ECSi/cEBRpHQFKpRJ+wlhhAUrgehetRyD8AAAAAAGBhQCCDcGBNp0pASMt5rSGEEsDNzMzMzMwnQAAAAACAr8BAhOowcApiSEBfXoB9dNomQArXo3A9Cuc/AAAAAAAYgECarBdkR1VIQFIC7rsagyZAAAAAAAAA4D8AAAAAAJB2QIhVcgRf90tAcBSdiCWnHcDsUbgeheuxPwAAAAAAgElANV66SQxCR0DVBFH3AYgaQJqZmZmZmak/AAAAAAAAQkBxX2KHjL9IQOBh9owmEro/MzMzMzMz6z8AAAAAABCDQFFvoYZKxkVAVgJSMJ2hJECPwvUoXI/qPwAAAAAAiIJAYu5iswbBSUDVMsGMAxG7vwAAAAAAAOA/AAAAAACQdkARje4gdoZHQFtCPujZnCBA4XoUrkfhyj8AAAAAAOBiQDosJpnJ/khART+KolZ/IEB7FK5H4XrEPwAAAAAAAF1AiOxJgQGSSkD7aMnHFML4v5qZmZmZmfU/AAAAAABYjkDXmvdJfwBIQNzTVJ11vCFAPQrXo3A9F0AAAAAAAE+wQMrcIWpH90ZApo12Hg2sG0DsUbgehev1PwAAAAAAuI5ARZ9NFhAsR0AkjFU5o7QYQArXo3A9ChFAAAAAAADsp0D9xhFKY3dNQJgRbMmb/QXA16NwPQrX4z8AAAAAAKB7QLsULhZM4ElAuT12VIsR9L8UrkfhehQAQAAAAAAAmJZAYHWiLJVtSECsFFtxDM0CQB+F61G4HtU/AAAAAADgbUB33TqDrzJMQMO79OACdQvA7FG4HoXr6T8AAAAAAECCQF02+MrVaElA8TFnnNc38b97FK5H4XrsPwAAAAAA8INAioCW8HwtSUCpgNRWh7oeQKRwPQrXo8A/AAAAAAAAWEDHKXyunfZJQBr42v5Y3hFAH4XrUbge1T8AAAAAAMBtQJYziM3PZkpAJbFBskJqQkAK16NwPQrnPwAAAAAAEIBAwqKFeGKZS0A/KcVUGxVBQOF6FK5H4eo/AAAAAADAgkDj22BNCmdPQLCho25Ku0RAhetRuB6F8z8AAAAAAHCLQOqzXmee11BA+5iLz88sRUC4HoXrUbj6PwAAAAAAuJJAZTYKQXX3TUDQ6DfhmFk+QLgehetRuM4/AAAAAADgZUC2zqbAVUlIQB+KEahPCx9AzczMzMzM3D8AAAAAAFB0QF2/YDdsL0dAQfFjzF3rGUC4HoXrUbiuPwAAAAAAAEdAOCqae4a9SUD7JDp1LKnjv1K4HoXrUcg/AAAAAACgYEAQrwwmVa9HQC+M4r+6eiFA",
          "dtype": "f8",
          "shape": "45, 4"
         },
         "hovertemplate": "<b>%{hovertext}</b><br><br>total_words=%{customdata[1]}<br>% of Total Narrative=%{customdata[0]:.2f}<extra></extra>",
         "hovertext": [
          "Archangel",
          "Arles",
          "Artic",
          "Barents Sea",
          "Beach somewhere on the Irish Coast",
          "Belrive",
          "Chamonix",
          "Cologne",
          "Constantinople",
          "Cumberland",
          "Delacey Cottage",
          "Dublin",
          "Edinburgh",
          "Elizabeth in Italy",
          "Geneva",
          "Holyhead",
          "Ingolstadt",
          "Ingolstadt (Forest)",
          "Irish Sea",
          "Lausanne",
          "Le Havre",
          "Livorno",
          "London",
          "Lucern",
          "Mainz",
          "Matlock",
          "Monster Travel to Geneva",
          "Montanvert",
          "Near Mont Blanc",
          "Orkney Islands",
          "Oxford",
          "Paris",
          "Perth",
          "Portsmouth",
          "Rhine below Mainz",
          "Rotterdam",
          "Russian plain",
          "Russian pursuit",
          "Russian pursuit near Archangel",
          "Russian pursuit on ice",
          "St. Petersburgh",
          "Strasbourg",
          "Thonon-les-Bains",
          "Windsor",
          "Zurich"
         ],
         "lat": {
          "bdata": "dcJT4fIiUECYTHi2hdZFQKWx5pUl51RAtjTx7WGPU0BHw+/HaZlLQHAifu4ZIUdAdkJc9172RkCLWScVqnZJQKzAmEZ2gURAqoAYdAQ9S0C/I/CorVBIQJbXIWl9rEpA8NopRiv6S0Dx2gDHeThGQJKL9wQFGkdAIINwYE2nSkCE6jBwCmJIQJqsF2RHVUhAiFVyBF/3S0A1XrpJDEJHQHFfYoeMv0hAUW+hhkrGRUBi7mKzBsFJQBGN7iB2hkdAOiwmmcn+SECI7EmBAZJKQNea90l/AEhAytwhakf3RkBFn00WECxHQP3GEUpjd01AuxQuFkzgSUBgdaIslW1IQHfdOoOvMkxAXTb4ytVoSUCKgJbwfC1JQMcpfK6d9klAljOIzc9mSkDCooV4YplLQOPbYE0KZ09A6rNeZ57XUEBlNgpBdfdNQLbOpsBVSUhAXb9gN2wvR0A4Kpp7hr1JQBCvDCZVr0dA",
          "dtype": "f8"
         },
         "legendgroup": "",
         "lon": {
          "bdata": "rZYJ+f9DREAKZIj5eJASQGEdPh431BlA8M+Yi/DNPkDZsr55WIcawK23beJbxxhAx3SVrJJ7G0A101VrdVYcQG+6I2sm+jxA/P0gmpJbCMAUwc0ccU4mQLFiTlZgChnATKPq0wGHCcBXwofQEHMlQFKpRJ+wlhhASMt5rSGEEsBfXoB9dNomQFIC7rsagyZAcBSdiCWnHcDVBFH3AYgaQOBh9owmEro/VgJSMJ2hJEDVMsGMAxG7v1tCPujZnCBART+KolZ/IED7aMnHFML4v9zTVJ11vCFApo12Hg2sG0AkjFU5o7QYQJgRbMmb/QXAuT12VIsR9L+sFFtxDM0CQMO79OACdQvA8TFnnNc38b+pgNRWh7oeQBr42v5Y3hFAJbFBskJqQkA/KcVUGxVBQLCho25Ku0RA+5iLz88sRUDQ6DfhmFk+QB+KEahPCx9AQfFjzF3rGUD7JDp1LKnjvy+M4r+6eiFA",
          "dtype": "f8"
         },
         "marker": {
          "color": "#2E86AB",
          "size": {
           "bdata": "JgREAJ8d7gBQD8wENAMkAF0ApAGXJwEBYADtAOtDiwBfIQMCaQEzACQAYgJRAmkBlwB0AMsDTxDXA/YLugGmBe8ASAJ+AmAA7gACAlgCbgOuBK8ARQEuAIUA",
           "dtype": "i2"
          },
          "sizemode": "area",
          "sizeref": 10.866875
         },
         "mode": "markers",
         "name": "",
         "showlegend": false,
         "subplot": "map",
         "type": "scattermap"
        }
       ],
       "layout": {
        "height": 700,
        "legend": {
         "itemsizing": "constant",
         "tracegroupgap": 0
        },
        "map": {
         "center": {
          "lat": 52.479823228444445,
          "lon": 9.300576639222223
         },
         "domain": {
          "x": [
           0,
           1
          ],
          "y": [
           0,
           1
          ]
         },
         "zoom": 3
        },
        "mapbox": {
         "center": {
          "lat": 52.479823228444445,
          "lon": 9.300576639222223
         },
         "style": "carto-positron",
         "zoom": 3
        },
        "margin": {
         "b": 0,
         "l": 0,
         "r": 0,
         "t": 50
        },
        "template": {
         "data": {
          "bar": [
           {
            "error_x": {
             "color": "#2a3f5f"
            },
            "error_y": {
             "color": "#2a3f5f"
            },
            "marker": {
             "line": {
              "color": "#E5ECF6",
              "width": 0.5
             },
             "pattern": {
              "fillmode": "overlay",
              "size": 10,
              "solidity": 0.2
             }
            },
            "type": "bar"
           }
          ],
          "barpolar": [
           {
            "marker": {
             "line": {
              "color": "#E5ECF6",
              "width": 0.5
             },
             "pattern": {
              "fillmode": "overlay",
              "size": 10,
              "solidity": 0.2
             }
            },
            "type": "barpolar"
           }
          ],
          "carpet": [
           {
            "aaxis": {
             "endlinecolor": "#2a3f5f",
             "gridcolor": "white",
             "linecolor": "white",
             "minorgridcolor": "white",
             "startlinecolor": "#2a3f5f"
            },
            "baxis": {
             "endlinecolor": "#2a3f5f",
             "gridcolor": "white",
             "linecolor": "white",
             "minorgridcolor": "white",
             "startlinecolor": "#2a3f5f"
            },
            "type": "carpet"
           }
          ],
          "choropleth": [
           {
            "colorbar": {
             "outlinewidth": 0,
             "ticks": ""
            },
            "type": "choropleth"
           }
          ],
          "contour": [
           {
            "colorbar": {
             "outlinewidth": 0,
             "ticks": ""
            },
            "colorscale": [
             [
              0,
              "#0d0887"
             ],
             [
              0.1111111111111111,
              "#46039f"
             ],
             [
              0.2222222222222222,
              "#7201a8"
             ],
             [
              0.3333333333333333,
              "#9c179e"
             ],
             [
              0.4444444444444444,
              "#bd3786"
             ],
             [
              0.5555555555555556,
              "#d8576b"
             ],
             [
              0.6666666666666666,
              "#ed7953"
             ],
             [
              0.7777777777777778,
              "#fb9f3a"
             ],
             [
              0.8888888888888888,
              "#fdca26"
             ],
             [
              1,
              "#f0f921"
             ]
            ],
            "type": "contour"
           }
          ],
          "contourcarpet": [
           {
            "colorbar": {
             "outlinewidth": 0,
             "ticks": ""
            },
            "type": "contourcarpet"
           }
          ],
          "heatmap": [
           {
            "colorbar": {
             "outlinewidth": 0,
             "ticks": ""
            },
            "colorscale": [
             [
              0,
              "#0d0887"
             ],
             [
              0.1111111111111111,
              "#46039f"
             ],
             [
              0.2222222222222222,
              "#7201a8"
             ],
             [
              0.3333333333333333,
              "#9c179e"
             ],
             [
              0.4444444444444444,
              "#bd3786"
             ],
             [
              0.5555555555555556,
              "#d8576b"
             ],
             [
              0.6666666666666666,
              "#ed7953"
             ],
             [
              0.7777777777777778,
              "#fb9f3a"
             ],
             [
              0.8888888888888888,
              "#fdca26"
             ],
             [
              1,
              "#f0f921"
             ]
            ],
            "type": "heatmap"
           }
          ],
          "histogram": [
           {
            "marker": {
             "pattern": {
              "fillmode": "overlay",
              "size": 10,
              "solidity": 0.2
             }
            },
            "type": "histogram"
           }
          ],
          "histogram2d": [
           {
            "colorbar": {
             "outlinewidth": 0,
             "ticks": ""
            },
            "colorscale": [
             [
              0,
              "#0d0887"
             ],
             [
              0.1111111111111111,
              "#46039f"
             ],
             [
              0.2222222222222222,
              "#7201a8"
             ],
             [
              0.3333333333333333,
              "#9c179e"
             ],
             [
              0.4444444444444444,
              "#bd3786"
             ],
             [
              0.5555555555555556,
              "#d8576b"
             ],
             [
              0.6666666666666666,
              "#ed7953"
             ],
             [
              0.7777777777777778,
              "#fb9f3a"
             ],
             [
              0.8888888888888888,
              "#fdca26"
             ],
             [
              1,
              "#f0f921"
             ]
            ],
            "type": "histogram2d"
           }
          ],
          "histogram2dcontour": [
           {
            "colorbar": {
             "outlinewidth": 0,
             "ticks": ""
            },
            "colorscale": [
             [
              0,
              "#0d0887"
             ],
             [
              0.1111111111111111,
              "#46039f"
             ],
             [
              0.2222222222222222,
              "#7201a8"
             ],
             [
              0.3333333333333333,
              "#9c179e"
             ],
             [
              0.4444444444444444,
              "#bd3786"
             ],
             [
              0.5555555555555556,
              "#d8576b"
             ],
             [
              0.6666666666666666,
              "#ed7953"
             ],
             [
              0.7777777777777778,
              "#fb9f3a"
             ],
             [
              0.8888888888888888,
              "#fdca26"
             ],
             [
              1,
              "#f0f921"
             ]
            ],
            "type": "histogram2dcontour"
           }
          ],
          "mesh3d": [
           {
            "colorbar": {
             "outlinewidth": 0,
             "ticks": ""
            },
            "type": "mesh3d"
           }
          ],
          "parcoords": [
           {
            "line": {
             "colorbar": {
              "outlinewidth": 0,
              "ticks": ""
             }
            },
            "type": "parcoords"
           }
          ],
          "pie": [
           {
            "automargin": true,
            "type": "pie"
           }
          ],
          "scatter": [
           {
            "fillpattern": {
             "fillmode": "overlay",
             "size": 10,
             "solidity": 0.2
            },
            "type": "scatter"
           }
          ],
          "scatter3d": [
           {
            "line": {
             "colorbar": {
              "outlinewidth": 0,
              "ticks": ""
             }
            },
            "marker": {
             "colorbar": {
              "outlinewidth": 0,
              "ticks": ""
             }
            },
            "type": "scatter3d"
           }
          ],
          "scattercarpet": [
           {
            "marker": {
             "colorbar": {
              "outlinewidth": 0,
              "ticks": ""
             }
            },
            "type": "scattercarpet"
           }
          ],
          "scattergeo": [
           {
            "marker": {
             "colorbar": {
              "outlinewidth": 0,
              "ticks": ""
             }
            },
            "type": "scattergeo"
           }
          ],
          "scattergl": [
           {
            "marker": {
             "colorbar": {
              "outlinewidth": 0,
              "ticks": ""
             }
            },
            "type": "scattergl"
           }
          ],
          "scattermap": [
           {
            "marker": {
             "colorbar": {
              "outlinewidth": 0,
              "ticks": ""
             }
            },
            "type": "scattermap"
           }
          ],
          "scattermapbox": [
           {
            "marker": {
             "colorbar": {
              "outlinewidth": 0,
              "ticks": ""
             }
            },
            "type": "scattermapbox"
           }
          ],
          "scatterpolar": [
           {
            "marker": {
             "colorbar": {
              "outlinewidth": 0,
              "ticks": ""
             }
            },
            "type": "scatterpolar"
           }
          ],
          "scatterpolargl": [
           {
            "marker": {
             "colorbar": {
              "outlinewidth": 0,
              "ticks": ""
             }
            },
            "type": "scatterpolargl"
           }
          ],
          "scatterternary": [
           {
            "marker": {
             "colorbar": {
              "outlinewidth": 0,
              "ticks": ""
             }
            },
            "type": "scatterternary"
           }
          ],
          "surface": [
           {
            "colorbar": {
             "outlinewidth": 0,
             "ticks": ""
            },
            "colorscale": [
             [
              0,
              "#0d0887"
             ],
             [
              0.1111111111111111,
              "#46039f"
             ],
             [
              0.2222222222222222,
              "#7201a8"
             ],
             [
              0.3333333333333333,
              "#9c179e"
             ],
             [
              0.4444444444444444,
              "#bd3786"
             ],
             [
              0.5555555555555556,
              "#d8576b"
             ],
             [
              0.6666666666666666,
              "#ed7953"
             ],
             [
              0.7777777777777778,
              "#fb9f3a"
             ],
             [
              0.8888888888888888,
              "#fdca26"
             ],
             [
              1,
              "#f0f921"
             ]
            ],
            "type": "surface"
           }
          ],
          "table": [
           {
            "cells": {
             "fill": {
              "color": "#EBF0F8"
             },
             "line": {
              "color": "white"
             }
            },
            "header": {
             "fill": {
              "color": "#C8D4E3"
             },
             "line": {
              "color": "white"
             }
            },
            "type": "table"
           }
          ]
         },
         "layout": {
          "annotationdefaults": {
           "arrowcolor": "#2a3f5f",
           "arrowhead": 0,
           "arrowwidth": 1
          },
          "autotypenumbers": "strict",
          "coloraxis": {
           "colorbar": {
            "outlinewidth": 0,
            "ticks": ""
           }
          },
          "colorscale": {
           "diverging": [
            [
             0,
             "#8e0152"
            ],
            [
             0.1,
             "#c51b7d"
            ],
            [
             0.2,
             "#de77ae"
            ],
            [
             0.3,
             "#f1b6da"
            ],
            [
             0.4,
             "#fde0ef"
            ],
            [
             0.5,
             "#f7f7f7"
            ],
            [
             0.6,
             "#e6f5d0"
            ],
            [
             0.7,
             "#b8e186"
            ],
            [
             0.8,
             "#7fbc41"
            ],
            [
             0.9,
             "#4d9221"
            ],
            [
             1,
             "#276419"
            ]
           ],
           "sequential": [
            [
             0,
             "#0d0887"
            ],
            [
             0.1111111111111111,
             "#46039f"
            ],
            [
             0.2222222222222222,
             "#7201a8"
            ],
            [
             0.3333333333333333,
             "#9c179e"
            ],
            [
             0.4444444444444444,
             "#bd3786"
            ],
            [
             0.5555555555555556,
             "#d8576b"
            ],
            [
             0.6666666666666666,
             "#ed7953"
            ],
            [
             0.7777777777777778,
             "#fb9f3a"
            ],
            [
             0.8888888888888888,
             "#fdca26"
            ],
            [
             1,
             "#f0f921"
            ]
           ],
           "sequentialminus": [
            [
             0,
             "#0d0887"
            ],
            [
             0.1111111111111111,
             "#46039f"
            ],
            [
             0.2222222222222222,
             "#7201a8"
            ],
            [
             0.3333333333333333,
             "#9c179e"
            ],
            [
             0.4444444444444444,
             "#bd3786"
            ],
            [
             0.5555555555555556,
             "#d8576b"
            ],
            [
             0.6666666666666666,
             "#ed7953"
            ],
            [
             0.7777777777777778,
             "#fb9f3a"
            ],
            [
             0.8888888888888888,
             "#fdca26"
            ],
            [
             1,
             "#f0f921"
            ]
           ]
          },
          "colorway": [
           "#636efa",
           "#EF553B",
           "#00cc96",
           "#ab63fa",
           "#FFA15A",
           "#19d3f3",
           "#FF6692",
           "#B6E880",
           "#FF97FF",
           "#FECB52"
          ],
          "font": {
           "color": "#2a3f5f"
          },
          "geo": {
           "bgcolor": "white",
           "lakecolor": "white",
           "landcolor": "#E5ECF6",
           "showlakes": true,
           "showland": true,
           "subunitcolor": "white"
          },
          "hoverlabel": {
           "align": "left"
          },
          "hovermode": "closest",
          "mapbox": {
           "style": "light"
          },
          "paper_bgcolor": "white",
          "plot_bgcolor": "#E5ECF6",
          "polar": {
           "angularaxis": {
            "gridcolor": "white",
            "linecolor": "white",
            "ticks": ""
           },
           "bgcolor": "#E5ECF6",
           "radialaxis": {
            "gridcolor": "white",
            "linecolor": "white",
            "ticks": ""
           }
          },
          "scene": {
           "xaxis": {
            "backgroundcolor": "#E5ECF6",
            "gridcolor": "white",
            "gridwidth": 2,
            "linecolor": "white",
            "showbackground": true,
            "ticks": "",
            "zerolinecolor": "white"
           },
           "yaxis": {
            "backgroundcolor": "#E5ECF6",
            "gridcolor": "white",
            "gridwidth": 2,
            "linecolor": "white",
            "showbackground": true,
            "ticks": "",
            "zerolinecolor": "white"
           },
           "zaxis": {
            "backgroundcolor": "#E5ECF6",
            "gridcolor": "white",
            "gridwidth": 2,
            "linecolor": "white",
            "showbackground": true,
            "ticks": "",
            "zerolinecolor": "white"
           }
          },
          "shapedefaults": {
           "line": {
            "color": "#2a3f5f"
           }
          },
          "ternary": {
           "aaxis": {
            "gridcolor": "white",
            "linecolor": "white",
            "ticks": ""
           },
           "baxis": {
            "gridcolor": "white",
            "linecolor": "white",
            "ticks": ""
           },
           "bgcolor": "#E5ECF6",
           "caxis": {
            "gridcolor": "white",
            "linecolor": "white",
            "ticks": ""
           }
          },
          "title": {
           "x": 0.05
          },
          "xaxis": {
           "automargin": true,
           "gridcolor": "white",
           "linecolor": "white",
           "ticks": "",
           "title": {
            "standoff": 15
           },
           "zerolinecolor": "white",
           "zerolinewidth": 2
          },
          "yaxis": {
           "automargin": true,
           "gridcolor": "white",
           "linecolor": "white",
           "ticks": "",
           "title": {
            "standoff": 15
           },
           "zerolinecolor": "white",
           "zerolinewidth": 2
          }
         }
        },
        "title": {
         "text": "Geographic Locations in Frankenstein: Narrative Distribution"
        }
       }
      }
     },
     "metadata": {},
     "output_type": "display_data"
    },
    {
     "name": "stdout",
     "output_type": "stream",
     "text": [
      "📍 Analysis reveals 45 unique geographic locations\n",
      "📊 Most significant locations by word count:\n",
      "   Geneva: 24.2% (17387 words)\n",
      "   Delacey Cottage: 14.1% (10135 words)\n",
      "   Ingolstadt: 11.9% (8543 words)\n",
      "   Artic: 10.6% (7583 words)\n",
      "   Montanvert: 5.8% (4175 words)\n"
     ]
    }
   ],
   "source": [
    "# Geographic Distribution Map - Clean Version\n",
    "try:\n",
    "    # Calculate location counts for sizing\n",
    "    valid_coords = frankenstein_manual_locations[\n",
    "        (frankenstein_manual_locations[lat_col].notna()) & \n",
    "        (frankenstein_manual_locations[lon_col].notna())\n",
    "    ].copy()\n",
    "    \n",
    "    valid_coords['word_count'] = valid_coords['paragraph_text'].str.split().str.len()\n",
    "    total_narrative_words = frankenstein_manual_locations['paragraph_text'].str.split().str.len().sum()\n",
    "    \n",
    "    # Clean location names to handle duplicates like \"Delacey Cottage\"\n",
    "    valid_coords['curated_name_clean'] = valid_coords['curated_name'].str.strip()\n",
    "    \n",
    "    # Group locations that are essentially the same (like multiple \"Delacey Cottage\" entries)\n",
    "    # First aggregate by cleaned name to get representative coordinates\n",
    "    location_coords = valid_coords.groupby('curated_name_clean').agg({\n",
    "        lat_col: 'first',  # Use first occurrence coordinates\n",
    "        lon_col: 'first'\n",
    "    }).reset_index()\n",
    "    \n",
    "    # Then sum word counts by cleaned name\n",
    "    location_counts = valid_coords.groupby('curated_name_clean').agg({\n",
    "        'word_count': 'sum'\n",
    "    }).reset_index()\n",
    "    \n",
    "    # Merge coordinates back\n",
    "    location_counts = location_counts.merge(location_coords, on='curated_name_clean')\n",
    "    location_counts = location_counts.rename(columns={'curated_name_clean': 'curated_name'})\n",
    "    location_counts = location_counts.rename(columns={'word_count': 'total_words'})\n",
    "    location_counts['narrative_percent'] = (location_counts['total_words'] / total_narrative_words * 100).round(2)\n",
    "\n",
    "    # Create the geographic map\n",
    "    fig_geo = px.scatter_map(\n",
    "        location_counts,\n",
    "        lat=lat_col,\n",
    "        lon=lon_col,\n",
    "        hover_name=\"curated_name\",\n",
    "        size=\"total_words\",\n",
    "        size_max=40,\n",
    "        hover_data={\n",
    "            \"narrative_percent\": \":.2f\",\n",
    "            \"total_words\": True,\n",
    "            lat_col: False,\n",
    "            lon_col: False\n",
    "        },\n",
    "        title=\"Geographic Locations in Frankenstein: Narrative Distribution\",\n",
    "        labels={\"narrative_percent\": \"% of Total Narrative\"},\n",
    "        zoom=3,\n",
    "        height=700,\n",
    "        color_discrete_sequence=['#2E86AB']\n",
    "    )\n",
    "\n",
    "    fig_geo.update_layout(\n",
    "        mapbox_style=\"carto-positron\",\n",
    "        margin={\"r\":0,\"t\":50,\"l\":0,\"b\":0}\n",
    "    )\n",
    "    \n",
    "    # Configure for HTML export - embed the plot with full JavaScript\n",
    "    fig_geo.update_layout(\n",
    "        font=dict(size=12),\n",
    "        title_font=dict(size=16),\n",
    "    )\n",
    "    \n",
    "    # Note: scatter_map doesn't support marker line outlines\n",
    "    # The circles will be solid without outlines for this map type\n",
    "\n",
    "    # Show with offline configuration for HTML export\n",
    "    py.iplot(fig_geo, show_link=False, config={'displayModeBar': True})\n",
    "\n",
    "    # Display insights\n",
    "    print(f\"📍 Analysis reveals {len(location_counts)} unique geographic locations\")\n",
    "    print(f\"📊 Most significant locations by word count:\")\n",
    "    \n",
    "    top_locations = location_counts.nlargest(5, 'total_words')\n",
    "    for _, row in top_locations.iterrows():\n",
    "        print(f\"   {row['curated_name']}: {row['narrative_percent']:.1f}% ({row['total_words']} words)\")\n",
    "    \n",
    "except NameError:\n",
    "    print(\"⚠️ Data not loaded - please run the data loading cell first\")"
   ]
  },
  {
   "cell_type": "markdown",
   "id": "1b4c1c78",
   "metadata": {},
   "source": []
  },
  {
   "cell_type": "code",
   "execution_count": 27,
   "id": "f89122a1",
   "metadata": {},
   "outputs": [
    {
     "name": "stdout",
     "output_type": "stream",
     "text": [
      "🧹 Cleaning Unicode issues in location data...\n",
      "✅ No obvious Unicode issues found in location names\n",
      "📊 Original data shape: (50, 11)\n",
      "📊 Cleaned data shape: (50, 11)\n",
      "✅ Location data cleaned successfully\n"
     ]
    }
   ],
   "source": [
    "# Debug and fix Unicode issues in location data\n",
    "import re\n",
    "\n",
    "def clean_unicode_surrogates(text):\n",
    "    \"\"\"Remove problematic Unicode surrogate characters\"\"\"\n",
    "    if isinstance(text, str):\n",
    "        # Remove surrogate characters (U+D800 to U+DFFF)\n",
    "        return re.sub(r'[\\uD800-\\uDFFF]', '', text)\n",
    "    return text\n",
    "\n",
    "def clean_dataframe_unicode(df):\n",
    "    \"\"\"Clean Unicode issues in all string columns of a DataFrame\"\"\"\n",
    "    df_cleaned = df.copy()\n",
    "    \n",
    "    for column in df_cleaned.columns:\n",
    "        if df_cleaned[column].dtype == 'object':\n",
    "            df_cleaned[column] = df_cleaned[column].apply(clean_unicode_surrogates)\n",
    "    \n",
    "    return df_cleaned\n",
    "\n",
    "# Clean the location sentiment data\n",
    "print(\"🧹 Cleaning Unicode issues in location data...\")\n",
    "\n",
    "try:\n",
    "    # Check for problematic characters in location names\n",
    "    problematic_locations = []\n",
    "    for idx, row in location_sentiment_summary.iterrows():\n",
    "        try:\n",
    "            # Try to encode the location name\n",
    "            row['curated_name'].encode('utf-8')\n",
    "        except UnicodeEncodeError as e:\n",
    "            problematic_locations.append((idx, row['curated_name'], str(e)))\n",
    "    \n",
    "    if problematic_locations:\n",
    "        print(f\"❌ Found {len(problematic_locations)} problematic locations:\")\n",
    "        for idx, name, error in problematic_locations:\n",
    "            print(f\"   Index {idx}: '{name}' - {error}\")\n",
    "    else:\n",
    "        print(\"✅ No obvious Unicode issues found in location names\")\n",
    "    \n",
    "    # Clean the location data\n",
    "    location_sentiment_summary_cleaned = clean_dataframe_unicode(location_sentiment_summary)\n",
    "    \n",
    "    # Verify cleaning worked\n",
    "    print(f\"📊 Original data shape: {location_sentiment_summary.shape}\")\n",
    "    print(f\"📊 Cleaned data shape: {location_sentiment_summary_cleaned.shape}\")\n",
    "    \n",
    "    # Update the global variable\n",
    "    location_sentiment_summary = location_sentiment_summary_cleaned\n",
    "    print(\"✅ Location data cleaned successfully\")\n",
    "    \n",
    "except Exception as e:\n",
    "    print(f\"❌ Error during cleaning: {e}\")\n",
    "    print(f\"Error type: {type(e)}\")"
   ]
  },
  {
   "cell_type": "code",
   "execution_count": null,
   "id": "ac3585c6",
   "metadata": {},
   "outputs": [
    {
     "data": {
      "application/vnd.plotly.v1+json": {
       "config": {
        "plotlyServerURL": "https://plot.ly"
       },
       "data": [
        {
         "customdata": [
          [
           1.48,
           0.04941941797733307,
           "Neutral",
           64.54607423,
           40.53124917
          ],
          [
           0.09,
           -0.030373379588127136,
           "Neutral",
           43.67595559,
           4.641086482
          ],
          [
           10.56,
           -0.06108132004737854,
           "Neutral",
           83.61166904,
           6.457241509
          ],
          [
           0.33,
           0.15921896696090698,
           "Positive",
           78.24035214,
           30.80445168
          ],
          [
           5.46,
           -0.230695903301239,
           "Negative",
           55.19854068,
           -6.632173445
          ],
          [
           1.71,
           -0.19118602573871613,
           "Negative",
           46.25860387,
           6.194686449
          ],
          [
           1.14,
           0.33347293734550476,
           "Positive",
           45.92477314,
           6.870676705
          ],
          [
           0.05,
           -0.017259344458580017,
           "Neutral",
           50.92706551,
           7.084432294
          ],
          [
           0.13,
           -0.002612525597214699,
           "Neutral",
           41.01142199,
           28.97714872
          ],
          [
           0.58,
           0.09392223507165909,
           "Neutral",
           54.47669841,
           -3.044713215
          ],
          [
           14.11,
           0.07888709753751755,
           "Neutral",
           48.63029968,
           11.15320673
          ],
          [
           0.36,
           0.00015813857316970825,
           "Neutral",
           53.34757723,
           -6.260133122
          ],
          [
           0.13,
           0.34395766258239746,
           "Positive",
           55.95444562,
           -3.190921455
          ],
          [
           0.33,
           0.2480756938457489,
           "Positive",
           44.44121635,
           10.72473766
          ],
          [
           24.21,
           0.005006123334169388,
           "Neutral",
           46.20327818,
           6.147158135
          ],
          [
           0.19,
           -0.409897118806839,
           "Negative",
           53.30704885,
           -4.62903472
          ],
          [
           11.9,
           0.043173208832740784,
           "Neutral",
           48.76594,
           11.42667
          ],
          [
           0.72,
           0.06370372325181961,
           "Neutral",
           48.66624118,
           11.25606334
          ],
          [
           0.5,
           -0.13430461287498474,
           "Negative",
           55.9325872,
           -7.413229117
          ],
          [
           0.07,
           0.31293007731437683,
           "Positive",
           46.516,
           6.63282
          ],
          [
           0.05,
           0.002998571377247572,
           "Neutral",
           49.4964761,
           0.101839456
          ],
          [
           0.85,
           -0.1379624307155609,
           "Negative",
           43.54914935,
           10.31565238
          ],
          [
           0.83,
           0.07101710885763168,
           "Neutral",
           51.50801699,
           -0.105728361
          ],
          [
           0.5,
           -0.010000746697187424,
           "Neutral",
           47.05048,
           8.30635
          ],
          [
           0.21,
           0.17334933578968048,
           "Positive",
           49.99052729,
           8.248707847
          ],
          [
           0.16,
           -0.013369404710829258,
           "Neutral",
           53.14067093,
           -1.547383099
          ],
          [
           1.35,
           -0.1119890883564949,
           "Negative",
           48.00388455,
           8.868084828
          ],
          [
           5.81,
           -0.21629388630390167,
           "Negative",
           45.9318669,
           6.918018795
          ],
          [
           1.37,
           -0.0938967764377594,
           "Neutral",
           46.34424094,
           6.1764039
          ],
          [
           4.26,
           -0.22493071854114532,
           "Negative",
           58.93271757,
           -2.748832296
          ],
          [
           0.62,
           0.1815970540046692,
           "Positive",
           51.75232198,
           -1.254283266
          ],
          [
           2.01,
           -0.06329728662967682,
           "Negative",
           48.85611494,
           2.350121389
          ],
          [
           0.33,
           0.023663541302084923,
           "Neutral",
           56.39598122,
           -3.432134397
          ],
          [
           0.81,
           -0.19531632959842682,
           "Negative",
           50.81902444,
           -1.076133357
          ],
          [
           0.89,
           0.22314806282520294,
           "Positive",
           50.35537536,
           7.682156903
          ],
          [
           0.13,
           0.12189995497465134,
           "Positive",
           51.92668706,
           4.467136366
          ],
          [
           0.33,
           -0.09878663718700409,
           "Neutral",
           52.80321664,
           36.83016041
          ],
          [
           0.72,
           -0.2126563936471939,
           "Negative",
           55.19831759,
           34.16489658
          ],
          [
           0.84,
           -0.1169571503996849,
           "Negative",
           62.8050019,
           41.46320899
          ],
          [
           1.22,
           -0.18822990357875824,
           "Negative",
           67.3690432,
           42.35009188
          ],
          [
           1.67,
           0.22810302674770355,
           "Positive",
           59.93326581,
           30.34998901
          ],
          [
           0.24,
           0.24237176775932312,
           "Positive",
           48.57292946,
           7.761046053
          ],
          [
           0.45,
           0.046540267765522,
           "Neutral",
           46.37049,
           6.47985
          ],
          [
           0.06,
           0.4771856963634491,
           "Positive",
           51.48066659,
           -0.614401082
          ],
          [
           0.19,
           -0.23804357647895813,
           "Negative",
           47.36978603,
           8.739706036
          ]
         ],
         "hovertemplate": "<b>%{hovertext}</b><br><br>total_words=%{marker.size}<br>% of Total Narrative=%{customdata[0]:.2f}<br>Average Sentiment=%{marker.color:.3f}<br>sentiment_category=%{customdata[2]}<extra></extra>",
         "hovertext": [
          "Archangel",
          "Arles",
          "Artic",
          "Barents Sea",
          "Beach somewhere on the Irish Coast",
          "Belrive",
          "Chamonix",
          "Cologne",
          "Constantinople",
          "Cumberland",
          "Delacey Cottage",
          "Dublin",
          "Edinburgh",
          "Elizabeth in Italy",
          "Geneva",
          "Holyhead",
          "Ingolstadt",
          "Ingolstadt (Forest)",
          "Irish Sea",
          "Lausanne",
          "Le Havre",
          "Livorno",
          "London",
          "Lucern",
          "Mainz",
          "Matlock",
          "Monster Travel to Geneva",
          "Montanvert",
          "Near Mont Blanc",
          "Orkney Islands",
          "Oxford",
          "Paris",
          "Perth",
          "Portsmouth",
          "Rhine below Mainz",
          "Rotterdam",
          "Russian plain",
          "Russian pursuit",
          "Russian pursuit near Archangel",
          "Russian pursuit on ice",
          "St. Petersburgh",
          "Strasbourg",
          "Thonon-les-Bains",
          "Windsor",
          "Zurich"
         ],
         "lat": {
          "bdata": "dcJT4fIiUECYTHi2hdZFQKWx5pUl51RAtjTx7WGPU0BHw+/HaZlLQHAifu4ZIUdAdkJc9172RkCLWScVqnZJQKzAmEZ2gURAqoAYdAQ9S0C/I/CorVBIQJbXIWl9rEpA8NopRiv6S0Dx2gDHeThGQJKL9wQFGkdAIINwYE2nSkBgWWlSCmJIQJqsF2RHVUhAiFVyBF/3S0A1XrpJDEJHQHFfYoeMv0hAUW+hhkrGRUBi7mKzBsFJQBGN7iB2hkdAOiwmmcn+SECI7EmBAZJKQNea90l/AEhAytwhakf3RkBFn00WECxHQP3GEUpjd01AuxQuFkzgSUBgdaIslW1IQHfdOoOvMkxAXTb4ytVoSUCKgJbwfC1JQMcpfK6d9klAljOIzc9mSkDCooV4YplLQOPbYE0KZ09A6rNeZ57XUEBlNgpBdfdNQLbOpsBVSUhAXb9gN2wvR0A4Kpp7hr1JQBCvDCZVr0dA",
          "dtype": "f8"
         },
         "legendgroup": "",
         "lon": {
          "bdata": "rZYJ+f9DREAKZIj5eJASQGEdPh431BlA8M+Yi/DNPkDZsr55WIcawK23beJbxxhAx3SVrJJ7G0A101VrdVYcQG+6I2sm+jxA/P0gmpJbCMAUwc0ccU4mQLFiTlZgChnATKPq0wGHCcBXwofQEHMlQFKpRJ+wlhhASMt5rSGEEsBfXoB9dNomQFIC7rsagyZAcBSdiCWnHcDVBFH3AYgaQOBh9owmEro/VgJSMJ2hJEDVMsGMAxG7v1tCPujZnCBART+KolZ/IED7aMnHFML4v9zTVJ11vCFApo12Hg2sG0AkjFU5o7QYQJgRbMmb/QXAuT12VIsR9L+sFFtxDM0CQMO79OACdQvA8TFnnNc38b+pgNRWh7oeQBr42v5Y3hFAJbFBskJqQkA/KcVUGxVBQLCho25Ku0RA+5iLz88sRUDQ6DfhmFk+QB+KEahPCx9AQfFjzF3rGUD7JDp1LKnjvy+M4r+6eiFA",
          "dtype": "f8"
         },
         "marker": {
          "color": {
           "bdata": "BGxKPZjR+LxoMHq9TAojPow7bL5FxkO+97yqPnhjjbzoNiu7TVrAPY+PoT0A0iU5OBuwPo4Hfj5oCqQ7Cd7RvmTWMD0Zd4I9JocJvl84oD6ug0Q7BkYNvmtxkT0s2iO8fYIxPlkLW7yJWuW9JXxdvvRMwL09VGa+lPQ5PgKigb0L2sE8AQFIvu2AZD6vpvk9plDKvZnCWb47h++9V79AvteTaT5OMHg+AqE+Pa9R9D6ywXO+",
           "dtype": "f4"
          },
          "coloraxis": "coloraxis",
          "size": {
           "bdata": "JgREAJ8d7gBQD8wENAMkAF0ApAGXJwEBYADtAOtDiwBfIQMCaQEzACQAYgJRAmkBlwB0AMsDTxDXA/YLugGmBe8ASAJ+AmAA7gACAlgCbgOuBK8ARQEuAIUA",
           "dtype": "i2"
          },
          "sizemode": "area",
          "sizeref": 14.193469387755101
         },
         "mode": "markers",
         "name": "",
         "showlegend": false,
         "subplot": "map",
         "type": "scattermap"
        }
       ],
       "layout": {
        "coloraxis": {
         "cmid": 0,
         "colorbar": {
          "ticktext": [
           "Very Negative",
           "Negative",
           "Neutral",
           "Positive",
           "Very Positive"
          ],
          "tickvals": [
           -0.4,
           -0.2,
           0,
           0.2,
           0.4
          ],
          "title": {
           "text": "Sentiment Score"
          }
         },
         "colorscale": [
          [
           0,
           "rgb(165,0,38)"
          ],
          [
           0.1,
           "rgb(215,48,39)"
          ],
          [
           0.2,
           "rgb(244,109,67)"
          ],
          [
           0.3,
           "rgb(253,174,97)"
          ],
          [
           0.4,
           "rgb(254,224,139)"
          ],
          [
           0.5,
           "rgb(255,255,191)"
          ],
          [
           0.6,
           "rgb(217,239,139)"
          ],
          [
           0.7,
           "rgb(166,217,106)"
          ],
          [
           0.8,
           "rgb(102,189,99)"
          ],
          [
           0.9,
           "rgb(26,152,80)"
          ],
          [
           1,
           "rgb(0,104,55)"
          ]
         ]
        },
        "height": 700,
        "legend": {
         "itemsizing": "constant",
         "tracegroupgap": 0
        },
        "map": {
         "center": {
          "lat": 52.47982314955555,
          "lon": 9.300576639222223
         },
         "domain": {
          "x": [
           0,
           1
          ],
          "y": [
           0,
           1
          ]
         },
         "zoom": 3
        },
        "mapbox": {
         "center": {
          "lat": 52.47982314955555,
          "lon": 9.300576639222223
         },
         "style": "carto-positron",
         "zoom": 3
        },
        "margin": {
         "b": 0,
         "l": 0,
         "r": 0,
         "t": 50
        },
        "template": {
         "data": {
          "bar": [
           {
            "error_x": {
             "color": "#2a3f5f"
            },
            "error_y": {
             "color": "#2a3f5f"
            },
            "marker": {
             "line": {
              "color": "#E5ECF6",
              "width": 0.5
             },
             "pattern": {
              "fillmode": "overlay",
              "size": 10,
              "solidity": 0.2
             }
            },
            "type": "bar"
           }
          ],
          "barpolar": [
           {
            "marker": {
             "line": {
              "color": "#E5ECF6",
              "width": 0.5
             },
             "pattern": {
              "fillmode": "overlay",
              "size": 10,
              "solidity": 0.2
             }
            },
            "type": "barpolar"
           }
          ],
          "carpet": [
           {
            "aaxis": {
             "endlinecolor": "#2a3f5f",
             "gridcolor": "white",
             "linecolor": "white",
             "minorgridcolor": "white",
             "startlinecolor": "#2a3f5f"
            },
            "baxis": {
             "endlinecolor": "#2a3f5f",
             "gridcolor": "white",
             "linecolor": "white",
             "minorgridcolor": "white",
             "startlinecolor": "#2a3f5f"
            },
            "type": "carpet"
           }
          ],
          "choropleth": [
           {
            "colorbar": {
             "outlinewidth": 0,
             "ticks": ""
            },
            "type": "choropleth"
           }
          ],
          "contour": [
           {
            "colorbar": {
             "outlinewidth": 0,
             "ticks": ""
            },
            "colorscale": [
             [
              0,
              "#0d0887"
             ],
             [
              0.1111111111111111,
              "#46039f"
             ],
             [
              0.2222222222222222,
              "#7201a8"
             ],
             [
              0.3333333333333333,
              "#9c179e"
             ],
             [
              0.4444444444444444,
              "#bd3786"
             ],
             [
              0.5555555555555556,
              "#d8576b"
             ],
             [
              0.6666666666666666,
              "#ed7953"
             ],
             [
              0.7777777777777778,
              "#fb9f3a"
             ],
             [
              0.8888888888888888,
              "#fdca26"
             ],
             [
              1,
              "#f0f921"
             ]
            ],
            "type": "contour"
           }
          ],
          "contourcarpet": [
           {
            "colorbar": {
             "outlinewidth": 0,
             "ticks": ""
            },
            "type": "contourcarpet"
           }
          ],
          "heatmap": [
           {
            "colorbar": {
             "outlinewidth": 0,
             "ticks": ""
            },
            "colorscale": [
             [
              0,
              "#0d0887"
             ],
             [
              0.1111111111111111,
              "#46039f"
             ],
             [
              0.2222222222222222,
              "#7201a8"
             ],
             [
              0.3333333333333333,
              "#9c179e"
             ],
             [
              0.4444444444444444,
              "#bd3786"
             ],
             [
              0.5555555555555556,
              "#d8576b"
             ],
             [
              0.6666666666666666,
              "#ed7953"
             ],
             [
              0.7777777777777778,
              "#fb9f3a"
             ],
             [
              0.8888888888888888,
              "#fdca26"
             ],
             [
              1,
              "#f0f921"
             ]
            ],
            "type": "heatmap"
           }
          ],
          "histogram": [
           {
            "marker": {
             "pattern": {
              "fillmode": "overlay",
              "size": 10,
              "solidity": 0.2
             }
            },
            "type": "histogram"
           }
          ],
          "histogram2d": [
           {
            "colorbar": {
             "outlinewidth": 0,
             "ticks": ""
            },
            "colorscale": [
             [
              0,
              "#0d0887"
             ],
             [
              0.1111111111111111,
              "#46039f"
             ],
             [
              0.2222222222222222,
              "#7201a8"
             ],
             [
              0.3333333333333333,
              "#9c179e"
             ],
             [
              0.4444444444444444,
              "#bd3786"
             ],
             [
              0.5555555555555556,
              "#d8576b"
             ],
             [
              0.6666666666666666,
              "#ed7953"
             ],
             [
              0.7777777777777778,
              "#fb9f3a"
             ],
             [
              0.8888888888888888,
              "#fdca26"
             ],
             [
              1,
              "#f0f921"
             ]
            ],
            "type": "histogram2d"
           }
          ],
          "histogram2dcontour": [
           {
            "colorbar": {
             "outlinewidth": 0,
             "ticks": ""
            },
            "colorscale": [
             [
              0,
              "#0d0887"
             ],
             [
              0.1111111111111111,
              "#46039f"
             ],
             [
              0.2222222222222222,
              "#7201a8"
             ],
             [
              0.3333333333333333,
              "#9c179e"
             ],
             [
              0.4444444444444444,
              "#bd3786"
             ],
             [
              0.5555555555555556,
              "#d8576b"
             ],
             [
              0.6666666666666666,
              "#ed7953"
             ],
             [
              0.7777777777777778,
              "#fb9f3a"
             ],
             [
              0.8888888888888888,
              "#fdca26"
             ],
             [
              1,
              "#f0f921"
             ]
            ],
            "type": "histogram2dcontour"
           }
          ],
          "mesh3d": [
           {
            "colorbar": {
             "outlinewidth": 0,
             "ticks": ""
            },
            "type": "mesh3d"
           }
          ],
          "parcoords": [
           {
            "line": {
             "colorbar": {
              "outlinewidth": 0,
              "ticks": ""
             }
            },
            "type": "parcoords"
           }
          ],
          "pie": [
           {
            "automargin": true,
            "type": "pie"
           }
          ],
          "scatter": [
           {
            "fillpattern": {
             "fillmode": "overlay",
             "size": 10,
             "solidity": 0.2
            },
            "type": "scatter"
           }
          ],
          "scatter3d": [
           {
            "line": {
             "colorbar": {
              "outlinewidth": 0,
              "ticks": ""
             }
            },
            "marker": {
             "colorbar": {
              "outlinewidth": 0,
              "ticks": ""
             }
            },
            "type": "scatter3d"
           }
          ],
          "scattercarpet": [
           {
            "marker": {
             "colorbar": {
              "outlinewidth": 0,
              "ticks": ""
             }
            },
            "type": "scattercarpet"
           }
          ],
          "scattergeo": [
           {
            "marker": {
             "colorbar": {
              "outlinewidth": 0,
              "ticks": ""
             }
            },
            "type": "scattergeo"
           }
          ],
          "scattergl": [
           {
            "marker": {
             "colorbar": {
              "outlinewidth": 0,
              "ticks": ""
             }
            },
            "type": "scattergl"
           }
          ],
          "scattermap": [
           {
            "marker": {
             "colorbar": {
              "outlinewidth": 0,
              "ticks": ""
             }
            },
            "type": "scattermap"
           }
          ],
          "scattermapbox": [
           {
            "marker": {
             "colorbar": {
              "outlinewidth": 0,
              "ticks": ""
             }
            },
            "type": "scattermapbox"
           }
          ],
          "scatterpolar": [
           {
            "marker": {
             "colorbar": {
              "outlinewidth": 0,
              "ticks": ""
             }
            },
            "type": "scatterpolar"
           }
          ],
          "scatterpolargl": [
           {
            "marker": {
             "colorbar": {
              "outlinewidth": 0,
              "ticks": ""
             }
            },
            "type": "scatterpolargl"
           }
          ],
          "scatterternary": [
           {
            "marker": {
             "colorbar": {
              "outlinewidth": 0,
              "ticks": ""
             }
            },
            "type": "scatterternary"
           }
          ],
          "surface": [
           {
            "colorbar": {
             "outlinewidth": 0,
             "ticks": ""
            },
            "colorscale": [
             [
              0,
              "#0d0887"
             ],
             [
              0.1111111111111111,
              "#46039f"
             ],
             [
              0.2222222222222222,
              "#7201a8"
             ],
             [
              0.3333333333333333,
              "#9c179e"
             ],
             [
              0.4444444444444444,
              "#bd3786"
             ],
             [
              0.5555555555555556,
              "#d8576b"
             ],
             [
              0.6666666666666666,
              "#ed7953"
             ],
             [
              0.7777777777777778,
              "#fb9f3a"
             ],
             [
              0.8888888888888888,
              "#fdca26"
             ],
             [
              1,
              "#f0f921"
             ]
            ],
            "type": "surface"
           }
          ],
          "table": [
           {
            "cells": {
             "fill": {
              "color": "#EBF0F8"
             },
             "line": {
              "color": "white"
             }
            },
            "header": {
             "fill": {
              "color": "#C8D4E3"
             },
             "line": {
              "color": "white"
             }
            },
            "type": "table"
           }
          ]
         },
         "layout": {
          "annotationdefaults": {
           "arrowcolor": "#2a3f5f",
           "arrowhead": 0,
           "arrowwidth": 1
          },
          "autotypenumbers": "strict",
          "coloraxis": {
           "colorbar": {
            "outlinewidth": 0,
            "ticks": ""
           }
          },
          "colorscale": {
           "diverging": [
            [
             0,
             "#8e0152"
            ],
            [
             0.1,
             "#c51b7d"
            ],
            [
             0.2,
             "#de77ae"
            ],
            [
             0.3,
             "#f1b6da"
            ],
            [
             0.4,
             "#fde0ef"
            ],
            [
             0.5,
             "#f7f7f7"
            ],
            [
             0.6,
             "#e6f5d0"
            ],
            [
             0.7,
             "#b8e186"
            ],
            [
             0.8,
             "#7fbc41"
            ],
            [
             0.9,
             "#4d9221"
            ],
            [
             1,
             "#276419"
            ]
           ],
           "sequential": [
            [
             0,
             "#0d0887"
            ],
            [
             0.1111111111111111,
             "#46039f"
            ],
            [
             0.2222222222222222,
             "#7201a8"
            ],
            [
             0.3333333333333333,
             "#9c179e"
            ],
            [
             0.4444444444444444,
             "#bd3786"
            ],
            [
             0.5555555555555556,
             "#d8576b"
            ],
            [
             0.6666666666666666,
             "#ed7953"
            ],
            [
             0.7777777777777778,
             "#fb9f3a"
            ],
            [
             0.8888888888888888,
             "#fdca26"
            ],
            [
             1,
             "#f0f921"
            ]
           ],
           "sequentialminus": [
            [
             0,
             "#0d0887"
            ],
            [
             0.1111111111111111,
             "#46039f"
            ],
            [
             0.2222222222222222,
             "#7201a8"
            ],
            [
             0.3333333333333333,
             "#9c179e"
            ],
            [
             0.4444444444444444,
             "#bd3786"
            ],
            [
             0.5555555555555556,
             "#d8576b"
            ],
            [
             0.6666666666666666,
             "#ed7953"
            ],
            [
             0.7777777777777778,
             "#fb9f3a"
            ],
            [
             0.8888888888888888,
             "#fdca26"
            ],
            [
             1,
             "#f0f921"
            ]
           ]
          },
          "colorway": [
           "#636efa",
           "#EF553B",
           "#00cc96",
           "#ab63fa",
           "#FFA15A",
           "#19d3f3",
           "#FF6692",
           "#B6E880",
           "#FF97FF",
           "#FECB52"
          ],
          "font": {
           "color": "#2a3f5f"
          },
          "geo": {
           "bgcolor": "white",
           "lakecolor": "white",
           "landcolor": "#E5ECF6",
           "showlakes": true,
           "showland": true,
           "subunitcolor": "white"
          },
          "hoverlabel": {
           "align": "left"
          },
          "hovermode": "closest",
          "mapbox": {
           "style": "light"
          },
          "paper_bgcolor": "white",
          "plot_bgcolor": "#E5ECF6",
          "polar": {
           "angularaxis": {
            "gridcolor": "white",
            "linecolor": "white",
            "ticks": ""
           },
           "bgcolor": "#E5ECF6",
           "radialaxis": {
            "gridcolor": "white",
            "linecolor": "white",
            "ticks": ""
           }
          },
          "scene": {
           "xaxis": {
            "backgroundcolor": "#E5ECF6",
            "gridcolor": "white",
            "gridwidth": 2,
            "linecolor": "white",
            "showbackground": true,
            "ticks": "",
            "zerolinecolor": "white"
           },
           "yaxis": {
            "backgroundcolor": "#E5ECF6",
            "gridcolor": "white",
            "gridwidth": 2,
            "linecolor": "white",
            "showbackground": true,
            "ticks": "",
            "zerolinecolor": "white"
           },
           "zaxis": {
            "backgroundcolor": "#E5ECF6",
            "gridcolor": "white",
            "gridwidth": 2,
            "linecolor": "white",
            "showbackground": true,
            "ticks": "",
            "zerolinecolor": "white"
           }
          },
          "shapedefaults": {
           "line": {
            "color": "#2a3f5f"
           }
          },
          "ternary": {
           "aaxis": {
            "gridcolor": "white",
            "linecolor": "white",
            "ticks": ""
           },
           "baxis": {
            "gridcolor": "white",
            "linecolor": "white",
            "ticks": ""
           },
           "bgcolor": "#E5ECF6",
           "caxis": {
            "gridcolor": "white",
            "linecolor": "white",
            "ticks": ""
           }
          },
          "title": {
           "x": 0.05
          },
          "xaxis": {
           "automargin": true,
           "gridcolor": "white",
           "linecolor": "white",
           "ticks": "",
           "title": {
            "standoff": 15
           },
           "zerolinecolor": "white",
           "zerolinewidth": 2
          },
          "yaxis": {
           "automargin": true,
           "gridcolor": "white",
           "linecolor": "white",
           "ticks": "",
           "title": {
            "standoff": 15
           },
           "zerolinecolor": "white",
           "zerolinewidth": 2
          }
         }
        },
        "title": {
         "text": "Emotional Geography of Frankenstein: Location Sentiment Analysis"
        }
       }
      }
     },
     "metadata": {},
     "output_type": "display_data"
    },
    {
     "name": "stdout",
     "output_type": "stream",
     "text": [
      "📊 Emotional Geography Analysis Complete\n",
      "🎭 Overall sentiment across all locations: 0.012\n",
      "📈 Sentiment distribution: {'Neutral': 19, 'Negative': 14, 'Positive': 12}\n",
      "\n",
      "✨ Most positively framed locations:\n",
      "   Windsor: 0.477\n",
      "   Edinburgh: 0.344\n",
      "   Chamonix: 0.333\n",
      "\n",
      "⛈️ Most negatively framed locations:\n",
      "   Holyhead: -0.410\n",
      "   Zurich: -0.238\n",
      "   Beach somewhere on the Irish Coast: -0.231\n"
     ]
    }
   ],
   "source": [
    "# Emotional Geography Map - Sentiment Analysis (Unicode Safe)\n",
    "import re\n",
    "\n",
    "def clean_text_for_display(text):\n",
    "    \"\"\"Clean text for safe display, removing problematic Unicode characters\"\"\"\n",
    "    if pd.isna(text) or not isinstance(text, str):\n",
    "        return str(text)\n",
    "    # Remove surrogate pairs and other problematic characters\n",
    "    text = re.sub(r'[\\uD800-\\uDFFF]', '', text)  # Remove surrogates\n",
    "    text = re.sub(r'[\\x00-\\x08\\x0B-\\x0C\\x0E-\\x1F\\x7F]', '', text)  # Remove control characters\n",
    "    return text\n",
    "\n",
    "try:\n",
    "    # Clean all text data for safe display and handle duplicate locations\n",
    "    location_data_safe = location_sentiment_summary.copy()\n",
    "    location_data_safe['curated_name'] = location_data_safe['curated_name'].apply(clean_text_for_display)\n",
    "    location_data_safe['sentiment_category'] = location_data_safe['sentiment_category'].apply(clean_text_for_display)\n",
    "    \n",
    "    # Clean location names to handle duplicates like \"Delacey Cottage\"\n",
    "    location_data_safe['curated_name_clean'] = location_data_safe['curated_name'].str.strip()\n",
    "    \n",
    "    # Aggregate duplicate locations by summing word counts and averaging sentiment\n",
    "    location_data_safe = location_data_safe.groupby('curated_name_clean').agg({\n",
    "        'lat': 'first',\n",
    "        'long': 'first',\n",
    "        'total_words': 'sum',\n",
    "        'avg_sentiment': 'mean',\n",
    "        'narrative_percent': 'sum',\n",
    "        'sentiment_category': lambda x: x.mode().iloc[0] if not x.empty else x.iloc[0]\n",
    "    }).reset_index()\n",
    "    location_data_safe = location_data_safe.rename(columns={'curated_name_clean': 'curated_name'})\n",
    "    \n",
    "    # Create sentiment-enhanced map using cleaned data\n",
    "    fig_sentiment = px.scatter_map(\n",
    "        location_data_safe,\n",
    "        lat='lat',\n",
    "        lon='long',\n",
    "        hover_name='curated_name',\n",
    "        size=\"total_words\",\n",
    "        size_max=35,\n",
    "        color=\"avg_sentiment\",\n",
    "        color_continuous_scale='RdYlGn',\n",
    "        color_continuous_midpoint=0,\n",
    "        hover_data={\n",
    "            \"narrative_percent\": \":.2f\",\n",
    "            \"avg_sentiment\": \":.3f\",\n",
    "            \"sentiment_category\": True,\n",
    "            'lat': False,\n",
    "            'long': False\n",
    "        },\n",
    "        title=\"Emotional Geography of Frankenstein: Location Sentiment Analysis\",\n",
    "        labels={\n",
    "            \"avg_sentiment\": \"Average Sentiment\",\n",
    "            \"narrative_percent\": \"% of Total Narrative\"\n",
    "        },\n",
    "        zoom=3,\n",
    "        height=700\n",
    "    )\n",
    "    \n",
    "    fig_sentiment.update_layout(\n",
    "        mapbox_style=\"carto-positron\",\n",
    "        margin={\"r\":0,\"t\":50,\"l\":0,\"b\":0},\n",
    "        coloraxis_colorbar=dict(\n",
    "            title=\"Sentiment Score\",\n",
    "            tickvals=[-0.4, -0.2, 0, 0.2, 0.4],\n",
    "            ticktext=[\"Very Negative\", \"Negative\", \"Neutral\", \"Positive\", \"Very Positive\"]\n",
    "        )\n",
    "    )\n",
    "    \n",
    "    # Configure for HTML export\n",
    "    fig_sentiment.update_layout(\n",
    "        font=dict(size=12),\n",
    "        title_font=dict(size=16),\n",
    "    )\n",
    "    \n",
    "    # Note: scatter_map doesn't support marker line outlines\n",
    "    # The circles will use their sentiment colors without outlines\n",
    "    \n",
    "    # Show with offline configuration for HTML export\n",
    "    py.iplot(fig_sentiment, show_link=False, config={'displayModeBar': True})\n",
    "    \n",
    "    # Display sentiment insights with cleaned text\n",
    "    avg_overall_sentiment = location_data_safe['avg_sentiment'].mean()\n",
    "    print(f\"📊 Emotional Geography Analysis Complete\")\n",
    "    print(f\"🎭 Overall sentiment across all locations: {avg_overall_sentiment:.3f}\")\n",
    "    \n",
    "    sentiment_distribution = location_data_safe['sentiment_category'].value_counts()\n",
    "    print(f\"📈 Sentiment distribution: {sentiment_distribution.to_dict()}\")\n",
    "    \n",
    "    # Show most positive and negative locations with cleaned names\n",
    "    most_positive = location_data_safe.nlargest(3, 'avg_sentiment')[['curated_name', 'avg_sentiment']]\n",
    "    most_negative = location_data_safe.nsmallest(3, 'avg_sentiment')[['curated_name', 'avg_sentiment']]\n",
    "    \n",
    "    print(f\"\\n✨ Most positively framed locations:\")\n",
    "    for _, row in most_positive.iterrows():\n",
    "        clean_name = clean_text_for_display(row['curated_name'])\n",
    "        print(f\"   {clean_name}: {row['avg_sentiment']:.3f}\")\n",
    "    \n",
    "    print(f\"\\n⛈️ Most negatively framed locations:\")\n",
    "    for _, row in most_negative.iterrows():\n",
    "        clean_name = clean_text_for_display(row['curated_name'])\n",
    "        print(f\"   {clean_name}: {row['avg_sentiment']:.3f}\")\n",
    "        \n",
    "except NameError:\n",
    "    print(\"⚠️ Sentiment data not available - please run the data loading cell first\")\n",
    "except Exception as e:\n",
    "    print(f\"❌ Error creating sentiment map: {e}\")\n",
    "    print(f\"Error type: {type(e).__name__}\")\n",
    "    \n",
    "    # Fallback: show basic sentiment statistics without the map\n",
    "    try:\n",
    "        avg_overall_sentiment = location_sentiment_summary['avg_sentiment'].mean()\n",
    "        print(f\"\\n📊 Basic Sentiment Statistics:\")\n",
    "        print(f\"🎭 Overall sentiment across all locations: {avg_overall_sentiment:.3f}\")\n",
    "        \n",
    "        sentiment_distribution = location_sentiment_summary['sentiment_category'].value_counts()\n",
    "        print(f\"📈 Sentiment distribution: {sentiment_distribution.to_dict()}\")\n",
    "    except Exception as fallback_error:\n",
    "        print(f\"❌ Even fallback statistics failed: {fallback_error}\")"
   ]
  },
  {
   "cell_type": "markdown",
   "id": "94e874f5",
   "metadata": {},
   "source": [
    "### Animating Movements\n",
    "\n",
    "We can also track where these emotions take place in time by splitting up the data further. By giving each location a chronological number, we can get the sentiment for that particular event at that particular location rather than the average sentiment per location. After all, sometimes Victor is happy in Geneva and sometimes he is sad. "
   ]
  },
  {
   "cell_type": "code",
   "execution_count": 5,
   "id": "b27b9f18",
   "metadata": {},
   "outputs": [],
   "source": [
    "frankenstein_emotion_sequence_df = pd.read_csv(\"frankenstein_paragraphs_geoparsed_located_chrono.csv\")"
   ]
  },
  {
   "cell_type": "code",
   "execution_count": 6,
   "id": "95283bd2",
   "metadata": {},
   "outputs": [
    {
     "name": "stdout",
     "output_type": "stream",
     "text": [
      "🔍 Exploring the chronological emotion data...\n",
      "📊 Data shape: (764, 13)\n",
      "📋 Columns: ['text_section', 'chapter_letter', 'paragraph_number', 'paragraph_text', 'places', 'latitudes', 'longitudes', 'feature_names', 'curated_name', 'lat', 'long', 'chrono', 'ordinal']\n",
      "\n",
      "📈 Ordinal range: 1 to 67\n",
      "🏃 Unique ordinal values: 67\n",
      "\n",
      "🗺️ Sample data (first 5 rows):\n"
     ]
    },
    {
     "data": {
      "application/vnd.microsoft.datawrangler.viewer.v0+json": {
       "columns": [
        {
         "name": "index",
         "rawType": "int64",
         "type": "integer"
        },
        {
         "name": "text_section",
         "rawType": "object",
         "type": "string"
        },
        {
         "name": "chapter_letter",
         "rawType": "object",
         "type": "string"
        },
        {
         "name": "curated_name",
         "rawType": "object",
         "type": "string"
        },
        {
         "name": "lat",
         "rawType": "float64",
         "type": "float"
        },
        {
         "name": "long",
         "rawType": "float64",
         "type": "float"
        },
        {
         "name": "ordinal",
         "rawType": "int64",
         "type": "integer"
        }
       ],
       "ref": "350198c6-ad07-490f-b425-fe5ba4c256eb",
       "rows": [
        [
         "0",
         "vol_1",
         "CHAPTER I",
         "Lucern",
         "47.05048",
         "8.30635",
         "1"
        ],
        [
         "1",
         "vol_1",
         "CHAPTER I",
         "Lucern",
         "47.05048",
         "8.30635",
         "1"
        ],
        [
         "2",
         "vol_1",
         "CHAPTER I",
         "Lucern",
         "47.05048",
         "8.30635",
         "1"
        ],
        [
         "3",
         "vol_1",
         "CHAPTER I",
         "Geneva",
         "46.20327818",
         "6.147158135",
         "1"
        ],
        [
         "4",
         "vol_1",
         "CHAPTER I",
         "Geneva",
         "46.20327818",
         "6.147158135",
         "1"
        ]
       ],
       "shape": {
        "columns": 6,
        "rows": 5
       }
      },
      "text/html": [
       "<div>\n",
       "<style scoped>\n",
       "    .dataframe tbody tr th:only-of-type {\n",
       "        vertical-align: middle;\n",
       "    }\n",
       "\n",
       "    .dataframe tbody tr th {\n",
       "        vertical-align: top;\n",
       "    }\n",
       "\n",
       "    .dataframe thead th {\n",
       "        text-align: right;\n",
       "    }\n",
       "</style>\n",
       "<table border=\"1\" class=\"dataframe\">\n",
       "  <thead>\n",
       "    <tr style=\"text-align: right;\">\n",
       "      <th></th>\n",
       "      <th>text_section</th>\n",
       "      <th>chapter_letter</th>\n",
       "      <th>curated_name</th>\n",
       "      <th>lat</th>\n",
       "      <th>long</th>\n",
       "      <th>ordinal</th>\n",
       "    </tr>\n",
       "  </thead>\n",
       "  <tbody>\n",
       "    <tr>\n",
       "      <th>0</th>\n",
       "      <td>vol_1</td>\n",
       "      <td>CHAPTER I</td>\n",
       "      <td>Lucern</td>\n",
       "      <td>47.050480</td>\n",
       "      <td>8.306350</td>\n",
       "      <td>1</td>\n",
       "    </tr>\n",
       "    <tr>\n",
       "      <th>1</th>\n",
       "      <td>vol_1</td>\n",
       "      <td>CHAPTER I</td>\n",
       "      <td>Lucern</td>\n",
       "      <td>47.050480</td>\n",
       "      <td>8.306350</td>\n",
       "      <td>1</td>\n",
       "    </tr>\n",
       "    <tr>\n",
       "      <th>2</th>\n",
       "      <td>vol_1</td>\n",
       "      <td>CHAPTER I</td>\n",
       "      <td>Lucern</td>\n",
       "      <td>47.050480</td>\n",
       "      <td>8.306350</td>\n",
       "      <td>1</td>\n",
       "    </tr>\n",
       "    <tr>\n",
       "      <th>3</th>\n",
       "      <td>vol_1</td>\n",
       "      <td>CHAPTER I</td>\n",
       "      <td>Geneva</td>\n",
       "      <td>46.203278</td>\n",
       "      <td>6.147158</td>\n",
       "      <td>1</td>\n",
       "    </tr>\n",
       "    <tr>\n",
       "      <th>4</th>\n",
       "      <td>vol_1</td>\n",
       "      <td>CHAPTER I</td>\n",
       "      <td>Geneva</td>\n",
       "      <td>46.203278</td>\n",
       "      <td>6.147158</td>\n",
       "      <td>1</td>\n",
       "    </tr>\n",
       "  </tbody>\n",
       "</table>\n",
       "</div>"
      ],
      "text/plain": [
       "  text_section chapter_letter curated_name        lat      long  ordinal\n",
       "0        vol_1      CHAPTER I       Lucern  47.050480  8.306350        1\n",
       "1        vol_1      CHAPTER I       Lucern  47.050480  8.306350        1\n",
       "2        vol_1      CHAPTER I       Lucern  47.050480  8.306350        1\n",
       "3        vol_1      CHAPTER I       Geneva  46.203278  6.147158        1\n",
       "4        vol_1      CHAPTER I       Geneva  46.203278  6.147158        1"
      ]
     },
     "metadata": {},
     "output_type": "display_data"
    },
    {
     "name": "stdout",
     "output_type": "stream",
     "text": [
      "\n",
      "📍 Unique locations in chronological data: 45\n",
      "📍 Locations: ['Archangel', 'Arles', 'Artic', 'Barents Sea', 'Beach somewhere on the Irish Coast', 'Belrive', 'Chamonix', 'Cologne', 'Constantinople', 'Cumberland', 'Delacey Cottage', 'Dublin', 'Edinburgh', 'Elizabeth in Italy', 'Geneva', 'Holyhead', 'Ingolstadt', 'Ingolstadt (Forest)', 'Irish Sea', 'Lausanne', 'Le Havre', 'Livorno', 'London', 'Lucern', 'Mainz', 'Matlock', 'Monster Travel to Geneva', 'Montanvert', 'Near Mont Blanc', 'Orkney Islands', 'Oxford', 'Paris', 'Perth', 'Portsmouth', 'Rhine below Mainz', 'Rotterdam', 'Russian plain', 'Russian pursuit', 'Russian pursuit near Archangel', 'Russian pursuit on ice', 'St. Petersburgh', 'Strasbourg', 'Thonon-les-Bains', 'Windsor', 'Zurich']\n"
     ]
    }
   ],
   "source": [
    "# Examine the chronological data structure\n",
    "print(\"🔍 Exploring the chronological emotion data...\")\n",
    "print(f\"📊 Data shape: {frankenstein_emotion_sequence_df.shape}\")\n",
    "print(f\"📋 Columns: {frankenstein_emotion_sequence_df.columns.tolist()}\")\n",
    "\n",
    "print(f\"\\n📈 Ordinal range: {frankenstein_emotion_sequence_df['ordinal'].min()} to {frankenstein_emotion_sequence_df['ordinal'].max()}\")\n",
    "print(f\"🏃 Unique ordinal values: {frankenstein_emotion_sequence_df['ordinal'].nunique()}\")\n",
    "\n",
    "print(f\"\\n🗺️ Sample data (first 5 rows):\")\n",
    "display(frankenstein_emotion_sequence_df[['text_section', 'chapter_letter', 'curated_name', 'lat', 'long', 'ordinal']].head())\n",
    "\n",
    "print(f\"\\n📍 Unique locations in chronological data: {frankenstein_emotion_sequence_df['curated_name'].nunique()}\")\n",
    "print(f\"📍 Locations: {sorted(frankenstein_emotion_sequence_df['curated_name'].unique())}\")"
   ]
  },
  {
   "cell_type": "code",
   "execution_count": null,
   "id": "93b4ba98",
   "metadata": {},
   "outputs": [
    {
     "name": "stdout",
     "output_type": "stream",
     "text": [
      "🎬 Creating animated emotional journey with RoBERTa sentiment...\n",
      "Available sentiment columns:\n",
      "  - roberta_neg\n",
      "  - roberta_neu\n",
      "  - roberta_pos\n",
      "  - roberta_compound\n",
      "Using compound sentiment score: roberta_compound\n",
      "📊 Animation ready: 72 location-time points\n",
      "📈 Chronological steps: 67\n",
      "📝 Word count range: 36-5619\n",
      "🎭 Sentiment range: -0.902 to 0.803\n"
     ]
    },
    {
     "data": {
      "application/vnd.plotly.v1+json": {
       "config": {
        "plotlyServerURL": "https://plot.ly"
       },
       "data": [
        {
         "customdata": [
          [
           -0.14997035264968872,
           "Negative",
           210,
           "Vol 1 Chapter I",
           1
          ],
          [
           -0.08429861813783646,
           "Neutral",
           361,
           "Vol 1 Chapter I",
           1
          ]
         ],
         "hovertemplate": "<b>%{hovertext}</b><br><br>frame_label=1<br>Words=%{customdata[2]}<br>lat=%{lat}<br>long=%{lon}<br>Sentiment Score=%{marker.color:.3f}<br>Sentiment=%{customdata[1]}<br>Chapter=%{customdata[3]}<br>Chronological Step=%{customdata[4]}<extra></extra>",
         "hovertext": [
          "Geneva",
          "Lucern"
         ],
         "lat": {
          "bdata": "kov3BAUaR0ARje4gdoZHQA==",
          "dtype": "f8"
         },
         "legendgroup": "",
         "lon": {
          "bdata": "UqlEn7CWGEBbQj7o2ZwgQA==",
          "dtype": "f8"
         },
         "marker": {
          "color": {
           "bdata": "1JEZvsGkrL0=",
           "dtype": "f4"
          },
          "coloraxis": "coloraxis",
          "size": {
           "bdata": "0gBpAQ==",
           "dtype": "i2"
          },
          "sizemode": "area",
          "sizeref": 1.5608333333333333
         },
         "mode": "markers",
         "name": "",
         "showlegend": false,
         "subplot": "map",
         "type": "scattermap"
        }
       ],
       "frames": [
        {
         "data": [
          {
           "customdata": [
            [
             -0.14997035264968872,
             "Negative",
             210,
             "Vol 1 Chapter I",
             1
            ],
            [
             -0.08429861813783646,
             "Neutral",
             361,
             "Vol 1 Chapter I",
             1
            ]
           ],
           "hovertemplate": "<b>%{hovertext}</b><br><br>frame_label=1<br>Words=%{customdata[2]}<br>lat=%{lat}<br>long=%{lon}<br>Sentiment Score=%{marker.color:.3f}<br>Sentiment=%{customdata[1]}<br>Chapter=%{customdata[3]}<br>Chronological Step=%{customdata[4]}<extra></extra>",
           "hovertext": [
            "Geneva",
            "Lucern"
           ],
           "lat": {
            "bdata": "kov3BAUaR0ARje4gdoZHQA==",
            "dtype": "f8"
           },
           "legendgroup": "",
           "lon": {
            "bdata": "UqlEn7CWGEBbQj7o2ZwgQA==",
            "dtype": "f8"
           },
           "marker": {
            "color": {
             "bdata": "1JEZvsGkrL0=",
             "dtype": "f4"
            },
            "coloraxis": "coloraxis",
            "size": {
             "bdata": "0gBpAQ==",
             "dtype": "i2"
            },
            "sizemode": "area",
            "sizeref": 1.5608333333333333
           },
           "mode": "markers",
           "name": "",
           "showlegend": false,
           "subplot": "map",
           "type": "scattermap"
          }
         ],
         "layout": {
          "title": {
           "text": "Vol 1 Chapter I - Geneva, Lucern"
          }
         },
         "name": "1"
        },
        {
         "data": [
          {
           "customdata": [
            [
             -0.024736247956752777,
             "Neutral",
             101,
             "Vol 1 Chapter I",
             2
            ]
           ],
           "hovertemplate": "<b>%{hovertext}</b><br><br>frame_label=2<br>Words=%{customdata[2]}<br>lat=%{lat}<br>long=%{lon}<br>Sentiment Score=%{marker.color:.3f}<br>Sentiment=%{customdata[1]}<br>Chapter=%{customdata[3]}<br>Chronological Step=%{customdata[4]}<extra></extra>",
           "hovertext": [
            "Geneva"
           ],
           "lat": {
            "bdata": "kov3BAUaR0A=",
            "dtype": "f8"
           },
           "legendgroup": "",
           "lon": {
            "bdata": "UqlEn7CWGEA=",
            "dtype": "f8"
           },
           "marker": {
            "color": {
             "bdata": "rKPKvA==",
             "dtype": "f4"
            },
            "coloraxis": "coloraxis",
            "size": {
             "bdata": "ZQ==",
             "dtype": "i1"
            },
            "sizemode": "area",
            "sizeref": 1.5608333333333333
           },
           "mode": "markers",
           "name": "",
           "showlegend": false,
           "subplot": "map",
           "type": "scattermap"
          }
         ],
         "layout": {
          "title": {
           "text": "Vol 1 Chapter I - Geneva"
          }
         },
         "name": "2"
        },
        {
         "data": [
          {
           "customdata": [
            [
             0.24630051851272583,
             "Positive",
             237,
             "Vol 1 Chapter I",
             3
            ],
            [
             0.10705988854169846,
             "Positive",
             746,
             "Vol 1 Chapter I",
             3
            ]
           ],
           "hovertemplate": "<b>%{hovertext}</b><br><br>frame_label=3<br>Words=%{customdata[2]}<br>lat=%{lat}<br>long=%{lon}<br>Sentiment Score=%{marker.color:.3f}<br>Sentiment=%{customdata[1]}<br>Chapter=%{customdata[3]}<br>Chronological Step=%{customdata[4]}<extra></extra>",
           "hovertext": [
            "Elizabeth in Italy",
            "Geneva"
           ],
           "lat": {
            "bdata": "8doAx3k4RkAn9zsUBRpHQA==",
            "dtype": "f8"
           },
           "legendgroup": "",
           "lon": {
            "bdata": "V8KH0BBzJUALYTWWsJYYQA==",
            "dtype": "f8"
           },
           "marker": {
            "color": {
             "bdata": "NDZ8PjdC2z0=",
             "dtype": "f4"
            },
            "coloraxis": "coloraxis",
            "size": {
             "bdata": "7QDqAg==",
             "dtype": "i2"
            },
            "sizemode": "area",
            "sizeref": 1.5608333333333333
           },
           "mode": "markers",
           "name": "",
           "showlegend": false,
           "subplot": "map",
           "type": "scattermap"
          }
         ],
         "layout": {
          "title": {
           "text": "Vol 1 Chapter I - Elizabeth in Italy, Geneva"
          }
         },
         "name": "3"
        },
        {
         "data": [
          {
           "customdata": [
            [
             0.04473384842276573,
             "Neutral",
             325,
             "Vol 1 Chapter I",
             4
            ]
           ],
           "hovertemplate": "<b>%{hovertext}</b><br><br>frame_label=4<br>Words=%{customdata[2]}<br>lat=%{lat}<br>long=%{lon}<br>Sentiment Score=%{marker.color:.3f}<br>Sentiment=%{customdata[1]}<br>Chapter=%{customdata[3]}<br>Chronological Step=%{customdata[4]}<extra></extra>",
           "hovertext": [
            "Thonon-les-Bains"
           ],
           "lat": {
            "bdata": "Xb9gN2wvR0A=",
            "dtype": "f8"
           },
           "legendgroup": "",
           "lon": {
            "bdata": "QfFjzF3rGUA=",
            "dtype": "f8"
           },
           "marker": {
            "color": {
             "bdata": "1zo3PQ==",
             "dtype": "f4"
            },
            "coloraxis": "coloraxis",
            "size": {
             "bdata": "RQE=",
             "dtype": "i2"
            },
            "sizemode": "area",
            "sizeref": 1.5608333333333333
           },
           "mode": "markers",
           "name": "",
           "showlegend": false,
           "subplot": "map",
           "type": "scattermap"
          }
         ],
         "layout": {
          "title": {
           "text": "Vol 1 Chapter I - Thonon-les-Bains"
          }
         },
         "name": "4"
        },
        {
         "data": [
          {
           "customdata": [
            [
             -0.17603453993797302,
             "Negative",
             365,
             "Vol 1 Chapter I",
             5
            ]
           ],
           "hovertemplate": "<b>%{hovertext}</b><br><br>frame_label=5<br>Words=%{customdata[2]}<br>lat=%{lat}<br>long=%{lon}<br>Sentiment Score=%{marker.color:.3f}<br>Sentiment=%{customdata[1]}<br>Chapter=%{customdata[3]}<br>Chronological Step=%{customdata[4]}<extra></extra>",
           "hovertext": [
            "Geneva"
           ],
           "lat": {
            "bdata": "J/c7FAUaR0A=",
            "dtype": "f8"
           },
           "legendgroup": "",
           "lon": {
            "bdata": "C2E1lrCWGEA=",
            "dtype": "f8"
           },
           "marker": {
            "color": {
             "bdata": "ZkI0vg==",
             "dtype": "f4"
            },
            "coloraxis": "coloraxis",
            "size": {
             "bdata": "bQE=",
             "dtype": "i2"
            },
            "sizemode": "area",
            "sizeref": 1.5608333333333333
           },
           "mode": "markers",
           "name": "",
           "showlegend": false,
           "subplot": "map",
           "type": "scattermap"
          }
         ],
         "layout": {
          "title": {
           "text": "Vol 1 Chapter I - Geneva"
          }
         },
         "name": "5"
        },
        {
         "data": [
          {
           "customdata": [
            [
             -0.14913155138492584,
             "Negative",
             264,
             "Vol 1 Chapter I",
             6
            ],
            [
             -0.34510281682014465,
             "Negative",
             340,
             "Vol 1 Chapter I",
             6
            ]
           ],
           "hovertemplate": "<b>%{hovertext}</b><br><br>frame_label=6<br>Words=%{customdata[2]}<br>lat=%{lat}<br>long=%{lon}<br>Sentiment Score=%{marker.color:.3f}<br>Sentiment=%{customdata[1]}<br>Chapter=%{customdata[3]}<br>Chronological Step=%{customdata[4]}<extra></extra>",
           "hovertext": [
            "Belrive",
            "Geneva"
           ],
           "lat": {
            "bdata": "cCJ+7hkhR0An9zsUBRpHQA==",
            "dtype": "f8"
           },
           "legendgroup": "",
           "lon": {
            "bdata": "rbdt4lvHGEALYTWWsJYYQA==",
            "dtype": "f8"
           },
           "marker": {
            "color": {
             "bdata": "8bUYvlGxsL4=",
             "dtype": "f4"
            },
            "coloraxis": "coloraxis",
            "size": {
             "bdata": "CAFUAQ==",
             "dtype": "i2"
            },
            "sizemode": "area",
            "sizeref": 1.5608333333333333
           },
           "mode": "markers",
           "name": "",
           "showlegend": false,
           "subplot": "map",
           "type": "scattermap"
          }
         ],
         "layout": {
          "title": {
           "text": "Vol 1 Chapter I - Belrive, Geneva"
          }
         },
         "name": "6"
        },
        {
         "data": [
          {
           "customdata": [
            [
             -0.14212016761302948,
             "Negative",
             843,
             "Vol 1 Chapter Ii",
             7
            ]
           ],
           "hovertemplate": "<b>%{hovertext}</b><br><br>frame_label=7<br>Words=%{customdata[2]}<br>lat=%{lat}<br>long=%{lon}<br>Sentiment Score=%{marker.color:.3f}<br>Sentiment=%{customdata[1]}<br>Chapter=%{customdata[3]}<br>Chronological Step=%{customdata[4]}<extra></extra>",
           "hovertext": [
            "Geneva"
           ],
           "lat": {
            "bdata": "J/c7FAUaR0A=",
            "dtype": "f8"
           },
           "legendgroup": "",
           "lon": {
            "bdata": "C2E1lrCWGEA=",
            "dtype": "f8"
           },
           "marker": {
            "color": {
             "bdata": "84cRvg==",
             "dtype": "f4"
            },
            "coloraxis": "coloraxis",
            "size": {
             "bdata": "SwM=",
             "dtype": "i2"
            },
            "sizemode": "area",
            "sizeref": 1.5608333333333333
           },
           "mode": "markers",
           "name": "",
           "showlegend": false,
           "subplot": "map",
           "type": "scattermap"
          }
         ],
         "layout": {
          "title": {
           "text": "Vol 1 Chapter Ii - Geneva"
          }
         },
         "name": "7"
        },
        {
         "data": [
          {
           "customdata": [
            [
             -0.06553694605827332,
             "Neutral",
             4969,
             "Vol 1 Chapter Ii",
             8
            ]
           ],
           "hovertemplate": "<b>%{hovertext}</b><br><br>frame_label=8<br>Words=%{customdata[2]}<br>lat=%{lat}<br>long=%{lon}<br>Sentiment Score=%{marker.color:.3f}<br>Sentiment=%{customdata[1]}<br>Chapter=%{customdata[3]}<br>Chronological Step=%{customdata[4]}<extra></extra>",
           "hovertext": [
            "Ingolstadt"
           ],
           "lat": {
            "bdata": "hOowcApiSEA=",
            "dtype": "f8"
           },
           "legendgroup": "",
           "lon": {
            "bdata": "X16AfXTaJkA=",
            "dtype": "f8"
           },
           "marker": {
            "color": {
             "bdata": "PDiGvQ==",
             "dtype": "f4"
            },
            "coloraxis": "coloraxis",
            "size": {
             "bdata": "aRM=",
             "dtype": "i2"
            },
            "sizemode": "area",
            "sizeref": 1.5608333333333333
           },
           "mode": "markers",
           "name": "",
           "showlegend": false,
           "subplot": "map",
           "type": "scattermap"
          }
         ],
         "layout": {
          "title": {
           "text": "Vol 1 Chapter Ii - Ingolstadt"
          }
         },
         "name": "8"
        },
        {
         "data": [
          {
           "customdata": [
            [
             -0.019603591412305832,
             "Neutral",
             654,
             "Vol 2 Chapter Iii",
             9
            ],
            [
             0.19201858341693878,
             "Positive",
             515,
             "Vol 2 Chapter Iii",
             9
            ]
           ],
           "hovertemplate": "<b>%{hovertext}</b><br><br>frame_label=9<br>Words=%{customdata[2]}<br>lat=%{lat}<br>long=%{lon}<br>Sentiment Score=%{marker.color:.3f}<br>Sentiment=%{customdata[1]}<br>Chapter=%{customdata[3]}<br>Chronological Step=%{customdata[4]}<extra></extra>",
           "hovertext": [
            "Ingolstadt",
            "Ingolstadt (Forest)"
           ],
           "lat": {
            "bdata": "YFlpUgpiSECarBdkR1VIQA==",
            "dtype": "f8"
           },
           "legendgroup": "",
           "lon": {
            "bdata": "X16AfXTaJkBSAu67GoMmQA==",
            "dtype": "f8"
           },
           "marker": {
            "color": {
             "bdata": "tpegvIWgRD4=",
             "dtype": "f4"
            },
            "coloraxis": "coloraxis",
            "size": {
             "bdata": "jgIDAg==",
             "dtype": "i2"
            },
            "sizemode": "area",
            "sizeref": 1.5608333333333333
           },
           "mode": "markers",
           "name": "",
           "showlegend": false,
           "subplot": "map",
           "type": "scattermap"
          }
         ],
         "layout": {
          "title": {
           "text": "Vol 2 Chapter Iii - Ingolstadt, Ingolstadt (Forest)"
          }
         },
         "name": "9"
        },
        {
         "data": [
          {
           "customdata": [
            [
             0.15921896696090698,
             "Positive",
             851,
             "Vol 2 Chapter Vi",
             10
            ]
           ],
           "hovertemplate": "<b>%{hovertext}</b><br><br>frame_label=10<br>Words=%{customdata[2]}<br>lat=%{lat}<br>long=%{lon}<br>Sentiment Score=%{marker.color:.3f}<br>Sentiment=%{customdata[1]}<br>Chapter=%{customdata[3]}<br>Chronological Step=%{customdata[4]}<extra></extra>",
           "hovertext": [
            "Paris"
           ],
           "lat": {
            "bdata": "YHWiLJVtSEA=",
            "dtype": "f8"
           },
           "legendgroup": "",
           "lon": {
            "bdata": "rBRbcQzNAkA=",
            "dtype": "f8"
           },
           "marker": {
            "color": {
             "bdata": "TAojPg==",
             "dtype": "f4"
            },
            "coloraxis": "coloraxis",
            "size": {
             "bdata": "UwM=",
             "dtype": "i2"
            },
            "sizemode": "area",
            "sizeref": 1.5608333333333333
           },
           "mode": "markers",
           "name": "",
           "showlegend": false,
           "subplot": "map",
           "type": "scattermap"
          }
         ],
         "layout": {
          "title": {
           "text": "Vol 2 Chapter Vi - Paris"
          }
         },
         "name": "10"
        },
        {
         "data": [
          {
           "customdata": [
            [
             -0.13509349524974823,
             "Negative",
             430,
             "Vol 2 Chapter Vi",
             11
            ]
           ],
           "hovertemplate": "<b>%{hovertext}</b><br><br>frame_label=11<br>Words=%{customdata[2]}<br>lat=%{lat}<br>long=%{lon}<br>Sentiment Score=%{marker.color:.3f}<br>Sentiment=%{customdata[1]}<br>Chapter=%{customdata[3]}<br>Chronological Step=%{customdata[4]}<extra></extra>",
           "hovertext": [
            "Livorno"
           ],
           "lat": {
            "bdata": "UW+hhkrGRUA=",
            "dtype": "f8"
           },
           "legendgroup": "",
           "lon": {
            "bdata": "VgJSMJ2hJEA=",
            "dtype": "f8"
           },
           "marker": {
            "color": {
             "bdata": "81UKvg==",
             "dtype": "f4"
            },
            "coloraxis": "coloraxis",
            "size": {
             "bdata": "rgE=",
             "dtype": "i2"
            },
            "sizemode": "area",
            "sizeref": 1.5608333333333333
           },
           "mode": "markers",
           "name": "",
           "showlegend": false,
           "subplot": "map",
           "type": "scattermap"
          }
         ],
         "layout": {
          "title": {
           "text": "Vol 2 Chapter Vi - Livorno"
          }
         },
         "name": "11"
        },
        {
         "data": [
          {
           "customdata": [
            [
             0.0706220418214798,
             "Neutral",
             77,
             "Vol 2 Chapter Vi",
             12
            ]
           ],
           "hovertemplate": "<b>%{hovertext}</b><br><br>frame_label=12<br>Words=%{customdata[2]}<br>lat=%{lat}<br>long=%{lon}<br>Sentiment Score=%{marker.color:.3f}<br>Sentiment=%{customdata[1]}<br>Chapter=%{customdata[3]}<br>Chronological Step=%{customdata[4]}<extra></extra>",
           "hovertext": [
            "Paris"
           ],
           "lat": {
            "bdata": "YHWiLJVtSEA=",
            "dtype": "f8"
           },
           "legendgroup": "",
           "lon": {
            "bdata": "rBRbcQzNAkA=",
            "dtype": "f8"
           },
           "marker": {
            "color": {
             "bdata": "SqKQPQ==",
             "dtype": "f4"
            },
            "coloraxis": "coloraxis",
            "size": {
             "bdata": "TQ==",
             "dtype": "i1"
            },
            "sizemode": "area",
            "sizeref": 1.5608333333333333
           },
           "mode": "markers",
           "name": "",
           "showlegend": false,
           "subplot": "map",
           "type": "scattermap"
          }
         ],
         "layout": {
          "title": {
           "text": "Vol 2 Chapter Vi - Paris"
          }
         },
         "name": "12"
        },
        {
         "data": [
          {
           "customdata": [
            [
             0.021609874442219734,
             "Neutral",
             78,
             "Vol 2 Chapter Vi",
             13
            ]
           ],
           "hovertemplate": "<b>%{hovertext}</b><br><br>frame_label=13<br>Words=%{customdata[2]}<br>lat=%{lat}<br>long=%{lon}<br>Sentiment Score=%{marker.color:.3f}<br>Sentiment=%{customdata[1]}<br>Chapter=%{customdata[3]}<br>Chronological Step=%{customdata[4]}<extra></extra>",
           "hovertext": [
            "Delacey Cottage"
           ],
           "lat": {
            "bdata": "vyPwqK1QSEA=",
            "dtype": "f8"
           },
           "legendgroup": "",
           "lon": {
            "bdata": "FMHNHHFOJkA=",
            "dtype": "f8"
           },
           "marker": {
            "color": {
             "bdata": "MQexPA==",
             "dtype": "f4"
            },
            "coloraxis": "coloraxis",
            "size": {
             "bdata": "Tg==",
             "dtype": "i1"
            },
            "sizemode": "area",
            "sizeref": 1.5608333333333333
           },
           "mode": "markers",
           "name": "",
           "showlegend": false,
           "subplot": "map",
           "type": "scattermap"
          }
         ],
         "layout": {
          "title": {
           "text": "Vol 2 Chapter Vi - Delacey Cottage"
          }
         },
         "name": "13"
        },
        {
         "data": [
          {
           "customdata": [
            [
             0.019760269671678543,
             "Neutral",
             63,
             "Vol 2 Chapter Vi",
             14
            ]
           ],
           "hovertemplate": "<b>%{hovertext}</b><br><br>frame_label=14<br>Words=%{customdata[2]}<br>lat=%{lat}<br>long=%{lon}<br>Sentiment Score=%{marker.color:.3f}<br>Sentiment=%{customdata[1]}<br>Chapter=%{customdata[3]}<br>Chronological Step=%{customdata[4]}<extra></extra>",
           "hovertext": [
            "Livorno"
           ],
           "lat": {
            "bdata": "UW+hhkrGRUA=",
            "dtype": "f8"
           },
           "legendgroup": "",
           "lon": {
            "bdata": "VgJSMJ2hJEA=",
            "dtype": "f8"
           },
           "marker": {
            "color": {
             "bdata": "SuChPA==",
             "dtype": "f4"
            },
            "coloraxis": "coloraxis",
            "size": {
             "bdata": "Pw==",
             "dtype": "i1"
            },
            "sizemode": "area",
            "sizeref": 1.5608333333333333
           },
           "mode": "markers",
           "name": "",
           "showlegend": false,
           "subplot": "map",
           "type": "scattermap"
          }
         ],
         "layout": {
          "title": {
           "text": "Vol 2 Chapter Vi - Livorno"
          }
         },
         "name": "14"
        },
        {
         "data": [
          {
           "customdata": [
            [
             -0.0003320070682093501,
             "Neutral",
             93,
             "Vol 2 Chapter Vi",
             15
            ]
           ],
           "hovertemplate": "<b>%{hovertext}</b><br><br>frame_label=15<br>Words=%{customdata[2]}<br>lat=%{lat}<br>long=%{lon}<br>Sentiment Score=%{marker.color:.3f}<br>Sentiment=%{customdata[1]}<br>Chapter=%{customdata[3]}<br>Chronological Step=%{customdata[4]}<extra></extra>",
           "hovertext": [
            "Constantinople"
           ],
           "lat": {
            "bdata": "rMCYRnaBREA=",
            "dtype": "f8"
           },
           "legendgroup": "",
           "lon": {
            "bdata": "b7ojayb6PEA=",
            "dtype": "f8"
           },
           "marker": {
            "color": {
             "bdata": "PBGuuQ==",
             "dtype": "f4"
            },
            "coloraxis": "coloraxis",
            "size": {
             "bdata": "XQ==",
             "dtype": "i1"
            },
            "sizemode": "area",
            "sizeref": 1.5608333333333333
           },
           "mode": "markers",
           "name": "",
           "showlegend": false,
           "subplot": "map",
           "type": "scattermap"
          }
         ],
         "layout": {
          "title": {
           "text": "Vol 2 Chapter Vi - Constantinople"
          }
         },
         "name": "15"
        },
        {
         "data": [
          {
           "customdata": [
            [
             -0.1420471966266632,
             "Negative",
             117,
             "Vol 2 Chapter Vi",
             16
            ]
           ],
           "hovertemplate": "<b>%{hovertext}</b><br><br>frame_label=16<br>Words=%{customdata[2]}<br>lat=%{lat}<br>long=%{lon}<br>Sentiment Score=%{marker.color:.3f}<br>Sentiment=%{customdata[1]}<br>Chapter=%{customdata[3]}<br>Chronological Step=%{customdata[4]}<extra></extra>",
           "hovertext": [
            "Livorno"
           ],
           "lat": {
            "bdata": "mEwVjErGRUA=",
            "dtype": "f8"
           },
           "legendgroup": "",
           "lon": {
            "bdata": "/fZ14JyhJEA=",
            "dtype": "f8"
           },
           "marker": {
            "color": {
             "bdata": "0nQRvg==",
             "dtype": "f4"
            },
            "coloraxis": "coloraxis",
            "size": {
             "bdata": "dQ==",
             "dtype": "i1"
            },
            "sizemode": "area",
            "sizeref": 1.5608333333333333
           },
           "mode": "markers",
           "name": "",
           "showlegend": false,
           "subplot": "map",
           "type": "scattermap"
          }
         ],
         "layout": {
          "title": {
           "text": "Vol 2 Chapter Vi - Livorno"
          }
         },
         "name": "16"
        },
        {
         "data": [
          {
           "customdata": [
            [
             0.11829890310764313,
             "Positive",
             5619,
             "Vol 2 Chapter Iii",
             17
            ]
           ],
           "hovertemplate": "<b>%{hovertext}</b><br><br>frame_label=17<br>Words=%{customdata[2]}<br>lat=%{lat}<br>long=%{lon}<br>Sentiment Score=%{marker.color:.3f}<br>Sentiment=%{customdata[1]}<br>Chapter=%{customdata[3]}<br>Chronological Step=%{customdata[4]}<extra></extra>",
           "hovertext": [
            "Delacey Cottage"
           ],
           "lat": {
            "bdata": "vyPwqK1QSEA=",
            "dtype": "f8"
           },
           "legendgroup": "",
           "lon": {
            "bdata": "FMHNHHFOJkA=",
            "dtype": "f8"
           },
           "marker": {
            "color": {
             "bdata": "skbyPQ==",
             "dtype": "f4"
            },
            "coloraxis": "coloraxis",
            "size": {
             "bdata": "8xU=",
             "dtype": "i2"
            },
            "sizemode": "area",
            "sizeref": 1.5608333333333333
           },
           "mode": "markers",
           "name": "",
           "showlegend": false,
           "subplot": "map",
           "type": "scattermap"
          }
         ],
         "layout": {
          "title": {
           "text": "Vol 2 Chapter Iii - Delacey Cottage"
          }
         },
         "name": "17"
        },
        {
         "data": [
          {
           "customdata": [
            [
             0.61737459897995,
             "Positive",
             105,
             "Vol 2 Chapter Vi",
             18
            ]
           ],
           "hovertemplate": "<b>%{hovertext}</b><br><br>frame_label=18<br>Words=%{customdata[2]}<br>lat=%{lat}<br>long=%{lon}<br>Sentiment Score=%{marker.color:.3f}<br>Sentiment=%{customdata[1]}<br>Chapter=%{customdata[3]}<br>Chronological Step=%{customdata[4]}<extra></extra>",
           "hovertext": [
            "Delacey Cottage"
           ],
           "lat": {
            "bdata": "m1Wfq61QSEA=",
            "dtype": "f8"
           },
           "legendgroup": "",
           "lon": {
            "bdata": "H9eGinFOJkA=",
            "dtype": "f8"
           },
           "marker": {
            "color": {
             "bdata": "QwwePw==",
             "dtype": "f4"
            },
            "coloraxis": "coloraxis",
            "size": {
             "bdata": "aQ==",
             "dtype": "i1"
            },
            "sizemode": "area",
            "sizeref": 1.5608333333333333
           },
           "mode": "markers",
           "name": "",
           "showlegend": false,
           "subplot": "map",
           "type": "scattermap"
          }
         ],
         "layout": {
          "title": {
           "text": "Vol 2 Chapter Vi - Delacey Cottage"
          }
         },
         "name": "18"
        },
        {
         "data": [
          {
           "customdata": [
            [
             0.013008053414523602,
             "Neutral",
             4333,
             "Vol 2 Chapter Vii",
             19
            ]
           ],
           "hovertemplate": "<b>%{hovertext}</b><br><br>frame_label=19<br>Words=%{customdata[2]}<br>lat=%{lat}<br>long=%{lon}<br>Sentiment Score=%{marker.color:.3f}<br>Sentiment=%{customdata[1]}<br>Chapter=%{customdata[3]}<br>Chronological Step=%{customdata[4]}<extra></extra>",
           "hovertext": [
            "Delacey Cottage"
           ],
           "lat": {
            "bdata": "m1Wfq61QSEA=",
            "dtype": "f8"
           },
           "legendgroup": "",
           "lon": {
            "bdata": "H9eGinFOJkA=",
            "dtype": "f8"
           },
           "marker": {
            "color": {
             "bdata": "ux9VPA==",
             "dtype": "f4"
            },
            "coloraxis": "coloraxis",
            "size": {
             "bdata": "7RA=",
             "dtype": "i2"
            },
            "sizemode": "area",
            "sizeref": 1.5608333333333333
           },
           "mode": "markers",
           "name": "",
           "showlegend": false,
           "subplot": "map",
           "type": "scattermap"
          }
         ],
         "layout": {
          "title": {
           "text": "Vol 2 Chapter Vii - Delacey Cottage"
          }
         },
         "name": "19"
        },
        {
         "data": [
          {
           "customdata": [
            [
             0.11465595662593842,
             "Positive",
             971,
             "Vol 2 Chapter Viii",
             20
            ]
           ],
           "hovertemplate": "<b>%{hovertext}</b><br><br>frame_label=20<br>Words=%{customdata[2]}<br>lat=%{lat}<br>long=%{lon}<br>Sentiment Score=%{marker.color:.3f}<br>Sentiment=%{customdata[1]}<br>Chapter=%{customdata[3]}<br>Chronological Step=%{customdata[4]}<extra></extra>",
           "hovertext": [
            "Monster Travel to Geneva"
           ],
           "lat": {
            "bdata": "15r3SX8ASEA=",
            "dtype": "f8"
           },
           "legendgroup": "",
           "lon": {
            "bdata": "3NNUnXW8IUA=",
            "dtype": "f8"
           },
           "marker": {
            "color": {
             "bdata": "vtDqPQ==",
             "dtype": "f4"
            },
            "coloraxis": "coloraxis",
            "size": {
             "bdata": "ywM=",
             "dtype": "i2"
            },
            "sizemode": "area",
            "sizeref": 1.5608333333333333
           },
           "mode": "markers",
           "name": "",
           "showlegend": false,
           "subplot": "map",
           "type": "scattermap"
          }
         ],
         "layout": {
          "title": {
           "text": "Vol 2 Chapter Viii - Monster Travel to Geneva"
          }
         },
         "name": "20"
        },
        {
         "data": [
          {
           "customdata": [
            [
             0.1605331152677536,
             "Positive",
             766,
             "Vol 2 Chapter Viii",
             21
            ]
           ],
           "hovertemplate": "<b>%{hovertext}</b><br><br>frame_label=21<br>Words=%{customdata[2]}<br>lat=%{lat}<br>long=%{lon}<br>Sentiment Score=%{marker.color:.3f}<br>Sentiment=%{customdata[1]}<br>Chapter=%{customdata[3]}<br>Chronological Step=%{customdata[4]}<extra></extra>",
           "hovertext": [
            "Geneva"
           ],
           "lat": {
            "bdata": "J/c7FAUaR0A=",
            "dtype": "f8"
           },
           "legendgroup": "",
           "lon": {
            "bdata": "C2E1lrCWGEA=",
            "dtype": "f8"
           },
           "marker": {
            "color": {
             "bdata": "y2IkPg==",
             "dtype": "f4"
            },
            "coloraxis": "coloraxis",
            "size": {
             "bdata": "/gI=",
             "dtype": "i2"
            },
            "sizemode": "area",
            "sizeref": 1.5608333333333333
           },
           "mode": "markers",
           "name": "",
           "showlegend": false,
           "subplot": "map",
           "type": "scattermap"
          }
         ],
         "layout": {
          "title": {
           "text": "Vol 2 Chapter Viii - Geneva"
          }
         },
         "name": "21"
        },
        {
         "data": [
          {
           "customdata": [
            [
             0.07578597962856293,
             "Neutral",
             1314,
             "Vol 1 Chapter Iv",
             22
            ]
           ],
           "hovertemplate": "<b>%{hovertext}</b><br><br>frame_label=22<br>Words=%{customdata[2]}<br>lat=%{lat}<br>long=%{lon}<br>Sentiment Score=%{marker.color:.3f}<br>Sentiment=%{customdata[1]}<br>Chapter=%{customdata[3]}<br>Chronological Step=%{customdata[4]}<extra></extra>",
           "hovertext": [
            "Ingolstadt"
           ],
           "lat": {
            "bdata": "hOowcApiSEA=",
            "dtype": "f8"
           },
           "legendgroup": "",
           "lon": {
            "bdata": "X16AfXTaJkA=",
            "dtype": "f8"
           },
           "marker": {
            "color": {
             "bdata": "rjWbPQ==",
             "dtype": "f4"
            },
            "coloraxis": "coloraxis",
            "size": {
             "bdata": "IgU=",
             "dtype": "i2"
            },
            "sizemode": "area",
            "sizeref": 1.5608333333333333
           },
           "mode": "markers",
           "name": "",
           "showlegend": false,
           "subplot": "map",
           "type": "scattermap"
          }
         ],
         "layout": {
          "title": {
           "text": "Vol 1 Chapter Iv - Ingolstadt"
          }
         },
         "name": "22"
        },
        {
         "data": [
          {
           "customdata": [
            [
             -0.2281343787908554,
             "Negative",
             1373,
             "Vol 1 Chapter V",
             23
            ]
           ],
           "hovertemplate": "<b>%{hovertext}</b><br><br>frame_label=23<br>Words=%{customdata[2]}<br>lat=%{lat}<br>long=%{lon}<br>Sentiment Score=%{marker.color:.3f}<br>Sentiment=%{customdata[1]}<br>Chapter=%{customdata[3]}<br>Chronological Step=%{customdata[4]}<extra></extra>",
           "hovertext": [
            "Geneva"
           ],
           "lat": {
            "bdata": "J/c7FAUaR0A=",
            "dtype": "f8"
           },
           "legendgroup": "",
           "lon": {
            "bdata": "C2E1lrCWGEA=",
            "dtype": "f8"
           },
           "marker": {
            "color": {
             "bdata": "D5xpvg==",
             "dtype": "f4"
            },
            "coloraxis": "coloraxis",
            "size": {
             "bdata": "XQU=",
             "dtype": "i2"
            },
            "sizemode": "area",
            "sizeref": 1.5608333333333333
           },
           "mode": "markers",
           "name": "",
           "showlegend": false,
           "subplot": "map",
           "type": "scattermap"
          }
         ],
         "layout": {
          "title": {
           "text": "Vol 1 Chapter V - Geneva"
          }
         },
         "name": "23"
        },
        {
         "data": [
          {
           "customdata": [
            [
             -0.029629413038492203,
             "Neutral",
             1287,
             "Vol 1 Chapter V",
             24
            ]
           ],
           "hovertemplate": "<b>%{hovertext}</b><br><br>frame_label=24<br>Words=%{customdata[2]}<br>lat=%{lat}<br>long=%{lon}<br>Sentiment Score=%{marker.color:.3f}<br>Sentiment=%{customdata[1]}<br>Chapter=%{customdata[3]}<br>Chronological Step=%{customdata[4]}<extra></extra>",
           "hovertext": [
            "Ingolstadt"
           ],
           "lat": {
            "bdata": "YFlpUgpiSEA=",
            "dtype": "f8"
           },
           "legendgroup": "",
           "lon": {
            "bdata": "X16AfXTaJkA=",
            "dtype": "f8"
           },
           "marker": {
            "color": {
             "bdata": "YrnyvA==",
             "dtype": "f4"
            },
            "coloraxis": "coloraxis",
            "size": {
             "bdata": "BwU=",
             "dtype": "i2"
            },
            "sizemode": "area",
            "sizeref": 1.5608333333333333
           },
           "mode": "markers",
           "name": "",
           "showlegend": false,
           "subplot": "map",
           "type": "scattermap"
          }
         ],
         "layout": {
          "title": {
           "text": "Vol 1 Chapter V - Ingolstadt"
          }
         },
         "name": "24"
        },
        {
         "data": [
          {
           "customdata": [
            [
             -0.27410462498664856,
             "Negative",
             698,
             "Vol 1 Chapter Vi",
             25
            ]
           ],
           "hovertemplate": "<b>%{hovertext}</b><br><br>frame_label=25<br>Words=%{customdata[2]}<br>lat=%{lat}<br>long=%{lon}<br>Sentiment Score=%{marker.color:.3f}<br>Sentiment=%{customdata[1]}<br>Chapter=%{customdata[3]}<br>Chronological Step=%{customdata[4]}<extra></extra>",
           "hovertext": [
            "Geneva"
           ],
           "lat": {
            "bdata": "J/c7FAUaR0A=",
            "dtype": "f8"
           },
           "legendgroup": "",
           "lon": {
            "bdata": "C2E1lrCWGEA=",
            "dtype": "f8"
           },
           "marker": {
            "color": {
             "bdata": "cVeMvg==",
             "dtype": "f4"
            },
            "coloraxis": "coloraxis",
            "size": {
             "bdata": "ugI=",
             "dtype": "i2"
            },
            "sizemode": "area",
            "sizeref": 1.5608333333333333
           },
           "mode": "markers",
           "name": "",
           "showlegend": false,
           "subplot": "map",
           "type": "scattermap"
          }
         ],
         "layout": {
          "title": {
           "text": "Vol 1 Chapter Vi - Geneva"
          }
         },
         "name": "25"
        },
        {
         "data": [
          {
           "customdata": [
            [
             0.06478573381900787,
             "Neutral",
             319,
             "Vol 1 Chapter Vi",
             26
            ]
           ],
           "hovertemplate": "<b>%{hovertext}</b><br><br>frame_label=26<br>Words=%{customdata[2]}<br>lat=%{lat}<br>long=%{lon}<br>Sentiment Score=%{marker.color:.3f}<br>Sentiment=%{customdata[1]}<br>Chapter=%{customdata[3]}<br>Chronological Step=%{customdata[4]}<extra></extra>",
           "hovertext": [
            "Ingolstadt"
           ],
           "lat": {
            "bdata": "YFlpUgpiSEA=",
            "dtype": "f8"
           },
           "legendgroup": "",
           "lon": {
            "bdata": "X16AfXTaJkA=",
            "dtype": "f8"
           },
           "marker": {
            "color": {
             "bdata": "Yq6EPQ==",
             "dtype": "f4"
            },
            "coloraxis": "coloraxis",
            "size": {
             "bdata": "PwE=",
             "dtype": "i2"
            },
            "sizemode": "area",
            "sizeref": 1.5608333333333333
           },
           "mode": "markers",
           "name": "",
           "showlegend": false,
           "subplot": "map",
           "type": "scattermap"
          }
         ],
         "layout": {
          "title": {
           "text": "Vol 1 Chapter Vi - Ingolstadt"
          }
         },
         "name": "26"
        },
        {
         "data": [
          {
           "customdata": [
            [
             0.04409022629261017,
             "Neutral",
             133,
             "Vol 1 Chapter Vi",
             27
            ]
           ],
           "hovertemplate": "<b>%{hovertext}</b><br><br>frame_label=27<br>Words=%{customdata[2]}<br>lat=%{lat}<br>long=%{lon}<br>Sentiment Score=%{marker.color:.3f}<br>Sentiment=%{customdata[1]}<br>Chapter=%{customdata[3]}<br>Chronological Step=%{customdata[4]}<extra></extra>",
           "hovertext": [
            "Zurich"
           ],
           "lat": {
            "bdata": "EK8MJlWvR0A=",
            "dtype": "f8"
           },
           "legendgroup": "",
           "lon": {
            "bdata": "L4ziv7p6IUA=",
            "dtype": "f8"
           },
           "marker": {
            "color": {
             "bdata": "9Jc0PQ==",
             "dtype": "f4"
            },
            "coloraxis": "coloraxis",
            "size": {
             "bdata": "hQA=",
             "dtype": "i2"
            },
            "sizemode": "area",
            "sizeref": 1.5608333333333333
           },
           "mode": "markers",
           "name": "",
           "showlegend": false,
           "subplot": "map",
           "type": "scattermap"
          }
         ],
         "layout": {
          "title": {
           "text": "Vol 1 Chapter Vi - Zurich"
          }
         },
         "name": "27"
        },
        {
         "data": [
          {
           "customdata": [
            [
             -0.20621058344841003,
             "Negative",
             51,
             "Vol 1 Chapter Vi",
             28
            ]
           ],
           "hovertemplate": "<b>%{hovertext}</b><br><br>frame_label=28<br>Words=%{customdata[2]}<br>lat=%{lat}<br>long=%{lon}<br>Sentiment Score=%{marker.color:.3f}<br>Sentiment=%{customdata[1]}<br>Chapter=%{customdata[3]}<br>Chronological Step=%{customdata[4]}<extra></extra>",
           "hovertext": [
            "Lausanne"
           ],
           "lat": {
            "bdata": "NV66SQxCR0A=",
            "dtype": "f8"
           },
           "legendgroup": "",
           "lon": {
            "bdata": "1QRR9wGIGkA=",
            "dtype": "f8"
           },
           "marker": {
            "color": {
             "bdata": "3ihTvg==",
             "dtype": "f4"
            },
            "coloraxis": "coloraxis",
            "size": {
             "bdata": "Mw==",
             "dtype": "i1"
            },
            "sizemode": "area",
            "sizeref": 1.5608333333333333
           },
           "mode": "markers",
           "name": "",
           "showlegend": false,
           "subplot": "map",
           "type": "scattermap"
          }
         ],
         "layout": {
          "title": {
           "text": "Vol 1 Chapter Vi - Lausanne"
          }
         },
         "name": "28"
        },
        {
         "data": [
          {
           "customdata": [
            [
             -0.13249705731868744,
             "Negative",
             983,
             "Vol 1 Chapter Vi",
             29
            ]
           ],
           "hovertemplate": "<b>%{hovertext}</b><br><br>frame_label=29<br>Words=%{customdata[2]}<br>lat=%{lat}<br>long=%{lon}<br>Sentiment Score=%{marker.color:.3f}<br>Sentiment=%{customdata[1]}<br>Chapter=%{customdata[3]}<br>Chronological Step=%{customdata[4]}<extra></extra>",
           "hovertext": [
            "Near Mont Blanc"
           ],
           "lat": {
            "bdata": "RZ9NFhAsR0A=",
            "dtype": "f8"
           },
           "legendgroup": "",
           "lon": {
            "bdata": "JIxVOaO0GEA=",
            "dtype": "f8"
           },
           "marker": {
            "color": {
             "bdata": "T60Hvg==",
             "dtype": "f4"
            },
            "coloraxis": "coloraxis",
            "size": {
             "bdata": "1wM=",
             "dtype": "i2"
            },
            "sizemode": "area",
            "sizeref": 1.5608333333333333
           },
           "mode": "markers",
           "name": "",
           "showlegend": false,
           "subplot": "map",
           "type": "scattermap"
          }
         ],
         "layout": {
          "title": {
           "text": "Vol 1 Chapter Vi - Near Mont Blanc"
          }
         },
         "name": "29"
        },
        {
         "data": [
          {
           "customdata": [
            [
             -0.15636062622070312,
             "Negative",
             4795,
             "Vol 1 Chapter Vi",
             30
            ]
           ],
           "hovertemplate": "<b>%{hovertext}</b><br><br>frame_label=30<br>Words=%{customdata[2]}<br>lat=%{lat}<br>long=%{lon}<br>Sentiment Score=%{marker.color:.3f}<br>Sentiment=%{customdata[1]}<br>Chapter=%{customdata[3]}<br>Chronological Step=%{customdata[4]}<extra></extra>",
           "hovertext": [
            "Geneva"
           ],
           "lat": {
            "bdata": "J/c7FAUaR0A=",
            "dtype": "f8"
           },
           "legendgroup": "",
           "lon": {
            "bdata": "C2E1lrCWGEA=",
            "dtype": "f8"
           },
           "marker": {
            "color": {
             "bdata": "AB0gvg==",
             "dtype": "f4"
            },
            "coloraxis": "coloraxis",
            "size": {
             "bdata": "uxI=",
             "dtype": "i2"
            },
            "sizemode": "area",
            "sizeref": 1.5608333333333333
           },
           "mode": "markers",
           "name": "",
           "showlegend": false,
           "subplot": "map",
           "type": "scattermap"
          }
         ],
         "layout": {
          "title": {
           "text": "Vol 1 Chapter Vi - Geneva"
          }
         },
         "name": "30"
        },
        {
         "data": [
          {
           "customdata": [
            [
             0.1450100541114807,
             "Positive",
             964,
             "Vol 2 Chapter I",
             31
            ],
            [
             -0.0516221821308136,
             "Neutral",
             171,
             "Vol 2 Chapter I",
             31
            ]
           ],
           "hovertemplate": "<b>%{hovertext}</b><br><br>frame_label=31<br>Words=%{customdata[2]}<br>lat=%{lat}<br>long=%{lon}<br>Sentiment Score=%{marker.color:.3f}<br>Sentiment=%{customdata[1]}<br>Chapter=%{customdata[3]}<br>Chronological Step=%{customdata[4]}<extra></extra>",
           "hovertext": [
            "Belrive",
            "Chamonix"
           ],
           "lat": {
            "bdata": "cCJ+7hkhR0B2Qlz3XvZGQA==",
            "dtype": "f8"
           },
           "legendgroup": "",
           "lon": {
            "bdata": "rbdt4lvHGEDHdJWsknsbQA==",
            "dtype": "f8"
           },
           "marker": {
            "color": {
             "bdata": "hH0UPshxU70=",
             "dtype": "f4"
            },
            "coloraxis": "coloraxis",
            "size": {
             "bdata": "xAOrAA==",
             "dtype": "i2"
            },
            "sizemode": "area",
            "sizeref": 1.5608333333333333
           },
           "mode": "markers",
           "name": "",
           "showlegend": false,
           "subplot": "map",
           "type": "scattermap"
          }
         ],
         "layout": {
          "title": {
           "text": "Vol 2 Chapter I - Belrive, Chamonix"
          }
         },
         "name": "31"
        },
        {
         "data": [
          {
           "customdata": [
            [
             0.11891844123601913,
             "Positive",
             649,
             "Vol 2 Chapter I",
             32
            ]
           ],
           "hovertemplate": "<b>%{hovertext}</b><br><br>frame_label=32<br>Words=%{customdata[2]}<br>lat=%{lat}<br>long=%{lon}<br>Sentiment Score=%{marker.color:.3f}<br>Sentiment=%{customdata[1]}<br>Chapter=%{customdata[3]}<br>Chronological Step=%{customdata[4]}<extra></extra>",
           "hovertext": [
            "Chamonix"
           ],
           "lat": {
            "bdata": "dkJc9172RkA=",
            "dtype": "f8"
           },
           "legendgroup": "",
           "lon": {
            "bdata": "x3SVrJJ7G0A=",
            "dtype": "f8"
           },
           "marker": {
            "color": {
             "bdata": "g4vzPQ==",
             "dtype": "f4"
            },
            "coloraxis": "coloraxis",
            "size": {
             "bdata": "iQI=",
             "dtype": "i2"
            },
            "sizemode": "area",
            "sizeref": 1.5608333333333333
           },
           "mode": "markers",
           "name": "",
           "showlegend": false,
           "subplot": "map",
           "type": "scattermap"
          }
         ],
         "layout": {
          "title": {
           "text": "Vol 2 Chapter I - Chamonix"
          }
         },
         "name": "32"
        },
        {
         "data": [
          {
           "customdata": [
            [
             0.05721611902117729,
             "Neutral",
             2374,
             "Vol 2 Chapter Ii",
             33
            ]
           ],
           "hovertemplate": "<b>%{hovertext}</b><br><br>frame_label=33<br>Words=%{customdata[2]}<br>lat=%{lat}<br>long=%{lon}<br>Sentiment Score=%{marker.color:.3f}<br>Sentiment=%{customdata[1]}<br>Chapter=%{customdata[3]}<br>Chronological Step=%{customdata[4]}<extra></extra>",
           "hovertext": [
            "Montanvert"
           ],
           "lat": {
            "bdata": "ytwhakf3RkA=",
            "dtype": "f8"
           },
           "legendgroup": "",
           "lon": {
            "bdata": "po12Hg2sG0A=",
            "dtype": "f8"
           },
           "marker": {
            "color": {
             "bdata": "c1tqPQ==",
             "dtype": "f4"
            },
            "coloraxis": "coloraxis",
            "size": {
             "bdata": "Rgk=",
             "dtype": "i2"
            },
            "sizemode": "area",
            "sizeref": 1.5608333333333333
           },
           "mode": "markers",
           "name": "",
           "showlegend": false,
           "subplot": "map",
           "type": "scattermap"
          }
         ],
         "layout": {
          "title": {
           "text": "Vol 2 Chapter Ii - Montanvert"
          }
         },
         "name": "33"
        },
        {
         "data": [
          {
           "customdata": [
            [
             0.3567864000797272,
             "Positive",
             1801,
             "Vol 2 Chapter Ix",
             34
            ]
           ],
           "hovertemplate": "<b>%{hovertext}</b><br><br>frame_label=34<br>Words=%{customdata[2]}<br>lat=%{lat}<br>long=%{lon}<br>Sentiment Score=%{marker.color:.3f}<br>Sentiment=%{customdata[1]}<br>Chapter=%{customdata[3]}<br>Chronological Step=%{customdata[4]}<extra></extra>",
           "hovertext": [
            "Montanvert"
           ],
           "lat": {
            "bdata": "ytwhakf3RkA=",
            "dtype": "f8"
           },
           "legendgroup": "",
           "lon": {
            "bdata": "po12Hg2sG0A=",
            "dtype": "f8"
           },
           "marker": {
            "color": {
             "bdata": "tay2Pg==",
             "dtype": "f4"
            },
            "coloraxis": "coloraxis",
            "size": {
             "bdata": "CQc=",
             "dtype": "i2"
            },
            "sizemode": "area",
            "sizeref": 1.5608333333333333
           },
           "mode": "markers",
           "name": "",
           "showlegend": false,
           "subplot": "map",
           "type": "scattermap"
          }
         ],
         "layout": {
          "title": {
           "text": "Vol 2 Chapter Ix - Montanvert"
          }
         },
         "name": "34"
        },
        {
         "data": [
          {
           "customdata": [
            [
             0.05747164040803909,
             "Neutral",
             1774,
             "Vol 2 Chapter Ix",
             35
            ]
           ],
           "hovertemplate": "<b>%{hovertext}</b><br><br>frame_label=35<br>Words=%{customdata[2]}<br>lat=%{lat}<br>long=%{lon}<br>Sentiment Score=%{marker.color:.3f}<br>Sentiment=%{customdata[1]}<br>Chapter=%{customdata[3]}<br>Chronological Step=%{customdata[4]}<extra></extra>",
           "hovertext": [
            "Geneva"
           ],
           "lat": {
            "bdata": "J/c7FAUaR0A=",
            "dtype": "f8"
           },
           "legendgroup": "",
           "lon": {
            "bdata": "C2E1lrCWGEA=",
            "dtype": "f8"
           },
           "marker": {
            "color": {
             "bdata": "YmdrPQ==",
             "dtype": "f4"
            },
            "coloraxis": "coloraxis",
            "size": {
             "bdata": "7gY=",
             "dtype": "i2"
            },
            "sizemode": "area",
            "sizeref": 1.5608333333333333
           },
           "mode": "markers",
           "name": "",
           "showlegend": false,
           "subplot": "map",
           "type": "scattermap"
          }
         ],
         "layout": {
          "title": {
           "text": "Vol 2 Chapter Ix - Geneva"
          }
         },
         "name": "35"
        },
        {
         "data": [
          {
           "customdata": [
            [
             -0.053774189203977585,
             "Neutral",
             175,
             "Vol 3 Chapter I",
             36
            ]
           ],
           "hovertemplate": "<b>%{hovertext}</b><br><br>frame_label=36<br>Words=%{customdata[2]}<br>lat=%{lat}<br>long=%{lon}<br>Sentiment Score=%{marker.color:.3f}<br>Sentiment=%{customdata[1]}<br>Chapter=%{customdata[3]}<br>Chronological Step=%{customdata[4]}<extra></extra>",
           "hovertext": [
            "Strasbourg"
           ],
           "lat": {
            "bdata": "ts6mwFVJSEA=",
            "dtype": "f8"
           },
           "legendgroup": "",
           "lon": {
            "bdata": "H4oRqE8LH0A=",
            "dtype": "f8"
           },
           "marker": {
            "color": {
             "bdata": "U0JcvQ==",
             "dtype": "f4"
            },
            "coloraxis": "coloraxis",
            "size": {
             "bdata": "rwA=",
             "dtype": "i2"
            },
            "sizemode": "area",
            "sizeref": 1.5608333333333333
           },
           "mode": "markers",
           "name": "",
           "showlegend": false,
           "subplot": "map",
           "type": "scattermap"
          }
         ],
         "layout": {
          "title": {
           "text": "Vol 3 Chapter I - Strasbourg"
          }
         },
         "name": "36"
        },
        {
         "data": [
          {
           "customdata": [
            [
             -0.7690834999084473,
             "Negative",
             151,
             "Vol 3 Chapter I",
             37
            ]
           ],
           "hovertemplate": "<b>%{hovertext}</b><br><br>frame_label=37<br>Words=%{customdata[2]}<br>lat=%{lat}<br>long=%{lon}<br>Sentiment Score=%{marker.color:.3f}<br>Sentiment=%{customdata[1]}<br>Chapter=%{customdata[3]}<br>Chronological Step=%{customdata[4]}<extra></extra>",
           "hovertext": [
            "Mainz"
           ],
           "lat": {
            "bdata": "Oiwmmcn+SEA=",
            "dtype": "f8"
           },
           "legendgroup": "",
           "lon": {
            "bdata": "RT+KolZ/IEA=",
            "dtype": "f8"
           },
           "marker": {
            "color": {
             "bdata": "qOJEvw==",
             "dtype": "f4"
            },
            "coloraxis": "coloraxis",
            "size": {
             "bdata": "lwA=",
             "dtype": "i2"
            },
            "sizemode": "area",
            "sizeref": 1.5608333333333333
           },
           "mode": "markers",
           "name": "",
           "showlegend": false,
           "subplot": "map",
           "type": "scattermap"
          }
         ],
         "layout": {
          "title": {
           "text": "Vol 3 Chapter I - Mainz"
          }
         },
         "name": "37"
        },
        {
         "data": [
          {
           "customdata": [
            [
             -0.22984108328819275,
             "Negative",
             638,
             "Vol 3 Chapter I",
             38
            ]
           ],
           "hovertemplate": "<b>%{hovertext}</b><br><br>frame_label=38<br>Words=%{customdata[2]}<br>lat=%{lat}<br>long=%{lon}<br>Sentiment Score=%{marker.color:.3f}<br>Sentiment=%{customdata[1]}<br>Chapter=%{customdata[3]}<br>Chronological Step=%{customdata[4]}<extra></extra>",
           "hovertext": [
            "Rhine below Mainz"
           ],
           "lat": {
            "bdata": "ioCW8HwtSUA=",
            "dtype": "f8"
           },
           "legendgroup": "",
           "lon": {
            "bdata": "qYDUVoe6HkA=",
            "dtype": "f8"
           },
           "marker": {
            "color": {
             "bdata": "dltrvg==",
             "dtype": "f4"
            },
            "coloraxis": "coloraxis",
            "size": {
             "bdata": "fgI=",
             "dtype": "i2"
            },
            "sizemode": "area",
            "sizeref": 1.5608333333333333
           },
           "mode": "markers",
           "name": "",
           "showlegend": false,
           "subplot": "map",
           "type": "scattermap"
          }
         ],
         "layout": {
          "title": {
           "text": "Vol 3 Chapter I - Rhine below Mainz"
          }
         },
         "name": "38"
        },
        {
         "data": [
          {
           "customdata": [
            [
             -0.15708093345165253,
             "Negative",
             36,
             "Vol 3 Chapter I",
             39
            ]
           ],
           "hovertemplate": "<b>%{hovertext}</b><br><br>frame_label=39<br>Words=%{customdata[2]}<br>lat=%{lat}<br>long=%{lon}<br>Sentiment Score=%{marker.color:.3f}<br>Sentiment=%{customdata[1]}<br>Chapter=%{customdata[3]}<br>Chronological Step=%{customdata[4]}<extra></extra>",
           "hovertext": [
            "Cologne"
           ],
           "lat": {
            "bdata": "i1knFap2SUA=",
            "dtype": "f8"
           },
           "legendgroup": "",
           "lon": {
            "bdata": "NdNVa3VWHEA=",
            "dtype": "f8"
           },
           "marker": {
            "color": {
             "bdata": "09kgvg==",
             "dtype": "f4"
            },
            "coloraxis": "coloraxis",
            "size": {
             "bdata": "JA==",
             "dtype": "i1"
            },
            "sizemode": "area",
            "sizeref": 1.5608333333333333
           },
           "mode": "markers",
           "name": "",
           "showlegend": false,
           "subplot": "map",
           "type": "scattermap"
          }
         ],
         "layout": {
          "title": {
           "text": "Vol 3 Chapter I - Cologne"
          }
         },
         "name": "39"
        },
        {
         "data": [
          {
           "customdata": [
            [
             0.8027021884918213,
             "Positive",
             96,
             "Vol 3 Chapter I",
             40
            ]
           ],
           "hovertemplate": "<b>%{hovertext}</b><br><br>frame_label=40<br>Words=%{customdata[2]}<br>lat=%{lat}<br>long=%{lon}<br>Sentiment Score=%{marker.color:.3f}<br>Sentiment=%{customdata[1]}<br>Chapter=%{customdata[3]}<br>Chronological Step=%{customdata[4]}<extra></extra>",
           "hovertext": [
            "Rotterdam"
           ],
           "lat": {
            "bdata": "xyl8rp32SUA=",
            "dtype": "f8"
           },
           "legendgroup": "",
           "lon": {
            "bdata": "Gvja/ljeEUA=",
            "dtype": "f8"
           },
           "marker": {
            "color": {
             "bdata": "5H1NPw==",
             "dtype": "f4"
            },
            "coloraxis": "coloraxis",
            "size": {
             "bdata": "YA==",
             "dtype": "i1"
            },
            "sizemode": "area",
            "sizeref": 1.5608333333333333
           },
           "mode": "markers",
           "name": "",
           "showlegend": false,
           "subplot": "map",
           "type": "scattermap"
          }
         ],
         "layout": {
          "title": {
           "text": "Vol 3 Chapter I - Rotterdam"
          }
         },
         "name": "40"
        },
        {
         "data": [
          {
           "customdata": [
            [
             0.11038290709257126,
             "Positive",
             593,
             "Vol 3 Chapter I",
             41
            ]
           ],
           "hovertemplate": "<b>%{hovertext}</b><br><br>frame_label=41<br>Words=%{customdata[2]}<br>lat=%{lat}<br>long=%{lon}<br>Sentiment Score=%{marker.color:.3f}<br>Sentiment=%{customdata[1]}<br>Chapter=%{customdata[3]}<br>Chronological Step=%{customdata[4]}<extra></extra>",
           "hovertext": [
            "London"
           ],
           "lat": {
            "bdata": "Yu5iswbBSUA=",
            "dtype": "f8"
           },
           "legendgroup": "",
           "lon": {
            "bdata": "1TLBjAMRu78=",
            "dtype": "f8"
           },
           "marker": {
            "color": {
             "bdata": "bxDiPQ==",
             "dtype": "f4"
            },
            "coloraxis": "coloraxis",
            "size": {
             "bdata": "UQI=",
             "dtype": "i2"
            },
            "sizemode": "area",
            "sizeref": 1.5608333333333333
           },
           "mode": "markers",
           "name": "",
           "showlegend": false,
           "subplot": "map",
           "type": "scattermap"
          }
         ],
         "layout": {
          "title": {
           "text": "Vol 3 Chapter I - London"
          }
         },
         "name": "41"
        },
        {
         "data": [
          {
           "customdata": [
            [
             -0.3460061848163605,
             "Negative",
             46,
             "Vol 3 Chapter Ii",
             42
            ]
           ],
           "hovertemplate": "<b>%{hovertext}</b><br><br>frame_label=42<br>Words=%{customdata[2]}<br>lat=%{lat}<br>long=%{lon}<br>Sentiment Score=%{marker.color:.3f}<br>Sentiment=%{customdata[1]}<br>Chapter=%{customdata[3]}<br>Chronological Step=%{customdata[4]}<extra></extra>",
           "hovertext": [
            "Windsor"
           ],
           "lat": {
            "bdata": "OCqae4a9SUA=",
            "dtype": "f8"
           },
           "legendgroup": "",
           "lon": {
            "bdata": "+yQ6dSyp478=",
            "dtype": "f8"
           },
           "marker": {
            "color": {
             "bdata": "uSexvg==",
             "dtype": "f4"
            },
            "coloraxis": "coloraxis",
            "size": {
             "bdata": "Lg==",
             "dtype": "i1"
            },
            "sizemode": "area",
            "sizeref": 1.5608333333333333
           },
           "mode": "markers",
           "name": "",
           "showlegend": false,
           "subplot": "map",
           "type": "scattermap"
          }
         ],
         "layout": {
          "title": {
           "text": "Vol 3 Chapter Ii - Windsor"
          }
         },
         "name": "42"
        },
        {
         "data": [
          {
           "customdata": [
            [
             0.149802103638649,
             "Positive",
             442,
             "Vol 3 Chapter Ii",
             43
            ]
           ],
           "hovertemplate": "<b>%{hovertext}</b><br><br>frame_label=43<br>Words=%{customdata[2]}<br>lat=%{lat}<br>long=%{lon}<br>Sentiment Score=%{marker.color:.3f}<br>Sentiment=%{customdata[1]}<br>Chapter=%{customdata[3]}<br>Chronological Step=%{customdata[4]}<extra></extra>",
           "hovertext": [
            "Oxford"
           ],
           "lat": {
            "bdata": "uxQuFkzgSUA=",
            "dtype": "f8"
           },
           "legendgroup": "",
           "lon": {
            "bdata": "uT12VIsR9L8=",
            "dtype": "f8"
           },
           "marker": {
            "color": {
             "bdata": "uWUZPg==",
             "dtype": "f4"
            },
            "coloraxis": "coloraxis",
            "size": {
             "bdata": "ugE=",
             "dtype": "i2"
            },
            "sizemode": "area",
            "sizeref": 1.5608333333333333
           },
           "mode": "markers",
           "name": "",
           "showlegend": false,
           "subplot": "map",
           "type": "scattermap"
          }
         ],
         "layout": {
          "title": {
           "text": "Vol 3 Chapter Ii - Oxford"
          }
         },
         "name": "43"
        },
        {
         "data": [
          {
           "customdata": [
            [
             0.296541690826416,
             "Positive",
             116,
             "Vol 3 Chapter Ii",
             44
            ]
           ],
           "hovertemplate": "<b>%{hovertext}</b><br><br>frame_label=44<br>Words=%{customdata[2]}<br>lat=%{lat}<br>long=%{lon}<br>Sentiment Score=%{marker.color:.3f}<br>Sentiment=%{customdata[1]}<br>Chapter=%{customdata[3]}<br>Chronological Step=%{customdata[4]}<extra></extra>",
           "hovertext": [
            "Matlock"
           ],
           "lat": {
            "bdata": "iOxJgQGSSkA=",
            "dtype": "f8"
           },
           "legendgroup": "",
           "lon": {
            "bdata": "+2jJxxTC+L8=",
            "dtype": "f8"
           },
           "marker": {
            "color": {
             "bdata": "UNSXPg==",
             "dtype": "f4"
            },
            "coloraxis": "coloraxis",
            "size": {
             "bdata": "dA==",
             "dtype": "i1"
            },
            "sizemode": "area",
            "sizeref": 1.5608333333333333
           },
           "mode": "markers",
           "name": "",
           "showlegend": false,
           "subplot": "map",
           "type": "scattermap"
          }
         ],
         "layout": {
          "title": {
           "text": "Vol 3 Chapter Ii - Matlock"
          }
         },
         "name": "44"
        },
        {
         "data": [
          {
           "customdata": [
            [
             0.12855198979377747,
             "Positive",
             420,
             "Vol 3 Chapter Ii",
             45
            ]
           ],
           "hovertemplate": "<b>%{hovertext}</b><br><br>frame_label=45<br>Words=%{customdata[2]}<br>lat=%{lat}<br>long=%{lon}<br>Sentiment Score=%{marker.color:.3f}<br>Sentiment=%{customdata[1]}<br>Chapter=%{customdata[3]}<br>Chronological Step=%{customdata[4]}<extra></extra>",
           "hovertext": [
            "Cumberland"
           ],
           "lat": {
            "bdata": "qoAYdAQ9S0A=",
            "dtype": "f8"
           },
           "legendgroup": "",
           "lon": {
            "bdata": "/P0gmpJbCMA=",
            "dtype": "f8"
           },
           "marker": {
            "color": {
             "bdata": "IqMDPg==",
             "dtype": "f4"
            },
            "coloraxis": "coloraxis",
            "size": {
             "bdata": "pAE=",
             "dtype": "i2"
            },
            "sizemode": "area",
            "sizeref": 1.5608333333333333
           },
           "mode": "markers",
           "name": "",
           "showlegend": false,
           "subplot": "map",
           "type": "scattermap"
          }
         ],
         "layout": {
          "title": {
           "text": "Vol 3 Chapter Ii - Cumberland"
          }
         },
         "name": "45"
        },
        {
         "data": [
          {
           "customdata": [
            [
             -0.010227242484688759,
             "Neutral",
             96,
             "Vol 3 Chapter Ii",
             46
            ]
           ],
           "hovertemplate": "<b>%{hovertext}</b><br><br>frame_label=46<br>Words=%{customdata[2]}<br>lat=%{lat}<br>long=%{lon}<br>Sentiment Score=%{marker.color:.3f}<br>Sentiment=%{customdata[1]}<br>Chapter=%{customdata[3]}<br>Chronological Step=%{customdata[4]}<extra></extra>",
           "hovertext": [
            "Edinburgh"
           ],
           "lat": {
            "bdata": "8NopRiv6S0A=",
            "dtype": "f8"
           },
           "legendgroup": "",
           "lon": {
            "bdata": "TKPq0wGHCcA=",
            "dtype": "f8"
           },
           "marker": {
            "color": {
             "bdata": "KpAnvA==",
             "dtype": "f4"
            },
            "coloraxis": "coloraxis",
            "size": {
             "bdata": "YA==",
             "dtype": "i1"
            },
            "sizemode": "area",
            "sizeref": 1.5608333333333333
           },
           "mode": "markers",
           "name": "",
           "showlegend": false,
           "subplot": "map",
           "type": "scattermap"
          }
         ],
         "layout": {
          "title": {
           "text": "Vol 3 Chapter Ii - Edinburgh"
          }
         },
         "name": "46"
        },
        {
         "data": [
          {
           "customdata": [
            [
             -0.07137181609869003,
             "Neutral",
             239,
             "Vol 3 Chapter Ii",
             47
            ]
           ],
           "hovertemplate": "<b>%{hovertext}</b><br><br>frame_label=47<br>Words=%{customdata[2]}<br>lat=%{lat}<br>long=%{lon}<br>Sentiment Score=%{marker.color:.3f}<br>Sentiment=%{customdata[1]}<br>Chapter=%{customdata[3]}<br>Chronological Step=%{customdata[4]}<extra></extra>",
           "hovertext": [
            "Perth"
           ],
           "lat": {
            "bdata": "d906g68yTEA=",
            "dtype": "f8"
           },
           "legendgroup": "",
           "lon": {
            "bdata": "w7v04AJ1C8A=",
            "dtype": "f8"
           },
           "marker": {
            "color": {
             "bdata": "YyuSvQ==",
             "dtype": "f4"
            },
            "coloraxis": "coloraxis",
            "size": {
             "bdata": "7wA=",
             "dtype": "i2"
            },
            "sizemode": "area",
            "sizeref": 1.5608333333333333
           },
           "mode": "markers",
           "name": "",
           "showlegend": false,
           "subplot": "map",
           "type": "scattermap"
          }
         ],
         "layout": {
          "title": {
           "text": "Vol 3 Chapter Ii - Perth"
          }
         },
         "name": "47"
        },
        {
         "data": [
          {
           "customdata": [
            [
             -0.06878450512886047,
             "Neutral",
             3062,
             "Vol 3 Chapter Ii",
             48
            ]
           ],
           "hovertemplate": "<b>%{hovertext}</b><br><br>frame_label=48<br>Words=%{customdata[2]}<br>lat=%{lat}<br>long=%{lon}<br>Sentiment Score=%{marker.color:.3f}<br>Sentiment=%{customdata[1]}<br>Chapter=%{customdata[3]}<br>Chronological Step=%{customdata[4]}<extra></extra>",
           "hovertext": [
            "Orkney Islands"
           ],
           "lat": {
            "bdata": "/cYRSmN3TUA=",
            "dtype": "f8"
           },
           "legendgroup": "",
           "lon": {
            "bdata": "mBFsyZv9BcA=",
            "dtype": "f8"
           },
           "marker": {
            "color": {
             "bdata": "5N6MvQ==",
             "dtype": "f4"
            },
            "coloraxis": "coloraxis",
            "size": {
             "bdata": "9gs=",
             "dtype": "i2"
            },
            "sizemode": "area",
            "sizeref": 1.5608333333333333
           },
           "mode": "markers",
           "name": "",
           "showlegend": false,
           "subplot": "map",
           "type": "scattermap"
          }
         ],
         "layout": {
          "title": {
           "text": "Vol 3 Chapter Ii - Orkney Islands"
          }
         },
         "name": "48"
        },
        {
         "data": [
          {
           "customdata": [
            [
             -0.22940047085285187,
             "Negative",
             361,
             "Vol 3 Chapter Iii",
             49
            ]
           ],
           "hovertemplate": "<b>%{hovertext}</b><br><br>frame_label=49<br>Words=%{customdata[2]}<br>lat=%{lat}<br>long=%{lon}<br>Sentiment Score=%{marker.color:.3f}<br>Sentiment=%{customdata[1]}<br>Chapter=%{customdata[3]}<br>Chronological Step=%{customdata[4]}<extra></extra>",
           "hovertext": [
            "Irish Sea"
           ],
           "lat": {
            "bdata": "iFVyBF/3S0A=",
            "dtype": "f8"
           },
           "legendgroup": "",
           "lon": {
            "bdata": "cBSdiCWnHcA=",
            "dtype": "f8"
           },
           "marker": {
            "color": {
             "bdata": "9edqvg==",
             "dtype": "f4"
            },
            "coloraxis": "coloraxis",
            "size": {
             "bdata": "aQE=",
             "dtype": "i2"
            },
            "sizemode": "area",
            "sizeref": 1.5608333333333333
           },
           "mode": "markers",
           "name": "",
           "showlegend": false,
           "subplot": "map",
           "type": "scattermap"
          }
         ],
         "layout": {
          "title": {
           "text": "Vol 3 Chapter Iii - Irish Sea"
          }
         },
         "name": "49"
        },
        {
         "data": [
          {
           "customdata": [
            [
             -0.12932650744915009,
             "Negative",
             3920,
             "Vol 3 Chapter Iii",
             50
            ]
           ],
           "hovertemplate": "<b>%{hovertext}</b><br><br>frame_label=50<br>Words=%{customdata[2]}<br>lat=%{lat}<br>long=%{lon}<br>Sentiment Score=%{marker.color:.3f}<br>Sentiment=%{customdata[1]}<br>Chapter=%{customdata[3]}<br>Chronological Step=%{customdata[4]}<extra></extra>",
           "hovertext": [
            "Beach somewhere on the Irish Coast"
           ],
           "lat": {
            "bdata": "R8Pvx2mZS0A=",
            "dtype": "f8"
           },
           "legendgroup": "",
           "lon": {
            "bdata": "2bK+eViHGsA=",
            "dtype": "f8"
           },
           "marker": {
            "color": {
             "bdata": "K24Evg==",
             "dtype": "f4"
            },
            "coloraxis": "coloraxis",
            "size": {
             "bdata": "UA8=",
             "dtype": "i2"
            },
            "sizemode": "area",
            "sizeref": 1.5608333333333333
           },
           "mode": "markers",
           "name": "",
           "showlegend": false,
           "subplot": "map",
           "type": "scattermap"
          }
         ],
         "layout": {
          "title": {
           "text": "Vol 3 Chapter Iii - Beach somewhere on the Irish Coast"
          }
         },
         "name": "50"
        },
        {
         "data": [
          {
           "customdata": [
            [
             0.5019992589950562,
             "Positive",
             257,
             "Vol 3 Chapter Iv",
             51
            ]
           ],
           "hovertemplate": "<b>%{hovertext}</b><br><br>frame_label=51<br>Words=%{customdata[2]}<br>lat=%{lat}<br>long=%{lon}<br>Sentiment Score=%{marker.color:.3f}<br>Sentiment=%{customdata[1]}<br>Chapter=%{customdata[3]}<br>Chronological Step=%{customdata[4]}<extra></extra>",
           "hovertext": [
            "Dublin"
           ],
           "lat": {
            "bdata": "ltchaX2sSkA=",
            "dtype": "f8"
           },
           "legendgroup": "",
           "lon": {
            "bdata": "sWJOVmAKGcA=",
            "dtype": "f8"
           },
           "marker": {
            "color": {
             "bdata": "BoMAPw==",
             "dtype": "f4"
            },
            "coloraxis": "coloraxis",
            "size": {
             "bdata": "AQE=",
             "dtype": "i2"
            },
            "sizemode": "area",
            "sizeref": 1.5608333333333333
           },
           "mode": "markers",
           "name": "",
           "showlegend": false,
           "subplot": "map",
           "type": "scattermap"
          }
         ],
         "layout": {
          "title": {
           "text": "Vol 3 Chapter Iv - Dublin"
          }
         },
         "name": "51"
        },
        {
         "data": [
          {
           "customdata": [
            [
             -0.10807734727859497,
             "Negative",
             139,
             "Vol 3 Chapter Iv",
             52
            ]
           ],
           "hovertemplate": "<b>%{hovertext}</b><br><br>frame_label=52<br>Words=%{customdata[2]}<br>lat=%{lat}<br>long=%{lon}<br>Sentiment Score=%{marker.color:.3f}<br>Sentiment=%{customdata[1]}<br>Chapter=%{customdata[3]}<br>Chronological Step=%{customdata[4]}<extra></extra>",
           "hovertext": [
            "Holyhead"
           ],
           "lat": {
            "bdata": "IINwYE2nSkA=",
            "dtype": "f8"
           },
           "legendgroup": "",
           "lon": {
            "bdata": "SMt5rSGEEsA=",
            "dtype": "f8"
           },
           "marker": {
            "color": {
             "bdata": "qFfdvQ==",
             "dtype": "f4"
            },
            "coloraxis": "coloraxis",
            "size": {
             "bdata": "iwA=",
             "dtype": "i2"
            },
            "sizemode": "area",
            "sizeref": 1.5608333333333333
           },
           "mode": "markers",
           "name": "",
           "showlegend": false,
           "subplot": "map",
           "type": "scattermap"
          }
         ],
         "layout": {
          "title": {
           "text": "Vol 3 Chapter Iv - Holyhead"
          }
         },
         "name": "52"
        },
        {
         "data": [
          {
           "customdata": [
            [
             0.18460091948509216,
             "Positive",
             584,
             "Vol 3 Chapter V",
             53
            ]
           ],
           "hovertemplate": "<b>%{hovertext}</b><br><br>frame_label=53<br>Words=%{customdata[2]}<br>lat=%{lat}<br>long=%{lon}<br>Sentiment Score=%{marker.color:.3f}<br>Sentiment=%{customdata[1]}<br>Chapter=%{customdata[3]}<br>Chronological Step=%{customdata[4]}<extra></extra>",
           "hovertext": [
            "Portsmouth"
           ],
           "lat": {
            "bdata": "XTb4ytVoSUA=",
            "dtype": "f8"
           },
           "legendgroup": "",
           "lon": {
            "bdata": "8TFnnNc38b8=",
            "dtype": "f8"
           },
           "marker": {
            "color": {
             "bdata": "Bgg9Pg==",
             "dtype": "f4"
            },
            "coloraxis": "coloraxis",
            "size": {
             "bdata": "SAI=",
             "dtype": "i2"
            },
            "sizemode": "area",
            "sizeref": 1.5608333333333333
           },
           "mode": "markers",
           "name": "",
           "showlegend": false,
           "subplot": "map",
           "type": "scattermap"
          }
         ],
         "layout": {
          "title": {
           "text": "Vol 3 Chapter V - Portsmouth"
          }
         },
         "name": "53"
        },
        {
         "data": [
          {
           "customdata": [
            [
             0.12381208688020706,
             "Positive",
             36,
             "Vol 3 Chapter V",
             54
            ]
           ],
           "hovertemplate": "<b>%{hovertext}</b><br><br>frame_label=54<br>Words=%{customdata[2]}<br>lat=%{lat}<br>long=%{lon}<br>Sentiment Score=%{marker.color:.3f}<br>Sentiment=%{customdata[1]}<br>Chapter=%{customdata[3]}<br>Chronological Step=%{customdata[4]}<extra></extra>",
           "hovertext": [
            "Le Havre"
           ],
           "lat": {
            "bdata": "cV9ih4y/SEA=",
            "dtype": "f8"
           },
           "legendgroup": "",
           "lon": {
            "bdata": "4GH2jCYSuj8=",
            "dtype": "f8"
           },
           "marker": {
            "color": {
             "bdata": "MZH9PQ==",
             "dtype": "f4"
            },
            "coloraxis": "coloraxis",
            "size": {
             "bdata": "JA==",
             "dtype": "i1"
            },
            "sizemode": "area",
            "sizeref": 1.5608333333333333
           },
           "mode": "markers",
           "name": "",
           "showlegend": false,
           "subplot": "map",
           "type": "scattermap"
          }
         ],
         "layout": {
          "title": {
           "text": "Vol 3 Chapter V - Le Havre"
          }
         },
         "name": "54"
        },
        {
         "data": [
          {
           "customdata": [
            [
             0.11986377090215683,
             "Positive",
             671,
             "Vol 3 Chapter V",
             55
            ]
           ],
           "hovertemplate": "<b>%{hovertext}</b><br><br>frame_label=55<br>Words=%{customdata[2]}<br>lat=%{lat}<br>long=%{lon}<br>Sentiment Score=%{marker.color:.3f}<br>Sentiment=%{customdata[1]}<br>Chapter=%{customdata[3]}<br>Chronological Step=%{customdata[4]}<extra></extra>",
           "hovertext": [
            "Geneva"
           ],
           "lat": {
            "bdata": "J/c7FAUaR0A=",
            "dtype": "f8"
           },
           "legendgroup": "",
           "lon": {
            "bdata": "C2E1lrCWGEA=",
            "dtype": "f8"
           },
           "marker": {
            "color": {
             "bdata": "I3v1PQ==",
             "dtype": "f4"
            },
            "coloraxis": "coloraxis",
            "size": {
             "bdata": "nwI=",
             "dtype": "i2"
            },
            "sizemode": "area",
            "sizeref": 1.5608333333333333
           },
           "mode": "markers",
           "name": "",
           "showlegend": false,
           "subplot": "map",
           "type": "scattermap"
          }
         ],
         "layout": {
          "title": {
           "text": "Vol 3 Chapter V - Geneva"
          }
         },
         "name": "55"
        },
        {
         "data": [
          {
           "customdata": [
            [
             0.11357098817825317,
             "Positive",
             518,
             "Vol 3 Chapter V",
             56
            ]
           ],
           "hovertemplate": "<b>%{hovertext}</b><br><br>frame_label=56<br>Words=%{customdata[2]}<br>lat=%{lat}<br>long=%{lon}<br>Sentiment Score=%{marker.color:.3f}<br>Sentiment=%{customdata[1]}<br>Chapter=%{customdata[3]}<br>Chronological Step=%{customdata[4]}<extra></extra>",
           "hovertext": [
            "Paris"
           ],
           "lat": {
            "bdata": "Dv/hlcFtSEA=",
            "dtype": "f8"
           },
           "legendgroup": "",
           "lon": {
            "bdata": "qnJ0cSjPAkA=",
            "dtype": "f8"
           },
           "marker": {
            "color": {
             "bdata": "6JfoPQ==",
             "dtype": "f4"
            },
            "coloraxis": "coloraxis",
            "size": {
             "bdata": "BgI=",
             "dtype": "i2"
            },
            "sizemode": "area",
            "sizeref": 1.5608333333333333
           },
           "mode": "markers",
           "name": "",
           "showlegend": false,
           "subplot": "map",
           "type": "scattermap"
          }
         ],
         "layout": {
          "title": {
           "text": "Vol 3 Chapter V - Paris"
          }
         },
         "name": "56"
        },
        {
         "data": [
          {
           "customdata": [
            [
             -0.14331519603729248,
             "Negative",
             4705,
             "Vol 3 Chapter V",
             57
            ]
           ],
           "hovertemplate": "<b>%{hovertext}</b><br><br>frame_label=57<br>Words=%{customdata[2]}<br>lat=%{lat}<br>long=%{lon}<br>Sentiment Score=%{marker.color:.3f}<br>Sentiment=%{customdata[1]}<br>Chapter=%{customdata[3]}<br>Chronological Step=%{customdata[4]}<extra></extra>",
           "hovertext": [
            "Geneva"
           ],
           "lat": {
            "bdata": "J/c7FAUaR0A=",
            "dtype": "f8"
           },
           "legendgroup": "",
           "lon": {
            "bdata": "C2E1lrCWGEA=",
            "dtype": "f8"
           },
           "marker": {
            "color": {
             "bdata": "OMESvg==",
             "dtype": "f4"
            },
            "coloraxis": "coloraxis",
            "size": {
             "bdata": "YRI=",
             "dtype": "i2"
            },
            "sizemode": "area",
            "sizeref": 1.5608333333333333
           },
           "mode": "markers",
           "name": "",
           "showlegend": false,
           "subplot": "map",
           "type": "scattermap"
          }
         ],
         "layout": {
          "title": {
           "text": "Vol 3 Chapter V - Geneva"
          }
         },
         "name": "57"
        },
        {
         "data": [
          {
           "customdata": [
            [
             -0.6147539019584656,
             "Negative",
             68,
             "Vol 3 Chapter Vii",
             58
            ]
           ],
           "hovertemplate": "<b>%{hovertext}</b><br><br>frame_label=58<br>Words=%{customdata[2]}<br>lat=%{lat}<br>long=%{lon}<br>Sentiment Score=%{marker.color:.3f}<br>Sentiment=%{customdata[1]}<br>Chapter=%{customdata[3]}<br>Chronological Step=%{customdata[4]}<extra></extra>",
           "hovertext": [
            "Arles"
           ],
           "lat": {
            "bdata": "mEx4toXWRUA=",
            "dtype": "f8"
           },
           "legendgroup": "",
           "lon": {
            "bdata": "CmSI+XiQEkA=",
            "dtype": "f8"
           },
           "marker": {
            "color": {
             "bdata": "g2Advw==",
             "dtype": "f4"
            },
            "coloraxis": "coloraxis",
            "size": {
             "bdata": "RA==",
             "dtype": "i1"
            },
            "sizemode": "area",
            "sizeref": 1.5608333333333333
           },
           "mode": "markers",
           "name": "",
           "showlegend": false,
           "subplot": "map",
           "type": "scattermap"
          }
         ],
         "layout": {
          "title": {
           "text": "Vol 3 Chapter Vii - Arles"
          }
         },
         "name": "58"
        },
        {
         "data": [
          {
           "customdata": [
            [
             -0.9020253419876099,
             "Negative",
             238,
             "Vol 3 Chapter Vii",
             59
            ]
           ],
           "hovertemplate": "<b>%{hovertext}</b><br><br>frame_label=59<br>Words=%{customdata[2]}<br>lat=%{lat}<br>long=%{lon}<br>Sentiment Score=%{marker.color:.3f}<br>Sentiment=%{customdata[1]}<br>Chapter=%{customdata[3]}<br>Chronological Step=%{customdata[4]}<extra></extra>",
           "hovertext": [
            "Russian plain"
           ],
           "lat": {
            "bdata": "ljOIzc9mSkA=",
            "dtype": "f8"
           },
           "legendgroup": "",
           "lon": {
            "bdata": "JbFBskJqQkA=",
            "dtype": "f8"
           },
           "marker": {
            "color": {
             "bdata": "Iutmvw==",
             "dtype": "f4"
            },
            "coloraxis": "coloraxis",
            "size": {
             "bdata": "7gA=",
             "dtype": "i2"
            },
            "sizemode": "area",
            "sizeref": 1.5608333333333333
           },
           "mode": "markers",
           "name": "",
           "showlegend": false,
           "subplot": "map",
           "type": "scattermap"
          }
         ],
         "layout": {
          "title": {
           "text": "Vol 3 Chapter Vii - Russian plain"
          }
         },
         "name": "59"
        },
        {
         "data": [
          {
           "customdata": [
            [
             -0.48844048380851746,
             "Negative",
             514,
             "Vol 3 Chapter Vii",
             60
            ]
           ],
           "hovertemplate": "<b>%{hovertext}</b><br><br>frame_label=60<br>Words=%{customdata[2]}<br>lat=%{lat}<br>long=%{lon}<br>Sentiment Score=%{marker.color:.3f}<br>Sentiment=%{customdata[1]}<br>Chapter=%{customdata[3]}<br>Chronological Step=%{customdata[4]}<extra></extra>",
           "hovertext": [
            "Russian pursuit"
           ],
           "lat": {
            "bdata": "wqKFeGKZS0A=",
            "dtype": "f8"
           },
           "legendgroup": "",
           "lon": {
            "bdata": "PynFVBsVQUA=",
            "dtype": "f8"
           },
           "marker": {
            "color": {
             "bdata": "3xT6vg==",
             "dtype": "f4"
            },
            "coloraxis": "coloraxis",
            "size": {
             "bdata": "AgI=",
             "dtype": "i2"
            },
            "sizemode": "area",
            "sizeref": 1.5608333333333333
           },
           "mode": "markers",
           "name": "",
           "showlegend": false,
           "subplot": "map",
           "type": "scattermap"
          }
         ],
         "layout": {
          "title": {
           "text": "Vol 3 Chapter Vii - Russian pursuit"
          }
         },
         "name": "60"
        },
        {
         "data": [
          {
           "customdata": [
            [
             -0.3059405982494354,
             "Negative",
             600,
             "Vol 3 Chapter Vii",
             61
            ]
           ],
           "hovertemplate": "<b>%{hovertext}</b><br><br>frame_label=61<br>Words=%{customdata[2]}<br>lat=%{lat}<br>long=%{lon}<br>Sentiment Score=%{marker.color:.3f}<br>Sentiment=%{customdata[1]}<br>Chapter=%{customdata[3]}<br>Chronological Step=%{customdata[4]}<extra></extra>",
           "hovertext": [
            "Russian pursuit near Archangel"
           ],
           "lat": {
            "bdata": "49tgTQpnT0A=",
            "dtype": "f8"
           },
           "legendgroup": "",
           "lon": {
            "bdata": "sKGjbkq7REA=",
            "dtype": "f8"
           },
           "marker": {
            "color": {
             "bdata": "P6Scvg==",
             "dtype": "f4"
            },
            "coloraxis": "coloraxis",
            "size": {
             "bdata": "WAI=",
             "dtype": "i2"
            },
            "sizemode": "area",
            "sizeref": 1.5608333333333333
           },
           "mode": "markers",
           "name": "",
           "showlegend": false,
           "subplot": "map",
           "type": "scattermap"
          }
         ],
         "layout": {
          "title": {
           "text": "Vol 3 Chapter Vii - Russian pursuit near Archangel"
          }
         },
         "name": "61"
        },
        {
         "data": [
          {
           "customdata": [
            [
             -0.34664610028266907,
             "Negative",
             878,
             "Vol 3 Chapter Vii",
             62
            ]
           ],
           "hovertemplate": "<b>%{hovertext}</b><br><br>frame_label=62<br>Words=%{customdata[2]}<br>lat=%{lat}<br>long=%{lon}<br>Sentiment Score=%{marker.color:.3f}<br>Sentiment=%{customdata[1]}<br>Chapter=%{customdata[3]}<br>Chronological Step=%{customdata[4]}<extra></extra>",
           "hovertext": [
            "Russian pursuit on ice"
           ],
           "lat": {
            "bdata": "6rNeZ57XUEA=",
            "dtype": "f8"
           },
           "legendgroup": "",
           "lon": {
            "bdata": "+5iLz88sRUA=",
            "dtype": "f8"
           },
           "marker": {
            "color": {
             "bdata": "mXuxvg==",
             "dtype": "f4"
            },
            "coloraxis": "coloraxis",
            "size": {
             "bdata": "bgM=",
             "dtype": "i2"
            },
            "sizemode": "area",
            "sizeref": 1.5608333333333333
           },
           "mode": "markers",
           "name": "",
           "showlegend": false,
           "subplot": "map",
           "type": "scattermap"
          }
         ],
         "layout": {
          "title": {
           "text": "Vol 3 Chapter Vii - Russian pursuit on ice"
          }
         },
         "name": "62"
        },
        {
         "data": [
          {
           "customdata": [
            [
             -0.09787493199110031,
             "Neutral",
             1198,
             "Opening Letters Letter I",
             63
            ]
           ],
           "hovertemplate": "<b>%{hovertext}</b><br><br>frame_label=63<br>Words=%{customdata[2]}<br>lat=%{lat}<br>long=%{lon}<br>Sentiment Score=%{marker.color:.3f}<br>Sentiment=%{customdata[1]}<br>Chapter=%{customdata[3]}<br>Chronological Step=%{customdata[4]}<extra></extra>",
           "hovertext": [
            "St. Petersburgh"
           ],
           "lat": {
            "bdata": "ZTYKQXX3TUA=",
            "dtype": "f8"
           },
           "legendgroup": "",
           "lon": {
            "bdata": "0Og34ZhZPkA=",
            "dtype": "f8"
           },
           "marker": {
            "color": {
             "bdata": "p3LIvQ==",
             "dtype": "f4"
            },
            "coloraxis": "coloraxis",
            "size": {
             "bdata": "rgQ=",
             "dtype": "i2"
            },
            "sizemode": "area",
            "sizeref": 1.5608333333333333
           },
           "mode": "markers",
           "name": "",
           "showlegend": false,
           "subplot": "map",
           "type": "scattermap"
          }
         ],
         "layout": {
          "title": {
           "text": "Opening Letters Letter I - St. Petersburgh"
          }
         },
         "name": "63"
        },
        {
         "data": [
          {
           "customdata": [
            [
             -0.24453848600387573,
             "Negative",
             1062,
             "Opening Letters Letter Ii",
             64
            ]
           ],
           "hovertemplate": "<b>%{hovertext}</b><br><br>frame_label=64<br>Words=%{customdata[2]}<br>lat=%{lat}<br>long=%{lon}<br>Sentiment Score=%{marker.color:.3f}<br>Sentiment=%{customdata[1]}<br>Chapter=%{customdata[3]}<br>Chronological Step=%{customdata[4]}<extra></extra>",
           "hovertext": [
            "Archangel"
           ],
           "lat": {
            "bdata": "dcJT4fIiUEA=",
            "dtype": "f8"
           },
           "legendgroup": "",
           "lon": {
            "bdata": "rZYJ+f9DREA=",
            "dtype": "f8"
           },
           "marker": {
            "color": {
             "bdata": "TGh6vg==",
             "dtype": "f4"
            },
            "coloraxis": "coloraxis",
            "size": {
             "bdata": "JgQ=",
             "dtype": "i2"
            },
            "sizemode": "area",
            "sizeref": 1.5608333333333333
           },
           "mode": "markers",
           "name": "",
           "showlegend": false,
           "subplot": "map",
           "type": "scattermap"
          }
         ],
         "layout": {
          "title": {
           "text": "Opening Letters Letter Ii - Archangel"
          }
         },
         "name": "64"
        },
        {
         "data": [
          {
           "customdata": [
            [
             -0.2533727288246155,
             "Negative",
             238,
             "Opening Letters Letter Iii",
             65
            ]
           ],
           "hovertemplate": "<b>%{hovertext}</b><br><br>frame_label=65<br>Words=%{customdata[2]}<br>lat=%{lat}<br>long=%{lon}<br>Sentiment Score=%{marker.color:.3f}<br>Sentiment=%{customdata[1]}<br>Chapter=%{customdata[3]}<br>Chronological Step=%{customdata[4]}<extra></extra>",
           "hovertext": [
            "Barents Sea"
           ],
           "lat": {
            "bdata": "tjTx7WGPU0A=",
            "dtype": "f8"
           },
           "legendgroup": "",
           "lon": {
            "bdata": "8M+Yi/DNPkA=",
            "dtype": "f8"
           },
           "marker": {
            "color": {
             "bdata": "ErqBvg==",
             "dtype": "f4"
            },
            "coloraxis": "coloraxis",
            "size": {
             "bdata": "7gA=",
             "dtype": "i2"
            },
            "sizemode": "area",
            "sizeref": 1.5608333333333333
           },
           "mode": "markers",
           "name": "",
           "showlegend": false,
           "subplot": "map",
           "type": "scattermap"
          }
         ],
         "layout": {
          "title": {
           "text": "Opening Letters Letter Iii - Barents Sea"
          }
         },
         "name": "65"
        },
        {
         "data": [
          {
           "customdata": [
            [
             0.09681002795696259,
             "Neutral",
             2342,
             "Opening Letters Letter Iv",
             66
            ]
           ],
           "hovertemplate": "<b>%{hovertext}</b><br><br>frame_label=66<br>Words=%{customdata[2]}<br>lat=%{lat}<br>long=%{lon}<br>Sentiment Score=%{marker.color:.3f}<br>Sentiment=%{customdata[1]}<br>Chapter=%{customdata[3]}<br>Chronological Step=%{customdata[4]}<extra></extra>",
           "hovertext": [
            "Artic"
           ],
           "lat": {
            "bdata": "pbHmlSXnVEA=",
            "dtype": "f8"
           },
           "legendgroup": "",
           "lon": {
            "bdata": "YR0+HjfUGUA=",
            "dtype": "f8"
           },
           "marker": {
            "color": {
             "bdata": "VkTGPQ==",
             "dtype": "f4"
            },
            "coloraxis": "coloraxis",
            "size": {
             "bdata": "Jgk=",
             "dtype": "i2"
            },
            "sizemode": "area",
            "sizeref": 1.5608333333333333
           },
           "mode": "markers",
           "name": "",
           "showlegend": false,
           "subplot": "map",
           "type": "scattermap"
          }
         ],
         "layout": {
          "title": {
           "text": "Opening Letters Letter Iv - Artic"
          }
         },
         "name": "66"
        },
        {
         "data": [
          {
           "customdata": [
            [
             -0.1952495276927948,
             "Negative",
             5241,
             "Closing Letters Closing Letters",
             67
            ]
           ],
           "hovertemplate": "<b>%{hovertext}</b><br><br>frame_label=67<br>Words=%{customdata[2]}<br>lat=%{lat}<br>long=%{lon}<br>Sentiment Score=%{marker.color:.3f}<br>Sentiment=%{customdata[1]}<br>Chapter=%{customdata[3]}<br>Chronological Step=%{customdata[4]}<extra></extra>",
           "hovertext": [
            "Artic"
           ],
           "lat": {
            "bdata": "pbHmlSXnVEA=",
            "dtype": "f8"
           },
           "legendgroup": "",
           "lon": {
            "bdata": "YR0+HjfUGUA=",
            "dtype": "f8"
           },
           "marker": {
            "color": {
             "bdata": "fu9Hvg==",
             "dtype": "f4"
            },
            "coloraxis": "coloraxis",
            "size": {
             "bdata": "eRQ=",
             "dtype": "i2"
            },
            "sizemode": "area",
            "sizeref": 1.5608333333333333
           },
           "mode": "markers",
           "name": "",
           "showlegend": false,
           "subplot": "map",
           "type": "scattermap"
          }
         ],
         "layout": {
          "title": {
           "text": "Closing Letters Closing Letters - Artic"
          }
         },
         "name": "67"
        }
       ],
       "layout": {
        "coloraxis": {
         "cmid": 0,
         "colorbar": {
          "ticktext": [
           "Very Negative",
           "Negative",
           "Neutral",
           "Positive",
           "Very Positive"
          ],
          "tickvals": [
           -0.6,
           -0.3,
           0,
           0.3,
           0.6
          ],
          "title": {
           "text": "Sentiment Score"
          }
         },
         "colorscale": [
          [
           0,
           "rgb(165,0,38)"
          ],
          [
           0.1,
           "rgb(215,48,39)"
          ],
          [
           0.2,
           "rgb(244,109,67)"
          ],
          [
           0.3,
           "rgb(253,174,97)"
          ],
          [
           0.4,
           "rgb(254,224,139)"
          ],
          [
           0.5,
           "rgb(255,255,191)"
          ],
          [
           0.6,
           "rgb(217,239,139)"
          ],
          [
           0.7,
           "rgb(166,217,106)"
          ],
          [
           0.8,
           "rgb(102,189,99)"
          ],
          [
           0.9,
           "rgb(26,152,80)"
          ],
          [
           1,
           "rgb(0,104,55)"
          ]
         ]
        },
        "height": 850,
        "legend": {
         "itemsizing": "constant",
         "tracegroupgap": 0
        },
        "map": {
         "center": {
          "lat": 50.88228978041666,
          "lon": 8.655990975208333
         },
         "domain": {
          "x": [
           0,
           1
          ],
          "y": [
           0,
           1
          ]
         },
         "zoom": 3
        },
        "mapbox": {
         "center": {
          "lat": 50.88228978041666,
          "lon": 8.655990975208333
         },
         "style": "carto-positron",
         "zoom": 3
        },
        "margin": {
         "b": 0,
         "l": 0,
         "r": 0,
         "t": 90
        },
        "sliders": [
         {
          "active": 0,
          "currentvalue": {
           "prefix": "frame_label="
          },
          "len": 0.9,
          "pad": {
           "b": 10,
           "t": 60
          },
          "steps": [
           {
            "args": [
             [
              "1"
             ],
             {
              "frame": {
               "duration": 0,
               "redraw": true
              },
              "fromcurrent": true,
              "mode": "immediate",
              "transition": {
               "duration": 0,
               "easing": "linear"
              }
             }
            ],
            "label": "1",
            "method": "animate"
           },
           {
            "args": [
             [
              "2"
             ],
             {
              "frame": {
               "duration": 0,
               "redraw": true
              },
              "fromcurrent": true,
              "mode": "immediate",
              "transition": {
               "duration": 0,
               "easing": "linear"
              }
             }
            ],
            "label": "2",
            "method": "animate"
           },
           {
            "args": [
             [
              "3"
             ],
             {
              "frame": {
               "duration": 0,
               "redraw": true
              },
              "fromcurrent": true,
              "mode": "immediate",
              "transition": {
               "duration": 0,
               "easing": "linear"
              }
             }
            ],
            "label": "3",
            "method": "animate"
           },
           {
            "args": [
             [
              "4"
             ],
             {
              "frame": {
               "duration": 0,
               "redraw": true
              },
              "fromcurrent": true,
              "mode": "immediate",
              "transition": {
               "duration": 0,
               "easing": "linear"
              }
             }
            ],
            "label": "4",
            "method": "animate"
           },
           {
            "args": [
             [
              "5"
             ],
             {
              "frame": {
               "duration": 0,
               "redraw": true
              },
              "fromcurrent": true,
              "mode": "immediate",
              "transition": {
               "duration": 0,
               "easing": "linear"
              }
             }
            ],
            "label": "5",
            "method": "animate"
           },
           {
            "args": [
             [
              "6"
             ],
             {
              "frame": {
               "duration": 0,
               "redraw": true
              },
              "fromcurrent": true,
              "mode": "immediate",
              "transition": {
               "duration": 0,
               "easing": "linear"
              }
             }
            ],
            "label": "6",
            "method": "animate"
           },
           {
            "args": [
             [
              "7"
             ],
             {
              "frame": {
               "duration": 0,
               "redraw": true
              },
              "fromcurrent": true,
              "mode": "immediate",
              "transition": {
               "duration": 0,
               "easing": "linear"
              }
             }
            ],
            "label": "7",
            "method": "animate"
           },
           {
            "args": [
             [
              "8"
             ],
             {
              "frame": {
               "duration": 0,
               "redraw": true
              },
              "fromcurrent": true,
              "mode": "immediate",
              "transition": {
               "duration": 0,
               "easing": "linear"
              }
             }
            ],
            "label": "8",
            "method": "animate"
           },
           {
            "args": [
             [
              "9"
             ],
             {
              "frame": {
               "duration": 0,
               "redraw": true
              },
              "fromcurrent": true,
              "mode": "immediate",
              "transition": {
               "duration": 0,
               "easing": "linear"
              }
             }
            ],
            "label": "9",
            "method": "animate"
           },
           {
            "args": [
             [
              "10"
             ],
             {
              "frame": {
               "duration": 0,
               "redraw": true
              },
              "fromcurrent": true,
              "mode": "immediate",
              "transition": {
               "duration": 0,
               "easing": "linear"
              }
             }
            ],
            "label": "10",
            "method": "animate"
           },
           {
            "args": [
             [
              "11"
             ],
             {
              "frame": {
               "duration": 0,
               "redraw": true
              },
              "fromcurrent": true,
              "mode": "immediate",
              "transition": {
               "duration": 0,
               "easing": "linear"
              }
             }
            ],
            "label": "11",
            "method": "animate"
           },
           {
            "args": [
             [
              "12"
             ],
             {
              "frame": {
               "duration": 0,
               "redraw": true
              },
              "fromcurrent": true,
              "mode": "immediate",
              "transition": {
               "duration": 0,
               "easing": "linear"
              }
             }
            ],
            "label": "12",
            "method": "animate"
           },
           {
            "args": [
             [
              "13"
             ],
             {
              "frame": {
               "duration": 0,
               "redraw": true
              },
              "fromcurrent": true,
              "mode": "immediate",
              "transition": {
               "duration": 0,
               "easing": "linear"
              }
             }
            ],
            "label": "13",
            "method": "animate"
           },
           {
            "args": [
             [
              "14"
             ],
             {
              "frame": {
               "duration": 0,
               "redraw": true
              },
              "fromcurrent": true,
              "mode": "immediate",
              "transition": {
               "duration": 0,
               "easing": "linear"
              }
             }
            ],
            "label": "14",
            "method": "animate"
           },
           {
            "args": [
             [
              "15"
             ],
             {
              "frame": {
               "duration": 0,
               "redraw": true
              },
              "fromcurrent": true,
              "mode": "immediate",
              "transition": {
               "duration": 0,
               "easing": "linear"
              }
             }
            ],
            "label": "15",
            "method": "animate"
           },
           {
            "args": [
             [
              "16"
             ],
             {
              "frame": {
               "duration": 0,
               "redraw": true
              },
              "fromcurrent": true,
              "mode": "immediate",
              "transition": {
               "duration": 0,
               "easing": "linear"
              }
             }
            ],
            "label": "16",
            "method": "animate"
           },
           {
            "args": [
             [
              "17"
             ],
             {
              "frame": {
               "duration": 0,
               "redraw": true
              },
              "fromcurrent": true,
              "mode": "immediate",
              "transition": {
               "duration": 0,
               "easing": "linear"
              }
             }
            ],
            "label": "17",
            "method": "animate"
           },
           {
            "args": [
             [
              "18"
             ],
             {
              "frame": {
               "duration": 0,
               "redraw": true
              },
              "fromcurrent": true,
              "mode": "immediate",
              "transition": {
               "duration": 0,
               "easing": "linear"
              }
             }
            ],
            "label": "18",
            "method": "animate"
           },
           {
            "args": [
             [
              "19"
             ],
             {
              "frame": {
               "duration": 0,
               "redraw": true
              },
              "fromcurrent": true,
              "mode": "immediate",
              "transition": {
               "duration": 0,
               "easing": "linear"
              }
             }
            ],
            "label": "19",
            "method": "animate"
           },
           {
            "args": [
             [
              "20"
             ],
             {
              "frame": {
               "duration": 0,
               "redraw": true
              },
              "fromcurrent": true,
              "mode": "immediate",
              "transition": {
               "duration": 0,
               "easing": "linear"
              }
             }
            ],
            "label": "20",
            "method": "animate"
           },
           {
            "args": [
             [
              "21"
             ],
             {
              "frame": {
               "duration": 0,
               "redraw": true
              },
              "fromcurrent": true,
              "mode": "immediate",
              "transition": {
               "duration": 0,
               "easing": "linear"
              }
             }
            ],
            "label": "21",
            "method": "animate"
           },
           {
            "args": [
             [
              "22"
             ],
             {
              "frame": {
               "duration": 0,
               "redraw": true
              },
              "fromcurrent": true,
              "mode": "immediate",
              "transition": {
               "duration": 0,
               "easing": "linear"
              }
             }
            ],
            "label": "22",
            "method": "animate"
           },
           {
            "args": [
             [
              "23"
             ],
             {
              "frame": {
               "duration": 0,
               "redraw": true
              },
              "fromcurrent": true,
              "mode": "immediate",
              "transition": {
               "duration": 0,
               "easing": "linear"
              }
             }
            ],
            "label": "23",
            "method": "animate"
           },
           {
            "args": [
             [
              "24"
             ],
             {
              "frame": {
               "duration": 0,
               "redraw": true
              },
              "fromcurrent": true,
              "mode": "immediate",
              "transition": {
               "duration": 0,
               "easing": "linear"
              }
             }
            ],
            "label": "24",
            "method": "animate"
           },
           {
            "args": [
             [
              "25"
             ],
             {
              "frame": {
               "duration": 0,
               "redraw": true
              },
              "fromcurrent": true,
              "mode": "immediate",
              "transition": {
               "duration": 0,
               "easing": "linear"
              }
             }
            ],
            "label": "25",
            "method": "animate"
           },
           {
            "args": [
             [
              "26"
             ],
             {
              "frame": {
               "duration": 0,
               "redraw": true
              },
              "fromcurrent": true,
              "mode": "immediate",
              "transition": {
               "duration": 0,
               "easing": "linear"
              }
             }
            ],
            "label": "26",
            "method": "animate"
           },
           {
            "args": [
             [
              "27"
             ],
             {
              "frame": {
               "duration": 0,
               "redraw": true
              },
              "fromcurrent": true,
              "mode": "immediate",
              "transition": {
               "duration": 0,
               "easing": "linear"
              }
             }
            ],
            "label": "27",
            "method": "animate"
           },
           {
            "args": [
             [
              "28"
             ],
             {
              "frame": {
               "duration": 0,
               "redraw": true
              },
              "fromcurrent": true,
              "mode": "immediate",
              "transition": {
               "duration": 0,
               "easing": "linear"
              }
             }
            ],
            "label": "28",
            "method": "animate"
           },
           {
            "args": [
             [
              "29"
             ],
             {
              "frame": {
               "duration": 0,
               "redraw": true
              },
              "fromcurrent": true,
              "mode": "immediate",
              "transition": {
               "duration": 0,
               "easing": "linear"
              }
             }
            ],
            "label": "29",
            "method": "animate"
           },
           {
            "args": [
             [
              "30"
             ],
             {
              "frame": {
               "duration": 0,
               "redraw": true
              },
              "fromcurrent": true,
              "mode": "immediate",
              "transition": {
               "duration": 0,
               "easing": "linear"
              }
             }
            ],
            "label": "30",
            "method": "animate"
           },
           {
            "args": [
             [
              "31"
             ],
             {
              "frame": {
               "duration": 0,
               "redraw": true
              },
              "fromcurrent": true,
              "mode": "immediate",
              "transition": {
               "duration": 0,
               "easing": "linear"
              }
             }
            ],
            "label": "31",
            "method": "animate"
           },
           {
            "args": [
             [
              "32"
             ],
             {
              "frame": {
               "duration": 0,
               "redraw": true
              },
              "fromcurrent": true,
              "mode": "immediate",
              "transition": {
               "duration": 0,
               "easing": "linear"
              }
             }
            ],
            "label": "32",
            "method": "animate"
           },
           {
            "args": [
             [
              "33"
             ],
             {
              "frame": {
               "duration": 0,
               "redraw": true
              },
              "fromcurrent": true,
              "mode": "immediate",
              "transition": {
               "duration": 0,
               "easing": "linear"
              }
             }
            ],
            "label": "33",
            "method": "animate"
           },
           {
            "args": [
             [
              "34"
             ],
             {
              "frame": {
               "duration": 0,
               "redraw": true
              },
              "fromcurrent": true,
              "mode": "immediate",
              "transition": {
               "duration": 0,
               "easing": "linear"
              }
             }
            ],
            "label": "34",
            "method": "animate"
           },
           {
            "args": [
             [
              "35"
             ],
             {
              "frame": {
               "duration": 0,
               "redraw": true
              },
              "fromcurrent": true,
              "mode": "immediate",
              "transition": {
               "duration": 0,
               "easing": "linear"
              }
             }
            ],
            "label": "35",
            "method": "animate"
           },
           {
            "args": [
             [
              "36"
             ],
             {
              "frame": {
               "duration": 0,
               "redraw": true
              },
              "fromcurrent": true,
              "mode": "immediate",
              "transition": {
               "duration": 0,
               "easing": "linear"
              }
             }
            ],
            "label": "36",
            "method": "animate"
           },
           {
            "args": [
             [
              "37"
             ],
             {
              "frame": {
               "duration": 0,
               "redraw": true
              },
              "fromcurrent": true,
              "mode": "immediate",
              "transition": {
               "duration": 0,
               "easing": "linear"
              }
             }
            ],
            "label": "37",
            "method": "animate"
           },
           {
            "args": [
             [
              "38"
             ],
             {
              "frame": {
               "duration": 0,
               "redraw": true
              },
              "fromcurrent": true,
              "mode": "immediate",
              "transition": {
               "duration": 0,
               "easing": "linear"
              }
             }
            ],
            "label": "38",
            "method": "animate"
           },
           {
            "args": [
             [
              "39"
             ],
             {
              "frame": {
               "duration": 0,
               "redraw": true
              },
              "fromcurrent": true,
              "mode": "immediate",
              "transition": {
               "duration": 0,
               "easing": "linear"
              }
             }
            ],
            "label": "39",
            "method": "animate"
           },
           {
            "args": [
             [
              "40"
             ],
             {
              "frame": {
               "duration": 0,
               "redraw": true
              },
              "fromcurrent": true,
              "mode": "immediate",
              "transition": {
               "duration": 0,
               "easing": "linear"
              }
             }
            ],
            "label": "40",
            "method": "animate"
           },
           {
            "args": [
             [
              "41"
             ],
             {
              "frame": {
               "duration": 0,
               "redraw": true
              },
              "fromcurrent": true,
              "mode": "immediate",
              "transition": {
               "duration": 0,
               "easing": "linear"
              }
             }
            ],
            "label": "41",
            "method": "animate"
           },
           {
            "args": [
             [
              "42"
             ],
             {
              "frame": {
               "duration": 0,
               "redraw": true
              },
              "fromcurrent": true,
              "mode": "immediate",
              "transition": {
               "duration": 0,
               "easing": "linear"
              }
             }
            ],
            "label": "42",
            "method": "animate"
           },
           {
            "args": [
             [
              "43"
             ],
             {
              "frame": {
               "duration": 0,
               "redraw": true
              },
              "fromcurrent": true,
              "mode": "immediate",
              "transition": {
               "duration": 0,
               "easing": "linear"
              }
             }
            ],
            "label": "43",
            "method": "animate"
           },
           {
            "args": [
             [
              "44"
             ],
             {
              "frame": {
               "duration": 0,
               "redraw": true
              },
              "fromcurrent": true,
              "mode": "immediate",
              "transition": {
               "duration": 0,
               "easing": "linear"
              }
             }
            ],
            "label": "44",
            "method": "animate"
           },
           {
            "args": [
             [
              "45"
             ],
             {
              "frame": {
               "duration": 0,
               "redraw": true
              },
              "fromcurrent": true,
              "mode": "immediate",
              "transition": {
               "duration": 0,
               "easing": "linear"
              }
             }
            ],
            "label": "45",
            "method": "animate"
           },
           {
            "args": [
             [
              "46"
             ],
             {
              "frame": {
               "duration": 0,
               "redraw": true
              },
              "fromcurrent": true,
              "mode": "immediate",
              "transition": {
               "duration": 0,
               "easing": "linear"
              }
             }
            ],
            "label": "46",
            "method": "animate"
           },
           {
            "args": [
             [
              "47"
             ],
             {
              "frame": {
               "duration": 0,
               "redraw": true
              },
              "fromcurrent": true,
              "mode": "immediate",
              "transition": {
               "duration": 0,
               "easing": "linear"
              }
             }
            ],
            "label": "47",
            "method": "animate"
           },
           {
            "args": [
             [
              "48"
             ],
             {
              "frame": {
               "duration": 0,
               "redraw": true
              },
              "fromcurrent": true,
              "mode": "immediate",
              "transition": {
               "duration": 0,
               "easing": "linear"
              }
             }
            ],
            "label": "48",
            "method": "animate"
           },
           {
            "args": [
             [
              "49"
             ],
             {
              "frame": {
               "duration": 0,
               "redraw": true
              },
              "fromcurrent": true,
              "mode": "immediate",
              "transition": {
               "duration": 0,
               "easing": "linear"
              }
             }
            ],
            "label": "49",
            "method": "animate"
           },
           {
            "args": [
             [
              "50"
             ],
             {
              "frame": {
               "duration": 0,
               "redraw": true
              },
              "fromcurrent": true,
              "mode": "immediate",
              "transition": {
               "duration": 0,
               "easing": "linear"
              }
             }
            ],
            "label": "50",
            "method": "animate"
           },
           {
            "args": [
             [
              "51"
             ],
             {
              "frame": {
               "duration": 0,
               "redraw": true
              },
              "fromcurrent": true,
              "mode": "immediate",
              "transition": {
               "duration": 0,
               "easing": "linear"
              }
             }
            ],
            "label": "51",
            "method": "animate"
           },
           {
            "args": [
             [
              "52"
             ],
             {
              "frame": {
               "duration": 0,
               "redraw": true
              },
              "fromcurrent": true,
              "mode": "immediate",
              "transition": {
               "duration": 0,
               "easing": "linear"
              }
             }
            ],
            "label": "52",
            "method": "animate"
           },
           {
            "args": [
             [
              "53"
             ],
             {
              "frame": {
               "duration": 0,
               "redraw": true
              },
              "fromcurrent": true,
              "mode": "immediate",
              "transition": {
               "duration": 0,
               "easing": "linear"
              }
             }
            ],
            "label": "53",
            "method": "animate"
           },
           {
            "args": [
             [
              "54"
             ],
             {
              "frame": {
               "duration": 0,
               "redraw": true
              },
              "fromcurrent": true,
              "mode": "immediate",
              "transition": {
               "duration": 0,
               "easing": "linear"
              }
             }
            ],
            "label": "54",
            "method": "animate"
           },
           {
            "args": [
             [
              "55"
             ],
             {
              "frame": {
               "duration": 0,
               "redraw": true
              },
              "fromcurrent": true,
              "mode": "immediate",
              "transition": {
               "duration": 0,
               "easing": "linear"
              }
             }
            ],
            "label": "55",
            "method": "animate"
           },
           {
            "args": [
             [
              "56"
             ],
             {
              "frame": {
               "duration": 0,
               "redraw": true
              },
              "fromcurrent": true,
              "mode": "immediate",
              "transition": {
               "duration": 0,
               "easing": "linear"
              }
             }
            ],
            "label": "56",
            "method": "animate"
           },
           {
            "args": [
             [
              "57"
             ],
             {
              "frame": {
               "duration": 0,
               "redraw": true
              },
              "fromcurrent": true,
              "mode": "immediate",
              "transition": {
               "duration": 0,
               "easing": "linear"
              }
             }
            ],
            "label": "57",
            "method": "animate"
           },
           {
            "args": [
             [
              "58"
             ],
             {
              "frame": {
               "duration": 0,
               "redraw": true
              },
              "fromcurrent": true,
              "mode": "immediate",
              "transition": {
               "duration": 0,
               "easing": "linear"
              }
             }
            ],
            "label": "58",
            "method": "animate"
           },
           {
            "args": [
             [
              "59"
             ],
             {
              "frame": {
               "duration": 0,
               "redraw": true
              },
              "fromcurrent": true,
              "mode": "immediate",
              "transition": {
               "duration": 0,
               "easing": "linear"
              }
             }
            ],
            "label": "59",
            "method": "animate"
           },
           {
            "args": [
             [
              "60"
             ],
             {
              "frame": {
               "duration": 0,
               "redraw": true
              },
              "fromcurrent": true,
              "mode": "immediate",
              "transition": {
               "duration": 0,
               "easing": "linear"
              }
             }
            ],
            "label": "60",
            "method": "animate"
           },
           {
            "args": [
             [
              "61"
             ],
             {
              "frame": {
               "duration": 0,
               "redraw": true
              },
              "fromcurrent": true,
              "mode": "immediate",
              "transition": {
               "duration": 0,
               "easing": "linear"
              }
             }
            ],
            "label": "61",
            "method": "animate"
           },
           {
            "args": [
             [
              "62"
             ],
             {
              "frame": {
               "duration": 0,
               "redraw": true
              },
              "fromcurrent": true,
              "mode": "immediate",
              "transition": {
               "duration": 0,
               "easing": "linear"
              }
             }
            ],
            "label": "62",
            "method": "animate"
           },
           {
            "args": [
             [
              "63"
             ],
             {
              "frame": {
               "duration": 0,
               "redraw": true
              },
              "fromcurrent": true,
              "mode": "immediate",
              "transition": {
               "duration": 0,
               "easing": "linear"
              }
             }
            ],
            "label": "63",
            "method": "animate"
           },
           {
            "args": [
             [
              "64"
             ],
             {
              "frame": {
               "duration": 0,
               "redraw": true
              },
              "fromcurrent": true,
              "mode": "immediate",
              "transition": {
               "duration": 0,
               "easing": "linear"
              }
             }
            ],
            "label": "64",
            "method": "animate"
           },
           {
            "args": [
             [
              "65"
             ],
             {
              "frame": {
               "duration": 0,
               "redraw": true
              },
              "fromcurrent": true,
              "mode": "immediate",
              "transition": {
               "duration": 0,
               "easing": "linear"
              }
             }
            ],
            "label": "65",
            "method": "animate"
           },
           {
            "args": [
             [
              "66"
             ],
             {
              "frame": {
               "duration": 0,
               "redraw": true
              },
              "fromcurrent": true,
              "mode": "immediate",
              "transition": {
               "duration": 0,
               "easing": "linear"
              }
             }
            ],
            "label": "66",
            "method": "animate"
           },
           {
            "args": [
             [
              "67"
             ],
             {
              "frame": {
               "duration": 0,
               "redraw": true
              },
              "fromcurrent": true,
              "mode": "immediate",
              "transition": {
               "duration": 0,
               "easing": "linear"
              }
             }
            ],
            "label": "67",
            "method": "animate"
           }
          ],
          "x": 0.1,
          "xanchor": "left",
          "y": 0,
          "yanchor": "top"
         }
        ],
        "template": {
         "data": {
          "bar": [
           {
            "error_x": {
             "color": "#2a3f5f"
            },
            "error_y": {
             "color": "#2a3f5f"
            },
            "marker": {
             "line": {
              "color": "#E5ECF6",
              "width": 0.5
             },
             "pattern": {
              "fillmode": "overlay",
              "size": 10,
              "solidity": 0.2
             }
            },
            "type": "bar"
           }
          ],
          "barpolar": [
           {
            "marker": {
             "line": {
              "color": "#E5ECF6",
              "width": 0.5
             },
             "pattern": {
              "fillmode": "overlay",
              "size": 10,
              "solidity": 0.2
             }
            },
            "type": "barpolar"
           }
          ],
          "carpet": [
           {
            "aaxis": {
             "endlinecolor": "#2a3f5f",
             "gridcolor": "white",
             "linecolor": "white",
             "minorgridcolor": "white",
             "startlinecolor": "#2a3f5f"
            },
            "baxis": {
             "endlinecolor": "#2a3f5f",
             "gridcolor": "white",
             "linecolor": "white",
             "minorgridcolor": "white",
             "startlinecolor": "#2a3f5f"
            },
            "type": "carpet"
           }
          ],
          "choropleth": [
           {
            "colorbar": {
             "outlinewidth": 0,
             "ticks": ""
            },
            "type": "choropleth"
           }
          ],
          "contour": [
           {
            "colorbar": {
             "outlinewidth": 0,
             "ticks": ""
            },
            "colorscale": [
             [
              0,
              "#0d0887"
             ],
             [
              0.1111111111111111,
              "#46039f"
             ],
             [
              0.2222222222222222,
              "#7201a8"
             ],
             [
              0.3333333333333333,
              "#9c179e"
             ],
             [
              0.4444444444444444,
              "#bd3786"
             ],
             [
              0.5555555555555556,
              "#d8576b"
             ],
             [
              0.6666666666666666,
              "#ed7953"
             ],
             [
              0.7777777777777778,
              "#fb9f3a"
             ],
             [
              0.8888888888888888,
              "#fdca26"
             ],
             [
              1,
              "#f0f921"
             ]
            ],
            "type": "contour"
           }
          ],
          "contourcarpet": [
           {
            "colorbar": {
             "outlinewidth": 0,
             "ticks": ""
            },
            "type": "contourcarpet"
           }
          ],
          "heatmap": [
           {
            "colorbar": {
             "outlinewidth": 0,
             "ticks": ""
            },
            "colorscale": [
             [
              0,
              "#0d0887"
             ],
             [
              0.1111111111111111,
              "#46039f"
             ],
             [
              0.2222222222222222,
              "#7201a8"
             ],
             [
              0.3333333333333333,
              "#9c179e"
             ],
             [
              0.4444444444444444,
              "#bd3786"
             ],
             [
              0.5555555555555556,
              "#d8576b"
             ],
             [
              0.6666666666666666,
              "#ed7953"
             ],
             [
              0.7777777777777778,
              "#fb9f3a"
             ],
             [
              0.8888888888888888,
              "#fdca26"
             ],
             [
              1,
              "#f0f921"
             ]
            ],
            "type": "heatmap"
           }
          ],
          "histogram": [
           {
            "marker": {
             "pattern": {
              "fillmode": "overlay",
              "size": 10,
              "solidity": 0.2
             }
            },
            "type": "histogram"
           }
          ],
          "histogram2d": [
           {
            "colorbar": {
             "outlinewidth": 0,
             "ticks": ""
            },
            "colorscale": [
             [
              0,
              "#0d0887"
             ],
             [
              0.1111111111111111,
              "#46039f"
             ],
             [
              0.2222222222222222,
              "#7201a8"
             ],
             [
              0.3333333333333333,
              "#9c179e"
             ],
             [
              0.4444444444444444,
              "#bd3786"
             ],
             [
              0.5555555555555556,
              "#d8576b"
             ],
             [
              0.6666666666666666,
              "#ed7953"
             ],
             [
              0.7777777777777778,
              "#fb9f3a"
             ],
             [
              0.8888888888888888,
              "#fdca26"
             ],
             [
              1,
              "#f0f921"
             ]
            ],
            "type": "histogram2d"
           }
          ],
          "histogram2dcontour": [
           {
            "colorbar": {
             "outlinewidth": 0,
             "ticks": ""
            },
            "colorscale": [
             [
              0,
              "#0d0887"
             ],
             [
              0.1111111111111111,
              "#46039f"
             ],
             [
              0.2222222222222222,
              "#7201a8"
             ],
             [
              0.3333333333333333,
              "#9c179e"
             ],
             [
              0.4444444444444444,
              "#bd3786"
             ],
             [
              0.5555555555555556,
              "#d8576b"
             ],
             [
              0.6666666666666666,
              "#ed7953"
             ],
             [
              0.7777777777777778,
              "#fb9f3a"
             ],
             [
              0.8888888888888888,
              "#fdca26"
             ],
             [
              1,
              "#f0f921"
             ]
            ],
            "type": "histogram2dcontour"
           }
          ],
          "mesh3d": [
           {
            "colorbar": {
             "outlinewidth": 0,
             "ticks": ""
            },
            "type": "mesh3d"
           }
          ],
          "parcoords": [
           {
            "line": {
             "colorbar": {
              "outlinewidth": 0,
              "ticks": ""
             }
            },
            "type": "parcoords"
           }
          ],
          "pie": [
           {
            "automargin": true,
            "type": "pie"
           }
          ],
          "scatter": [
           {
            "fillpattern": {
             "fillmode": "overlay",
             "size": 10,
             "solidity": 0.2
            },
            "type": "scatter"
           }
          ],
          "scatter3d": [
           {
            "line": {
             "colorbar": {
              "outlinewidth": 0,
              "ticks": ""
             }
            },
            "marker": {
             "colorbar": {
              "outlinewidth": 0,
              "ticks": ""
             }
            },
            "type": "scatter3d"
           }
          ],
          "scattercarpet": [
           {
            "marker": {
             "colorbar": {
              "outlinewidth": 0,
              "ticks": ""
             }
            },
            "type": "scattercarpet"
           }
          ],
          "scattergeo": [
           {
            "marker": {
             "colorbar": {
              "outlinewidth": 0,
              "ticks": ""
             }
            },
            "type": "scattergeo"
           }
          ],
          "scattergl": [
           {
            "marker": {
             "colorbar": {
              "outlinewidth": 0,
              "ticks": ""
             }
            },
            "type": "scattergl"
           }
          ],
          "scattermap": [
           {
            "marker": {
             "colorbar": {
              "outlinewidth": 0,
              "ticks": ""
             }
            },
            "type": "scattermap"
           }
          ],
          "scattermapbox": [
           {
            "marker": {
             "colorbar": {
              "outlinewidth": 0,
              "ticks": ""
             }
            },
            "type": "scattermapbox"
           }
          ],
          "scatterpolar": [
           {
            "marker": {
             "colorbar": {
              "outlinewidth": 0,
              "ticks": ""
             }
            },
            "type": "scatterpolar"
           }
          ],
          "scatterpolargl": [
           {
            "marker": {
             "colorbar": {
              "outlinewidth": 0,
              "ticks": ""
             }
            },
            "type": "scatterpolargl"
           }
          ],
          "scatterternary": [
           {
            "marker": {
             "colorbar": {
              "outlinewidth": 0,
              "ticks": ""
             }
            },
            "type": "scatterternary"
           }
          ],
          "surface": [
           {
            "colorbar": {
             "outlinewidth": 0,
             "ticks": ""
            },
            "colorscale": [
             [
              0,
              "#0d0887"
             ],
             [
              0.1111111111111111,
              "#46039f"
             ],
             [
              0.2222222222222222,
              "#7201a8"
             ],
             [
              0.3333333333333333,
              "#9c179e"
             ],
             [
              0.4444444444444444,
              "#bd3786"
             ],
             [
              0.5555555555555556,
              "#d8576b"
             ],
             [
              0.6666666666666666,
              "#ed7953"
             ],
             [
              0.7777777777777778,
              "#fb9f3a"
             ],
             [
              0.8888888888888888,
              "#fdca26"
             ],
             [
              1,
              "#f0f921"
             ]
            ],
            "type": "surface"
           }
          ],
          "table": [
           {
            "cells": {
             "fill": {
              "color": "#EBF0F8"
             },
             "line": {
              "color": "white"
             }
            },
            "header": {
             "fill": {
              "color": "#C8D4E3"
             },
             "line": {
              "color": "white"
             }
            },
            "type": "table"
           }
          ]
         },
         "layout": {
          "annotationdefaults": {
           "arrowcolor": "#2a3f5f",
           "arrowhead": 0,
           "arrowwidth": 1
          },
          "autotypenumbers": "strict",
          "coloraxis": {
           "colorbar": {
            "outlinewidth": 0,
            "ticks": ""
           }
          },
          "colorscale": {
           "diverging": [
            [
             0,
             "#8e0152"
            ],
            [
             0.1,
             "#c51b7d"
            ],
            [
             0.2,
             "#de77ae"
            ],
            [
             0.3,
             "#f1b6da"
            ],
            [
             0.4,
             "#fde0ef"
            ],
            [
             0.5,
             "#f7f7f7"
            ],
            [
             0.6,
             "#e6f5d0"
            ],
            [
             0.7,
             "#b8e186"
            ],
            [
             0.8,
             "#7fbc41"
            ],
            [
             0.9,
             "#4d9221"
            ],
            [
             1,
             "#276419"
            ]
           ],
           "sequential": [
            [
             0,
             "#0d0887"
            ],
            [
             0.1111111111111111,
             "#46039f"
            ],
            [
             0.2222222222222222,
             "#7201a8"
            ],
            [
             0.3333333333333333,
             "#9c179e"
            ],
            [
             0.4444444444444444,
             "#bd3786"
            ],
            [
             0.5555555555555556,
             "#d8576b"
            ],
            [
             0.6666666666666666,
             "#ed7953"
            ],
            [
             0.7777777777777778,
             "#fb9f3a"
            ],
            [
             0.8888888888888888,
             "#fdca26"
            ],
            [
             1,
             "#f0f921"
            ]
           ],
           "sequentialminus": [
            [
             0,
             "#0d0887"
            ],
            [
             0.1111111111111111,
             "#46039f"
            ],
            [
             0.2222222222222222,
             "#7201a8"
            ],
            [
             0.3333333333333333,
             "#9c179e"
            ],
            [
             0.4444444444444444,
             "#bd3786"
            ],
            [
             0.5555555555555556,
             "#d8576b"
            ],
            [
             0.6666666666666666,
             "#ed7953"
            ],
            [
             0.7777777777777778,
             "#fb9f3a"
            ],
            [
             0.8888888888888888,
             "#fdca26"
            ],
            [
             1,
             "#f0f921"
            ]
           ]
          },
          "colorway": [
           "#636efa",
           "#EF553B",
           "#00cc96",
           "#ab63fa",
           "#FFA15A",
           "#19d3f3",
           "#FF6692",
           "#B6E880",
           "#FF97FF",
           "#FECB52"
          ],
          "font": {
           "color": "#2a3f5f"
          },
          "geo": {
           "bgcolor": "white",
           "lakecolor": "white",
           "landcolor": "#E5ECF6",
           "showlakes": true,
           "showland": true,
           "subunitcolor": "white"
          },
          "hoverlabel": {
           "align": "left"
          },
          "hovermode": "closest",
          "mapbox": {
           "style": "light"
          },
          "paper_bgcolor": "white",
          "plot_bgcolor": "#E5ECF6",
          "polar": {
           "angularaxis": {
            "gridcolor": "white",
            "linecolor": "white",
            "ticks": ""
           },
           "bgcolor": "#E5ECF6",
           "radialaxis": {
            "gridcolor": "white",
            "linecolor": "white",
            "ticks": ""
           }
          },
          "scene": {
           "xaxis": {
            "backgroundcolor": "#E5ECF6",
            "gridcolor": "white",
            "gridwidth": 2,
            "linecolor": "white",
            "showbackground": true,
            "ticks": "",
            "zerolinecolor": "white"
           },
           "yaxis": {
            "backgroundcolor": "#E5ECF6",
            "gridcolor": "white",
            "gridwidth": 2,
            "linecolor": "white",
            "showbackground": true,
            "ticks": "",
            "zerolinecolor": "white"
           },
           "zaxis": {
            "backgroundcolor": "#E5ECF6",
            "gridcolor": "white",
            "gridwidth": 2,
            "linecolor": "white",
            "showbackground": true,
            "ticks": "",
            "zerolinecolor": "white"
           }
          },
          "shapedefaults": {
           "line": {
            "color": "#2a3f5f"
           }
          },
          "ternary": {
           "aaxis": {
            "gridcolor": "white",
            "linecolor": "white",
            "ticks": ""
           },
           "baxis": {
            "gridcolor": "white",
            "linecolor": "white",
            "ticks": ""
           },
           "bgcolor": "#E5ECF6",
           "caxis": {
            "gridcolor": "white",
            "linecolor": "white",
            "ticks": ""
           }
          },
          "title": {
           "x": 0.05
          },
          "xaxis": {
           "automargin": true,
           "gridcolor": "white",
           "linecolor": "white",
           "ticks": "",
           "title": {
            "standoff": 15
           },
           "zerolinecolor": "white",
           "zerolinewidth": 2
          },
          "yaxis": {
           "automargin": true,
           "gridcolor": "white",
           "linecolor": "white",
           "ticks": "",
           "title": {
            "standoff": 15
           },
           "zerolinecolor": "white",
           "zerolinewidth": 2
          }
         }
        },
        "title": {
         "text": "Emotional Journey Through Frankenstein: Chronological Animation<br><sub>Size = Word Count | Color = RoBERTa Sentiment Score</sub>"
        },
        "updatemenus": [
         {
          "buttons": [
           {
            "args": [
             null,
             {
              "frame": {
               "duration": 1000,
               "redraw": true
              },
              "fromcurrent": true,
              "mode": "immediate",
              "transition": {
               "duration": 0.01,
               "easing": "linear"
              }
             }
            ],
            "label": "&#9654;",
            "method": "animate"
           },
           {
            "args": [
             [
              null
             ],
             {
              "frame": {
               "duration": 0,
               "redraw": true
              },
              "fromcurrent": true,
              "mode": "immediate",
              "transition": {
               "duration": 0,
               "easing": "linear"
              }
             }
            ],
            "label": "&#9724;",
            "method": "animate"
           }
          ],
          "direction": "left",
          "pad": {
           "r": 10,
           "t": 70
          },
          "showactive": false,
          "type": "buttons",
          "x": 0.1,
          "xanchor": "right",
          "y": 0,
          "yanchor": "top"
         }
        ]
       }
      }
     },
     "metadata": {},
     "output_type": "display_data"
    },
    {
     "name": "stdout",
     "output_type": "stream",
     "text": [
      "🎯 Enhanced animated emotional journey map created!\n",
      "📈 Circle size = word count at each location during each chronological step\n",
      "🌈 Circle color = RoBERTa sentiment (red=negative, yellow=neutral, green=positive)\n",
      "🗺️ Each frame shows the emotional state of locations during that narrative moment\n",
      "▶️ Press play to watch how emotions shift across geography as the story unfolds\n",
      "📖 Animation spans 67 chronological steps through Shelley's narrative\n"
     ]
    }
   ],
   "source": [
    "# Create animation data with sentiment from existing analysis\n",
    "print(\"🎬 Creating animated emotional journey with RoBERTa sentiment...\")\n",
    "\n",
    "# Work with chronological data\n",
    "df = frankenstein_emotion_sequence_df.copy()\n",
    "df['word_count'] = df['paragraph_text'].str.split().str.len()\n",
    "\n",
    "# Check what sentiment columns are available\n",
    "print(\"Available sentiment columns:\")\n",
    "sentiment_cols = [col for col in frankenstein_all_with_sentiment.columns if 'roberta' in col.lower()]\n",
    "for col in sentiment_cols:\n",
    "    print(f\"  - {col}\")\n",
    "\n",
    "# Use compound score if available, otherwise calculate from pos/neg\n",
    "if 'roberta_compound' in frankenstein_all_with_sentiment.columns:\n",
    "    sentiment_col = 'roberta_compound'\n",
    "    print(f\"Using compound sentiment score: {sentiment_col}\")\n",
    "    df['sentiment_score'] = frankenstein_all_with_sentiment[sentiment_col].values\n",
    "elif 'roberta_pos' in frankenstein_all_with_sentiment.columns and 'roberta_neg' in frankenstein_all_with_sentiment.columns:\n",
    "    print(\"Calculating sentiment from positive - negative scores\")\n",
    "    df['sentiment_score'] = (frankenstein_all_with_sentiment['roberta_pos'].values - \n",
    "                            frankenstein_all_with_sentiment['roberta_neg'].values)\n",
    "else:\n",
    "    print(\"⚠️ Using first available sentiment column\")\n",
    "    sentiment_col = sentiment_cols[0] if sentiment_cols else 'roberta_neg'\n",
    "    df['sentiment_score'] = frankenstein_all_with_sentiment[sentiment_col].values\n",
    "\n",
    "# Clean and prepare data\n",
    "df_clean = df.dropna(subset=['lat', 'long']).copy()\n",
    "\n",
    "# Clean location names to handle duplicates like \"Delacey Cottage\"\n",
    "df_clean['curated_name_clean'] = df_clean['curated_name'].str.strip()\n",
    "\n",
    "# Aggregate by ordinal (chronological step) and cleaned location name\n",
    "animation_data = df_clean.groupby(['ordinal', 'curated_name_clean', 'lat', 'long']).agg({\n",
    "    'word_count': 'sum',  # Total words for this location at this time\n",
    "    'sentiment_score': 'mean',  # Average sentiment\n",
    "    'text_section': 'first',\n",
    "    'chapter_letter': 'first'\n",
    "}).reset_index()\n",
    "\n",
    "# Rename back to curated_name for display\n",
    "animation_data = animation_data.rename(columns={'curated_name_clean': 'curated_name'})\n",
    "\n",
    "# Add frame information\n",
    "animation_data['frame_label'] = animation_data['ordinal'].astype(str)\n",
    "animation_data['chapter_info'] = (animation_data['text_section'].str.replace('_', ' ') + \n",
    "                                 ' ' + animation_data['chapter_letter']).str.title()\n",
    "\n",
    "# Add sentiment category for hover info\n",
    "animation_data['sentiment_category'] = animation_data['sentiment_score'].apply(\n",
    "    lambda x: 'Positive' if x > 0.1 else ('Negative' if x < -0.1 else 'Neutral')\n",
    ")\n",
    "\n",
    "print(f\"📊 Animation ready: {len(animation_data)} location-time points\")\n",
    "print(f\"📈 Chronological steps: {animation_data['ordinal'].nunique()}\")\n",
    "print(f\"📝 Word count range: {animation_data['word_count'].min()}-{animation_data['word_count'].max()}\")\n",
    "print(f\"🎭 Sentiment range: {animation_data['sentiment_score'].min():.3f} to {animation_data['sentiment_score'].max():.3f}\")\n",
    "\n",
    "# Create the animated map  \n",
    "fig_animated = px.scatter_map(\n",
    "    animation_data,\n",
    "    lat=\"lat\",\n",
    "    lon=\"long\",\n",
    "    hover_name=\"curated_name\",\n",
    "    size=\"word_count\",  # Size = word count (as requested)\n",
    "    size_max=60,\n",
    "    color=\"sentiment_score\",  # Color = sentiment\n",
    "    color_continuous_scale='RdYlGn',\n",
    "    color_continuous_midpoint=0,\n",
    "    animation_frame=\"frame_label\",\n",
    "    hover_data={\n",
    "        \"sentiment_score\": \":.3f\",\n",
    "        \"sentiment_category\": True,\n",
    "        \"word_count\": True,\n",
    "        \"chapter_info\": True,\n",
    "        \"ordinal\": True\n",
    "    },\n",
    "    title=\"Emotional Journey Through Frankenstein: Chronological Animation<br><sub>Size = Word Count | Color = RoBERTa Sentiment Score</sub>\",\n",
    "    labels={\n",
    "        \"sentiment_score\": \"Sentiment Score\",\n",
    "        \"sentiment_category\": \"Sentiment\",\n",
    "        \"word_count\": \"Words\",\n",
    "        \"chapter_info\": \"Chapter\",\n",
    "        \"ordinal\": \"Chronological Step\"\n",
    "    },\n",
    "    zoom=3,\n",
    "    height=850\n",
    ")\n",
    "\n",
    "# Style the map\n",
    "fig_animated.update_layout(\n",
    "    mapbox_style=\"carto-positron\",\n",
    "    margin={\"r\":0,\"t\":90,\"l\":0,\"b\":0},\n",
    "    coloraxis_colorbar=dict(\n",
    "        title=\"Sentiment Score\",\n",
    "        tickvals=[-0.6, -0.3, 0, 0.3, 0.6],\n",
    "        ticktext=[\"Very Negative\", \"Negative\", \"Neutral\", \"Positive\", \"Very Positive\"]\n",
    "    )\n",
    ")\n",
    "\n",
    "# Configure for HTML export\n",
    "fig_animated.update_layout(\n",
    "    font=dict(size=12),\n",
    "    title_font=dict(size=16),\n",
    ")\n",
    "\n",
    "# Animation settings - slower for better observation\n",
    "fig_animated.layout.updatemenus[0].buttons[0].args[1]['frame']['duration'] = 1000  # 1 second per frame\n",
    "fig_animated.layout.updatemenus[0].buttons[0].args[1]['transition']['duration'] = .01  # 0.01 second transition\n",
    "\n",
    "# Add step info to frames with more context\n",
    "for i, frame in enumerate(fig_animated.frames):\n",
    "    step = i + 1\n",
    "    current_step_data = animation_data[animation_data['ordinal'] == step]\n",
    "    if not current_step_data.empty:\n",
    "        # Get the chapter info and locations for this step\n",
    "        chapter_info = current_step_data['chapter_info'].iloc[0]\n",
    "        locations = current_step_data['curated_name'].tolist()\n",
    "        location_text = \", \".join(locations) if len(locations) <= 3 else f\"{', '.join(locations[:2])}, +{len(locations)-2} more\"\n",
    "        frame.layout.title = f\"{chapter_info} - {location_text}\"\n",
    "    else:\n",
    "        frame.layout.title = f\"Frankenstein Journey - Step {step}/{len(fig_animated.frames)}\"\n",
    "\n",
    "# Show with offline configuration for HTML export\n",
    "py.iplot(fig_animated, show_link=False, config={'displayModeBar': True})\n",
    "\n",
    "print(\"🎯 Enhanced animated emotional journey map created!\")\n",
    "print(\"📈 Circle size = word count at each location during each chronological step\")\n",
    "print(\"🌈 Circle color = RoBERTa sentiment (red=negative, yellow=neutral, green=positive)\")\n",
    "print(\"🗺️ Each frame shows the emotional state of locations during that narrative moment\")\n",
    "print(\"▶️ Press play to watch how emotions shift across geography as the story unfolds\")\n",
    "print(f\"📖 Animation spans {animation_data['ordinal'].nunique()} chronological steps through Shelley's narrative\")"
   ]
  },
  {
   "cell_type": "markdown",
   "id": "416cafa6",
   "metadata": {},
   "source": [
    "### Emotional Geography Insights\n",
    "\n",
    "The sentiment analysis of geographic locations reveals sophisticated patterns in Shelley's emotional mapping:\n",
    "\n",
    "**Positive Locations**: Often associated with domesticity, family, and early happiness\n",
    "- Geneva (Victor's family home)\n",
    "- Peaceful natural settings\n",
    "\n",
    "**Negative Locations**: Frequently connected to isolation, creation, and consequence\n",
    "- Laboratory spaces\n",
    "- Remote wilderness areas\n",
    "- Sites of confrontation\n",
    "\n",
    "**Neutral Locations**: Transitional spaces and narrative bridges\n",
    "- Travel routes\n",
    "- Temporary stops\n",
    "\n",
    "This emotional geography suggests that Shelley uses location not merely as setting but as an extension of character psychology and thematic development.\n",
    "\n",
    "## Part III: Character Sentiment Analysis\n",
    "\n",
    "Moving from geographic to character-centered analysis, we examined how Mary Shelley emotionally frames the principal characters throughout the narrative. This analysis identifies paragraphs mentioning key characters and measures the sentiment associated with each character's textual presence."
   ]
  },
  {
   "cell_type": "code",
   "execution_count": null,
   "id": "32ccf015",
   "metadata": {},
   "outputs": [
    {
     "data": {
      "application/vnd.plotly.v1+json": {
       "config": {
        "plotlyServerURL": "https://plot.ly"
       },
       "data": [
        {
         "customdata": {
          "bdata": "EQDfCA4A4AZQAH0kJgBwEEEA0x99AHA2NQCYFxgAHw1tAB8/KAB/EQ==",
          "dtype": "i2",
          "shape": "10, 2"
         },
         "hovertemplate": "Character=%{x}<br>Average Sentiment Score=%{marker.color}<br>Total_Mentions=%{customdata[0]}<br>Total_Words=%{customdata[1]}<extra></extra>",
         "legendgroup": "",
         "marker": {
          "color": {
           "bdata": "aHXbPVFRvjymXpI8KBZXupxBBrykP0e8Z2QCviwtBb5AuAu+qoY5vg==",
           "dtype": "f4"
          },
          "coloraxis": "coloraxis",
          "pattern": {
           "shape": ""
          }
         },
         "name": "",
         "orientation": "v",
         "showlegend": false,
         "textposition": "auto",
         "type": "bar",
         "x": [
          "Agatha",
          "Ernest",
          "Elizabeth",
          "Felix",
          "Henry",
          "Alphonse",
          "Victor",
          "William",
          "Monster",
          "Justine"
         ],
         "xaxis": "x",
         "y": {
          "bdata": "aHXbPVFRvjymXpI8KBZXupxBBrykP0e8Z2QCviwtBb5AuAu+qoY5vg==",
          "dtype": "f4"
         },
         "yaxis": "y"
        }
       ],
       "layout": {
        "annotations": [
         {
          "showarrow": false,
          "text": "Neutral Baseline",
          "x": 1,
          "xanchor": "right",
          "xref": "x domain",
          "y": 0,
          "yanchor": "bottom",
          "yref": "y"
         }
        ],
        "barmode": "relative",
        "coloraxis": {
         "cmid": 0,
         "colorbar": {
          "title": {
           "text": "Average Sentiment Score"
          }
         },
         "colorscale": [
          [
           0,
           "rgb(165,0,38)"
          ],
          [
           0.1,
           "rgb(215,48,39)"
          ],
          [
           0.2,
           "rgb(244,109,67)"
          ],
          [
           0.3,
           "rgb(253,174,97)"
          ],
          [
           0.4,
           "rgb(254,224,139)"
          ],
          [
           0.5,
           "rgb(255,255,191)"
          ],
          [
           0.6,
           "rgb(217,239,139)"
          ],
          [
           0.7,
           "rgb(166,217,106)"
          ],
          [
           0.8,
           "rgb(102,189,99)"
          ],
          [
           0.9,
           "rgb(26,152,80)"
          ],
          [
           1,
           "rgb(0,104,55)"
          ]
         ]
        },
        "height": 500,
        "legend": {
         "tracegroupgap": 0
        },
        "shapes": [
         {
          "line": {
           "color": "gray",
           "dash": "dash"
          },
          "type": "line",
          "x0": 0,
          "x1": 1,
          "xref": "x domain",
          "y0": 0,
          "y1": 0,
          "yref": "y"
         }
        ],
        "showlegend": false,
        "template": {
         "data": {
          "bar": [
           {
            "error_x": {
             "color": "#2a3f5f"
            },
            "error_y": {
             "color": "#2a3f5f"
            },
            "marker": {
             "line": {
              "color": "#E5ECF6",
              "width": 0.5
             },
             "pattern": {
              "fillmode": "overlay",
              "size": 10,
              "solidity": 0.2
             }
            },
            "type": "bar"
           }
          ],
          "barpolar": [
           {
            "marker": {
             "line": {
              "color": "#E5ECF6",
              "width": 0.5
             },
             "pattern": {
              "fillmode": "overlay",
              "size": 10,
              "solidity": 0.2
             }
            },
            "type": "barpolar"
           }
          ],
          "carpet": [
           {
            "aaxis": {
             "endlinecolor": "#2a3f5f",
             "gridcolor": "white",
             "linecolor": "white",
             "minorgridcolor": "white",
             "startlinecolor": "#2a3f5f"
            },
            "baxis": {
             "endlinecolor": "#2a3f5f",
             "gridcolor": "white",
             "linecolor": "white",
             "minorgridcolor": "white",
             "startlinecolor": "#2a3f5f"
            },
            "type": "carpet"
           }
          ],
          "choropleth": [
           {
            "colorbar": {
             "outlinewidth": 0,
             "ticks": ""
            },
            "type": "choropleth"
           }
          ],
          "contour": [
           {
            "colorbar": {
             "outlinewidth": 0,
             "ticks": ""
            },
            "colorscale": [
             [
              0,
              "#0d0887"
             ],
             [
              0.1111111111111111,
              "#46039f"
             ],
             [
              0.2222222222222222,
              "#7201a8"
             ],
             [
              0.3333333333333333,
              "#9c179e"
             ],
             [
              0.4444444444444444,
              "#bd3786"
             ],
             [
              0.5555555555555556,
              "#d8576b"
             ],
             [
              0.6666666666666666,
              "#ed7953"
             ],
             [
              0.7777777777777778,
              "#fb9f3a"
             ],
             [
              0.8888888888888888,
              "#fdca26"
             ],
             [
              1,
              "#f0f921"
             ]
            ],
            "type": "contour"
           }
          ],
          "contourcarpet": [
           {
            "colorbar": {
             "outlinewidth": 0,
             "ticks": ""
            },
            "type": "contourcarpet"
           }
          ],
          "heatmap": [
           {
            "colorbar": {
             "outlinewidth": 0,
             "ticks": ""
            },
            "colorscale": [
             [
              0,
              "#0d0887"
             ],
             [
              0.1111111111111111,
              "#46039f"
             ],
             [
              0.2222222222222222,
              "#7201a8"
             ],
             [
              0.3333333333333333,
              "#9c179e"
             ],
             [
              0.4444444444444444,
              "#bd3786"
             ],
             [
              0.5555555555555556,
              "#d8576b"
             ],
             [
              0.6666666666666666,
              "#ed7953"
             ],
             [
              0.7777777777777778,
              "#fb9f3a"
             ],
             [
              0.8888888888888888,
              "#fdca26"
             ],
             [
              1,
              "#f0f921"
             ]
            ],
            "type": "heatmap"
           }
          ],
          "histogram": [
           {
            "marker": {
             "pattern": {
              "fillmode": "overlay",
              "size": 10,
              "solidity": 0.2
             }
            },
            "type": "histogram"
           }
          ],
          "histogram2d": [
           {
            "colorbar": {
             "outlinewidth": 0,
             "ticks": ""
            },
            "colorscale": [
             [
              0,
              "#0d0887"
             ],
             [
              0.1111111111111111,
              "#46039f"
             ],
             [
              0.2222222222222222,
              "#7201a8"
             ],
             [
              0.3333333333333333,
              "#9c179e"
             ],
             [
              0.4444444444444444,
              "#bd3786"
             ],
             [
              0.5555555555555556,
              "#d8576b"
             ],
             [
              0.6666666666666666,
              "#ed7953"
             ],
             [
              0.7777777777777778,
              "#fb9f3a"
             ],
             [
              0.8888888888888888,
              "#fdca26"
             ],
             [
              1,
              "#f0f921"
             ]
            ],
            "type": "histogram2d"
           }
          ],
          "histogram2dcontour": [
           {
            "colorbar": {
             "outlinewidth": 0,
             "ticks": ""
            },
            "colorscale": [
             [
              0,
              "#0d0887"
             ],
             [
              0.1111111111111111,
              "#46039f"
             ],
             [
              0.2222222222222222,
              "#7201a8"
             ],
             [
              0.3333333333333333,
              "#9c179e"
             ],
             [
              0.4444444444444444,
              "#bd3786"
             ],
             [
              0.5555555555555556,
              "#d8576b"
             ],
             [
              0.6666666666666666,
              "#ed7953"
             ],
             [
              0.7777777777777778,
              "#fb9f3a"
             ],
             [
              0.8888888888888888,
              "#fdca26"
             ],
             [
              1,
              "#f0f921"
             ]
            ],
            "type": "histogram2dcontour"
           }
          ],
          "mesh3d": [
           {
            "colorbar": {
             "outlinewidth": 0,
             "ticks": ""
            },
            "type": "mesh3d"
           }
          ],
          "parcoords": [
           {
            "line": {
             "colorbar": {
              "outlinewidth": 0,
              "ticks": ""
             }
            },
            "type": "parcoords"
           }
          ],
          "pie": [
           {
            "automargin": true,
            "type": "pie"
           }
          ],
          "scatter": [
           {
            "fillpattern": {
             "fillmode": "overlay",
             "size": 10,
             "solidity": 0.2
            },
            "type": "scatter"
           }
          ],
          "scatter3d": [
           {
            "line": {
             "colorbar": {
              "outlinewidth": 0,
              "ticks": ""
             }
            },
            "marker": {
             "colorbar": {
              "outlinewidth": 0,
              "ticks": ""
             }
            },
            "type": "scatter3d"
           }
          ],
          "scattercarpet": [
           {
            "marker": {
             "colorbar": {
              "outlinewidth": 0,
              "ticks": ""
             }
            },
            "type": "scattercarpet"
           }
          ],
          "scattergeo": [
           {
            "marker": {
             "colorbar": {
              "outlinewidth": 0,
              "ticks": ""
             }
            },
            "type": "scattergeo"
           }
          ],
          "scattergl": [
           {
            "marker": {
             "colorbar": {
              "outlinewidth": 0,
              "ticks": ""
             }
            },
            "type": "scattergl"
           }
          ],
          "scattermap": [
           {
            "marker": {
             "colorbar": {
              "outlinewidth": 0,
              "ticks": ""
             }
            },
            "type": "scattermap"
           }
          ],
          "scattermapbox": [
           {
            "marker": {
             "colorbar": {
              "outlinewidth": 0,
              "ticks": ""
             }
            },
            "type": "scattermapbox"
           }
          ],
          "scatterpolar": [
           {
            "marker": {
             "colorbar": {
              "outlinewidth": 0,
              "ticks": ""
             }
            },
            "type": "scatterpolar"
           }
          ],
          "scatterpolargl": [
           {
            "marker": {
             "colorbar": {
              "outlinewidth": 0,
              "ticks": ""
             }
            },
            "type": "scatterpolargl"
           }
          ],
          "scatterternary": [
           {
            "marker": {
             "colorbar": {
              "outlinewidth": 0,
              "ticks": ""
             }
            },
            "type": "scatterternary"
           }
          ],
          "surface": [
           {
            "colorbar": {
             "outlinewidth": 0,
             "ticks": ""
            },
            "colorscale": [
             [
              0,
              "#0d0887"
             ],
             [
              0.1111111111111111,
              "#46039f"
             ],
             [
              0.2222222222222222,
              "#7201a8"
             ],
             [
              0.3333333333333333,
              "#9c179e"
             ],
             [
              0.4444444444444444,
              "#bd3786"
             ],
             [
              0.5555555555555556,
              "#d8576b"
             ],
             [
              0.6666666666666666,
              "#ed7953"
             ],
             [
              0.7777777777777778,
              "#fb9f3a"
             ],
             [
              0.8888888888888888,
              "#fdca26"
             ],
             [
              1,
              "#f0f921"
             ]
            ],
            "type": "surface"
           }
          ],
          "table": [
           {
            "cells": {
             "fill": {
              "color": "#EBF0F8"
             },
             "line": {
              "color": "white"
             }
            },
            "header": {
             "fill": {
              "color": "#C8D4E3"
             },
             "line": {
              "color": "white"
             }
            },
            "type": "table"
           }
          ]
         },
         "layout": {
          "annotationdefaults": {
           "arrowcolor": "#2a3f5f",
           "arrowhead": 0,
           "arrowwidth": 1
          },
          "autotypenumbers": "strict",
          "coloraxis": {
           "colorbar": {
            "outlinewidth": 0,
            "ticks": ""
           }
          },
          "colorscale": {
           "diverging": [
            [
             0,
             "#8e0152"
            ],
            [
             0.1,
             "#c51b7d"
            ],
            [
             0.2,
             "#de77ae"
            ],
            [
             0.3,
             "#f1b6da"
            ],
            [
             0.4,
             "#fde0ef"
            ],
            [
             0.5,
             "#f7f7f7"
            ],
            [
             0.6,
             "#e6f5d0"
            ],
            [
             0.7,
             "#b8e186"
            ],
            [
             0.8,
             "#7fbc41"
            ],
            [
             0.9,
             "#4d9221"
            ],
            [
             1,
             "#276419"
            ]
           ],
           "sequential": [
            [
             0,
             "#0d0887"
            ],
            [
             0.1111111111111111,
             "#46039f"
            ],
            [
             0.2222222222222222,
             "#7201a8"
            ],
            [
             0.3333333333333333,
             "#9c179e"
            ],
            [
             0.4444444444444444,
             "#bd3786"
            ],
            [
             0.5555555555555556,
             "#d8576b"
            ],
            [
             0.6666666666666666,
             "#ed7953"
            ],
            [
             0.7777777777777778,
             "#fb9f3a"
            ],
            [
             0.8888888888888888,
             "#fdca26"
            ],
            [
             1,
             "#f0f921"
            ]
           ],
           "sequentialminus": [
            [
             0,
             "#0d0887"
            ],
            [
             0.1111111111111111,
             "#46039f"
            ],
            [
             0.2222222222222222,
             "#7201a8"
            ],
            [
             0.3333333333333333,
             "#9c179e"
            ],
            [
             0.4444444444444444,
             "#bd3786"
            ],
            [
             0.5555555555555556,
             "#d8576b"
            ],
            [
             0.6666666666666666,
             "#ed7953"
            ],
            [
             0.7777777777777778,
             "#fb9f3a"
            ],
            [
             0.8888888888888888,
             "#fdca26"
            ],
            [
             1,
             "#f0f921"
            ]
           ]
          },
          "colorway": [
           "#636efa",
           "#EF553B",
           "#00cc96",
           "#ab63fa",
           "#FFA15A",
           "#19d3f3",
           "#FF6692",
           "#B6E880",
           "#FF97FF",
           "#FECB52"
          ],
          "font": {
           "color": "#2a3f5f"
          },
          "geo": {
           "bgcolor": "white",
           "lakecolor": "white",
           "landcolor": "#E5ECF6",
           "showlakes": true,
           "showland": true,
           "subunitcolor": "white"
          },
          "hoverlabel": {
           "align": "left"
          },
          "hovermode": "closest",
          "mapbox": {
           "style": "light"
          },
          "paper_bgcolor": "white",
          "plot_bgcolor": "#E5ECF6",
          "polar": {
           "angularaxis": {
            "gridcolor": "white",
            "linecolor": "white",
            "ticks": ""
           },
           "bgcolor": "#E5ECF6",
           "radialaxis": {
            "gridcolor": "white",
            "linecolor": "white",
            "ticks": ""
           }
          },
          "scene": {
           "xaxis": {
            "backgroundcolor": "#E5ECF6",
            "gridcolor": "white",
            "gridwidth": 2,
            "linecolor": "white",
            "showbackground": true,
            "ticks": "",
            "zerolinecolor": "white"
           },
           "yaxis": {
            "backgroundcolor": "#E5ECF6",
            "gridcolor": "white",
            "gridwidth": 2,
            "linecolor": "white",
            "showbackground": true,
            "ticks": "",
            "zerolinecolor": "white"
           },
           "zaxis": {
            "backgroundcolor": "#E5ECF6",
            "gridcolor": "white",
            "gridwidth": 2,
            "linecolor": "white",
            "showbackground": true,
            "ticks": "",
            "zerolinecolor": "white"
           }
          },
          "shapedefaults": {
           "line": {
            "color": "#2a3f5f"
           }
          },
          "ternary": {
           "aaxis": {
            "gridcolor": "white",
            "linecolor": "white",
            "ticks": ""
           },
           "baxis": {
            "gridcolor": "white",
            "linecolor": "white",
            "ticks": ""
           },
           "bgcolor": "#E5ECF6",
           "caxis": {
            "gridcolor": "white",
            "linecolor": "white",
            "ticks": ""
           }
          },
          "title": {
           "x": 0.05
          },
          "xaxis": {
           "automargin": true,
           "gridcolor": "white",
           "linecolor": "white",
           "ticks": "",
           "title": {
            "standoff": 15
           },
           "zerolinecolor": "white",
           "zerolinewidth": 2
          },
          "yaxis": {
           "automargin": true,
           "gridcolor": "white",
           "linecolor": "white",
           "ticks": "",
           "title": {
            "standoff": 15
           },
           "zerolinecolor": "white",
           "zerolinewidth": 2
          }
         }
        },
        "title": {
         "text": "Character Emotional Framing: Average Sentiment by Character"
        },
        "xaxis": {
         "anchor": "y",
         "domain": [
          0,
          1
         ],
         "title": {
          "text": "Character"
         }
        },
        "yaxis": {
         "anchor": "x",
         "domain": [
          0,
          1
         ],
         "title": {
          "text": "Average Sentiment Score"
         }
        }
       }
      }
     },
     "metadata": {},
     "output_type": "display_data"
    },
    {
     "data": {
      "application/vnd.plotly.v1+json": {
       "config": {
        "plotlyServerURL": "https://plot.ly"
       },
       "data": [
        {
         "marker": {
          "color": "#2E8B57"
         },
         "name": "Positive Mentions",
         "opacity": 0.8,
         "type": "bar",
         "x": [
          "Agatha",
          "Ernest",
          "Elizabeth",
          "Felix",
          "Henry",
          "Alphonse",
          "Victor",
          "William",
          "Monster",
          "Justine"
         ],
         "y": {
          "bdata": "CgYbDhUjCAQSBQ==",
          "dtype": "i1"
         }
        },
        {
         "marker": {
          "color": "#708090"
         },
         "name": "Neutral Mentions",
         "opacity": 0.8,
         "type": "bar",
         "x": [
          "Agatha",
          "Ernest",
          "Elizabeth",
          "Felix",
          "Henry",
          "Alphonse",
          "Victor",
          "William",
          "Monster",
          "Justine"
         ],
         "y": {
          "bdata": "BAUXDhIuFgYcBQ==",
          "dtype": "i1"
         }
        },
        {
         "marker": {
          "color": "#CD5C5C"
         },
         "name": "Negative Mentions",
         "opacity": 0.8,
         "type": "bar",
         "x": [
          "Agatha",
          "Ernest",
          "Elizabeth",
          "Felix",
          "Henry",
          "Alphonse",
          "Victor",
          "William",
          "Monster",
          "Justine"
         ],
         "y": {
          "bdata": "AwMeChosFw4/Hg==",
          "dtype": "i1"
         }
        }
       ],
       "layout": {
        "barmode": "stack",
        "height": 500,
        "template": {
         "data": {
          "bar": [
           {
            "error_x": {
             "color": "#2a3f5f"
            },
            "error_y": {
             "color": "#2a3f5f"
            },
            "marker": {
             "line": {
              "color": "#E5ECF6",
              "width": 0.5
             },
             "pattern": {
              "fillmode": "overlay",
              "size": 10,
              "solidity": 0.2
             }
            },
            "type": "bar"
           }
          ],
          "barpolar": [
           {
            "marker": {
             "line": {
              "color": "#E5ECF6",
              "width": 0.5
             },
             "pattern": {
              "fillmode": "overlay",
              "size": 10,
              "solidity": 0.2
             }
            },
            "type": "barpolar"
           }
          ],
          "carpet": [
           {
            "aaxis": {
             "endlinecolor": "#2a3f5f",
             "gridcolor": "white",
             "linecolor": "white",
             "minorgridcolor": "white",
             "startlinecolor": "#2a3f5f"
            },
            "baxis": {
             "endlinecolor": "#2a3f5f",
             "gridcolor": "white",
             "linecolor": "white",
             "minorgridcolor": "white",
             "startlinecolor": "#2a3f5f"
            },
            "type": "carpet"
           }
          ],
          "choropleth": [
           {
            "colorbar": {
             "outlinewidth": 0,
             "ticks": ""
            },
            "type": "choropleth"
           }
          ],
          "contour": [
           {
            "colorbar": {
             "outlinewidth": 0,
             "ticks": ""
            },
            "colorscale": [
             [
              0,
              "#0d0887"
             ],
             [
              0.1111111111111111,
              "#46039f"
             ],
             [
              0.2222222222222222,
              "#7201a8"
             ],
             [
              0.3333333333333333,
              "#9c179e"
             ],
             [
              0.4444444444444444,
              "#bd3786"
             ],
             [
              0.5555555555555556,
              "#d8576b"
             ],
             [
              0.6666666666666666,
              "#ed7953"
             ],
             [
              0.7777777777777778,
              "#fb9f3a"
             ],
             [
              0.8888888888888888,
              "#fdca26"
             ],
             [
              1,
              "#f0f921"
             ]
            ],
            "type": "contour"
           }
          ],
          "contourcarpet": [
           {
            "colorbar": {
             "outlinewidth": 0,
             "ticks": ""
            },
            "type": "contourcarpet"
           }
          ],
          "heatmap": [
           {
            "colorbar": {
             "outlinewidth": 0,
             "ticks": ""
            },
            "colorscale": [
             [
              0,
              "#0d0887"
             ],
             [
              0.1111111111111111,
              "#46039f"
             ],
             [
              0.2222222222222222,
              "#7201a8"
             ],
             [
              0.3333333333333333,
              "#9c179e"
             ],
             [
              0.4444444444444444,
              "#bd3786"
             ],
             [
              0.5555555555555556,
              "#d8576b"
             ],
             [
              0.6666666666666666,
              "#ed7953"
             ],
             [
              0.7777777777777778,
              "#fb9f3a"
             ],
             [
              0.8888888888888888,
              "#fdca26"
             ],
             [
              1,
              "#f0f921"
             ]
            ],
            "type": "heatmap"
           }
          ],
          "histogram": [
           {
            "marker": {
             "pattern": {
              "fillmode": "overlay",
              "size": 10,
              "solidity": 0.2
             }
            },
            "type": "histogram"
           }
          ],
          "histogram2d": [
           {
            "colorbar": {
             "outlinewidth": 0,
             "ticks": ""
            },
            "colorscale": [
             [
              0,
              "#0d0887"
             ],
             [
              0.1111111111111111,
              "#46039f"
             ],
             [
              0.2222222222222222,
              "#7201a8"
             ],
             [
              0.3333333333333333,
              "#9c179e"
             ],
             [
              0.4444444444444444,
              "#bd3786"
             ],
             [
              0.5555555555555556,
              "#d8576b"
             ],
             [
              0.6666666666666666,
              "#ed7953"
             ],
             [
              0.7777777777777778,
              "#fb9f3a"
             ],
             [
              0.8888888888888888,
              "#fdca26"
             ],
             [
              1,
              "#f0f921"
             ]
            ],
            "type": "histogram2d"
           }
          ],
          "histogram2dcontour": [
           {
            "colorbar": {
             "outlinewidth": 0,
             "ticks": ""
            },
            "colorscale": [
             [
              0,
              "#0d0887"
             ],
             [
              0.1111111111111111,
              "#46039f"
             ],
             [
              0.2222222222222222,
              "#7201a8"
             ],
             [
              0.3333333333333333,
              "#9c179e"
             ],
             [
              0.4444444444444444,
              "#bd3786"
             ],
             [
              0.5555555555555556,
              "#d8576b"
             ],
             [
              0.6666666666666666,
              "#ed7953"
             ],
             [
              0.7777777777777778,
              "#fb9f3a"
             ],
             [
              0.8888888888888888,
              "#fdca26"
             ],
             [
              1,
              "#f0f921"
             ]
            ],
            "type": "histogram2dcontour"
           }
          ],
          "mesh3d": [
           {
            "colorbar": {
             "outlinewidth": 0,
             "ticks": ""
            },
            "type": "mesh3d"
           }
          ],
          "parcoords": [
           {
            "line": {
             "colorbar": {
              "outlinewidth": 0,
              "ticks": ""
             }
            },
            "type": "parcoords"
           }
          ],
          "pie": [
           {
            "automargin": true,
            "type": "pie"
           }
          ],
          "scatter": [
           {
            "fillpattern": {
             "fillmode": "overlay",
             "size": 10,
             "solidity": 0.2
            },
            "type": "scatter"
           }
          ],
          "scatter3d": [
           {
            "line": {
             "colorbar": {
              "outlinewidth": 0,
              "ticks": ""
             }
            },
            "marker": {
             "colorbar": {
              "outlinewidth": 0,
              "ticks": ""
             }
            },
            "type": "scatter3d"
           }
          ],
          "scattercarpet": [
           {
            "marker": {
             "colorbar": {
              "outlinewidth": 0,
              "ticks": ""
             }
            },
            "type": "scattercarpet"
           }
          ],
          "scattergeo": [
           {
            "marker": {
             "colorbar": {
              "outlinewidth": 0,
              "ticks": ""
             }
            },
            "type": "scattergeo"
           }
          ],
          "scattergl": [
           {
            "marker": {
             "colorbar": {
              "outlinewidth": 0,
              "ticks": ""
             }
            },
            "type": "scattergl"
           }
          ],
          "scattermap": [
           {
            "marker": {
             "colorbar": {
              "outlinewidth": 0,
              "ticks": ""
             }
            },
            "type": "scattermap"
           }
          ],
          "scattermapbox": [
           {
            "marker": {
             "colorbar": {
              "outlinewidth": 0,
              "ticks": ""
             }
            },
            "type": "scattermapbox"
           }
          ],
          "scatterpolar": [
           {
            "marker": {
             "colorbar": {
              "outlinewidth": 0,
              "ticks": ""
             }
            },
            "type": "scatterpolar"
           }
          ],
          "scatterpolargl": [
           {
            "marker": {
             "colorbar": {
              "outlinewidth": 0,
              "ticks": ""
             }
            },
            "type": "scatterpolargl"
           }
          ],
          "scatterternary": [
           {
            "marker": {
             "colorbar": {
              "outlinewidth": 0,
              "ticks": ""
             }
            },
            "type": "scatterternary"
           }
          ],
          "surface": [
           {
            "colorbar": {
             "outlinewidth": 0,
             "ticks": ""
            },
            "colorscale": [
             [
              0,
              "#0d0887"
             ],
             [
              0.1111111111111111,
              "#46039f"
             ],
             [
              0.2222222222222222,
              "#7201a8"
             ],
             [
              0.3333333333333333,
              "#9c179e"
             ],
             [
              0.4444444444444444,
              "#bd3786"
             ],
             [
              0.5555555555555556,
              "#d8576b"
             ],
             [
              0.6666666666666666,
              "#ed7953"
             ],
             [
              0.7777777777777778,
              "#fb9f3a"
             ],
             [
              0.8888888888888888,
              "#fdca26"
             ],
             [
              1,
              "#f0f921"
             ]
            ],
            "type": "surface"
           }
          ],
          "table": [
           {
            "cells": {
             "fill": {
              "color": "#EBF0F8"
             },
             "line": {
              "color": "white"
             }
            },
            "header": {
             "fill": {
              "color": "#C8D4E3"
             },
             "line": {
              "color": "white"
             }
            },
            "type": "table"
           }
          ]
         },
         "layout": {
          "annotationdefaults": {
           "arrowcolor": "#2a3f5f",
           "arrowhead": 0,
           "arrowwidth": 1
          },
          "autotypenumbers": "strict",
          "coloraxis": {
           "colorbar": {
            "outlinewidth": 0,
            "ticks": ""
           }
          },
          "colorscale": {
           "diverging": [
            [
             0,
             "#8e0152"
            ],
            [
             0.1,
             "#c51b7d"
            ],
            [
             0.2,
             "#de77ae"
            ],
            [
             0.3,
             "#f1b6da"
            ],
            [
             0.4,
             "#fde0ef"
            ],
            [
             0.5,
             "#f7f7f7"
            ],
            [
             0.6,
             "#e6f5d0"
            ],
            [
             0.7,
             "#b8e186"
            ],
            [
             0.8,
             "#7fbc41"
            ],
            [
             0.9,
             "#4d9221"
            ],
            [
             1,
             "#276419"
            ]
           ],
           "sequential": [
            [
             0,
             "#0d0887"
            ],
            [
             0.1111111111111111,
             "#46039f"
            ],
            [
             0.2222222222222222,
             "#7201a8"
            ],
            [
             0.3333333333333333,
             "#9c179e"
            ],
            [
             0.4444444444444444,
             "#bd3786"
            ],
            [
             0.5555555555555556,
             "#d8576b"
            ],
            [
             0.6666666666666666,
             "#ed7953"
            ],
            [
             0.7777777777777778,
             "#fb9f3a"
            ],
            [
             0.8888888888888888,
             "#fdca26"
            ],
            [
             1,
             "#f0f921"
            ]
           ],
           "sequentialminus": [
            [
             0,
             "#0d0887"
            ],
            [
             0.1111111111111111,
             "#46039f"
            ],
            [
             0.2222222222222222,
             "#7201a8"
            ],
            [
             0.3333333333333333,
             "#9c179e"
            ],
            [
             0.4444444444444444,
             "#bd3786"
            ],
            [
             0.5555555555555556,
             "#d8576b"
            ],
            [
             0.6666666666666666,
             "#ed7953"
            ],
            [
             0.7777777777777778,
             "#fb9f3a"
            ],
            [
             0.8888888888888888,
             "#fdca26"
            ],
            [
             1,
             "#f0f921"
            ]
           ]
          },
          "colorway": [
           "#636efa",
           "#EF553B",
           "#00cc96",
           "#ab63fa",
           "#FFA15A",
           "#19d3f3",
           "#FF6692",
           "#B6E880",
           "#FF97FF",
           "#FECB52"
          ],
          "font": {
           "color": "#2a3f5f"
          },
          "geo": {
           "bgcolor": "white",
           "lakecolor": "white",
           "landcolor": "#E5ECF6",
           "showlakes": true,
           "showland": true,
           "subunitcolor": "white"
          },
          "hoverlabel": {
           "align": "left"
          },
          "hovermode": "closest",
          "mapbox": {
           "style": "light"
          },
          "paper_bgcolor": "white",
          "plot_bgcolor": "#E5ECF6",
          "polar": {
           "angularaxis": {
            "gridcolor": "white",
            "linecolor": "white",
            "ticks": ""
           },
           "bgcolor": "#E5ECF6",
           "radialaxis": {
            "gridcolor": "white",
            "linecolor": "white",
            "ticks": ""
           }
          },
          "scene": {
           "xaxis": {
            "backgroundcolor": "#E5ECF6",
            "gridcolor": "white",
            "gridwidth": 2,
            "linecolor": "white",
            "showbackground": true,
            "ticks": "",
            "zerolinecolor": "white"
           },
           "yaxis": {
            "backgroundcolor": "#E5ECF6",
            "gridcolor": "white",
            "gridwidth": 2,
            "linecolor": "white",
            "showbackground": true,
            "ticks": "",
            "zerolinecolor": "white"
           },
           "zaxis": {
            "backgroundcolor": "#E5ECF6",
            "gridcolor": "white",
            "gridwidth": 2,
            "linecolor": "white",
            "showbackground": true,
            "ticks": "",
            "zerolinecolor": "white"
           }
          },
          "shapedefaults": {
           "line": {
            "color": "#2a3f5f"
           }
          },
          "ternary": {
           "aaxis": {
            "gridcolor": "white",
            "linecolor": "white",
            "ticks": ""
           },
           "baxis": {
            "gridcolor": "white",
            "linecolor": "white",
            "ticks": ""
           },
           "bgcolor": "#E5ECF6",
           "caxis": {
            "gridcolor": "white",
            "linecolor": "white",
            "ticks": ""
           }
          },
          "title": {
           "x": 0.05
          },
          "xaxis": {
           "automargin": true,
           "gridcolor": "white",
           "linecolor": "white",
           "ticks": "",
           "title": {
            "standoff": 15
           },
           "zerolinecolor": "white",
           "zerolinewidth": 2
          },
          "yaxis": {
           "automargin": true,
           "gridcolor": "white",
           "linecolor": "white",
           "ticks": "",
           "title": {
            "standoff": 15
           },
           "zerolinecolor": "white",
           "zerolinewidth": 2
          }
         }
        },
        "title": {
         "text": "Character Emotional Complexity: Sentiment Distribution by Character"
        },
        "xaxis": {
         "title": {
          "text": "Character"
         }
        },
        "yaxis": {
         "title": {
          "text": "Number of Paragraphs"
         }
        }
       }
      }
     },
     "metadata": {},
     "output_type": "display_data"
    },
    {
     "data": {
      "application/vnd.plotly.v1+json": {
       "config": {
        "plotlyServerURL": "https://plot.ly"
       },
       "data": [
        {
         "hovertemplate": "<b>%{hovertext}</b><br><br>Number of Paragraph Mentions=%{x}<br>Average Sentiment Score=%{marker.color}<br>Total Words in Context=%{marker.size}<extra></extra>",
         "hovertext": [
          "Agatha",
          "Ernest",
          "Elizabeth",
          "Felix",
          "Henry",
          "Alphonse",
          "Victor",
          "William",
          "Monster",
          "Justine"
         ],
         "legendgroup": "",
         "marker": {
          "color": {
           "bdata": "aHXbPVFRvjymXpI8KBZXupxBBrykP0e8Z2QCviwtBb5AuAu+qoY5vg==",
           "dtype": "f4"
          },
          "coloraxis": "coloraxis",
          "size": {
           "bdata": "3wjgBn0kcBDTH3A2mBcfDR8/fxE=",
           "dtype": "i2"
          },
          "sizemode": "area",
          "sizeref": 40.3975,
          "symbol": "circle"
         },
         "mode": "markers",
         "name": "",
         "orientation": "v",
         "showlegend": false,
         "type": "scatter",
         "x": {
          "bdata": "EQ5QJkF9NRhtKA==",
          "dtype": "i1"
         },
         "xaxis": "x",
         "y": {
          "bdata": "aHXbPVFRvjymXpI8KBZXupxBBrykP0e8Z2QCviwtBb5AuAu+qoY5vg==",
          "dtype": "f4"
         },
         "yaxis": "y"
        }
       ],
       "layout": {
        "coloraxis": {
         "cmid": 0,
         "colorbar": {
          "title": {
           "text": "Average Sentiment Score"
          }
         },
         "colorscale": [
          [
           0,
           "rgb(165,0,38)"
          ],
          [
           0.1,
           "rgb(215,48,39)"
          ],
          [
           0.2,
           "rgb(244,109,67)"
          ],
          [
           0.3,
           "rgb(253,174,97)"
          ],
          [
           0.4,
           "rgb(254,224,139)"
          ],
          [
           0.5,
           "rgb(255,255,191)"
          ],
          [
           0.6,
           "rgb(217,239,139)"
          ],
          [
           0.7,
           "rgb(166,217,106)"
          ],
          [
           0.8,
           "rgb(102,189,99)"
          ],
          [
           0.9,
           "rgb(26,152,80)"
          ],
          [
           1,
           "rgb(0,104,55)"
          ]
         ]
        },
        "height": 500,
        "legend": {
         "itemsizing": "constant",
         "tracegroupgap": 0
        },
        "shapes": [
         {
          "line": {
           "color": "gray",
           "dash": "dash"
          },
          "opacity": 0.5,
          "type": "line",
          "x0": 0,
          "x1": 1,
          "xref": "x domain",
          "y0": 0,
          "y1": 0,
          "yref": "y"
         },
         {
          "line": {
           "color": "gray",
           "dash": "dash"
          },
          "opacity": 0.5,
          "type": "line",
          "x0": 46.5,
          "x1": 46.5,
          "xref": "x",
          "y0": 0,
          "y1": 1,
          "yref": "y domain"
         }
        ],
        "template": {
         "data": {
          "bar": [
           {
            "error_x": {
             "color": "#2a3f5f"
            },
            "error_y": {
             "color": "#2a3f5f"
            },
            "marker": {
             "line": {
              "color": "#E5ECF6",
              "width": 0.5
             },
             "pattern": {
              "fillmode": "overlay",
              "size": 10,
              "solidity": 0.2
             }
            },
            "type": "bar"
           }
          ],
          "barpolar": [
           {
            "marker": {
             "line": {
              "color": "#E5ECF6",
              "width": 0.5
             },
             "pattern": {
              "fillmode": "overlay",
              "size": 10,
              "solidity": 0.2
             }
            },
            "type": "barpolar"
           }
          ],
          "carpet": [
           {
            "aaxis": {
             "endlinecolor": "#2a3f5f",
             "gridcolor": "white",
             "linecolor": "white",
             "minorgridcolor": "white",
             "startlinecolor": "#2a3f5f"
            },
            "baxis": {
             "endlinecolor": "#2a3f5f",
             "gridcolor": "white",
             "linecolor": "white",
             "minorgridcolor": "white",
             "startlinecolor": "#2a3f5f"
            },
            "type": "carpet"
           }
          ],
          "choropleth": [
           {
            "colorbar": {
             "outlinewidth": 0,
             "ticks": ""
            },
            "type": "choropleth"
           }
          ],
          "contour": [
           {
            "colorbar": {
             "outlinewidth": 0,
             "ticks": ""
            },
            "colorscale": [
             [
              0,
              "#0d0887"
             ],
             [
              0.1111111111111111,
              "#46039f"
             ],
             [
              0.2222222222222222,
              "#7201a8"
             ],
             [
              0.3333333333333333,
              "#9c179e"
             ],
             [
              0.4444444444444444,
              "#bd3786"
             ],
             [
              0.5555555555555556,
              "#d8576b"
             ],
             [
              0.6666666666666666,
              "#ed7953"
             ],
             [
              0.7777777777777778,
              "#fb9f3a"
             ],
             [
              0.8888888888888888,
              "#fdca26"
             ],
             [
              1,
              "#f0f921"
             ]
            ],
            "type": "contour"
           }
          ],
          "contourcarpet": [
           {
            "colorbar": {
             "outlinewidth": 0,
             "ticks": ""
            },
            "type": "contourcarpet"
           }
          ],
          "heatmap": [
           {
            "colorbar": {
             "outlinewidth": 0,
             "ticks": ""
            },
            "colorscale": [
             [
              0,
              "#0d0887"
             ],
             [
              0.1111111111111111,
              "#46039f"
             ],
             [
              0.2222222222222222,
              "#7201a8"
             ],
             [
              0.3333333333333333,
              "#9c179e"
             ],
             [
              0.4444444444444444,
              "#bd3786"
             ],
             [
              0.5555555555555556,
              "#d8576b"
             ],
             [
              0.6666666666666666,
              "#ed7953"
             ],
             [
              0.7777777777777778,
              "#fb9f3a"
             ],
             [
              0.8888888888888888,
              "#fdca26"
             ],
             [
              1,
              "#f0f921"
             ]
            ],
            "type": "heatmap"
           }
          ],
          "histogram": [
           {
            "marker": {
             "pattern": {
              "fillmode": "overlay",
              "size": 10,
              "solidity": 0.2
             }
            },
            "type": "histogram"
           }
          ],
          "histogram2d": [
           {
            "colorbar": {
             "outlinewidth": 0,
             "ticks": ""
            },
            "colorscale": [
             [
              0,
              "#0d0887"
             ],
             [
              0.1111111111111111,
              "#46039f"
             ],
             [
              0.2222222222222222,
              "#7201a8"
             ],
             [
              0.3333333333333333,
              "#9c179e"
             ],
             [
              0.4444444444444444,
              "#bd3786"
             ],
             [
              0.5555555555555556,
              "#d8576b"
             ],
             [
              0.6666666666666666,
              "#ed7953"
             ],
             [
              0.7777777777777778,
              "#fb9f3a"
             ],
             [
              0.8888888888888888,
              "#fdca26"
             ],
             [
              1,
              "#f0f921"
             ]
            ],
            "type": "histogram2d"
           }
          ],
          "histogram2dcontour": [
           {
            "colorbar": {
             "outlinewidth": 0,
             "ticks": ""
            },
            "colorscale": [
             [
              0,
              "#0d0887"
             ],
             [
              0.1111111111111111,
              "#46039f"
             ],
             [
              0.2222222222222222,
              "#7201a8"
             ],
             [
              0.3333333333333333,
              "#9c179e"
             ],
             [
              0.4444444444444444,
              "#bd3786"
             ],
             [
              0.5555555555555556,
              "#d8576b"
             ],
             [
              0.6666666666666666,
              "#ed7953"
             ],
             [
              0.7777777777777778,
              "#fb9f3a"
             ],
             [
              0.8888888888888888,
              "#fdca26"
             ],
             [
              1,
              "#f0f921"
             ]
            ],
            "type": "histogram2dcontour"
           }
          ],
          "mesh3d": [
           {
            "colorbar": {
             "outlinewidth": 0,
             "ticks": ""
            },
            "type": "mesh3d"
           }
          ],
          "parcoords": [
           {
            "line": {
             "colorbar": {
              "outlinewidth": 0,
              "ticks": ""
             }
            },
            "type": "parcoords"
           }
          ],
          "pie": [
           {
            "automargin": true,
            "type": "pie"
           }
          ],
          "scatter": [
           {
            "fillpattern": {
             "fillmode": "overlay",
             "size": 10,
             "solidity": 0.2
            },
            "type": "scatter"
           }
          ],
          "scatter3d": [
           {
            "line": {
             "colorbar": {
              "outlinewidth": 0,
              "ticks": ""
             }
            },
            "marker": {
             "colorbar": {
              "outlinewidth": 0,
              "ticks": ""
             }
            },
            "type": "scatter3d"
           }
          ],
          "scattercarpet": [
           {
            "marker": {
             "colorbar": {
              "outlinewidth": 0,
              "ticks": ""
             }
            },
            "type": "scattercarpet"
           }
          ],
          "scattergeo": [
           {
            "marker": {
             "colorbar": {
              "outlinewidth": 0,
              "ticks": ""
             }
            },
            "type": "scattergeo"
           }
          ],
          "scattergl": [
           {
            "marker": {
             "colorbar": {
              "outlinewidth": 0,
              "ticks": ""
             }
            },
            "type": "scattergl"
           }
          ],
          "scattermap": [
           {
            "marker": {
             "colorbar": {
              "outlinewidth": 0,
              "ticks": ""
             }
            },
            "type": "scattermap"
           }
          ],
          "scattermapbox": [
           {
            "marker": {
             "colorbar": {
              "outlinewidth": 0,
              "ticks": ""
             }
            },
            "type": "scattermapbox"
           }
          ],
          "scatterpolar": [
           {
            "marker": {
             "colorbar": {
              "outlinewidth": 0,
              "ticks": ""
             }
            },
            "type": "scatterpolar"
           }
          ],
          "scatterpolargl": [
           {
            "marker": {
             "colorbar": {
              "outlinewidth": 0,
              "ticks": ""
             }
            },
            "type": "scatterpolargl"
           }
          ],
          "scatterternary": [
           {
            "marker": {
             "colorbar": {
              "outlinewidth": 0,
              "ticks": ""
             }
            },
            "type": "scatterternary"
           }
          ],
          "surface": [
           {
            "colorbar": {
             "outlinewidth": 0,
             "ticks": ""
            },
            "colorscale": [
             [
              0,
              "#0d0887"
             ],
             [
              0.1111111111111111,
              "#46039f"
             ],
             [
              0.2222222222222222,
              "#7201a8"
             ],
             [
              0.3333333333333333,
              "#9c179e"
             ],
             [
              0.4444444444444444,
              "#bd3786"
             ],
             [
              0.5555555555555556,
              "#d8576b"
             ],
             [
              0.6666666666666666,
              "#ed7953"
             ],
             [
              0.7777777777777778,
              "#fb9f3a"
             ],
             [
              0.8888888888888888,
              "#fdca26"
             ],
             [
              1,
              "#f0f921"
             ]
            ],
            "type": "surface"
           }
          ],
          "table": [
           {
            "cells": {
             "fill": {
              "color": "#EBF0F8"
             },
             "line": {
              "color": "white"
             }
            },
            "header": {
             "fill": {
              "color": "#C8D4E3"
             },
             "line": {
              "color": "white"
             }
            },
            "type": "table"
           }
          ]
         },
         "layout": {
          "annotationdefaults": {
           "arrowcolor": "#2a3f5f",
           "arrowhead": 0,
           "arrowwidth": 1
          },
          "autotypenumbers": "strict",
          "coloraxis": {
           "colorbar": {
            "outlinewidth": 0,
            "ticks": ""
           }
          },
          "colorscale": {
           "diverging": [
            [
             0,
             "#8e0152"
            ],
            [
             0.1,
             "#c51b7d"
            ],
            [
             0.2,
             "#de77ae"
            ],
            [
             0.3,
             "#f1b6da"
            ],
            [
             0.4,
             "#fde0ef"
            ],
            [
             0.5,
             "#f7f7f7"
            ],
            [
             0.6,
             "#e6f5d0"
            ],
            [
             0.7,
             "#b8e186"
            ],
            [
             0.8,
             "#7fbc41"
            ],
            [
             0.9,
             "#4d9221"
            ],
            [
             1,
             "#276419"
            ]
           ],
           "sequential": [
            [
             0,
             "#0d0887"
            ],
            [
             0.1111111111111111,
             "#46039f"
            ],
            [
             0.2222222222222222,
             "#7201a8"
            ],
            [
             0.3333333333333333,
             "#9c179e"
            ],
            [
             0.4444444444444444,
             "#bd3786"
            ],
            [
             0.5555555555555556,
             "#d8576b"
            ],
            [
             0.6666666666666666,
             "#ed7953"
            ],
            [
             0.7777777777777778,
             "#fb9f3a"
            ],
            [
             0.8888888888888888,
             "#fdca26"
            ],
            [
             1,
             "#f0f921"
            ]
           ],
           "sequentialminus": [
            [
             0,
             "#0d0887"
            ],
            [
             0.1111111111111111,
             "#46039f"
            ],
            [
             0.2222222222222222,
             "#7201a8"
            ],
            [
             0.3333333333333333,
             "#9c179e"
            ],
            [
             0.4444444444444444,
             "#bd3786"
            ],
            [
             0.5555555555555556,
             "#d8576b"
            ],
            [
             0.6666666666666666,
             "#ed7953"
            ],
            [
             0.7777777777777778,
             "#fb9f3a"
            ],
            [
             0.8888888888888888,
             "#fdca26"
            ],
            [
             1,
             "#f0f921"
            ]
           ]
          },
          "colorway": [
           "#636efa",
           "#EF553B",
           "#00cc96",
           "#ab63fa",
           "#FFA15A",
           "#19d3f3",
           "#FF6692",
           "#B6E880",
           "#FF97FF",
           "#FECB52"
          ],
          "font": {
           "color": "#2a3f5f"
          },
          "geo": {
           "bgcolor": "white",
           "lakecolor": "white",
           "landcolor": "#E5ECF6",
           "showlakes": true,
           "showland": true,
           "subunitcolor": "white"
          },
          "hoverlabel": {
           "align": "left"
          },
          "hovermode": "closest",
          "mapbox": {
           "style": "light"
          },
          "paper_bgcolor": "white",
          "plot_bgcolor": "#E5ECF6",
          "polar": {
           "angularaxis": {
            "gridcolor": "white",
            "linecolor": "white",
            "ticks": ""
           },
           "bgcolor": "#E5ECF6",
           "radialaxis": {
            "gridcolor": "white",
            "linecolor": "white",
            "ticks": ""
           }
          },
          "scene": {
           "xaxis": {
            "backgroundcolor": "#E5ECF6",
            "gridcolor": "white",
            "gridwidth": 2,
            "linecolor": "white",
            "showbackground": true,
            "ticks": "",
            "zerolinecolor": "white"
           },
           "yaxis": {
            "backgroundcolor": "#E5ECF6",
            "gridcolor": "white",
            "gridwidth": 2,
            "linecolor": "white",
            "showbackground": true,
            "ticks": "",
            "zerolinecolor": "white"
           },
           "zaxis": {
            "backgroundcolor": "#E5ECF6",
            "gridcolor": "white",
            "gridwidth": 2,
            "linecolor": "white",
            "showbackground": true,
            "ticks": "",
            "zerolinecolor": "white"
           }
          },
          "shapedefaults": {
           "line": {
            "color": "#2a3f5f"
           }
          },
          "ternary": {
           "aaxis": {
            "gridcolor": "white",
            "linecolor": "white",
            "ticks": ""
           },
           "baxis": {
            "gridcolor": "white",
            "linecolor": "white",
            "ticks": ""
           },
           "bgcolor": "#E5ECF6",
           "caxis": {
            "gridcolor": "white",
            "linecolor": "white",
            "ticks": ""
           }
          },
          "title": {
           "x": 0.05
          },
          "xaxis": {
           "automargin": true,
           "gridcolor": "white",
           "linecolor": "white",
           "ticks": "",
           "title": {
            "standoff": 15
           },
           "zerolinecolor": "white",
           "zerolinewidth": 2
          },
          "yaxis": {
           "automargin": true,
           "gridcolor": "white",
           "linecolor": "white",
           "ticks": "",
           "title": {
            "standoff": 15
           },
           "zerolinecolor": "white",
           "zerolinewidth": 2
          }
         }
        },
        "title": {
         "text": "Character Analysis: Narrative Presence vs Emotional Framing"
        },
        "xaxis": {
         "anchor": "y",
         "domain": [
          0,
          1
         ],
         "title": {
          "text": "Number of Paragraph Mentions"
         }
        },
        "yaxis": {
         "anchor": "x",
         "domain": [
          0,
          1
         ],
         "title": {
          "text": "Average Sentiment Score"
         }
        }
       }
      }
     },
     "metadata": {},
     "output_type": "display_data"
    },
    {
     "name": "stdout",
     "output_type": "stream",
     "text": [
      "🎭 Character Analysis - Key Findings:\n",
      "✨ Most positively portrayed: Agatha (sentiment: 0.107)\n",
      "⛈️ Most negatively portrayed: Justine (sentiment: -0.181)\n",
      "📈 Most frequently mentioned: Alphonse (125 paragraphs)\n",
      "📊 Characters analyzed: 10\n",
      "\n",
      "🔍 Character Emotional Patterns:\n",
      "       Agatha:  58.8% pos,  23.5% neu,  17.6% neg (avg:  0.107)\n",
      "       Ernest:  42.9% pos,  35.7% neu,  21.4% neg (avg:  0.023)\n",
      "    Elizabeth:  33.8% pos,  28.7% neu,  37.5% neg (avg:  0.018)\n",
      "        Felix:  36.8% pos,  36.8% neu,  26.3% neg (avg: -0.001)\n",
      "        Henry:  32.3% pos,  27.7% neu,  40.0% neg (avg: -0.008)\n",
      "     Alphonse:  28.0% pos,  36.8% neu,  35.2% neg (avg: -0.012)\n",
      "       Victor:  15.1% pos,  41.5% neu,  43.4% neg (avg: -0.127)\n",
      "      William:  16.7% pos,  25.0% neu,  58.3% neg (avg: -0.130)\n",
      "      Monster:  16.5% pos,  25.7% neu,  57.8% neg (avg: -0.136)\n",
      "      Justine:  12.5% pos,  12.5% neu,  75.0% neg (avg: -0.181)\n"
     ]
    }
   ],
   "source": [
    "# Character Sentiment Analysis Visualizations\n",
    "try:\n",
    "    # Sort by sentiment for better visualization\n",
    "    character_df_sorted = character_sentiment_df.sort_values('Avg_Sentiment', ascending=False)\n",
    "    \n",
    "    # 1. Character Sentiment Overview Bar Chart\n",
    "    fig1 = px.bar(\n",
    "        character_df_sorted,\n",
    "        x='Character',\n",
    "        y='Avg_Sentiment',\n",
    "        color='Avg_Sentiment',\n",
    "        color_continuous_scale='RdYlGn',\n",
    "        color_continuous_midpoint=0,\n",
    "        title='Character Emotional Framing: Average Sentiment by Character',\n",
    "        labels={'Avg_Sentiment': 'Average Sentiment Score'},\n",
    "        hover_data=['Total_Mentions', 'Total_Words']\n",
    "    )\n",
    "    \n",
    "    fig1.add_hline(y=0, line_dash=\"dash\", line_color=\"gray\", \n",
    "                   annotation_text=\"Neutral Baseline\", annotation_position=\"top right\")\n",
    "    \n",
    "    fig1.update_layout(\n",
    "        height=500,\n",
    "        xaxis_title=\"Character\",\n",
    "        yaxis_title=\"Average Sentiment Score\",\n",
    "        showlegend=False\n",
    "    )\n",
    "    \n",
    "    # Show with offline configuration for HTML export\n",
    "    py.iplot(fig1, show_link=False, config={'displayModeBar': True})\n",
    "    \n",
    "    # 2. Sentiment Distribution Stack Chart\n",
    "    fig2 = go.Figure()\n",
    "    \n",
    "    fig2.add_trace(go.Bar(\n",
    "        name='Positive Mentions',\n",
    "        x=character_df_sorted['Character'],\n",
    "        y=character_df_sorted['Positive_Mentions'],\n",
    "        marker_color='#2E8B57',\n",
    "        opacity=0.8\n",
    "    ))\n",
    "    \n",
    "    fig2.add_trace(go.Bar(\n",
    "        name='Neutral Mentions',\n",
    "        x=character_df_sorted['Character'],\n",
    "        y=character_df_sorted['Neutral_Mentions'],\n",
    "        marker_color='#708090',\n",
    "        opacity=0.8\n",
    "    ))\n",
    "    \n",
    "    fig2.add_trace(go.Bar(\n",
    "        name='Negative Mentions',\n",
    "        x=character_df_sorted['Character'],\n",
    "        y=character_df_sorted['Negative_Mentions'],\n",
    "        marker_color='#CD5C5C',\n",
    "        opacity=0.8\n",
    "    ))\n",
    "    \n",
    "    fig2.update_layout(\n",
    "        barmode='stack',\n",
    "        title='Character Emotional Complexity: Sentiment Distribution by Character',\n",
    "        xaxis_title='Character',\n",
    "        yaxis_title='Number of Paragraphs',\n",
    "        height=500\n",
    "    )\n",
    "    \n",
    "    # Show with offline configuration for HTML export\n",
    "    py.iplot(fig2, show_link=False, config={'displayModeBar': True})\n",
    "    \n",
    "    # 3. Character Frequency vs Sentiment Scatter Plot\n",
    "    fig3 = px.scatter(\n",
    "        character_df_sorted,\n",
    "        x='Total_Mentions',\n",
    "        y='Avg_Sentiment',\n",
    "        size='Total_Words',\n",
    "        color='Avg_Sentiment',\n",
    "        color_continuous_scale='RdYlGn',\n",
    "        color_continuous_midpoint=0,\n",
    "        hover_name='Character',\n",
    "        title='Character Analysis: Narrative Presence vs Emotional Framing',\n",
    "        labels={\n",
    "            'Total_Mentions': 'Number of Paragraph Mentions',\n",
    "            'Avg_Sentiment': 'Average Sentiment Score',\n",
    "            'Total_Words': 'Total Words in Context'\n",
    "        }\n",
    "    )\n",
    "    \n",
    "    # Add reference lines\n",
    "    fig3.add_hline(y=0, line_dash=\"dash\", line_color=\"gray\", opacity=0.5)\n",
    "    fig3.add_vline(x=character_df_sorted['Total_Mentions'].median(), \n",
    "                   line_dash=\"dash\", line_color=\"gray\", opacity=0.5)\n",
    "    \n",
    "    fig3.update_layout(height=500)\n",
    "    \n",
    "    # Show with offline configuration for HTML export\n",
    "    py.iplot(fig3, show_link=False, config={'displayModeBar': True})\n",
    "    \n",
    "    # Display key insights\n",
    "    most_positive = character_df_sorted.iloc[0]\n",
    "    most_negative = character_df_sorted.iloc[-1]\n",
    "    most_mentioned = character_df_sorted.loc[character_df_sorted['Total_Mentions'].idxmax()]\n",
    "    \n",
    "    print(\"🎭 Character Analysis - Key Findings:\")\n",
    "    print(f\"✨ Most positively portrayed: {most_positive['Character']} (sentiment: {most_positive['Avg_Sentiment']:.3f})\")\n",
    "    print(f\"⛈️ Most negatively portrayed: {most_negative['Character']} (sentiment: {most_negative['Avg_Sentiment']:.3f})\")\n",
    "    print(f\"📈 Most frequently mentioned: {most_mentioned['Character']} ({most_mentioned['Total_Mentions']} paragraphs)\")\n",
    "    print(f\"📊 Characters analyzed: {len(character_df_sorted)}\")\n",
    "    \n",
    "    print(f\"\\n🔍 Character Emotional Patterns:\")\n",
    "    for _, row in character_df_sorted.iterrows():\n",
    "        pos_pct = (row['Positive_Mentions'] / row['Total_Mentions'] * 100)\n",
    "        neg_pct = (row['Negative_Mentions'] / row['Total_Mentions'] * 100)\n",
    "        neu_pct = (row['Neutral_Mentions'] / row['Total_Mentions'] * 100)\n",
    "        \n",
    "        print(f\"   {row['Character']:>10}: {pos_pct:5.1f}% pos, {neu_pct:5.1f}% neu, {neg_pct:5.1f}% neg (avg: {row['Avg_Sentiment']:6.3f})\")\n",
    "\n",
    "except NameError:\n",
    "    print(\"⚠️ Character analysis data not available - please run the data loading cell first\")"
   ]
  },
  {
   "cell_type": "markdown",
   "id": "832a7987",
   "metadata": {},
   "source": [
    "### Character Sentiment Insights\n",
    "\n",
    "The character-based sentiment analysis reveals several fascinating patterns in Shelley's characterization:\n",
    "\n",
    "**Most Positively Framed Characters**:\n",
    "- **Elizabeth**: Consistently associated with positive emotional language, representing domesticity and love\n",
    "- **Henry Clerval**: Framed as Victor's moral compass and source of positive influence\n",
    "\n",
    "**Most Negatively Framed Characters**:\n",
    "- **The Monster**: Despite being a complex character deserving sympathy, often surrounded by negative emotional language\n",
    "- **Victor**: Surprisingly negative sentiment, reflecting his internal torment and moral complexity\n",
    "\n",
    "**Complex Characterization**:\n",
    "- Characters with mixed sentiment patterns show Shelley's nuanced approach to characterization\n",
    "- The frequency vs. sentiment analysis reveals that major characters often have more complex emotional profiles\n",
    "\n",
    "## Literary and Critical Implications\n",
    "\n",
    "### Geographic Symbolism\n",
    "Shelley's geographic choices are far from arbitrary. The sentiment analysis reveals that she consistently associates certain types of locations with specific emotional tones, creating a symbolic geography that reinforces the novel's themes:\n",
    "\n",
    "- **Domestic spaces** tend toward positive sentiment, representing safety and family bonds\n",
    "- **Scientific/laboratory spaces** carry negative associations, reflecting the dangerous nature of Victor's pursuits\n",
    "- **Natural wilderness** shows mixed sentiment, serving both as refuge and as sites of confrontation\n",
    "\n",
    "### Character Psychology and Moral Framework\n",
    "The character sentiment analysis illuminates Shelley's moral framework:\n",
    "\n",
    "- **Victor's negative sentiment** suggests Shelley's critique of unchecked scientific ambition\n",
    "- **The Monster's treatment** reveals the complex interplay between sympathy and horror in Gothic fiction\n",
    "- **Elizabeth's consistently positive framing** reinforces traditional gender roles while highlighting what Victor loses through his obsessions\n",
    "\n",
    "### Methodological Innovation\n",
    "This computational approach reveals patterns that would be difficult to detect through traditional close reading:\n",
    "\n",
    "- **Quantified emotional patterns** provide evidence for interpretive claims about character and setting\n",
    "- **Geographic distribution analysis** reveals the scope of Shelley's imaginative world-building\n",
    "- **Sentiment mapping** creates new ways of understanding the relationship between place and emotion in literary texts\n",
    "\n",
    "## Conclusion: Digital Humanities and Literary Understanding\n",
    "\n",
    "This analysis demonstrates how digital humanities methods can enhance rather than replace traditional literary analysis. By applying computational techniques to *Frankenstein*, we uncover:\n",
    "\n",
    "1. **Hidden Patterns**: Quantitative analysis reveals consistent patterns in Shelley's treatment of geography and character\n",
    "\n",
    "2. **Evidence-Based Interpretation**: Sentiment analysis provides measurable evidence for claims about characterization and setting\n",
    "\n",
    "3. **New Research Questions**: These visualizations generate new questions about Gothic literature, gender roles, and the relationship between science and emotion in Romantic literature\n",
    "\n",
    "4. **Accessible Analysis**: Interactive visualizations make complex literary patterns visible and explorable\n",
    "\n",
    "The computational analysis of *Frankenstein* reveals Mary Shelley as a sophisticated architect of both geographic and emotional landscapes. Her novel operates through carefully constructed patterns of place and sentiment that reinforce its central themes about creation, responsibility, and the consequences of unchecked ambition.\n",
    "\n",
    "Rather than diminishing the literary richness of *Frankenstein*, digital analysis reveals new dimensions of Shelley's artistic achievement, demonstrating how computational methods can serve literary understanding and open new avenues for critical interpretation.\n",
    "\n",
    "---\n",
    "\n",
    "*This analysis was conducted using computational text analysis, geoparsing technology, and RoBERTa sentiment analysis. All visualizations are interactive and can be explored in detail to examine specific locations, characters, and textual patterns.*"
   ]
  }
 ],
 "metadata": {
  "kernelspec": {
   "display_name": "Python 3",
   "language": "python",
   "name": "python3"
  },
  "language_info": {
   "codemirror_mode": {
    "name": "ipython",
    "version": 3
   },
   "file_extension": ".py",
   "mimetype": "text/x-python",
   "name": "python",
   "nbconvert_exporter": "python",
   "pygments_lexer": "ipython3",
   "version": "3.13.7"
  }
 },
 "nbformat": 4,
 "nbformat_minor": 5
}
