{
 "cells": [
  {
   "cell_type": "markdown",
   "id": "9880cf06",
   "metadata": {},
   "source": [
    "# Frankenstein Analysis - OPTIMIZED WORKFLOW\n",
    "\n",
    "## Key Improvements:\n",
    "1. **Single Sentiment Analysis Run**: Sentiment analysis runs only once on all paragraphs\n",
    "2. **Skip Geoparsing**: Uses manual location data from CSV (no redundant toponym extraction)  \n",
    "3. **Parquet Storage**: All results saved as parquet files for fast loading in presentation\n",
    "4. **Efficient Processing**: No duplicate work, streamlined pipeline\n",
    "\n",
    "This optimized version eliminates redundancies and creates a clean data pipeline for the presentation notebook."
   ]
  },
  {
   "cell_type": "code",
   "execution_count": 71,
   "id": "1580adef",
   "metadata": {},
   "outputs": [],
   "source": [
    "import pandas as pd\n",
    "import numpy as np  "
   ]
  },
  {
   "cell_type": "code",
   "execution_count": 72,
   "id": "4a8ab3d5",
   "metadata": {},
   "outputs": [
    {
     "name": "stdout",
     "output_type": "stream",
     "text": [
      "Found 5 text files:\n",
      "  - data\\frankenstein_closing_letters.txt\n",
      "  - data\\frankenstein_opening_letters.txt\n",
      "  - data\\frankenstein_vol_1.txt\n",
      "  - data\\frankenstein_vol_2.txt\n",
      "  - data\\frankenstein_vol_3.txt\n"
     ]
    }
   ],
   "source": [
    "import os\n",
    "import glob\n",
    "\n",
    "# Get all .txt files in the data folder\n",
    "data_folder = \"data\"\n",
    "txt_files = glob.glob(os.path.join(data_folder, \"*.txt\"))\n",
    "\n",
    "print(f\"Found {len(txt_files)} text files:\")\n",
    "for file in txt_files:\n",
    "    print(f\"  - {file}\")"
   ]
  },
  {
   "cell_type": "code",
   "execution_count": 73,
   "id": "e56ed525",
   "metadata": {},
   "outputs": [
    {
     "name": "stdout",
     "output_type": "stream",
     "text": [
      "Successfully read frankenstein_closing_letters.txt - 29538 characters\n",
      "Successfully read frankenstein_opening_letters.txt - 27242 characters\n",
      "Successfully read frankenstein_vol_1.txt - 109938 characters\n",
      "Successfully read frankenstein_vol_2.txt - 119221 characters\n",
      "Successfully read frankenstein_vol_3.txt - 117369 characters\n",
      "\n",
      "DataFrame created with 5 sections:\n",
      "      text_section\n",
      "0  closing_letters\n",
      "1  opening_letters\n",
      "2            vol_1\n",
      "3            vol_2\n",
      "4            vol_3\n",
      "\n",
      "Text length by section:\n",
      "  closing_letters: 29538 characters\n",
      "  opening_letters: 27242 characters\n",
      "  vol_1: 109938 characters\n",
      "  vol_2: 119221 characters\n",
      "  vol_3: 117369 characters\n"
     ]
    }
   ],
   "source": [
    "# Read all text files into a DataFrame\n",
    "data_rows = []\n",
    "\n",
    "for file_path in txt_files:\n",
    "    # Extract the text_section name (part between 'frankenstein_' and '.txt')\n",
    "    filename = os.path.basename(file_path)\n",
    "    if filename.startswith('frankenstein_') and filename.endswith('.txt'):\n",
    "        text_section = filename[len('frankenstein_'):-len('.txt')]\n",
    "        \n",
    "        # Read the full text content\n",
    "        try:\n",
    "            with open(file_path, 'r', encoding='utf-8') as f:\n",
    "                full_text = f.read()\n",
    "            \n",
    "            data_rows.append({\n",
    "                'text_section': text_section,\n",
    "                'full_text': full_text\n",
    "            })\n",
    "            print(f\"Successfully read {filename} - {len(full_text)} characters\")\n",
    "            \n",
    "        except Exception as e:\n",
    "            print(f\"Error reading {filename}: {e}\")\n",
    "\n",
    "# Create the DataFrame\n",
    "frankenstein_df = pd.DataFrame(data_rows)\n",
    "\n",
    "# Display basic info about the DataFrame\n",
    "print(f\"\\nDataFrame created with {len(frankenstein_df)} sections:\")\n",
    "print(frankenstein_df[['text_section']].head())\n",
    "print(f\"\\nText length by section:\")\n",
    "for _, row in frankenstein_df.iterrows():\n",
    "    print(f\"  {row['text_section']}: {len(row['full_text'])} characters\")"
   ]
  },
  {
   "cell_type": "code",
   "execution_count": 74,
   "id": "b2ad965c",
   "metadata": {},
   "outputs": [
    {
     "name": "stdout",
     "output_type": "stream",
     "text": [
      "CORRECTED DataFrame with 27 chapters/letters:\n",
      "\n",
      "Breakdown by section:\n",
      "  vol_2: 9 chapters/letters\n",
      "  vol_1: 7 chapters/letters\n",
      "  vol_3: 7 chapters/letters\n",
      "  opening_letters: 4 chapters/letters\n",
      "\n",
      "All entries:\n",
      "opening_letters      | LETTER I        |   6858 characters\n",
      "opening_letters      | LETTER II       |   5918 characters\n",
      "opening_letters      | LETTER III      |   1350 characters\n",
      "opening_letters      | LETTER IV       |  13048 characters\n",
      "vol_1                | CHAPTER I       |  17173 characters\n",
      "vol_1                | CHAPTER II      |  12894 characters\n",
      "vol_1                | CHAPTER III     |  14548 characters\n",
      "vol_1                | CHAPTER IV      |  13012 characters\n",
      "vol_1                | CHAPTER V       |  15373 characters\n",
      "vol_1                | CHAPTER VI      |  19879 characters\n",
      "vol_1                | CHAPTER VII     |  16931 characters\n",
      "vol_2                | CHAPTER I       |  11544 characters\n",
      "vol_2                | CHAPTER II      |  12437 characters\n",
      "vol_2                | CHAPTER III     |  15986 characters\n",
      "vol_2                | CHAPTER IV      |  12019 characters\n",
      "vol_2                | CHAPTER V       |  11607 characters\n",
      "vol_2                | CHAPTER VI      |  10518 characters\n",
      "vol_2                | CHAPTER VII     |  17178 characters\n",
      "vol_2                | CHAPTER VIII    |  16908 characters\n",
      "vol_2                | CHAPTER IX      |  10855 characters\n",
      "vol_3                | CHAPTER I       |  15257 characters\n",
      "vol_3                | CHAPTER II      |  14489 characters\n",
      "vol_3                | CHAPTER III     |  18686 characters\n",
      "vol_3                | CHAPTER IV      |  20158 characters\n",
      "vol_3                | CHAPTER V       |  18525 characters\n",
      "vol_3                | CHAPTER VI      |  13702 characters\n",
      "vol_3                | CHAPTER VII     |  16417 characters\n"
     ]
    }
   ],
   "source": [
    "# Fixed parsing to properly handle chapters that contain embedded letters\n",
    "def extract_chapters_and_letters_fixed(text_section, full_text):\n",
    "    \"\"\"Extract individual chapters and letters with proper hierarchy handling\"\"\"\n",
    "    chapters_letters = []\n",
    "    \n",
    "    # First, find all CHAPTER markers (these take priority)\n",
    "    chapter_pattern = r'(CHAPTER\\s+[IVX\\d]+\\.?)'\n",
    "    chapter_matches = list(re.finditer(chapter_pattern, full_text, flags=re.IGNORECASE))\n",
    "    \n",
    "    # Then find all LETTER markers that are at the START of sections (not embedded)\n",
    "    letter_pattern = r'(LETTER\\s+[IVX\\d]+\\.?)'\n",
    "    letter_matches = list(re.finditer(letter_pattern, full_text, flags=re.IGNORECASE))\n",
    "    \n",
    "    # Filter out letter matches that fall within chapter boundaries\n",
    "    filtered_letter_matches = []\n",
    "    for letter_match in letter_matches:\n",
    "        is_embedded = False\n",
    "        for i, chapter_match in enumerate(chapter_matches):\n",
    "            # Check if this letter falls within a chapter\n",
    "            chapter_start = chapter_match.start()\n",
    "            chapter_end = chapter_matches[i + 1].start() if i + 1 < len(chapter_matches) else len(full_text)\n",
    "            \n",
    "            if chapter_start < letter_match.start() < chapter_end:\n",
    "                is_embedded = True\n",
    "                break\n",
    "        \n",
    "        if not is_embedded:\n",
    "            filtered_letter_matches.append(letter_match)\n",
    "    \n",
    "    # Combine chapter and filtered letter matches, sort by position\n",
    "    all_matches = chapter_matches + filtered_letter_matches\n",
    "    all_matches.sort(key=lambda x: x.start())\n",
    "    \n",
    "    # Process each match\n",
    "    for i, match in enumerate(all_matches):\n",
    "        title = match.group(1).replace('.', '').strip().upper()\n",
    "        start_pos = match.end()\n",
    "        \n",
    "        # Find the end position (start of next chapter/letter or end of text)\n",
    "        if i + 1 < len(all_matches):\n",
    "            end_pos = all_matches[i + 1].start()\n",
    "        else:\n",
    "            end_pos = len(full_text)\n",
    "        \n",
    "        content = full_text[start_pos:end_pos].strip()\n",
    "        \n",
    "        # Only include if content is substantial (more than 100 characters)\n",
    "        if len(content) > 100:\n",
    "            chapters_letters.append({\n",
    "                'text_section': text_section,\n",
    "                'chapter_letter': title,\n",
    "                'full_text': content\n",
    "            })\n",
    "    \n",
    "    return chapters_letters\n",
    "\n",
    "# Re-process with fixed function\n",
    "unnested_data_fixed = []\n",
    "for _, row in frankenstein_df.iterrows():\n",
    "    extracted = extract_chapters_and_letters_fixed(row['text_section'], row['full_text'])\n",
    "    unnested_data_fixed.extend(extracted)\n",
    "\n",
    "# Create the corrected DataFrame\n",
    "frankenstein_corrected_df = pd.DataFrame(unnested_data_fixed)\n",
    "\n",
    "print(f\"CORRECTED DataFrame with {len(frankenstein_corrected_df)} chapters/letters:\")\n",
    "print(\"\\nBreakdown by section:\")\n",
    "section_counts = frankenstein_corrected_df['text_section'].value_counts()\n",
    "for section, count in section_counts.items():\n",
    "    print(f\"  {section}: {count} chapters/letters\")\n",
    "\n",
    "print(f\"\\nAll entries:\")\n",
    "for _, row in frankenstein_corrected_df.iterrows():\n",
    "    print(f\"{row['text_section']:<20} | {row['chapter_letter']:<15} | {len(row['full_text']):>6} characters\")"
   ]
  },
  {
   "cell_type": "code",
   "execution_count": 75,
   "id": "02dd146d",
   "metadata": {},
   "outputs": [
    {
     "name": "stdout",
     "output_type": "stream",
     "text": [
      "FINAL CORRECTED DataFrame with 28 chapters/letters:\n",
      "\n",
      "Breakdown by section:\n",
      "  vol_2: 9 chapters/letters\n",
      "  vol_3: 7 chapters/letters\n",
      "  vol_1: 7 chapters/letters\n",
      "  opening_letters: 4 chapters/letters\n",
      "  closing_letters: 1 chapters/letters\n",
      "\n",
      "All entries (now including closing_letters):\n",
      "closing_letters      | CLOSING LETTERS |  29534 characters\n",
      "opening_letters      | LETTER I        |   6858 characters\n",
      "opening_letters      | LETTER II       |   5918 characters\n",
      "opening_letters      | LETTER III      |   1350 characters\n",
      "opening_letters      | LETTER IV       |  13048 characters\n",
      "vol_1                | CHAPTER I       |  17173 characters\n",
      "vol_1                | CHAPTER II      |  12894 characters\n",
      "vol_1                | CHAPTER III     |  14548 characters\n",
      "vol_1                | CHAPTER IV      |  13012 characters\n",
      "vol_1                | CHAPTER V       |  15373 characters\n",
      "vol_1                | CHAPTER VI      |  19879 characters\n",
      "vol_1                | CHAPTER VII     |  16931 characters\n",
      "vol_2                | CHAPTER I       |  11544 characters\n",
      "vol_2                | CHAPTER II      |  12437 characters\n",
      "vol_2                | CHAPTER III     |  15986 characters\n",
      "vol_2                | CHAPTER IV      |  12019 characters\n",
      "vol_2                | CHAPTER V       |  11607 characters\n",
      "vol_2                | CHAPTER VI      |  10518 characters\n",
      "vol_2                | CHAPTER VII     |  17178 characters\n",
      "vol_2                | CHAPTER VIII    |  16908 characters\n",
      "vol_2                | CHAPTER IX      |  10855 characters\n",
      "vol_3                | CHAPTER I       |  15257 characters\n",
      "vol_3                | CHAPTER II      |  14489 characters\n",
      "vol_3                | CHAPTER III     |  18686 characters\n",
      "vol_3                | CHAPTER IV      |  20158 characters\n",
      "vol_3                | CHAPTER V       |  18525 characters\n",
      "vol_3                | CHAPTER VI      |  13702 characters\n",
      "vol_3                | CHAPTER VII     |  16417 characters\n"
     ]
    }
   ],
   "source": [
    "# Final corrected parsing to include closing_letters as one chunk\n",
    "def extract_chapters_and_letters_final(text_section, full_text):\n",
    "    \"\"\"Extract chapters/letters with special handling for closing_letters\"\"\"\n",
    "    chapters_letters = []\n",
    "    \n",
    "    # Special case for closing_letters - treat as one complete section\n",
    "    if text_section == 'closing_letters':\n",
    "        chapters_letters.append({\n",
    "            'text_section': text_section,\n",
    "            'chapter_letter': 'CLOSING LETTERS',  # Descriptive name\n",
    "            'full_text': full_text.strip()\n",
    "        })\n",
    "        return chapters_letters\n",
    "    \n",
    "    # For all other sections, use the existing logic\n",
    "    # First, find all CHAPTER markers (these take priority)\n",
    "    chapter_pattern = r'(CHAPTER\\s+[IVX\\d]+\\.?)'\n",
    "    chapter_matches = list(re.finditer(chapter_pattern, full_text, flags=re.IGNORECASE))\n",
    "    \n",
    "    # Then find all LETTER markers that are at the START of sections (not embedded)\n",
    "    letter_pattern = r'(LETTER\\s+[IVX\\d]+\\.?)'\n",
    "    letter_matches = list(re.finditer(letter_pattern, full_text, flags=re.IGNORECASE))\n",
    "    \n",
    "    # Filter out letter matches that fall within chapter boundaries\n",
    "    filtered_letter_matches = []\n",
    "    for letter_match in letter_matches:\n",
    "        is_embedded = False\n",
    "        for i, chapter_match in enumerate(chapter_matches):\n",
    "            # Check if this letter falls within a chapter\n",
    "            chapter_start = chapter_match.start()\n",
    "            chapter_end = chapter_matches[i + 1].start() if i + 1 < len(chapter_matches) else len(full_text)\n",
    "            \n",
    "            if chapter_start < letter_match.start() < chapter_end:\n",
    "                is_embedded = True\n",
    "                break\n",
    "        \n",
    "        if not is_embedded:\n",
    "            filtered_letter_matches.append(letter_match)\n",
    "    \n",
    "    # Combine chapter and filtered letter matches, sort by position\n",
    "    all_matches = chapter_matches + filtered_letter_matches\n",
    "    all_matches.sort(key=lambda x: x.start())\n",
    "    \n",
    "    # Process each match\n",
    "    for i, match in enumerate(all_matches):\n",
    "        title = match.group(1).replace('.', '').strip().upper()\n",
    "        start_pos = match.end()\n",
    "        \n",
    "        # Find the end position (start of next chapter/letter or end of text)\n",
    "        if i + 1 < len(all_matches):\n",
    "            end_pos = all_matches[i + 1].start()\n",
    "        else:\n",
    "            end_pos = len(full_text)\n",
    "        \n",
    "        content = full_text[start_pos:end_pos].strip()\n",
    "        \n",
    "        # Only include if content is substantial (more than 100 characters)\n",
    "        if len(content) > 100:\n",
    "            chapters_letters.append({\n",
    "                'text_section': text_section,\n",
    "                'chapter_letter': title,\n",
    "                'full_text': content\n",
    "            })\n",
    "    \n",
    "    return chapters_letters\n",
    "\n",
    "# Re-process with the final corrected function\n",
    "unnested_data_final = []\n",
    "for _, row in frankenstein_df.iterrows():\n",
    "    extracted = extract_chapters_and_letters_final(row['text_section'], row['full_text'])\n",
    "    unnested_data_final.extend(extracted)\n",
    "\n",
    "# Create the final corrected DataFrame\n",
    "frankenstein_final_df = pd.DataFrame(unnested_data_final)\n",
    "\n",
    "print(f\"FINAL CORRECTED DataFrame with {len(frankenstein_final_df)} chapters/letters:\")\n",
    "print(\"\\nBreakdown by section:\")\n",
    "section_counts = frankenstein_final_df['text_section'].value_counts()\n",
    "for section, count in section_counts.items():\n",
    "    print(f\"  {section}: {count} chapters/letters\")\n",
    "\n",
    "print(f\"\\nAll entries (now including closing_letters):\")\n",
    "for _, row in frankenstein_final_df.iterrows():\n",
    "    print(f\"{row['text_section']:<20} | {row['chapter_letter']:<15} | {len(row['full_text']):>6} characters\")"
   ]
  },
  {
   "cell_type": "code",
   "execution_count": 76,
   "id": "9b3fa9a9",
   "metadata": {},
   "outputs": [
    {
     "name": "stdout",
     "output_type": "stream",
     "text": [
      "Paragraph-level DataFrame created with 764 paragraphs:\n",
      "\n",
      "Columns: ['text_section', 'chapter_letter', 'paragraph_number', 'paragraph_text']\n",
      "\n",
      "Breakdown by section:\n",
      "  vol_3: 234 paragraphs\n",
      "  vol_2: 210 paragraphs\n",
      "  vol_1: 198 paragraphs\n",
      "  opening_letters: 67 paragraphs\n",
      "  closing_letters: 55 paragraphs\n",
      "\n",
      "Sample of first few paragraphs:\n",
      "closing_letters      | CLOSING LETTERS | P 1 | ﻿WALTON, _in continuation_.\n",
      "closing_letters      | CLOSING LETTERS | P 2 | August 26th, 17—.\n",
      "closing_letters      | CLOSING LETTERS | P 3 | You have read this strange and terrific story, Margaret; and do you not feel your blood congealed wi...\n",
      "closing_letters      | CLOSING LETTERS | P 4 | His tale is connected, and told with an appearance of the simplest truth; yet I own to you that the ...\n",
      "closing_letters      | CLOSING LETTERS | P 5 | “Are you mad, my friend?” said he, “or whither does your senseless curiosity lead you? Would you als...\n",
      "\n",
      "Paragraph statistics:\n",
      "  - Total paragraphs: 764\n",
      "  - Average paragraph length: 524 characters\n",
      "  - Min length: 13\n",
      "  - Max length: 2322\n",
      "  - Median length: 442\n"
     ]
    }
   ],
   "source": [
    "# Split full text into individual paragraphs\n",
    "def split_into_paragraphs(text_section, chapter_letter, full_text):\n",
    "    \"\"\"Split the full text of a chapter/letter into individual paragraphs\"\"\"\n",
    "    paragraphs = []\n",
    "    \n",
    "    # Split by double newlines (paragraph breaks) and clean up\n",
    "    paragraph_splits = re.split(r'\\n\\s*\\n', full_text)\n",
    "    \n",
    "    for i, paragraph in enumerate(paragraph_splits):\n",
    "        # Clean up the paragraph text\n",
    "        paragraph = paragraph.strip()\n",
    "        paragraph = re.sub(r'\\s+', ' ', paragraph)  # Normalize whitespace\n",
    "        \n",
    "        # Only include substantial paragraphs (more than 10 characters)\n",
    "        if len(paragraph) > 10:\n",
    "            paragraphs.append({\n",
    "                'text_section': text_section,\n",
    "                'chapter_letter': chapter_letter,\n",
    "                'paragraph_number': i + 1,\n",
    "                'paragraph_text': paragraph\n",
    "            })\n",
    "    \n",
    "    return paragraphs\n",
    "\n",
    "# Process each chapter/letter into paragraphs\n",
    "paragraph_data = []\n",
    "for _, row in frankenstein_final_df.iterrows():\n",
    "    paragraphs = split_into_paragraphs(\n",
    "        row['text_section'], \n",
    "        row['chapter_letter'], \n",
    "        row['full_text']\n",
    "    )\n",
    "    paragraph_data.extend(paragraphs)\n",
    "\n",
    "# Create the paragraph-level DataFrame\n",
    "frankenstein_paragraphs_df = pd.DataFrame(paragraph_data)\n",
    "\n",
    "print(f\"Paragraph-level DataFrame created with {len(frankenstein_paragraphs_df)} paragraphs:\")\n",
    "print(f\"\\nColumns: {list(frankenstein_paragraphs_df.columns)}\")\n",
    "\n",
    "print(f\"\\nBreakdown by section:\")\n",
    "section_counts = frankenstein_paragraphs_df['text_section'].value_counts()\n",
    "for section, count in section_counts.items():\n",
    "    print(f\"  {section}: {count} paragraphs\")\n",
    "\n",
    "print(f\"\\nSample of first few paragraphs:\")\n",
    "for i in range(min(5, len(frankenstein_paragraphs_df))):\n",
    "    row = frankenstein_paragraphs_df.iloc[i]\n",
    "    preview = row['paragraph_text'][:100] + \"...\" if len(row['paragraph_text']) > 100 else row['paragraph_text']\n",
    "    print(f\"{row['text_section']:<20} | {row['chapter_letter']:<15} | P{row['paragraph_number']:>2} | {preview}\")\n",
    "\n",
    "print(f\"\\nParagraph statistics:\")\n",
    "para_lengths = frankenstein_paragraphs_df['paragraph_text'].str.len()\n",
    "print(f\"  - Total paragraphs: {len(frankenstein_paragraphs_df)}\")\n",
    "print(f\"  - Average paragraph length: {para_lengths.mean():.0f} characters\")\n",
    "print(f\"  - Min length: {para_lengths.min()}\")\n",
    "print(f\"  - Max length: {para_lengths.max()}\")\n",
    "print(f\"  - Median length: {para_lengths.median():.0f}\")"
   ]
  },
  {
   "cell_type": "markdown",
   "id": "a6db1cb8",
   "metadata": {},
   "source": [
    "# SKIP GEOPARSING - Using Manual Location Data\n",
    "\n",
    "We'll skip the geoparsing steps since we have manually curated location data. This is much more efficient and accurate than automated toponym extraction.\n",
    "\n",
    "Instead, we'll:\n",
    "1. Load the manual location data directly\n",
    "2. Run sentiment analysis ONCE on all paragraphs  \n",
    "3. Match paragraphs to locations\n",
    "4. Create all visualizations\n",
    "5. Save results as parquet files"
   ]
  },
  {
   "cell_type": "code",
   "execution_count": null,
   "id": "96c88caf",
   "metadata": {},
   "outputs": [
    {
     "name": "stdout",
     "output_type": "stream",
     "text": [
      "✅ Geoparsing libraries imported successfully!\n"
     ]
    }
   ],
   "source": [
    "# Load manual location data (skip geoparsing)\n",
    "print(\"🗺️ Loading manual location data...\")\n",
    "print(\"Skipping geoparsing - using curated location data for efficiency\")\n",
    "\n",
    "try:\n",
    "    frankenstein_manual_locations = pd.read_csv(\"frankenstein_paragraphs_geoparsed_and_located.csv\")\n",
    "    print(f\"✅ Loaded manual locations: {len(frankenstein_manual_locations)} paragraphs\")\n",
    "    print(f\"📊 Shape: {frankenstein_manual_locations.shape}\")\n",
    "    \n",
    "    # Show coordinate columns\n",
    "    coords_columns = list(frankenstein_manual_locations.columns[-2:])\n",
    "    lat_col = coords_columns[0] \n",
    "    lon_col = coords_columns[1]\n",
    "    print(f\"📍 Coordinate columns: {lat_col}, {lon_col}\")\n",
    "    \n",
    "    # Count valid locations\n",
    "    valid_locations = frankenstein_manual_locations[\n",
    "        (frankenstein_manual_locations[lat_col].notna()) & \n",
    "        (frankenstein_manual_locations[lon_col].notna())\n",
    "    ]\n",
    "    print(f\"🌍 Valid locations: {len(valid_locations)} paragraphs\")\n",
    "    \n",
    "except FileNotFoundError:\n",
    "    print(\"❌ Manual locations file not found: frankenstein_paragraphs_geoparsed_and_located.csv\")\n",
    "    print(\"Please ensure this file exists in the current directory\")"
   ]
  },
  {
   "cell_type": "code",
   "execution_count": null,
   "id": "7bcb89d9",
   "metadata": {},
   "outputs": [
    {
     "name": "stdout",
     "output_type": "stream",
     "text": [
      "Initializing geoparser... (this may take a minute)\n",
      "✅ Geoparser initialized successfully!\n",
      "✅ Geoparser initialized successfully!\n"
     ]
    }
   ],
   "source": [
    "# Initialize RoBERTa model for sentiment analysis\n",
    "print(\"🤖 Loading RoBERTa sentiment model...\")\n",
    "print(\"This will be used for ALL sentiment analysis in one efficient pass\")\n",
    "\n",
    "try:\n",
    "    from transformers import AutoTokenizer, AutoModelForSequenceClassification\n",
    "    from scipy.special import softmax\n",
    "    from typing import Dict, Any\n",
    "    \n",
    "    MODEL = \"cardiffnlp/twitter-roberta-base-sentiment\"\n",
    "    tokenizer = AutoTokenizer.from_pretrained(MODEL)\n",
    "    model = AutoModelForSequenceClassification.from_pretrained(MODEL)\n",
    "    \n",
    "    print(\"✅ RoBERTa model loaded successfully!\")\n",
    "    \n",
    "    def polarity_scores_roberta(text: str) -> Dict[str, float]:\n",
    "        \"\"\"Calculate RoBERTa sentiment scores for a given text\"\"\"\n",
    "        encoded_text = tokenizer.encode_plus(\n",
    "            text, \n",
    "            max_length=512, \n",
    "            truncation=True, \n",
    "            return_tensors='pt'\n",
    "        )\n",
    "        \n",
    "        output = model(**encoded_text)\n",
    "        scores = output[0][0].detach().numpy()\n",
    "        scores = softmax(scores)\n",
    "        \n",
    "        return {\n",
    "            'roberta_neg': scores[0],\n",
    "            'roberta_neu': scores[1], \n",
    "            'roberta_pos': scores[2],\n",
    "            'roberta_compound': (scores[2] - scores[0]) * (1 - scores[1])\n",
    "        }\n",
    "    \n",
    "    print(\"✅ Sentiment scoring function ready!\")\n",
    "    \n",
    "except Exception as e:\n",
    "    print(f\"❌ Error loading model: {e}\")\n",
    "    print(\"Make sure transformers and scipy are installed\")"
   ]
  },
  {
   "cell_type": "code",
   "execution_count": null,
   "id": "af6ff292",
   "metadata": {},
   "outputs": [
    {
     "name": "stdout",
     "output_type": "stream",
     "text": [
      "Toponym Recognition...\n"
     ]
    },
    {
     "data": {
      "application/vnd.jupyter.widget-view+json": {
       "model_id": "37e7ba10c8dd41a98c4d34ae27ad162e",
       "version_major": 2,
       "version_minor": 0
      },
      "text/plain": [
       "Batches:   0%|          | 0/1 [00:00<?, ?it/s]"
      ]
     },
     "metadata": {},
     "output_type": "display_data"
    },
    {
     "name": "stdout",
     "output_type": "stream",
     "text": [
      "Toponym Resolution...\n"
     ]
    },
    {
     "data": {
      "application/vnd.jupyter.widget-view+json": {
       "model_id": "2dbe728080624aa1afe333ae37715951",
       "version_major": 2,
       "version_minor": 0
      },
      "text/plain": [
       "Batches:   0%|          | 0/12 [00:00<?, ?it/s]"
      ]
     },
     "metadata": {},
     "output_type": "display_data"
    },
    {
     "data": {
      "application/vnd.jupyter.widget-view+json": {
       "model_id": "a4f865de4db64ea0825f5daedb46f1f2",
       "version_major": 2,
       "version_minor": 0
      },
      "text/plain": [
       "Batches:   0%|          | 0/1 [00:00<?, ?it/s]"
      ]
     },
     "metadata": {},
     "output_type": "display_data"
    },
    {
     "name": "stdout",
     "output_type": "stream",
     "text": [
      "🗺️  GEOPARSER TEST RESULTS:\n",
      "==================================================\n",
      "Text: \"I traveled from Geneva to Germany, passing through the Alps near Mont Blanc.\"\n",
      "  📍 Found: Genève, Switzerland (46.2022, 6.1457)\n",
      "  📍 Found: Federal Republic of Germany, Germany (51.5000, 10.5000)\n",
      "  📍 Found: Alps, None (46.4167, 10.0000)\n",
      "  📍 Found: Mont Blanc, French Southern Territories (-49.4606, 69.4680)\n",
      "✅ Geoparser test successful!\n"
     ]
    }
   ],
   "source": [
    "# SINGLE SENTIMENT ANALYSIS RUN - All Paragraphs\n",
    "print(\"💭 Running sentiment analysis on ALL paragraphs...\")\n",
    "print(\"This is the ONLY time sentiment analysis runs - efficient approach!\")\n",
    "print(f\"Processing {len(frankenstein_paragraphs_df)} paragraphs...\")\n",
    "\n",
    "def add_sentiment_scores(text):\n",
    "    \"\"\"Add sentiment scores with error handling\"\"\"\n",
    "    try:\n",
    "        return polarity_scores_roberta(text)\n",
    "    except Exception as e:\n",
    "        return {'roberta_neg': None, 'roberta_neu': None, 'roberta_pos': None, 'roberta_compound': None}\n",
    "\n",
    "# Apply sentiment analysis with progress bar\n",
    "from tqdm import tqdm\n",
    "tqdm.pandas(desc=\"Analyzing sentiment\")\n",
    "sentiment_scores = frankenstein_paragraphs_df['paragraph_text'].progress_apply(add_sentiment_scores)\n",
    "\n",
    "# Convert to DataFrame and merge\n",
    "sentiment_df = pd.DataFrame(sentiment_scores.tolist())\n",
    "frankenstein_all_with_sentiment = pd.concat([frankenstein_paragraphs_df.reset_index(drop=True), sentiment_df], axis=1)\n",
    "\n",
    "print(f\"✅ Sentiment analysis complete!\")\n",
    "print(f\"📊 Processed {len(frankenstein_all_with_sentiment)} paragraphs with sentiment scores\")\n",
    "print(f\"📈 Columns added: {list(sentiment_df.columns)}\")\n",
    "\n",
    "# Show sample results\n",
    "print(\"\\n🎯 Sample sentiment results:\")\n",
    "sample = frankenstein_all_with_sentiment[['text_section', 'chapter_letter', 'roberta_compound']].head()\n",
    "print(sample)"
   ]
  },
  {
   "cell_type": "code",
   "execution_count": null,
   "id": "72f07885",
   "metadata": {},
   "outputs": [
    {
     "name": "stdout",
     "output_type": "stream",
     "text": [
      "✅ Geoparsing function defined and ready to use!\n"
     ]
    }
   ],
   "source": [
    "# Character Analysis using existing sentiment data\n",
    "print(\"🎭 Analyzing character sentiment...\")\n",
    "print(\"Using the sentiment scores we just calculated - no redundant processing!\")\n",
    "\n",
    "principal_characters = {\n",
    "    'Victor': ['Victor', 'Frankenstein'],\n",
    "    'Elizabeth': ['Elizabeth'],\n",
    "    'Henry': ['Henry', 'Clerval'],\n",
    "    'Justine': ['Justine'],\n",
    "    'Felix': ['Felix'],\n",
    "    'Agatha': ['Agatha'],\n",
    "    'Monster': ['monster', 'creature', 'fiend', 'daemon'],\n",
    "    'William': ['William'],\n",
    "    'Ernest': ['Ernest'],\n",
    "    'Alphonse': ['Alphonse', 'father', 'my father', 'his father']\n",
    "}\n",
    "\n",
    "def contains_character(text, character_variants):\n",
    "    \"\"\"Check if text contains any variant of a character name\"\"\"\n",
    "    text_lower = text.lower()\n",
    "    return any(variant.lower() in text_lower for variant in character_variants)\n",
    "\n",
    "character_sentiment_data = []\n",
    "\n",
    "for character_name, variants in principal_characters.items():\n",
    "    character_paragraphs = frankenstein_all_with_sentiment[\n",
    "        frankenstein_all_with_sentiment['paragraph_text'].apply(\n",
    "            lambda x: contains_character(x, variants)\n",
    "        )\n",
    "    ].copy()\n",
    "    \n",
    "    if len(character_paragraphs) > 0:\n",
    "        avg_sentiment = character_paragraphs['roberta_compound'].mean()\n",
    "        total_paragraphs = len(character_paragraphs)\n",
    "        total_words = character_paragraphs['paragraph_text'].str.split().str.len().sum()\n",
    "        \n",
    "        positive_count = sum(character_paragraphs['roberta_compound'] > 0.1)\n",
    "        negative_count = sum(character_paragraphs['roberta_compound'] < -0.1)\n",
    "        neutral_count = total_paragraphs - positive_count - negative_count\n",
    "        \n",
    "        most_positive_idx = character_paragraphs['roberta_compound'].idxmax()\n",
    "        most_negative_idx = character_paragraphs['roberta_compound'].idxmin()\n",
    "        \n",
    "        character_sentiment_data.append({\n",
    "            'Character': character_name,\n",
    "            'Total_Mentions': total_paragraphs,\n",
    "            'Total_Words': total_words,\n",
    "            'Avg_Sentiment': avg_sentiment,\n",
    "            'Positive_Mentions': positive_count,\n",
    "            'Negative_Mentions': negative_count,\n",
    "            'Neutral_Mentions': neutral_count,\n",
    "            'Most_Positive_Score': character_paragraphs.loc[most_positive_idx, 'roberta_compound'],\n",
    "            'Most_Negative_Score': character_paragraphs.loc[most_negative_idx, 'roberta_compound'],\n",
    "            'Most_Positive_Text': character_paragraphs.loc[most_positive_idx, 'paragraph_text'][:150] + \"...\",\n",
    "            'Most_Negative_Text': character_paragraphs.loc[most_negative_idx, 'paragraph_text'][:150] + \"...\"\n",
    "        })\n",
    "\n",
    "character_sentiment_df = pd.DataFrame(character_sentiment_data)\n",
    "character_sentiment_df = character_sentiment_df.sort_values('Avg_Sentiment', ascending=False)\n",
    "\n",
    "print(f\"✅ Character analysis complete for {len(character_sentiment_df)} characters\")"
   ]
  },
  {
   "cell_type": "code",
   "execution_count": null,
   "id": "1b64917c",
   "metadata": {},
   "outputs": [
    {
     "name": "stdout",
     "output_type": "stream",
     "text": [
      "🧪 OPTION 1: Test with sample data first\n",
      "==================================================\n",
      "Testing geoparsing on 50 paragraphs...\n",
      "This is recommended before running on the full dataset!\n",
      "🔍 Processing 50 paragraphs for geographic locations...\n",
      "⚠️  This may take several minutes for the full dataset!\n",
      "Toponym Recognition...\n"
     ]
    },
    {
     "data": {
      "application/vnd.jupyter.widget-view+json": {
       "model_id": "828c67dcca8c4209bbefef6659c776df",
       "version_major": 2,
       "version_minor": 0
      },
      "text/plain": [
       "Batches:   0%|          | 0/50 [00:00<?, ?it/s]"
      ]
     },
     "metadata": {},
     "output_type": "display_data"
    },
    {
     "name": "stdout",
     "output_type": "stream",
     "text": [
      "Toponym Resolution...\n"
     ]
    },
    {
     "data": {
      "application/vnd.jupyter.widget-view+json": {
       "model_id": "0d883c77776f4187a860f4abf1fbda08",
       "version_major": 2,
       "version_minor": 0
      },
      "text/plain": [
       "Batches:   0%|          | 0/6 [00:00<?, ?it/s]"
      ]
     },
     "metadata": {},
     "output_type": "display_data"
    },
    {
     "data": {
      "application/vnd.jupyter.widget-view+json": {
       "model_id": "e7c375b97f024c5ba010f6a037181f57",
       "version_major": 2,
       "version_minor": 0
      },
      "text/plain": [
       "Batches:   0%|          | 0/1 [00:00<?, ?it/s]"
      ]
     },
     "metadata": {},
     "output_type": "display_data"
    },
    {
     "data": {
      "application/vnd.jupyter.widget-view+json": {
       "model_id": "d1e5f5043d4a49deb6f13bcdf6b6465f",
       "version_major": 2,
       "version_minor": 0
      },
      "text/plain": [
       "Extracting locations:   0%|          | 0/50 [00:00<?, ?it/s]"
      ]
     },
     "metadata": {},
     "output_type": "display_data"
    },
    {
     "name": "stdout",
     "output_type": "stream",
     "text": [
      "✅ Geoparsing complete!\n",
      "📊 Results: 6/50 paragraphs contain locations\n",
      "📍 Total locations found: 7\n"
     ]
    }
   ],
   "source": [
    "# Location sentiment analysis using existing data\n",
    "print(\"🌍 Analyzing location sentiment...\")\n",
    "print(\"Matching paragraphs with locations and calculating sentiment\")\n",
    "\n",
    "# Create a mapping from paragraph info to location info\n",
    "location_mapping = frankenstein_manual_locations[\n",
    "    ['text_section', 'chapter_letter', 'paragraph_number', 'curated_name', lat_col, lon_col]\n",
    "].dropna(subset=[lat_col, lon_col])\n",
    "\n",
    "print(f\"📍 Location mapping created: {len(location_mapping)} paragraph-location pairs\")\n",
    "\n",
    "# Merge with sentiment data\n",
    "frankenstein_locations_with_sentiment = frankenstein_all_with_sentiment.merge(\n",
    "    location_mapping,\n",
    "    on=['text_section', 'chapter_letter', 'paragraph_number'],\n",
    "    how='inner'\n",
    ")\n",
    "\n",
    "print(f\"🔗 Merged data: {len(frankenstein_locations_with_sentiment)} paragraphs with both location and sentiment\")\n",
    "\n",
    "# Calculate word counts\n",
    "frankenstein_locations_with_sentiment['word_count'] = frankenstein_locations_with_sentiment['paragraph_text'].str.split().str.len()\n",
    "total_narrative_words = frankenstein_all_with_sentiment['paragraph_text'].str.split().str.len().sum()\n",
    "\n",
    "# Aggregate by location\n",
    "location_sentiment_summary = frankenstein_locations_with_sentiment.groupby(['curated_name', lat_col, lon_col]).agg({\n",
    "    'word_count': 'sum',\n",
    "    'roberta_compound': 'mean',\n",
    "    'roberta_pos': 'mean',\n",
    "    'roberta_neg': 'mean',\n",
    "    'roberta_neu': 'mean',\n",
    "    'paragraph_text': 'count'\n",
    "}).reset_index()\n",
    "\n",
    "location_sentiment_summary = location_sentiment_summary.rename(columns={\n",
    "    'word_count': 'total_words',\n",
    "    'paragraph_text': 'paragraph_count',\n",
    "    'roberta_compound': 'avg_sentiment'\n",
    "})\n",
    "\n",
    "location_sentiment_summary['narrative_percent'] = (location_sentiment_summary['total_words'] / total_narrative_words * 100).round(2)\n",
    "\n",
    "def categorize_sentiment(score):\n",
    "    if score > 0.1:\n",
    "        return \"Positive\"\n",
    "    elif score < -0.1:\n",
    "        return \"Negative\"\n",
    "    else:\n",
    "        return \"Neutral\"\n",
    "\n",
    "location_sentiment_summary['sentiment_category'] = location_sentiment_summary['avg_sentiment'].apply(categorize_sentiment)\n",
    "\n",
    "print(f\"✅ Location sentiment analysis complete for {len(location_sentiment_summary)} locations\")\n",
    "print(f\"📊 Sentiment distribution: {location_sentiment_summary['sentiment_category'].value_counts().to_dict()}\")"
   ]
  },
  {
   "cell_type": "code",
   "execution_count": null,
   "id": "67dd0e23",
   "metadata": {},
   "outputs": [
    {
     "name": "stdout",
     "output_type": "stream",
     "text": [
      "🗺️  SAMPLE GEOPARSING RESULTS:\n",
      "============================================================\n",
      "Found locations in 6 out of 50 paragraphs\n",
      "\n",
      "Sample results:\n",
      "------------------------------------------------------------\n",
      "\n",
      "📖 closing_letters - CLOSING LETTERS (Paragraph 15)\n",
      "Text preview: I write to you, encompassed by peril, and ignorant whether I am ever doomed to see again dear Englan...\n",
      "   📍 England: (52.1604, -0.7031) - None\n",
      "\n",
      "📖 closing_letters - CLOSING LETTERS (Paragraph 33)\n",
      "Text preview: It is past; I am returning to England. I have lost my hopes of utility and glory;—I have lost my fri...\n",
      "   📍 England: (52.1604, -0.7031) - None\n",
      "   📍 England: (52.1604, -0.7031) - None\n",
      "\n",
      "📖 closing_letters - CLOSING LETTERS (Paragraph 34)\n",
      "Text preview: September 19th, the ice began to move, and roarings like thunder were heard at a distance, as the is...\n",
      "   📍 England: (52.1604, -0.7031) - None\n",
      "\n",
      "📖 closing_letters - CLOSING LETTERS (Paragraph 40)\n",
      "Text preview: “Yet I cannot ask you to renounce your country and friends, to fulfil this task; and now, that you a...\n",
      "   📍 England: (52.1604, -0.7031) - None\n",
      "\n",
      "📖 closing_letters - CLOSING LETTERS (Paragraph 43)\n",
      "Text preview: Margaret, what comment can I make on the untimely extinction of this glorious spirit? What can I say...\n",
      "   📍 England: (52.1604, -0.7031) - None\n",
      "\n",
      "📖 closing_letters - CLOSING LETTERS (Paragraph 51)\n",
      "Text preview: “After the murder of Clerval, I returned to Switzerland, heart-broken and overcome. I pitied Franken...\n",
      "   📍 Switzerland: (47.0002, 8.0143) - None\n",
      "\n",
      "============================================================\n"
     ]
    }
   ],
   "source": [
    "# Save all results as parquet files for presentation notebook\n",
    "print(\"💾 Saving analysis results as parquet files...\")\n",
    "\n",
    "# Save main datasets\n",
    "frankenstein_all_with_sentiment.to_parquet(\"frankenstein_all_paragraphs_with_sentiment.parquet\", index=False)\n",
    "character_sentiment_df.to_parquet(\"frankenstein_character_sentiment.parquet\", index=False)\n",
    "location_sentiment_summary.to_parquet(\"frankenstein_location_sentiment.parquet\", index=False)\n",
    "frankenstein_manual_locations.to_parquet(\"frankenstein_manual_locations.parquet\", index=False)\n",
    "\n",
    "print(\"✅ Saved parquet files:\")\n",
    "print(\"  - frankenstein_all_paragraphs_with_sentiment.parquet\")\n",
    "print(\"  - frankenstein_character_sentiment.parquet\")  \n",
    "print(\"  - frankenstein_location_sentiment.parquet\")\n",
    "print(\"  - frankenstein_manual_locations.parquet\")\n",
    "\n",
    "print(\"\\n🎉 OPTIMIZED ANALYSIS COMPLETE!\")\n",
    "print(\"📊 Summary:\")\n",
    "print(f\"  - Total paragraphs: {len(frankenstein_all_with_sentiment)}\")\n",
    "print(f\"  - Characters analyzed: {len(character_sentiment_df)}\")\n",
    "print(f\"  - Locations analyzed: {len(location_sentiment_summary)}\")\n",
    "print(f\"  - Sentiment analysis: Run ONCE efficiently\")\n",
    "print(f\"  - Geoparsing: Skipped (used manual data)\")\n",
    "print(f\"  - Storage: Parquet files for fast loading\")\n",
    "\n",
    "print(\"\\n🚀 Ready for presentation notebook!\")"
   ]
  },
  {
   "cell_type": "code",
   "execution_count": null,
   "id": "51a9630a",
   "metadata": {},
   "outputs": [
    {
     "data": {
      "application/vnd.plotly.v1+json": {
       "config": {
        "plotlyServerURL": "https://plot.ly"
       },
       "data": [
        {
         "customdata": [
          [
           1,
           null,
           7.1881,
           21.09375
          ],
          [
           5,
           null,
           46.41667,
           10
          ],
          [
           3,
           null,
           64.54717,
           40.55291
          ],
          [
           1,
           null,
           55.94413,
           -3.16226
          ],
          [
           2,
           null,
           44.76721,
           6.73853
          ],
          [
           2,
           null,
           29.84064,
           89.29688
          ],
          [
           1,
           null,
           42.28065,
           -71.02866
          ],
          [
           5,
           null,
           47.37266,
           7.16802
          ],
          [
           1,
           null,
           45.11814,
           10.78877
          ],
          [
           1,
           null,
           46.04792,
           5.85644
          ],
          [
           2,
           null,
           48.74829,
           -79.43656
          ],
          [
           2,
           null,
           46.21672,
           6.18041
          ],
          [
           1,
           null,
           56.54552,
           -3.26774
          ],
          [
           3,
           null,
           51.5136,
           -0.1594
          ],
          [
           1,
           null,
           52.92277,
           -1.47663
          ],
          [
           1,
           null,
           46.40371,
           6.52028
          ],
          [
           1,
           null,
           53.33306,
           -6.24889
          ],
          [
           4,
           null,
           55.95206,
           -3.19648
          ],
          [
           17,
           null,
           52.16045,
           -0.70312
          ],
          [
           1,
           null,
           46.14779,
           6.21796
          ],
          [
           2,
           null,
           48.69096,
           9.14062
          ],
          [
           2,
           null,
           51.5,
           10.5
          ],
          [
           37,
           null,
           46.20222,
           6.14569
          ],
          [
           1,
           null,
           51.91171,
           0.09138
          ],
          [
           1,
           null,
           72,
           -40
          ],
          [
           1,
           null,
           51.47785,
           -0.01176
          ],
          [
           2,
           null,
           39,
           22
          ],
          [
           1,
           null,
           53.30621,
           -4.63211
          ],
          [
           6,
           null,
           50.38199,
           2.03757
          ],
          [
           12,
           null,
           48.76508,
           11.42372
          ],
          [
           4,
           null,
           53,
           -8
          ],
          [
           2,
           null,
           41.01384,
           28.94966
          ],
          [
           4,
           null,
           42.83333,
           12.83333
          ],
          [
           1,
           null,
           46.7847,
           8.64175
          ],
          [
           2,
           null,
           52.25,
           5.75
          ],
          [
           1,
           null,
           50.93333,
           6.95
          ],
          [
           1,
           null,
           46.516,
           6.63282
          ],
          [
           2,
           null,
           49.49346,
           0.10785
          ],
          [
           1,
           null,
           45.45116,
           6.08861
          ],
          [
           5,
           null,
           43.54427,
           10.32615
          ],
          [
           7,
           null,
           51.50853,
           -0.12574
          ],
          [
           2,
           null,
           47.05048,
           8.30635
          ],
          [
           1,
           null,
           45.74846,
           4.84671
          ],
          [
           2,
           null,
           49.98419,
           8.2791
          ],
          [
           1,
           null,
           50.88192,
           6.59803
          ],
          [
           2,
           null,
           53.13838,
           -1.5556
          ],
          [
           2,
           null,
           36.45552,
           28.22049
          ],
          [
           1,
           null,
           23,
           -102
          ],
          [
           1,
           null,
           62.73752,
           7.15912
          ],
          [
           3,
           null,
           46.09417,
           6.14028
          ],
          [
           1,
           null,
           41.82357,
           -7.78971
          ],
          [
           1,
           null,
           15.214,
           145.7575
          ],
          [
           1,
           null,
           59,
           -3
          ],
          [
           4,
           null,
           51.75222,
           -1.25596
          ],
          [
           9,
           null,
           48.85341,
           2.3488
          ],
          [
           3,
           null,
           56.39522,
           -3.43139
          ],
          [
           1,
           null,
           37.22793,
           -77.40193
          ],
          [
           3,
           null,
           46.19789,
           6.14076
          ],
          [
           1,
           null,
           50.79899,
           -1.09125
          ],
          [
           1,
           null,
           18.36667,
           -73.2
          ],
          [
           6,
           null,
           46,
           2
          ],
          [
           1,
           null,
           -10,
           -75.25
          ],
          [
           2,
           null,
           39,
           35
          ],
          [
           1,
           null,
           47.49047,
           8.2379
          ],
          [
           6,
           null,
           43.86277,
           -87.95676
          ],
          [
           1,
           null,
           46.60454,
           8.38605
          ],
          [
           1,
           null,
           43.33333,
           4.83333
          ],
          [
           1,
           null,
           51.49763,
           0.50812
          ],
          [
           1,
           null,
           41.89193,
           12.51133
          ],
          [
           2,
           null,
           51.9225,
           4.47917
          ],
          [
           2,
           null,
           60,
           100
          ],
          [
           1,
           null,
           56.33871,
           -2.79902
          ],
          [
           2,
           null,
           45.33932,
           4.31275
          ],
          [
           1,
           null,
           45.4,
           6.5
          ],
          [
           5,
           null,
           56,
           -4
          ],
          [
           1,
           null,
           -14.60485,
           -57.65625
          ],
          [
           1,
           null,
           -15.94453,
           -5.72467
          ],
          [
           4,
           null,
           52.82139,
           -9.05194
          ],
          [
           10,
           null,
           47.00016,
           8.01427
          ],
          [
           1,
           null,
           46.22086,
           6.1483
          ],
          [
           1,
           null,
           58.38062,
           26.72509
          ],
          [
           1,
           null,
           46.5,
           140
          ],
          [
           1,
           null,
           51.52361,
           0.11856
          ],
          [
           1,
           null,
           46.37049,
           6.47985
          ],
          [
           1,
           null,
           51.46248,
           0.35856
          ],
          [
           1,
           null,
           51.51096,
           -0.07734
          ],
          [
           1,
           null,
           54.75844,
           -2.69531
          ],
          [
           2,
           null,
           39.76,
           -98.5
          ],
          [
           1,
           null,
           46.4689,
           6.84602
          ],
          [
           2,
           null,
           54.5,
           -2.58333
          ],
          [
           2,
           null,
           51.48333,
           -0.6
          ],
          [
           1,
           null,
           51.491,
           0.0648
          ],
          [
           1,
           null,
           64.6068,
           40.6254
          ],
          [
           2,
           null,
           46.40111,
           6.58793
          ],
          [
           1,
           null,
           36.59198,
           38.04087
          ]
         ],
         "hovertemplate": "<b>%{hovertext}</b><br><br>count=%{customdata[0]}<br>feature_name=%{customdata[1]}<extra></extra>",
         "hovertext": [
          "Africa",
          "Alps",
          "Arkhangel’sk",
          "Arthur's Seat",
          "Arvieux",
          "Asia",
          "Atlantic",
          "Canton de Jura",
          "Cerese",
          "Chêne-en-Semine",
          "Clerval",
          "Cologny",
          "Coupar Angus",
          "Cumberland",
          "Derby",
          "Dranse",
          "Dublin",
          "Edinburgh",
          "England",
          "Esserts-Salève",
          "Europe",
          "Federal Republic of Germany",
          "Genève",
          "Gravesend",
          "Greenland",
          "Greenwich",
          "Hellenic Republic",
          "Holyhead",
          "Huby-Saint-Leu",
          "Ingolstadt",
          "Ireland",
          "Istanbul",
          "Italian Republic",
          "Kanton Uri",
          "Kingdom of the Netherlands",
          "Köln",
          "Lausanne",
          "Le Havre",
          "Le Mont Cenis",
          "Livorno",
          "London",
          "Luzern",
          "Lyon",
          "Mainz",
          "Manheim",
          "Matlock",
          "Mediterranean",
          "Mexico",
          "Molde",
          "Mont Salève",
          "Montalegre",
          "North West Pacific Ocean - to the East",
          "Orkney Islands",
          "Oxford",
          "Paris",
          "Perth",
          "Petersburg",
          "Plainpalais",
          "Portsmouth",
          "Pélissier",
          "Republic of France",
          "Republic of Peru",
          "Republic of Turkey",
          "Reuss",
          "Rhine",
          "Rhonegletscher",
          "Rhône",
          "River Thames",
          "Rome",
          "Rotterdam",
          "Russian Federation",
          "Saint Andrews",
          "Saint-Just-Malmont",
          "Savoie",
          "Scotland",
          "South America",
          "St. Paul's",
          "Strasburgh",
          "Switzerland",
          "Sécheron",
          "Tartu",
          "Tatar Trough",
          "Thames",
          "Thonon-les-Bains",
          "Tilbury",
          "Tower",
          "United Kingdom of Great Britain and Northern Ireland",
          "United States",
          "Vevey, Copet",
          "Westmorland",
          "Windsor",
          "Woolwich",
          "Yuras",
          "Évian-les-Bains",
          "Şāfiyah"
         ],
         "lat": {
          "bdata": "qoJRSZ3AHEC3nEtxVTVHQIzWUdUEI1BAFJZ4QNn4S0ADlfHvM2JGQJ612y401z1Aq8/VVuwjRUCBQ6hSs69HQLosJjYfj0ZAg2kYPiIGR0BA9nr3x19IQM8xIHu9G0dAL6hvmdNFTEDgnBGlvcFJQG7dzVMddkpAuYjvxKwzR0CKzce1oapKQDbqIRrd+UtAVFInoIkUSkCCVmDI6hJHQA1slWBxWEhAAAAAAADASUBuTE9Y4hlHQNS3zOmy9ElAAAAAAAAAUkBhMlUwKr1JQAAAAAAAgENApdqn4zGnSkAUs14M5TBJQG5pNSTuYUhAAAAAAACASkA2sFWCxYFEQEljtI6qakVA6pWyDHFkR0AAAAAAACBKQBYwgVt3d0lANV66SQxCR0As8YCyKb9IQLahYpy/uUZA0hito6rFRUB3hNOCF8FJQBGN7iB2hkdAnS6Lic3fRkBuhhvw+f1IQBvYKsHicElA0jWTb7aRSkBDVrd6TjpCQAAAAAAAADdArhIsDmdeT0DVITfDDQxHQL37471q6URAIbByaJFtLkAAAAAAAIBNQNWytb5I4ElAKAr0iTxtSEDRXKeRljJMQH7ja88snUJATBqjdVQZR0Bg6udNRWZJQKBsyhXeXTJAAAAAAAAAR0AAAAAAAAAkwAAAAAAAgENAptWQuMe+R0Am/FI/b+5FQNqPFJFhTUdASWO0jqqqRUAWwf9Wsr9JQCApIsMq8kRArkfhehT2SUAAAAAAAABOQAFqatlaK0xAenB31m6rRkAzMzMzM7NGQAAAAAAAAExAofgx5q41LcCILqhvmeMvwHehuU4jaUpAOWItPgWAR0BOf/YjRRxHQA0a+ie4ME1AAAAAAABAR0Dl7QinBcNJQF2/YDdsL0dA7IZtizK7SUA2yCQjZ8FJQDf92Y8UYUtA4XoUrkfhQ0AVjErqBDxHQAAAAAAAQEtAfZbnwd29SUACK4cW2b5JQJ/Nqs/VJlBAngyOklczR0Br8SkAxktCQA==",
          "dtype": "f8"
         },
         "legendgroup": "",
         "lon": {
          "bdata": "AAAAAAAYNUAAAAAAAAAkQNDQP8HFRkRAeJeL+E5MCcCjdVQ1QfQaQIm1+BQAU1ZABK3AkNXBUcCyS1RvDawcQMAhVKnZkyVA6fF7m/5sF0B5r1qZ8NtTwEZ8J2a9uBhA+KV+3lQkCsBIv30dOGfEvwCuZMdGoPe/MA3DR8QUGkCtNCkF3f4YwG6LMhtkkgnAjjulg/V/5r86WP/nMN8YQLlTOlj/RyJAAAAAAAAAJUC+amXCL5UYQL8rgv+tZLc/AAAAAAAARMCEKjV7oBWIvwAAAAAAADZA8+UF2EeHEsBbfAqA8UwAQH5S7dPx2CZAAAAAAAAAIMDCUfLqHPM8QCaN0TqqqilAf2q8dJNIIUAAAAAAAAAXQM3MzMzMzBtA1QRR9wGIGkBApN++Dpy7P+1kcJS8WhhASS7/If2mJEDxRuaRPxjAv1tCPujZnCBA3sg88gdjE0CQoPgx5o4gQIYb8PlhZBpAiIVa07zj+L9VGFsIcjg8QAAAAAAAgFnA3o5wWvCiHECrIXGPpY8YQPFL/bypKB/ACtejcD04YkAAAAAAAAAIwLhYUYNpGPS/J8KGp1fKAkBPkq6ZfHMLwABSmzi5WVPAAFeyYyOQGED2KFyPwnXxv83MzMzMTFLAAAAAAAAAAEAAAAAAANBSwAAAAAAAgEFA0m9fB855IEC+h0uOO/1VwNk9eVioxSBATBqjdVRVE0BRMc7fhELgP2fttgvNBSlAtOVciqvqEUAAAAAAAABZQKPMBplkZAbAx0s3iUFAEUAAAAAAAAAaQAAAAAAAABDAAAAAAADUTMC8kXnkD+YWwF+1MuGXGiLAuqC+ZU4HIEC5/If025cYQBqojH+fuTpAAAAAAACAYUBgH5268lm+P0HxY8xd6xlANNdppKXy1j8jMqzijcyzv3KndLD+jwXAAAAAAACgWMA1DB8RU2IbQJg0RuuoqgTAMzMzMzMz47+C4seYu5awP451cRsNUERAYFlpUgpaGkCasWg6OwVDQA==",
          "dtype": "f8"
         },
         "marker": {
          "color": "#636efa",
          "size": {
           "bdata": "AQUDAQICAQUBAQICAQMBAQEEEQECAiUBAQECAQYMBAIEAQIBAQIBBQcCAQIBAgIBAQMBAQEECQMBAwEBBgECAQYBAQEBAgIBAgEFAQEECgEBAQEBAQEBAgECAgEBAgE=",
           "dtype": "i1"
          },
          "sizemode": "area",
          "sizeref": 0.0925
         },
         "mode": "markers",
         "name": "",
         "showlegend": false,
         "subplot": "map",
         "type": "scattermap"
        }
       ],
       "layout": {
        "height": 600,
        "legend": {
         "itemsizing": "constant",
         "tracegroupgap": 0
        },
        "map": {
         "center": {
          "lat": 45.77617252631578,
          "lon": 2.2056708421052624
         },
         "domain": {
          "x": [
           0,
           1
          ],
          "y": [
           0,
           1
          ]
         },
         "zoom": 3
        },
        "mapbox": {
         "center": {
          "lat": 45.77617252631578,
          "lon": 2.2056708421052624
         },
         "style": "open-street-map",
         "zoom": 3
        },
        "margin": {
         "b": 0,
         "l": 0,
         "r": 0,
         "t": 50
        },
        "template": {
         "data": {
          "bar": [
           {
            "error_x": {
             "color": "#2a3f5f"
            },
            "error_y": {
             "color": "#2a3f5f"
            },
            "marker": {
             "line": {
              "color": "#E5ECF6",
              "width": 0.5
             },
             "pattern": {
              "fillmode": "overlay",
              "size": 10,
              "solidity": 0.2
             }
            },
            "type": "bar"
           }
          ],
          "barpolar": [
           {
            "marker": {
             "line": {
              "color": "#E5ECF6",
              "width": 0.5
             },
             "pattern": {
              "fillmode": "overlay",
              "size": 10,
              "solidity": 0.2
             }
            },
            "type": "barpolar"
           }
          ],
          "carpet": [
           {
            "aaxis": {
             "endlinecolor": "#2a3f5f",
             "gridcolor": "white",
             "linecolor": "white",
             "minorgridcolor": "white",
             "startlinecolor": "#2a3f5f"
            },
            "baxis": {
             "endlinecolor": "#2a3f5f",
             "gridcolor": "white",
             "linecolor": "white",
             "minorgridcolor": "white",
             "startlinecolor": "#2a3f5f"
            },
            "type": "carpet"
           }
          ],
          "choropleth": [
           {
            "colorbar": {
             "outlinewidth": 0,
             "ticks": ""
            },
            "type": "choropleth"
           }
          ],
          "contour": [
           {
            "colorbar": {
             "outlinewidth": 0,
             "ticks": ""
            },
            "colorscale": [
             [
              0,
              "#0d0887"
             ],
             [
              0.1111111111111111,
              "#46039f"
             ],
             [
              0.2222222222222222,
              "#7201a8"
             ],
             [
              0.3333333333333333,
              "#9c179e"
             ],
             [
              0.4444444444444444,
              "#bd3786"
             ],
             [
              0.5555555555555556,
              "#d8576b"
             ],
             [
              0.6666666666666666,
              "#ed7953"
             ],
             [
              0.7777777777777778,
              "#fb9f3a"
             ],
             [
              0.8888888888888888,
              "#fdca26"
             ],
             [
              1,
              "#f0f921"
             ]
            ],
            "type": "contour"
           }
          ],
          "contourcarpet": [
           {
            "colorbar": {
             "outlinewidth": 0,
             "ticks": ""
            },
            "type": "contourcarpet"
           }
          ],
          "heatmap": [
           {
            "colorbar": {
             "outlinewidth": 0,
             "ticks": ""
            },
            "colorscale": [
             [
              0,
              "#0d0887"
             ],
             [
              0.1111111111111111,
              "#46039f"
             ],
             [
              0.2222222222222222,
              "#7201a8"
             ],
             [
              0.3333333333333333,
              "#9c179e"
             ],
             [
              0.4444444444444444,
              "#bd3786"
             ],
             [
              0.5555555555555556,
              "#d8576b"
             ],
             [
              0.6666666666666666,
              "#ed7953"
             ],
             [
              0.7777777777777778,
              "#fb9f3a"
             ],
             [
              0.8888888888888888,
              "#fdca26"
             ],
             [
              1,
              "#f0f921"
             ]
            ],
            "type": "heatmap"
           }
          ],
          "histogram": [
           {
            "marker": {
             "pattern": {
              "fillmode": "overlay",
              "size": 10,
              "solidity": 0.2
             }
            },
            "type": "histogram"
           }
          ],
          "histogram2d": [
           {
            "colorbar": {
             "outlinewidth": 0,
             "ticks": ""
            },
            "colorscale": [
             [
              0,
              "#0d0887"
             ],
             [
              0.1111111111111111,
              "#46039f"
             ],
             [
              0.2222222222222222,
              "#7201a8"
             ],
             [
              0.3333333333333333,
              "#9c179e"
             ],
             [
              0.4444444444444444,
              "#bd3786"
             ],
             [
              0.5555555555555556,
              "#d8576b"
             ],
             [
              0.6666666666666666,
              "#ed7953"
             ],
             [
              0.7777777777777778,
              "#fb9f3a"
             ],
             [
              0.8888888888888888,
              "#fdca26"
             ],
             [
              1,
              "#f0f921"
             ]
            ],
            "type": "histogram2d"
           }
          ],
          "histogram2dcontour": [
           {
            "colorbar": {
             "outlinewidth": 0,
             "ticks": ""
            },
            "colorscale": [
             [
              0,
              "#0d0887"
             ],
             [
              0.1111111111111111,
              "#46039f"
             ],
             [
              0.2222222222222222,
              "#7201a8"
             ],
             [
              0.3333333333333333,
              "#9c179e"
             ],
             [
              0.4444444444444444,
              "#bd3786"
             ],
             [
              0.5555555555555556,
              "#d8576b"
             ],
             [
              0.6666666666666666,
              "#ed7953"
             ],
             [
              0.7777777777777778,
              "#fb9f3a"
             ],
             [
              0.8888888888888888,
              "#fdca26"
             ],
             [
              1,
              "#f0f921"
             ]
            ],
            "type": "histogram2dcontour"
           }
          ],
          "mesh3d": [
           {
            "colorbar": {
             "outlinewidth": 0,
             "ticks": ""
            },
            "type": "mesh3d"
           }
          ],
          "parcoords": [
           {
            "line": {
             "colorbar": {
              "outlinewidth": 0,
              "ticks": ""
             }
            },
            "type": "parcoords"
           }
          ],
          "pie": [
           {
            "automargin": true,
            "type": "pie"
           }
          ],
          "scatter": [
           {
            "fillpattern": {
             "fillmode": "overlay",
             "size": 10,
             "solidity": 0.2
            },
            "type": "scatter"
           }
          ],
          "scatter3d": [
           {
            "line": {
             "colorbar": {
              "outlinewidth": 0,
              "ticks": ""
             }
            },
            "marker": {
             "colorbar": {
              "outlinewidth": 0,
              "ticks": ""
             }
            },
            "type": "scatter3d"
           }
          ],
          "scattercarpet": [
           {
            "marker": {
             "colorbar": {
              "outlinewidth": 0,
              "ticks": ""
             }
            },
            "type": "scattercarpet"
           }
          ],
          "scattergeo": [
           {
            "marker": {
             "colorbar": {
              "outlinewidth": 0,
              "ticks": ""
             }
            },
            "type": "scattergeo"
           }
          ],
          "scattergl": [
           {
            "marker": {
             "colorbar": {
              "outlinewidth": 0,
              "ticks": ""
             }
            },
            "type": "scattergl"
           }
          ],
          "scattermap": [
           {
            "marker": {
             "colorbar": {
              "outlinewidth": 0,
              "ticks": ""
             }
            },
            "type": "scattermap"
           }
          ],
          "scattermapbox": [
           {
            "marker": {
             "colorbar": {
              "outlinewidth": 0,
              "ticks": ""
             }
            },
            "type": "scattermapbox"
           }
          ],
          "scatterpolar": [
           {
            "marker": {
             "colorbar": {
              "outlinewidth": 0,
              "ticks": ""
             }
            },
            "type": "scatterpolar"
           }
          ],
          "scatterpolargl": [
           {
            "marker": {
             "colorbar": {
              "outlinewidth": 0,
              "ticks": ""
             }
            },
            "type": "scatterpolargl"
           }
          ],
          "scatterternary": [
           {
            "marker": {
             "colorbar": {
              "outlinewidth": 0,
              "ticks": ""
             }
            },
            "type": "scatterternary"
           }
          ],
          "surface": [
           {
            "colorbar": {
             "outlinewidth": 0,
             "ticks": ""
            },
            "colorscale": [
             [
              0,
              "#0d0887"
             ],
             [
              0.1111111111111111,
              "#46039f"
             ],
             [
              0.2222222222222222,
              "#7201a8"
             ],
             [
              0.3333333333333333,
              "#9c179e"
             ],
             [
              0.4444444444444444,
              "#bd3786"
             ],
             [
              0.5555555555555556,
              "#d8576b"
             ],
             [
              0.6666666666666666,
              "#ed7953"
             ],
             [
              0.7777777777777778,
              "#fb9f3a"
             ],
             [
              0.8888888888888888,
              "#fdca26"
             ],
             [
              1,
              "#f0f921"
             ]
            ],
            "type": "surface"
           }
          ],
          "table": [
           {
            "cells": {
             "fill": {
              "color": "#EBF0F8"
             },
             "line": {
              "color": "white"
             }
            },
            "header": {
             "fill": {
              "color": "#C8D4E3"
             },
             "line": {
              "color": "white"
             }
            },
            "type": "table"
           }
          ]
         },
         "layout": {
          "annotationdefaults": {
           "arrowcolor": "#2a3f5f",
           "arrowhead": 0,
           "arrowwidth": 1
          },
          "autotypenumbers": "strict",
          "coloraxis": {
           "colorbar": {
            "outlinewidth": 0,
            "ticks": ""
           }
          },
          "colorscale": {
           "diverging": [
            [
             0,
             "#8e0152"
            ],
            [
             0.1,
             "#c51b7d"
            ],
            [
             0.2,
             "#de77ae"
            ],
            [
             0.3,
             "#f1b6da"
            ],
            [
             0.4,
             "#fde0ef"
            ],
            [
             0.5,
             "#f7f7f7"
            ],
            [
             0.6,
             "#e6f5d0"
            ],
            [
             0.7,
             "#b8e186"
            ],
            [
             0.8,
             "#7fbc41"
            ],
            [
             0.9,
             "#4d9221"
            ],
            [
             1,
             "#276419"
            ]
           ],
           "sequential": [
            [
             0,
             "#0d0887"
            ],
            [
             0.1111111111111111,
             "#46039f"
            ],
            [
             0.2222222222222222,
             "#7201a8"
            ],
            [
             0.3333333333333333,
             "#9c179e"
            ],
            [
             0.4444444444444444,
             "#bd3786"
            ],
            [
             0.5555555555555556,
             "#d8576b"
            ],
            [
             0.6666666666666666,
             "#ed7953"
            ],
            [
             0.7777777777777778,
             "#fb9f3a"
            ],
            [
             0.8888888888888888,
             "#fdca26"
            ],
            [
             1,
             "#f0f921"
            ]
           ],
           "sequentialminus": [
            [
             0,
             "#0d0887"
            ],
            [
             0.1111111111111111,
             "#46039f"
            ],
            [
             0.2222222222222222,
             "#7201a8"
            ],
            [
             0.3333333333333333,
             "#9c179e"
            ],
            [
             0.4444444444444444,
             "#bd3786"
            ],
            [
             0.5555555555555556,
             "#d8576b"
            ],
            [
             0.6666666666666666,
             "#ed7953"
            ],
            [
             0.7777777777777778,
             "#fb9f3a"
            ],
            [
             0.8888888888888888,
             "#fdca26"
            ],
            [
             1,
             "#f0f921"
            ]
           ]
          },
          "colorway": [
           "#636efa",
           "#EF553B",
           "#00cc96",
           "#ab63fa",
           "#FFA15A",
           "#19d3f3",
           "#FF6692",
           "#B6E880",
           "#FF97FF",
           "#FECB52"
          ],
          "font": {
           "color": "#2a3f5f"
          },
          "geo": {
           "bgcolor": "white",
           "lakecolor": "white",
           "landcolor": "#E5ECF6",
           "showlakes": true,
           "showland": true,
           "subunitcolor": "white"
          },
          "hoverlabel": {
           "align": "left"
          },
          "hovermode": "closest",
          "mapbox": {
           "style": "light"
          },
          "paper_bgcolor": "white",
          "plot_bgcolor": "#E5ECF6",
          "polar": {
           "angularaxis": {
            "gridcolor": "white",
            "linecolor": "white",
            "ticks": ""
           },
           "bgcolor": "#E5ECF6",
           "radialaxis": {
            "gridcolor": "white",
            "linecolor": "white",
            "ticks": ""
           }
          },
          "scene": {
           "xaxis": {
            "backgroundcolor": "#E5ECF6",
            "gridcolor": "white",
            "gridwidth": 2,
            "linecolor": "white",
            "showbackground": true,
            "ticks": "",
            "zerolinecolor": "white"
           },
           "yaxis": {
            "backgroundcolor": "#E5ECF6",
            "gridcolor": "white",
            "gridwidth": 2,
            "linecolor": "white",
            "showbackground": true,
            "ticks": "",
            "zerolinecolor": "white"
           },
           "zaxis": {
            "backgroundcolor": "#E5ECF6",
            "gridcolor": "white",
            "gridwidth": 2,
            "linecolor": "white",
            "showbackground": true,
            "ticks": "",
            "zerolinecolor": "white"
           }
          },
          "shapedefaults": {
           "line": {
            "color": "#2a3f5f"
           }
          },
          "ternary": {
           "aaxis": {
            "gridcolor": "white",
            "linecolor": "white",
            "ticks": ""
           },
           "baxis": {
            "gridcolor": "white",
            "linecolor": "white",
            "ticks": ""
           },
           "bgcolor": "#E5ECF6",
           "caxis": {
            "gridcolor": "white",
            "linecolor": "white",
            "ticks": ""
           }
          },
          "title": {
           "x": 0.05
          },
          "xaxis": {
           "automargin": true,
           "gridcolor": "white",
           "linecolor": "white",
           "ticks": "",
           "title": {
            "standoff": 15
           },
           "zerolinecolor": "white",
           "zerolinewidth": 2
          },
          "yaxis": {
           "automargin": true,
           "gridcolor": "white",
           "linecolor": "white",
           "ticks": "",
           "title": {
            "standoff": 15
           },
           "zerolinecolor": "white",
           "zerolinewidth": 2
          }
         }
        },
        "title": {
         "text": "Geographic Locations in Frankenstein (Sample Data)"
        }
       }
      }
     },
     "metadata": {},
     "output_type": "display_data"
    },
    {
     "name": "stdout",
     "output_type": "stream",
     "text": [
      "🗺️ Map created with 95 unique locations\n"
     ]
    }
   ],
   "source": [
    "# Create visualizations using the processed data\n",
    "import plotly.express as px\n",
    "\n",
    "# 1. Geographic distribution map\n",
    "print(\"🗺️ Creating geographic distribution map...\")\n",
    "\n",
    "# Use location data with word counts for sizing\n",
    "valid_coords = frankenstein_manual_locations[\n",
    "    (frankenstein_manual_locations[lat_col].notna()) & \n",
    "    (frankenstein_manual_locations[lon_col].notna())\n",
    "].copy()\n",
    "\n",
    "valid_coords['word_count'] = valid_coords['paragraph_text'].str.split().str.len()\n",
    "\n",
    "location_counts = valid_coords.groupby(['curated_name', lat_col, lon_col]).agg({\n",
    "    'word_count': 'sum'\n",
    "}).reset_index()\n",
    "location_counts = location_counts.rename(columns={'word_count': 'total_words'})\n",
    "location_counts['narrative_percent'] = (location_counts['total_words'] / total_narrative_words * 100).round(2)\n",
    "\n",
    "fig_geo = px.scatter_mapbox(\n",
    "    location_counts,\n",
    "    lat=lat_col,\n",
    "    lon=lon_col,\n",
    "    hover_name=\"curated_name\",\n",
    "    size=\"total_words\",\n",
    "    size_max=20,\n",
    "    hover_data={\"narrative_percent\": \":.2f\", \"total_words\": True},\n",
    "    title=\"Geographic Distribution in Frankenstein\",\n",
    "    zoom=3,\n",
    "    height=600\n",
    ")\n",
    "\n",
    "fig_geo.update_layout(mapbox_style=\"open-street-map\", margin={\"r\":0,\"t\":50,\"l\":0,\"b\":0})\n",
    "fig_geo.show()\n",
    "\n",
    "print(f\"✅ Geographic map created with {len(location_counts)} locations\")"
   ]
  },
  {
   "cell_type": "code",
   "execution_count": 86,
   "id": "5b584c02",
   "metadata": {},
   "outputs": [],
   "source": [
    "frankenstein_paragraphs_geoparsed.to_csv(\"frankenstein_paragraphs_geoparsed.csv\", index=False)"
   ]
  },
  {
   "cell_type": "code",
   "execution_count": 87,
   "id": "3bfc8b3b",
   "metadata": {},
   "outputs": [],
   "source": [
    "frankenstein_manual_locations = pd.read_csv(\"frankenstein_paragraphs_geoparsed_and_located.csv\")"
   ]
  },
  {
   "cell_type": "code",
   "execution_count": 88,
   "id": "960c9f82",
   "metadata": {},
   "outputs": [
    {
     "name": "stdout",
     "output_type": "stream",
     "text": [
      "🔍 MANUAL LOCATIONS DATAFRAME STRUCTURE:\n",
      "============================================================\n",
      "Shape: (764, 11)\n",
      "Columns: ['text_section', 'chapter_letter', 'paragraph_number', 'paragraph_text', 'places', 'latitudes', 'longitudes', 'feature_names', 'curated_name', 'lat', 'long']\n",
      "\n",
      "First 5 rows:\n"
     ]
    },
    {
     "data": {
      "application/vnd.microsoft.datawrangler.viewer.v0+json": {
       "columns": [
        {
         "name": "index",
         "rawType": "int64",
         "type": "integer"
        },
        {
         "name": "text_section",
         "rawType": "object",
         "type": "string"
        },
        {
         "name": "chapter_letter",
         "rawType": "object",
         "type": "string"
        },
        {
         "name": "paragraph_number",
         "rawType": "int64",
         "type": "integer"
        },
        {
         "name": "paragraph_text",
         "rawType": "object",
         "type": "string"
        },
        {
         "name": "places",
         "rawType": "object",
         "type": "string"
        },
        {
         "name": "latitudes",
         "rawType": "object",
         "type": "string"
        },
        {
         "name": "longitudes",
         "rawType": "object",
         "type": "string"
        },
        {
         "name": "feature_names",
         "rawType": "object",
         "type": "string"
        },
        {
         "name": "curated_name",
         "rawType": "object",
         "type": "string"
        },
        {
         "name": "lat",
         "rawType": "float64",
         "type": "float"
        },
        {
         "name": "long",
         "rawType": "float64",
         "type": "float"
        }
       ],
       "ref": "61827e31-d801-41f8-94fb-dec3718d4e0e",
       "rows": [
        [
         "0",
         "closing_letters",
         "CLOSING LETTERS",
         "1",
         "﻿WALTON, _in continuation_.",
         "[]",
         "[]",
         "[]",
         "[]",
         "Artic",
         "83.61166904",
         "6.457241509"
        ],
        [
         "1",
         "closing_letters",
         "CLOSING LETTERS",
         "2",
         "August 26th, 17—.",
         "[]",
         "[]",
         "[]",
         "[]",
         "Artic",
         "83.61166904",
         "6.457241509"
        ],
        [
         "2",
         "closing_letters",
         "CLOSING LETTERS",
         "3",
         "You have read this strange and terrific story, Margaret; and do you not feel your blood congealed with horror, like that which even now curdles mine? Sometimes, seized with sudden agony, he could not continue his tale; at others, his voice broken, yet piercing, uttered with difficulty the words so replete with agony. His fine and lovely eyes were now lighted up with indignation, now subdued to downcast sorrow, and quenched in infinite wretchedness. Sometimes he commanded his countenance and tones, and related the most horrible incidents with a tranquil voice, suppressing every mark of agitation; then, like a volcano bursting forth, his face would suddenly change to an expression of the wildest rage, as he shrieked out imprecations on his persecutor.",
         "[]",
         "[]",
         "[]",
         "[]",
         "Artic",
         "83.61166904",
         "6.457241509"
        ],
        [
         "3",
         "closing_letters",
         "CLOSING LETTERS",
         "4",
         "His tale is connected, and told with an appearance of the simplest truth; yet I own to you that the letters of Felix and Safie, which he shewed me, and the apparition of the monster, seen from our ship, brought to me a greater conviction of the truth of his narrative than his asseverations, however earnest and connected. Such a monster has then really existence; I cannot doubt it; yet I am lost in surprise and admiration. Sometimes I endeavoured to gain from Frankenstein the particulars of his creature’s formation; but on this point he was impenetrable.",
         "[]",
         "[]",
         "[]",
         "[]",
         "Artic",
         "83.61166904",
         "6.457241509"
        ],
        [
         "4",
         "closing_letters",
         "CLOSING LETTERS",
         "5",
         "“Are you mad, my friend?” said he, “or whither does your senseless curiosity lead you? Would you also create for yourself and the world a demoniacal enemy? Or to what do your questions tend? Peace, peace! learn my miseries, and do not seek to increase your own.”",
         "[]",
         "[]",
         "[]",
         "[]",
         "Artic",
         "83.61166904",
         "6.457241509"
        ]
       ],
       "shape": {
        "columns": 11,
        "rows": 5
       }
      },
      "text/html": [
       "<div>\n",
       "<style scoped>\n",
       "    .dataframe tbody tr th:only-of-type {\n",
       "        vertical-align: middle;\n",
       "    }\n",
       "\n",
       "    .dataframe tbody tr th {\n",
       "        vertical-align: top;\n",
       "    }\n",
       "\n",
       "    .dataframe thead th {\n",
       "        text-align: right;\n",
       "    }\n",
       "</style>\n",
       "<table border=\"1\" class=\"dataframe\">\n",
       "  <thead>\n",
       "    <tr style=\"text-align: right;\">\n",
       "      <th></th>\n",
       "      <th>text_section</th>\n",
       "      <th>chapter_letter</th>\n",
       "      <th>paragraph_number</th>\n",
       "      <th>paragraph_text</th>\n",
       "      <th>places</th>\n",
       "      <th>latitudes</th>\n",
       "      <th>longitudes</th>\n",
       "      <th>feature_names</th>\n",
       "      <th>curated_name</th>\n",
       "      <th>lat</th>\n",
       "      <th>long</th>\n",
       "    </tr>\n",
       "  </thead>\n",
       "  <tbody>\n",
       "    <tr>\n",
       "      <th>0</th>\n",
       "      <td>closing_letters</td>\n",
       "      <td>CLOSING LETTERS</td>\n",
       "      <td>1</td>\n",
       "      <td>﻿WALTON, _in continuation_.</td>\n",
       "      <td>[]</td>\n",
       "      <td>[]</td>\n",
       "      <td>[]</td>\n",
       "      <td>[]</td>\n",
       "      <td>Artic</td>\n",
       "      <td>83.611669</td>\n",
       "      <td>6.457242</td>\n",
       "    </tr>\n",
       "    <tr>\n",
       "      <th>1</th>\n",
       "      <td>closing_letters</td>\n",
       "      <td>CLOSING LETTERS</td>\n",
       "      <td>2</td>\n",
       "      <td>August 26th, 17—.</td>\n",
       "      <td>[]</td>\n",
       "      <td>[]</td>\n",
       "      <td>[]</td>\n",
       "      <td>[]</td>\n",
       "      <td>Artic</td>\n",
       "      <td>83.611669</td>\n",
       "      <td>6.457242</td>\n",
       "    </tr>\n",
       "    <tr>\n",
       "      <th>2</th>\n",
       "      <td>closing_letters</td>\n",
       "      <td>CLOSING LETTERS</td>\n",
       "      <td>3</td>\n",
       "      <td>You have read this strange and terrific story,...</td>\n",
       "      <td>[]</td>\n",
       "      <td>[]</td>\n",
       "      <td>[]</td>\n",
       "      <td>[]</td>\n",
       "      <td>Artic</td>\n",
       "      <td>83.611669</td>\n",
       "      <td>6.457242</td>\n",
       "    </tr>\n",
       "    <tr>\n",
       "      <th>3</th>\n",
       "      <td>closing_letters</td>\n",
       "      <td>CLOSING LETTERS</td>\n",
       "      <td>4</td>\n",
       "      <td>His tale is connected, and told with an appear...</td>\n",
       "      <td>[]</td>\n",
       "      <td>[]</td>\n",
       "      <td>[]</td>\n",
       "      <td>[]</td>\n",
       "      <td>Artic</td>\n",
       "      <td>83.611669</td>\n",
       "      <td>6.457242</td>\n",
       "    </tr>\n",
       "    <tr>\n",
       "      <th>4</th>\n",
       "      <td>closing_letters</td>\n",
       "      <td>CLOSING LETTERS</td>\n",
       "      <td>5</td>\n",
       "      <td>“Are you mad, my friend?” said he, “or whither...</td>\n",
       "      <td>[]</td>\n",
       "      <td>[]</td>\n",
       "      <td>[]</td>\n",
       "      <td>[]</td>\n",
       "      <td>Artic</td>\n",
       "      <td>83.611669</td>\n",
       "      <td>6.457242</td>\n",
       "    </tr>\n",
       "  </tbody>\n",
       "</table>\n",
       "</div>"
      ],
      "text/plain": [
       "      text_section   chapter_letter  paragraph_number  \\\n",
       "0  closing_letters  CLOSING LETTERS                 1   \n",
       "1  closing_letters  CLOSING LETTERS                 2   \n",
       "2  closing_letters  CLOSING LETTERS                 3   \n",
       "3  closing_letters  CLOSING LETTERS                 4   \n",
       "4  closing_letters  CLOSING LETTERS                 5   \n",
       "\n",
       "                                      paragraph_text places latitudes  \\\n",
       "0                        ﻿WALTON, _in continuation_.     []        []   \n",
       "1                                  August 26th, 17—.     []        []   \n",
       "2  You have read this strange and terrific story,...     []        []   \n",
       "3  His tale is connected, and told with an appear...     []        []   \n",
       "4  “Are you mad, my friend?” said he, “or whither...     []        []   \n",
       "\n",
       "  longitudes feature_names curated_name        lat      long  \n",
       "0         []            []        Artic  83.611669  6.457242  \n",
       "1         []            []        Artic  83.611669  6.457242  \n",
       "2         []            []        Artic  83.611669  6.457242  \n",
       "3         []            []        Artic  83.611669  6.457242  \n",
       "4         []            []        Artic  83.611669  6.457242  "
      ]
     },
     "metadata": {},
     "output_type": "display_data"
    },
    {
     "name": "stdout",
     "output_type": "stream",
     "text": [
      "\n",
      "Final two columns (coordinates):\n",
      "Column names: ['lat', 'long']\n",
      "  lat: float64\n",
      "    - Non-null count: 764\n",
      "    - Sample values: [83.61166904, 83.61166904, 83.61166904]\n",
      "  long: float64\n",
      "    - Non-null count: 764\n",
      "    - Sample values: [6.457241509, 6.457241509, 6.457241509]\n"
     ]
    }
   ],
   "source": [
    "# Examine the structure of the manual locations DataFrame\n",
    "print(\"🔍 MANUAL LOCATIONS DATAFRAME STRUCTURE:\")\n",
    "print(\"=\" * 60)\n",
    "print(f\"Shape: {frankenstein_manual_locations.shape}\")\n",
    "print(f\"Columns: {list(frankenstein_manual_locations.columns)}\")\n",
    "\n",
    "# Show the first few rows to understand the structure\n",
    "print(f\"\\nFirst 5 rows:\")\n",
    "display(frankenstein_manual_locations.head())\n",
    "\n",
    "# Show column info focusing on the final two columns\n",
    "print(f\"\\nFinal two columns (coordinates):\")\n",
    "final_cols = frankenstein_manual_locations.columns[-2:]\n",
    "print(f\"Column names: {list(final_cols)}\")\n",
    "for col in final_cols:\n",
    "    print(f\"  {col}: {frankenstein_manual_locations[col].dtype}\")\n",
    "    print(f\"    - Non-null count: {frankenstein_manual_locations[col].notna().sum()}\")\n",
    "    print(f\"    - Sample values: {frankenstein_manual_locations[col].dropna().head(3).tolist()}\")"
   ]
  },
  {
   "cell_type": "code",
   "execution_count": 89,
   "id": "7213ab08",
   "metadata": {},
   "outputs": [
    {
     "name": "stdout",
     "output_type": "stream",
     "text": [
      "Using coordinates from columns: lat and long\n",
      "Found 764 paragraphs with valid coordinates out of 764 total\n",
      "Using curated place names from column: curated_name\n"
     ]
    },
    {
     "data": {
      "application/vnd.plotly.v1+json": {
       "config": {
        "plotlyServerURL": "https://plot.ly"
       },
       "data": [
        {
         "customdata": [
          [
           "Archangel<br>Narrative Percent: 1.48%<br>Total Words: 1062"
          ],
          [
           "Arles<br>Narrative Percent: 0.09%<br>Total Words: 68"
          ],
          [
           "Artic<br>Narrative Percent: 10.56%<br>Total Words: 7583"
          ],
          [
           "Barents Sea<br>Narrative Percent: 0.33%<br>Total Words: 238"
          ],
          [
           "Beach somewhere on the Irish Coast<br>Narrative Percent: 5.46%<br>Total Words: 3920"
          ],
          [
           "Belrive<br>Narrative Percent: 1.71%<br>Total Words: 1228"
          ],
          [
           "Chamonix<br>Narrative Percent: 1.14%<br>Total Words: 820"
          ],
          [
           "Cologne<br>Narrative Percent: 0.05%<br>Total Words: 36"
          ],
          [
           "Constantinople<br>Narrative Percent: 0.13%<br>Total Words: 93"
          ],
          [
           "Cumberland<br>Narrative Percent: 0.58%<br>Total Words: 420"
          ],
          [
           "Delacey Cottage<br>Narrative Percent: 7.93%<br>Total Words: 5697"
          ],
          [
           "Delacey Cottage<br>Narrative Percent: 6.18%<br>Total Words: 4438"
          ],
          [
           "Dublin<br>Narrative Percent: 0.36%<br>Total Words: 257"
          ],
          [
           "Edinburgh<br>Narrative Percent: 0.13%<br>Total Words: 96"
          ],
          [
           "Elizabeth in Italy<br>Narrative Percent: 0.33%<br>Total Words: 237"
          ],
          [
           "Geneva<br>Narrative Percent: 0.43%<br>Total Words: 311"
          ],
          [
           "Geneva<br>Narrative Percent: 23.78%<br>Total Words: 17076"
          ],
          [
           "Holyhead<br>Narrative Percent: 0.19%<br>Total Words: 139"
          ],
          [
           "Ingolstadt<br>Narrative Percent: 3.15%<br>Total Words: 2260"
          ],
          [
           "Ingolstadt<br>Narrative Percent: 8.75%<br>Total Words: 6283"
          ],
          [
           "Ingolstadt (Forest)<br>Narrative Percent: 0.72%<br>Total Words: 515"
          ],
          [
           "Irish Sea<br>Narrative Percent: 0.5%<br>Total Words: 361"
          ],
          [
           "Lausanne<br>Narrative Percent: 0.07%<br>Total Words: 51"
          ],
          [
           "Le Havre<br>Narrative Percent: 0.05%<br>Total Words: 36"
          ],
          [
           "Livorno<br>Narrative Percent: 0.69%<br>Total Words: 493"
          ],
          [
           "Livorno<br>Narrative Percent: 0.16%<br>Total Words: 117"
          ],
          [
           "London<br>Narrative Percent: 0.83%<br>Total Words: 593"
          ],
          [
           "Lucern<br>Narrative Percent: 0.5%<br>Total Words: 361"
          ],
          [
           "Mainz<br>Narrative Percent: 0.21%<br>Total Words: 151"
          ],
          [
           "Matlock<br>Narrative Percent: 0.16%<br>Total Words: 116"
          ],
          [
           "Monster Travel to Geneva<br>Narrative Percent: 1.35%<br>Total Words: 971"
          ],
          [
           "Montanvert<br>Narrative Percent: 5.81%<br>Total Words: 4175"
          ],
          [
           "Near Mont Blanc<br>Narrative Percent: 1.37%<br>Total Words: 983"
          ],
          [
           "Orkney Islands<br>Narrative Percent: 4.26%<br>Total Words: 3062"
          ],
          [
           "Oxford<br>Narrative Percent: 0.62%<br>Total Words: 442"
          ],
          [
           "Paris<br>Narrative Percent: 1.29%<br>Total Words: 928"
          ],
          [
           "Paris<br>Narrative Percent: 0.72%<br>Total Words: 518"
          ],
          [
           "Perth<br>Narrative Percent: 0.33%<br>Total Words: 239"
          ],
          [
           "Portsmouth<br>Narrative Percent: 0.81%<br>Total Words: 584"
          ],
          [
           "Rhine below Mainz<br>Narrative Percent: 0.89%<br>Total Words: 638"
          ],
          [
           "Rotterdam<br>Narrative Percent: 0.13%<br>Total Words: 96"
          ],
          [
           "Russian plain<br>Narrative Percent: 0.33%<br>Total Words: 238"
          ],
          [
           "Russian pursuit<br>Narrative Percent: 0.72%<br>Total Words: 514"
          ],
          [
           "Russian pursuit near Archangel<br>Narrative Percent: 0.84%<br>Total Words: 600"
          ],
          [
           "Russian pursuit on ice<br>Narrative Percent: 1.22%<br>Total Words: 878"
          ],
          [
           "St. Petersburgh<br>Narrative Percent: 1.67%<br>Total Words: 1198"
          ],
          [
           "Strasbourg<br>Narrative Percent: 0.24%<br>Total Words: 175"
          ],
          [
           "Thonon-les-Bains<br>Narrative Percent: 0.45%<br>Total Words: 325"
          ],
          [
           "Windsor<br>Narrative Percent: 0.06%<br>Total Words: 46"
          ],
          [
           "Zurich<br>Narrative Percent: 0.19%<br>Total Words: 133"
          ]
         ],
         "hovertemplate": "%{customdata[0]}<extra></extra>",
         "lat": {
          "bdata": "dcJT4fIiUECYTHi2hdZFQKWx5pUl51RAtjTx7WGPU0BHw+/HaZlLQHAifu4ZIUdAdkJc9172RkCLWScVqnZJQKzAmEZ2gURAqoAYdAQ9S0C/I/CorVBIQJtVn6utUEhAltchaX2sSkDw2ilGK/pLQPHaAMd5OEZAkov3BAUaR0An9zsUBRpHQCCDcGBNp0pAYFlpUgpiSECE6jBwCmJIQJqsF2RHVUhAiFVyBF/3S0A1XrpJDEJHQHFfYoeMv0hAUW+hhkrGRUCYTBWMSsZFQGLuYrMGwUlAEY3uIHaGR0A6LCaZyf5IQIjsSYEBkkpA15r3SX8ASEDK3CFqR/dGQEWfTRYQLEdA/cYRSmN3TUC7FC4WTOBJQGB1oiyVbUhADv/hlcFtSEB33TqDrzJMQF02+MrVaElAioCW8HwtSUDHKXyunfZJQJYziM3PZkpAwqKFeGKZS0Dj22BNCmdPQOqzXmee11BAZTYKQXX3TUC2zqbAVUlIQF2/YDdsL0dAOCqae4a9SUAQrwwmVa9HQA==",
          "dtype": "f8"
         },
         "legendgroup": "",
         "lon": {
          "bdata": "rZYJ+f9DREAKZIj5eJASQGEdPh431BlA8M+Yi/DNPkDZsr55WIcawK23beJbxxhAx3SVrJJ7G0A101VrdVYcQG+6I2sm+jxA/P0gmpJbCMAUwc0ccU4mQB/XhopxTiZAsWJOVmAKGcBMo+rTAYcJwFfCh9AQcyVAUqlEn7CWGEALYTWWsJYYQEjLea0hhBLAX16AfXTaJkBfXoB9dNomQFIC7rsagyZAcBSdiCWnHcDVBFH3AYgaQOBh9owmEro/VgJSMJ2hJED99nXgnKEkQNUywYwDEbu/W0I+6NmcIEBFP4qiVn8gQPtoyccUwvi/3NNUnXW8IUCmjXYeDawbQCSMVTmjtBhAmBFsyZv9BcC5PXZUixH0v6wUW3EMzQJAqnJ0cSjPAkDDu/TgAnULwPExZ5zXN/G/qYDUVoe6HkAa+Nr+WN4RQCWxQbJCakJAPynFVBsVQUCwoaNuSrtEQPuYi8/PLEVA0Og34ZhZPkAfihGoTwsfQEHxY8xd6xlA+yQ6dSyp478vjOK/unohQA==",
          "dtype": "f8"
         },
         "marker": {
          "color": "#636efa",
          "size": {
           "bdata": "JgREAJ8d7gBQD8wENAMkAF0ApAFBFlYRAQFgAO0ANwG0QosA1AiLGAMCaQEzACQA7QF1AFECaQGXAHQAywNPENcD9gu6AaADBgLvAEgCfgJgAO4AAgJYAm4DrgSvAEUBLgCFAA==",
           "dtype": "i2"
          },
          "sizemode": "area",
          "sizeref": 42.69
         },
         "mode": "markers",
         "name": "",
         "showlegend": false,
         "subplot": "map",
         "type": "scattermap"
        }
       ],
       "layout": {
        "height": 700,
        "legend": {
         "itemsizing": "constant",
         "tracegroupgap": 0
        },
        "map": {
         "center": {
          "lat": 51.9519637108,
          "lon": 9.19839576246
         },
         "domain": {
          "x": [
           0,
           1
          ],
          "y": [
           0,
           1
          ]
         },
         "zoom": 3
        },
        "mapbox": {
         "center": {
          "lat": 51.9519637108,
          "lon": 9.19839576246
         },
         "style": "open-street-map",
         "zoom": 3
        },
        "margin": {
         "b": 0,
         "l": 0,
         "r": 0,
         "t": 50
        },
        "template": {
         "data": {
          "bar": [
           {
            "error_x": {
             "color": "#2a3f5f"
            },
            "error_y": {
             "color": "#2a3f5f"
            },
            "marker": {
             "line": {
              "color": "#E5ECF6",
              "width": 0.5
             },
             "pattern": {
              "fillmode": "overlay",
              "size": 10,
              "solidity": 0.2
             }
            },
            "type": "bar"
           }
          ],
          "barpolar": [
           {
            "marker": {
             "line": {
              "color": "#E5ECF6",
              "width": 0.5
             },
             "pattern": {
              "fillmode": "overlay",
              "size": 10,
              "solidity": 0.2
             }
            },
            "type": "barpolar"
           }
          ],
          "carpet": [
           {
            "aaxis": {
             "endlinecolor": "#2a3f5f",
             "gridcolor": "white",
             "linecolor": "white",
             "minorgridcolor": "white",
             "startlinecolor": "#2a3f5f"
            },
            "baxis": {
             "endlinecolor": "#2a3f5f",
             "gridcolor": "white",
             "linecolor": "white",
             "minorgridcolor": "white",
             "startlinecolor": "#2a3f5f"
            },
            "type": "carpet"
           }
          ],
          "choropleth": [
           {
            "colorbar": {
             "outlinewidth": 0,
             "ticks": ""
            },
            "type": "choropleth"
           }
          ],
          "contour": [
           {
            "colorbar": {
             "outlinewidth": 0,
             "ticks": ""
            },
            "colorscale": [
             [
              0,
              "#0d0887"
             ],
             [
              0.1111111111111111,
              "#46039f"
             ],
             [
              0.2222222222222222,
              "#7201a8"
             ],
             [
              0.3333333333333333,
              "#9c179e"
             ],
             [
              0.4444444444444444,
              "#bd3786"
             ],
             [
              0.5555555555555556,
              "#d8576b"
             ],
             [
              0.6666666666666666,
              "#ed7953"
             ],
             [
              0.7777777777777778,
              "#fb9f3a"
             ],
             [
              0.8888888888888888,
              "#fdca26"
             ],
             [
              1,
              "#f0f921"
             ]
            ],
            "type": "contour"
           }
          ],
          "contourcarpet": [
           {
            "colorbar": {
             "outlinewidth": 0,
             "ticks": ""
            },
            "type": "contourcarpet"
           }
          ],
          "heatmap": [
           {
            "colorbar": {
             "outlinewidth": 0,
             "ticks": ""
            },
            "colorscale": [
             [
              0,
              "#0d0887"
             ],
             [
              0.1111111111111111,
              "#46039f"
             ],
             [
              0.2222222222222222,
              "#7201a8"
             ],
             [
              0.3333333333333333,
              "#9c179e"
             ],
             [
              0.4444444444444444,
              "#bd3786"
             ],
             [
              0.5555555555555556,
              "#d8576b"
             ],
             [
              0.6666666666666666,
              "#ed7953"
             ],
             [
              0.7777777777777778,
              "#fb9f3a"
             ],
             [
              0.8888888888888888,
              "#fdca26"
             ],
             [
              1,
              "#f0f921"
             ]
            ],
            "type": "heatmap"
           }
          ],
          "histogram": [
           {
            "marker": {
             "pattern": {
              "fillmode": "overlay",
              "size": 10,
              "solidity": 0.2
             }
            },
            "type": "histogram"
           }
          ],
          "histogram2d": [
           {
            "colorbar": {
             "outlinewidth": 0,
             "ticks": ""
            },
            "colorscale": [
             [
              0,
              "#0d0887"
             ],
             [
              0.1111111111111111,
              "#46039f"
             ],
             [
              0.2222222222222222,
              "#7201a8"
             ],
             [
              0.3333333333333333,
              "#9c179e"
             ],
             [
              0.4444444444444444,
              "#bd3786"
             ],
             [
              0.5555555555555556,
              "#d8576b"
             ],
             [
              0.6666666666666666,
              "#ed7953"
             ],
             [
              0.7777777777777778,
              "#fb9f3a"
             ],
             [
              0.8888888888888888,
              "#fdca26"
             ],
             [
              1,
              "#f0f921"
             ]
            ],
            "type": "histogram2d"
           }
          ],
          "histogram2dcontour": [
           {
            "colorbar": {
             "outlinewidth": 0,
             "ticks": ""
            },
            "colorscale": [
             [
              0,
              "#0d0887"
             ],
             [
              0.1111111111111111,
              "#46039f"
             ],
             [
              0.2222222222222222,
              "#7201a8"
             ],
             [
              0.3333333333333333,
              "#9c179e"
             ],
             [
              0.4444444444444444,
              "#bd3786"
             ],
             [
              0.5555555555555556,
              "#d8576b"
             ],
             [
              0.6666666666666666,
              "#ed7953"
             ],
             [
              0.7777777777777778,
              "#fb9f3a"
             ],
             [
              0.8888888888888888,
              "#fdca26"
             ],
             [
              1,
              "#f0f921"
             ]
            ],
            "type": "histogram2dcontour"
           }
          ],
          "mesh3d": [
           {
            "colorbar": {
             "outlinewidth": 0,
             "ticks": ""
            },
            "type": "mesh3d"
           }
          ],
          "parcoords": [
           {
            "line": {
             "colorbar": {
              "outlinewidth": 0,
              "ticks": ""
             }
            },
            "type": "parcoords"
           }
          ],
          "pie": [
           {
            "automargin": true,
            "type": "pie"
           }
          ],
          "scatter": [
           {
            "fillpattern": {
             "fillmode": "overlay",
             "size": 10,
             "solidity": 0.2
            },
            "type": "scatter"
           }
          ],
          "scatter3d": [
           {
            "line": {
             "colorbar": {
              "outlinewidth": 0,
              "ticks": ""
             }
            },
            "marker": {
             "colorbar": {
              "outlinewidth": 0,
              "ticks": ""
             }
            },
            "type": "scatter3d"
           }
          ],
          "scattercarpet": [
           {
            "marker": {
             "colorbar": {
              "outlinewidth": 0,
              "ticks": ""
             }
            },
            "type": "scattercarpet"
           }
          ],
          "scattergeo": [
           {
            "marker": {
             "colorbar": {
              "outlinewidth": 0,
              "ticks": ""
             }
            },
            "type": "scattergeo"
           }
          ],
          "scattergl": [
           {
            "marker": {
             "colorbar": {
              "outlinewidth": 0,
              "ticks": ""
             }
            },
            "type": "scattergl"
           }
          ],
          "scattermap": [
           {
            "marker": {
             "colorbar": {
              "outlinewidth": 0,
              "ticks": ""
             }
            },
            "type": "scattermap"
           }
          ],
          "scattermapbox": [
           {
            "marker": {
             "colorbar": {
              "outlinewidth": 0,
              "ticks": ""
             }
            },
            "type": "scattermapbox"
           }
          ],
          "scatterpolar": [
           {
            "marker": {
             "colorbar": {
              "outlinewidth": 0,
              "ticks": ""
             }
            },
            "type": "scatterpolar"
           }
          ],
          "scatterpolargl": [
           {
            "marker": {
             "colorbar": {
              "outlinewidth": 0,
              "ticks": ""
             }
            },
            "type": "scatterpolargl"
           }
          ],
          "scatterternary": [
           {
            "marker": {
             "colorbar": {
              "outlinewidth": 0,
              "ticks": ""
             }
            },
            "type": "scatterternary"
           }
          ],
          "surface": [
           {
            "colorbar": {
             "outlinewidth": 0,
             "ticks": ""
            },
            "colorscale": [
             [
              0,
              "#0d0887"
             ],
             [
              0.1111111111111111,
              "#46039f"
             ],
             [
              0.2222222222222222,
              "#7201a8"
             ],
             [
              0.3333333333333333,
              "#9c179e"
             ],
             [
              0.4444444444444444,
              "#bd3786"
             ],
             [
              0.5555555555555556,
              "#d8576b"
             ],
             [
              0.6666666666666666,
              "#ed7953"
             ],
             [
              0.7777777777777778,
              "#fb9f3a"
             ],
             [
              0.8888888888888888,
              "#fdca26"
             ],
             [
              1,
              "#f0f921"
             ]
            ],
            "type": "surface"
           }
          ],
          "table": [
           {
            "cells": {
             "fill": {
              "color": "#EBF0F8"
             },
             "line": {
              "color": "white"
             }
            },
            "header": {
             "fill": {
              "color": "#C8D4E3"
             },
             "line": {
              "color": "white"
             }
            },
            "type": "table"
           }
          ]
         },
         "layout": {
          "annotationdefaults": {
           "arrowcolor": "#2a3f5f",
           "arrowhead": 0,
           "arrowwidth": 1
          },
          "autotypenumbers": "strict",
          "coloraxis": {
           "colorbar": {
            "outlinewidth": 0,
            "ticks": ""
           }
          },
          "colorscale": {
           "diverging": [
            [
             0,
             "#8e0152"
            ],
            [
             0.1,
             "#c51b7d"
            ],
            [
             0.2,
             "#de77ae"
            ],
            [
             0.3,
             "#f1b6da"
            ],
            [
             0.4,
             "#fde0ef"
            ],
            [
             0.5,
             "#f7f7f7"
            ],
            [
             0.6,
             "#e6f5d0"
            ],
            [
             0.7,
             "#b8e186"
            ],
            [
             0.8,
             "#7fbc41"
            ],
            [
             0.9,
             "#4d9221"
            ],
            [
             1,
             "#276419"
            ]
           ],
           "sequential": [
            [
             0,
             "#0d0887"
            ],
            [
             0.1111111111111111,
             "#46039f"
            ],
            [
             0.2222222222222222,
             "#7201a8"
            ],
            [
             0.3333333333333333,
             "#9c179e"
            ],
            [
             0.4444444444444444,
             "#bd3786"
            ],
            [
             0.5555555555555556,
             "#d8576b"
            ],
            [
             0.6666666666666666,
             "#ed7953"
            ],
            [
             0.7777777777777778,
             "#fb9f3a"
            ],
            [
             0.8888888888888888,
             "#fdca26"
            ],
            [
             1,
             "#f0f921"
            ]
           ],
           "sequentialminus": [
            [
             0,
             "#0d0887"
            ],
            [
             0.1111111111111111,
             "#46039f"
            ],
            [
             0.2222222222222222,
             "#7201a8"
            ],
            [
             0.3333333333333333,
             "#9c179e"
            ],
            [
             0.4444444444444444,
             "#bd3786"
            ],
            [
             0.5555555555555556,
             "#d8576b"
            ],
            [
             0.6666666666666666,
             "#ed7953"
            ],
            [
             0.7777777777777778,
             "#fb9f3a"
            ],
            [
             0.8888888888888888,
             "#fdca26"
            ],
            [
             1,
             "#f0f921"
            ]
           ]
          },
          "colorway": [
           "#636efa",
           "#EF553B",
           "#00cc96",
           "#ab63fa",
           "#FFA15A",
           "#19d3f3",
           "#FF6692",
           "#B6E880",
           "#FF97FF",
           "#FECB52"
          ],
          "font": {
           "color": "#2a3f5f"
          },
          "geo": {
           "bgcolor": "white",
           "lakecolor": "white",
           "landcolor": "#E5ECF6",
           "showlakes": true,
           "showland": true,
           "subunitcolor": "white"
          },
          "hoverlabel": {
           "align": "left"
          },
          "hovermode": "closest",
          "mapbox": {
           "style": "light"
          },
          "paper_bgcolor": "white",
          "plot_bgcolor": "#E5ECF6",
          "polar": {
           "angularaxis": {
            "gridcolor": "white",
            "linecolor": "white",
            "ticks": ""
           },
           "bgcolor": "#E5ECF6",
           "radialaxis": {
            "gridcolor": "white",
            "linecolor": "white",
            "ticks": ""
           }
          },
          "scene": {
           "xaxis": {
            "backgroundcolor": "#E5ECF6",
            "gridcolor": "white",
            "gridwidth": 2,
            "linecolor": "white",
            "showbackground": true,
            "ticks": "",
            "zerolinecolor": "white"
           },
           "yaxis": {
            "backgroundcolor": "#E5ECF6",
            "gridcolor": "white",
            "gridwidth": 2,
            "linecolor": "white",
            "showbackground": true,
            "ticks": "",
            "zerolinecolor": "white"
           },
           "zaxis": {
            "backgroundcolor": "#E5ECF6",
            "gridcolor": "white",
            "gridwidth": 2,
            "linecolor": "white",
            "showbackground": true,
            "ticks": "",
            "zerolinecolor": "white"
           }
          },
          "shapedefaults": {
           "line": {
            "color": "#2a3f5f"
           }
          },
          "ternary": {
           "aaxis": {
            "gridcolor": "white",
            "linecolor": "white",
            "ticks": ""
           },
           "baxis": {
            "gridcolor": "white",
            "linecolor": "white",
            "ticks": ""
           },
           "bgcolor": "#E5ECF6",
           "caxis": {
            "gridcolor": "white",
            "linecolor": "white",
            "ticks": ""
           }
          },
          "title": {
           "x": 0.05
          },
          "xaxis": {
           "automargin": true,
           "gridcolor": "white",
           "linecolor": "white",
           "ticks": "",
           "title": {
            "standoff": 15
           },
           "zerolinecolor": "white",
           "zerolinewidth": 2
          },
          "yaxis": {
           "automargin": true,
           "gridcolor": "white",
           "linecolor": "white",
           "ticks": "",
           "title": {
            "standoff": 15
           },
           "zerolinecolor": "white",
           "zerolinewidth": 2
          }
         }
        },
        "title": {
         "text": "Manual Frankenstein Locations Map (sized by word count)"
        }
       }
      }
     },
     "metadata": {},
     "output_type": "display_data"
    },
    {
     "name": "stdout",
     "output_type": "stream",
     "text": [
      "\n",
      "🗺️ Map created successfully!\n",
      "📊 Showing 50 unique locations\n",
      "📍 Total words at all locations: 71799\n",
      "📖 Total narrative words: 71,799\n",
      "🔢 Percentage coverage: 100.0%\n",
      "\n",
      "Top 10 locations by word count:\n",
      "  Geneva: 17076 words (23.78%) (46.2033, 6.1472)\n",
      "  Artic: 7583 words (10.56%) (83.6117, 6.4572)\n",
      "  Ingolstadt: 6283 words (8.75%) (48.7659, 11.4267)\n",
      "  Delacey Cottage: 5697 words (7.93%) (48.6303, 11.1532)\n",
      "  Delacey Cottage: 4438 words (6.18%) (48.6303, 11.1532)\n",
      "  Montanvert: 4175 words (5.81%) (45.9319, 6.9180)\n",
      "  Beach somewhere on the Irish Coast: 3920 words (5.46%) (55.1985, -6.6322)\n",
      "  Orkney Islands: 3062 words (4.26%) (58.9327, -2.7488)\n",
      "  Ingolstadt: 2260 words (3.15%) (48.7659, 11.4267)\n",
      "  Belrive: 1228 words (1.71%) (46.2586, 6.1947)\n"
     ]
    }
   ],
   "source": [
    "# Create interactive map using the manual locations with correct coordinates\n",
    "try:\n",
    "    import plotly.express as px\n",
    "    \n",
    "    # Get the final two columns (coordinates)\n",
    "    coords_columns = list(frankenstein_manual_locations.columns[-2:])\n",
    "    lat_col = coords_columns[0]  # Assuming first of final two is latitude\n",
    "    lon_col = coords_columns[1]  # Assuming second of final two is longitude\n",
    "    \n",
    "    print(f\"Using coordinates from columns: {lat_col} and {lon_col}\")\n",
    "    \n",
    "    # Filter for rows that have valid coordinates\n",
    "    valid_coords = frankenstein_manual_locations[\n",
    "        (frankenstein_manual_locations[lat_col].notna()) & \n",
    "        (frankenstein_manual_locations[lon_col].notna())\n",
    "    ].copy()\n",
    "    \n",
    "    print(f\"Found {len(valid_coords)} paragraphs with valid coordinates out of {len(frankenstein_manual_locations)} total\")\n",
    "    \n",
    "    if len(valid_coords) > 0:\n",
    "        # Use curated_name for location names\n",
    "        if 'curated_name' in valid_coords.columns:\n",
    "            place_col = 'curated_name'\n",
    "            print(f\"Using curated place names from column: {place_col}\")\n",
    "        else:\n",
    "            # Fallback to other place columns if curated_name not available\n",
    "            place_cols = [col for col in valid_coords.columns if 'place' in col.lower() or 'location' in col.lower()]\n",
    "            \n",
    "            if place_cols:\n",
    "                place_col = place_cols[0]\n",
    "                print(f\"curated_name not found, using: {place_col}\")\n",
    "            else:\n",
    "                # Create a simple identifier if no place column found\n",
    "                valid_coords['location_id'] = valid_coords['text_section'] + \" - \" + valid_coords['chapter_letter']\n",
    "                place_col = 'location_id'\n",
    "                print(\"No place column found, created location identifiers\")\n",
    "        \n",
    "        # Count total words at each location for sizing\n",
    "        # First, add word counts to each row\n",
    "        valid_coords['word_count'] = valid_coords['paragraph_text'].str.split().str.len()\n",
    "        \n",
    "        # Calculate total words in the entire narrative\n",
    "        total_narrative_words = frankenstein_manual_locations['paragraph_text'].str.split().str.len().sum()\n",
    "        \n",
    "        # Group by location and sum word counts\n",
    "        location_counts = valid_coords.groupby([place_col, lat_col, lon_col]).agg({\n",
    "            'word_count': 'sum'\n",
    "        }).reset_index()\n",
    "        location_counts = location_counts.rename(columns={'word_count': 'total_words'})\n",
    "        \n",
    "        # Calculate percentage of total narrative for each location\n",
    "        location_counts['narrative_percent'] = (location_counts['total_words'] / total_narrative_words * 100).round(2)\n",
    "        \n",
    "        # Create custom hover text\n",
    "        location_counts['hover_text'] = (\n",
    "            location_counts[place_col] + '<br>' +\n",
    "            'Narrative Percent: ' + location_counts['narrative_percent'].astype(str) + '%<br>' +\n",
    "            'Total Words: ' + location_counts['total_words'].astype(str)\n",
    "        )\n",
    "        \n",
    "        # Create the map\n",
    "        fig = px.scatter_map(\n",
    "            location_counts,\n",
    "            lat=lat_col,\n",
    "            lon=lon_col,\n",
    "            hover_name=None,  # Disable default hover name\n",
    "            custom_data=['hover_text'],\n",
    "            size=\"total_words\",\n",
    "            title=\"Manual Frankenstein Locations Map (sized by word count)\",\n",
    "            zoom=3,\n",
    "            height=700\n",
    "        )\n",
    "        \n",
    "        # Update hover template to use custom text\n",
    "        fig.update_traces(\n",
    "            hovertemplate='%{customdata[0]}<extra></extra>'\n",
    "        )\n",
    "        \n",
    "        fig.update_layout(\n",
    "            mapbox_style=\"open-street-map\",\n",
    "            margin={\"r\":0,\"t\":50,\"l\":0,\"b\":0}\n",
    "        )\n",
    "        \n",
    "        fig.show()\n",
    "        \n",
    "        print(f\"\\n🗺️ Map created successfully!\")\n",
    "        print(f\"📊 Showing {len(location_counts)} unique locations\")\n",
    "        print(f\"📍 Total words at all locations: {location_counts['total_words'].sum()}\")\n",
    "        print(f\"📖 Total narrative words: {total_narrative_words:,}\")\n",
    "        print(f\"🔢 Percentage coverage: {(location_counts['total_words'].sum() / total_narrative_words * 100):.1f}%\")\n",
    "        \n",
    "        # Show top locations by word count and percentage\n",
    "        if len(location_counts) > 0:\n",
    "            print(f\"\\nTop 10 locations by word count:\")\n",
    "            top_locations = location_counts.nlargest(10, 'total_words')\n",
    "            for _, row in top_locations.iterrows():\n",
    "                print(f\"  {row[place_col]}: {row['total_words']} words ({row['narrative_percent']:.2f}%) ({row[lat_col]:.4f}, {row[lon_col]:.4f})\")\n",
    "    \n",
    "    else:\n",
    "        print(\"❌ No valid coordinate data found for mapping\")\n",
    "        \n",
    "except Exception as e:\n",
    "    print(f\"❌ Error creating map: {e}\")\n",
    "    print(\"Check that the coordinate columns contain valid numeric data\")"
   ]
  },
  {
   "cell_type": "markdown",
   "id": "36129f63",
   "metadata": {},
   "source": [
    "# STREAMLINED WORKFLOW COMPLETE\n",
    "\n",
    "The optimized workflow eliminates the redundant sentiment analysis that was previously running multiple times. \n",
    "\n",
    "**Key Improvements:**\n",
    "1. ✅ Sentiment analysis runs only ONCE on all paragraphs\n",
    "2. ✅ Manual location data used (no redundant geoparsing)\n",
    "3. ✅ All results saved as parquet files\n",
    "4. ✅ Presentation notebook is completely independent\n",
    "\n",
    "**Previous Issues Fixed:**\n",
    "- ❌ Sentiment was running twice (locations + characters)\n",
    "- ❌ Geoparsing was unnecessary (manual data available)  \n",
    "- ❌ Results stored in memory (hard to access later)\n",
    "- ❌ Presentation notebook dependent on main notebook\n",
    "\n",
    "**New Efficient Process:**\n",
    "1. Load text → Parse chapters → Create paragraphs\n",
    "2. Load manual location data (skip geoparsing)\n",
    "3. Run sentiment analysis ONCE on all paragraphs\n",
    "4. Analyze characters using existing sentiment scores\n",
    "5. Analyze locations using existing sentiment scores  \n",
    "6. Save everything as parquet files\n",
    "7. Presentation notebook loads parquet files independently"
   ]
  },
  {
   "cell_type": "code",
   "execution_count": null,
   "id": "0ce97d74",
   "metadata": {},
   "outputs": [
    {
     "data": {
      "application/vnd.plotly.v1+json": {
       "config": {
        "plotlyServerURL": "https://plot.ly"
       },
       "data": [
        {
         "customdata": [
          [
           "Archangel<br>Narrative Percent: 1.48%<br>Total Words: 1062<br>Avg Sentiment: 0.049<br>Sentiment: Neutral"
          ],
          [
           "Arles<br>Narrative Percent: 0.09%<br>Total Words: 68<br>Avg Sentiment: -0.03<br>Sentiment: Neutral"
          ],
          [
           "Artic<br>Narrative Percent: 10.56%<br>Total Words: 7583<br>Avg Sentiment: -0.061<br>Sentiment: Neutral"
          ],
          [
           "Barents Sea<br>Narrative Percent: 0.33%<br>Total Words: 238<br>Avg Sentiment: 0.159<br>Sentiment: Positive"
          ],
          [
           "Beach somewhere on the Irish Coast<br>Narrative Percent: 5.46%<br>Total Words: 3920<br>Avg Sentiment: -0.231<br>Sentiment: Negative"
          ],
          [
           "Belrive<br>Narrative Percent: 1.71%<br>Total Words: 1228<br>Avg Sentiment: -0.191<br>Sentiment: Negative"
          ],
          [
           "Chamonix<br>Narrative Percent: 1.14%<br>Total Words: 820<br>Avg Sentiment: 0.333<br>Sentiment: Positive"
          ],
          [
           "Cologne<br>Narrative Percent: 0.05%<br>Total Words: 36<br>Avg Sentiment: -0.017<br>Sentiment: Neutral"
          ],
          [
           "Constantinople<br>Narrative Percent: 0.13%<br>Total Words: 93<br>Avg Sentiment: -0.003<br>Sentiment: Neutral"
          ],
          [
           "Cumberland<br>Narrative Percent: 0.58%<br>Total Words: 420<br>Avg Sentiment: 0.094<br>Sentiment: Neutral"
          ],
          [
           "Delacey Cottage<br>Narrative Percent: 7.93%<br>Total Words: 5697<br>Avg Sentiment: 0.179<br>Sentiment: Positive"
          ],
          [
           "Delacey Cottage<br>Narrative Percent: 6.18%<br>Total Words: 4438<br>Avg Sentiment: -0.021<br>Sentiment: Neutral"
          ],
          [
           "Dublin<br>Narrative Percent: 0.36%<br>Total Words: 257<br>Avg Sentiment: 0.0<br>Sentiment: Neutral"
          ],
          [
           "Edinburgh<br>Narrative Percent: 0.13%<br>Total Words: 96<br>Avg Sentiment: 0.344<br>Sentiment: Positive"
          ],
          [
           "Elizabeth in Italy<br>Narrative Percent: 0.33%<br>Total Words: 237<br>Avg Sentiment: 0.248<br>Sentiment: Positive"
          ],
          [
           "Geneva<br>Narrative Percent: 0.43%<br>Total Words: 311<br>Avg Sentiment: 0.073<br>Sentiment: Neutral"
          ],
          [
           "Geneva<br>Narrative Percent: 23.78%<br>Total Words: 17076<br>Avg Sentiment: -0.063<br>Sentiment: Neutral"
          ],
          [
           "Holyhead<br>Narrative Percent: 0.19%<br>Total Words: 139<br>Avg Sentiment: -0.41<br>Sentiment: Negative"
          ],
          [
           "Ingolstadt<br>Narrative Percent: 3.15%<br>Total Words: 2260<br>Avg Sentiment: 0.054<br>Sentiment: Neutral"
          ],
          [
           "Ingolstadt<br>Narrative Percent: 8.75%<br>Total Words: 6283<br>Avg Sentiment: 0.032<br>Sentiment: Neutral"
          ],
          [
           "Ingolstadt (Forest)<br>Narrative Percent: 0.72%<br>Total Words: 515<br>Avg Sentiment: 0.064<br>Sentiment: Neutral"
          ],
          [
           "Irish Sea<br>Narrative Percent: 0.5%<br>Total Words: 361<br>Avg Sentiment: -0.134<br>Sentiment: Negative"
          ],
          [
           "Lausanne<br>Narrative Percent: 0.07%<br>Total Words: 51<br>Avg Sentiment: 0.313<br>Sentiment: Positive"
          ],
          [
           "Le Havre<br>Narrative Percent: 0.05%<br>Total Words: 36<br>Avg Sentiment: 0.003<br>Sentiment: Neutral"
          ],
          [
           "Livorno<br>Narrative Percent: 0.69%<br>Total Words: 493<br>Avg Sentiment: -0.175<br>Sentiment: Negative"
          ],
          [
           "Livorno<br>Narrative Percent: 0.16%<br>Total Words: 117<br>Avg Sentiment: -0.101<br>Sentiment: Negative"
          ],
          [
           "London<br>Narrative Percent: 0.83%<br>Total Words: 593<br>Avg Sentiment: 0.071<br>Sentiment: Neutral"
          ],
          [
           "Lucern<br>Narrative Percent: 0.5%<br>Total Words: 361<br>Avg Sentiment: -0.01<br>Sentiment: Neutral"
          ],
          [
           "Mainz<br>Narrative Percent: 0.21%<br>Total Words: 151<br>Avg Sentiment: 0.173<br>Sentiment: Positive"
          ],
          [
           "Matlock<br>Narrative Percent: 0.16%<br>Total Words: 116<br>Avg Sentiment: -0.013<br>Sentiment: Neutral"
          ],
          [
           "Monster Travel to Geneva<br>Narrative Percent: 1.35%<br>Total Words: 971<br>Avg Sentiment: -0.112<br>Sentiment: Negative"
          ],
          [
           "Montanvert<br>Narrative Percent: 5.81%<br>Total Words: 4175<br>Avg Sentiment: -0.216<br>Sentiment: Negative"
          ],
          [
           "Near Mont Blanc<br>Narrative Percent: 1.37%<br>Total Words: 983<br>Avg Sentiment: -0.094<br>Sentiment: Neutral"
          ],
          [
           "Orkney Islands<br>Narrative Percent: 4.26%<br>Total Words: 3062<br>Avg Sentiment: -0.225<br>Sentiment: Negative"
          ],
          [
           "Oxford<br>Narrative Percent: 0.62%<br>Total Words: 442<br>Avg Sentiment: 0.182<br>Sentiment: Positive"
          ],
          [
           "Paris<br>Narrative Percent: 1.29%<br>Total Words: 928<br>Avg Sentiment: -0.001<br>Sentiment: Neutral"
          ],
          [
           "Paris<br>Narrative Percent: 0.72%<br>Total Words: 518<br>Avg Sentiment: -0.125<br>Sentiment: Negative"
          ],
          [
           "Perth<br>Narrative Percent: 0.33%<br>Total Words: 239<br>Avg Sentiment: 0.024<br>Sentiment: Neutral"
          ],
          [
           "Portsmouth<br>Narrative Percent: 0.81%<br>Total Words: 584<br>Avg Sentiment: -0.195<br>Sentiment: Negative"
          ],
          [
           "Rhine below Mainz<br>Narrative Percent: 0.89%<br>Total Words: 638<br>Avg Sentiment: 0.223<br>Sentiment: Positive"
          ],
          [
           "Rotterdam<br>Narrative Percent: 0.13%<br>Total Words: 96<br>Avg Sentiment: 0.122<br>Sentiment: Positive"
          ],
          [
           "Russian plain<br>Narrative Percent: 0.33%<br>Total Words: 238<br>Avg Sentiment: -0.099<br>Sentiment: Neutral"
          ],
          [
           "Russian pursuit<br>Narrative Percent: 0.72%<br>Total Words: 514<br>Avg Sentiment: -0.213<br>Sentiment: Negative"
          ],
          [
           "Russian pursuit near Archangel<br>Narrative Percent: 0.84%<br>Total Words: 600<br>Avg Sentiment: -0.117<br>Sentiment: Negative"
          ],
          [
           "Russian pursuit on ice<br>Narrative Percent: 1.22%<br>Total Words: 878<br>Avg Sentiment: -0.188<br>Sentiment: Negative"
          ],
          [
           "St. Petersburgh<br>Narrative Percent: 1.67%<br>Total Words: 1198<br>Avg Sentiment: 0.228<br>Sentiment: Positive"
          ],
          [
           "Strasbourg<br>Narrative Percent: 0.24%<br>Total Words: 175<br>Avg Sentiment: 0.242<br>Sentiment: Positive"
          ],
          [
           "Thonon-les-Bains<br>Narrative Percent: 0.45%<br>Total Words: 325<br>Avg Sentiment: 0.047<br>Sentiment: Neutral"
          ],
          [
           "Windsor<br>Narrative Percent: 0.06%<br>Total Words: 46<br>Avg Sentiment: 0.477<br>Sentiment: Positive"
          ],
          [
           "Zurich<br>Narrative Percent: 0.19%<br>Total Words: 133<br>Avg Sentiment: -0.238<br>Sentiment: Negative"
          ]
         ],
         "hovertemplate": "%{customdata[0]}<extra></extra>",
         "lat": {
          "bdata": "dcJT4fIiUECYTHi2hdZFQKWx5pUl51RAtjTx7WGPU0BHw+/HaZlLQHAifu4ZIUdAdkJc9172RkCLWScVqnZJQKzAmEZ2gURAqoAYdAQ9S0C/I/CorVBIQJtVn6utUEhAltchaX2sSkDw2ilGK/pLQPHaAMd5OEZAkov3BAUaR0An9zsUBRpHQCCDcGBNp0pAYFlpUgpiSECE6jBwCmJIQJqsF2RHVUhAiFVyBF/3S0A1XrpJDEJHQHFfYoeMv0hAUW+hhkrGRUCYTBWMSsZFQGLuYrMGwUlAEY3uIHaGR0A6LCaZyf5IQIjsSYEBkkpA15r3SX8ASEDK3CFqR/dGQEWfTRYQLEdA/cYRSmN3TUC7FC4WTOBJQGB1oiyVbUhADv/hlcFtSEB33TqDrzJMQF02+MrVaElAioCW8HwtSUDHKXyunfZJQJYziM3PZkpAwqKFeGKZS0Dj22BNCmdPQOqzXmee11BAZTYKQXX3TUC2zqbAVUlIQF2/YDdsL0dAOCqae4a9SUAQrwwmVa9HQA==",
          "dtype": "f8"
         },
         "legendgroup": "",
         "lon": {
          "bdata": "rZYJ+f9DREAKZIj5eJASQGEdPh431BlA8M+Yi/DNPkDZsr55WIcawK23beJbxxhAx3SVrJJ7G0A101VrdVYcQG+6I2sm+jxA/P0gmpJbCMAUwc0ccU4mQB/XhopxTiZAsWJOVmAKGcBMo+rTAYcJwFfCh9AQcyVAUqlEn7CWGEALYTWWsJYYQEjLea0hhBLAX16AfXTaJkBfXoB9dNomQFIC7rsagyZAcBSdiCWnHcDVBFH3AYgaQOBh9owmEro/VgJSMJ2hJED99nXgnKEkQNUywYwDEbu/W0I+6NmcIEBFP4qiVn8gQPtoyccUwvi/3NNUnXW8IUCmjXYeDawbQCSMVTmjtBhAmBFsyZv9BcC5PXZUixH0v6wUW3EMzQJAqnJ0cSjPAkDDu/TgAnULwPExZ5zXN/G/qYDUVoe6HkAa+Nr+WN4RQCWxQbJCakJAPynFVBsVQUCwoaNuSrtEQPuYi8/PLEVA0Og34ZhZPkAfihGoTwsfQEHxY8xd6xlA+yQ6dSyp478vjOK/unohQA==",
          "dtype": "f8"
         },
         "marker": {
          "color": {
           "bdata": "BGxKPZjR+LxoMHq9TAojPow7bL5FxkO+97yqPnhjjbzoNiu7TVrAPQrlNj7Vq6q8ANIlOTgbsD6OB34+wFiVPXPXgL0J3tG+EwBePbSsAz0Zd4I9JocJvl84oD6ug0Q74F0zvlhczr1rcZE9LNojvH2CMT5ZC1u8iVrlvSV8Xb70TMC9PVRmvpT0OT6rZ8G6Mx8AvgvawTwBAUi+7YBkPq+m+T2mUMq9mcJZvjuH771Xv0C+15NpPk4weD4CoT49r1H0PrLBc74=",
           "dtype": "f4"
          },
          "coloraxis": "coloraxis",
          "size": {
           "bdata": "JgREAJ8d7gBQD8wENAMkAF0ApAFBFlYRAQFgAO0ANwG0QosA1AiLGAMCaQEzACQA7QF1AFECaQGXAHQAywNPENcD9gu6AaADBgLvAEgCfgJgAO4AAgJYAm4DrgSvAEUBLgCFAA==",
           "dtype": "i2"
          },
          "sizemode": "area",
          "sizeref": 42.69
         },
         "mode": "markers",
         "name": "",
         "showlegend": false,
         "subplot": "map",
         "type": "scattermap"
        }
       ],
       "layout": {
        "coloraxis": {
         "cmid": 0,
         "colorbar": {
          "ticktext": [
           "Very Negative",
           "Negative",
           "Neutral",
           "Positive",
           "Very Positive"
          ],
          "tickvals": [
           -0.4,
           -0.2,
           0,
           0.2,
           0.4
          ],
          "title": {
           "text": "Average Sentiment"
          }
         },
         "colorscale": [
          [
           0,
           "rgb(165,0,38)"
          ],
          [
           0.1,
           "rgb(215,48,39)"
          ],
          [
           0.2,
           "rgb(244,109,67)"
          ],
          [
           0.3,
           "rgb(253,174,97)"
          ],
          [
           0.4,
           "rgb(254,224,139)"
          ],
          [
           0.5,
           "rgb(255,255,191)"
          ],
          [
           0.6,
           "rgb(217,239,139)"
          ],
          [
           0.7,
           "rgb(166,217,106)"
          ],
          [
           0.8,
           "rgb(102,189,99)"
          ],
          [
           0.9,
           "rgb(26,152,80)"
          ],
          [
           1,
           "rgb(0,104,55)"
          ]
         ]
        },
        "height": 700,
        "legend": {
         "itemsizing": "constant",
         "tracegroupgap": 0
        },
        "map": {
         "center": {
          "lat": 51.9519637108,
          "lon": 9.19839576246
         },
         "domain": {
          "x": [
           0,
           1
          ],
          "y": [
           0,
           1
          ]
         },
         "zoom": 3
        },
        "mapbox": {
         "center": {
          "lat": 51.9519637108,
          "lon": 9.19839576246
         },
         "style": "open-street-map",
         "zoom": 3
        },
        "margin": {
         "b": 0,
         "l": 0,
         "r": 0,
         "t": 50
        },
        "template": {
         "data": {
          "bar": [
           {
            "error_x": {
             "color": "#2a3f5f"
            },
            "error_y": {
             "color": "#2a3f5f"
            },
            "marker": {
             "line": {
              "color": "#E5ECF6",
              "width": 0.5
             },
             "pattern": {
              "fillmode": "overlay",
              "size": 10,
              "solidity": 0.2
             }
            },
            "type": "bar"
           }
          ],
          "barpolar": [
           {
            "marker": {
             "line": {
              "color": "#E5ECF6",
              "width": 0.5
             },
             "pattern": {
              "fillmode": "overlay",
              "size": 10,
              "solidity": 0.2
             }
            },
            "type": "barpolar"
           }
          ],
          "carpet": [
           {
            "aaxis": {
             "endlinecolor": "#2a3f5f",
             "gridcolor": "white",
             "linecolor": "white",
             "minorgridcolor": "white",
             "startlinecolor": "#2a3f5f"
            },
            "baxis": {
             "endlinecolor": "#2a3f5f",
             "gridcolor": "white",
             "linecolor": "white",
             "minorgridcolor": "white",
             "startlinecolor": "#2a3f5f"
            },
            "type": "carpet"
           }
          ],
          "choropleth": [
           {
            "colorbar": {
             "outlinewidth": 0,
             "ticks": ""
            },
            "type": "choropleth"
           }
          ],
          "contour": [
           {
            "colorbar": {
             "outlinewidth": 0,
             "ticks": ""
            },
            "colorscale": [
             [
              0,
              "#0d0887"
             ],
             [
              0.1111111111111111,
              "#46039f"
             ],
             [
              0.2222222222222222,
              "#7201a8"
             ],
             [
              0.3333333333333333,
              "#9c179e"
             ],
             [
              0.4444444444444444,
              "#bd3786"
             ],
             [
              0.5555555555555556,
              "#d8576b"
             ],
             [
              0.6666666666666666,
              "#ed7953"
             ],
             [
              0.7777777777777778,
              "#fb9f3a"
             ],
             [
              0.8888888888888888,
              "#fdca26"
             ],
             [
              1,
              "#f0f921"
             ]
            ],
            "type": "contour"
           }
          ],
          "contourcarpet": [
           {
            "colorbar": {
             "outlinewidth": 0,
             "ticks": ""
            },
            "type": "contourcarpet"
           }
          ],
          "heatmap": [
           {
            "colorbar": {
             "outlinewidth": 0,
             "ticks": ""
            },
            "colorscale": [
             [
              0,
              "#0d0887"
             ],
             [
              0.1111111111111111,
              "#46039f"
             ],
             [
              0.2222222222222222,
              "#7201a8"
             ],
             [
              0.3333333333333333,
              "#9c179e"
             ],
             [
              0.4444444444444444,
              "#bd3786"
             ],
             [
              0.5555555555555556,
              "#d8576b"
             ],
             [
              0.6666666666666666,
              "#ed7953"
             ],
             [
              0.7777777777777778,
              "#fb9f3a"
             ],
             [
              0.8888888888888888,
              "#fdca26"
             ],
             [
              1,
              "#f0f921"
             ]
            ],
            "type": "heatmap"
           }
          ],
          "histogram": [
           {
            "marker": {
             "pattern": {
              "fillmode": "overlay",
              "size": 10,
              "solidity": 0.2
             }
            },
            "type": "histogram"
           }
          ],
          "histogram2d": [
           {
            "colorbar": {
             "outlinewidth": 0,
             "ticks": ""
            },
            "colorscale": [
             [
              0,
              "#0d0887"
             ],
             [
              0.1111111111111111,
              "#46039f"
             ],
             [
              0.2222222222222222,
              "#7201a8"
             ],
             [
              0.3333333333333333,
              "#9c179e"
             ],
             [
              0.4444444444444444,
              "#bd3786"
             ],
             [
              0.5555555555555556,
              "#d8576b"
             ],
             [
              0.6666666666666666,
              "#ed7953"
             ],
             [
              0.7777777777777778,
              "#fb9f3a"
             ],
             [
              0.8888888888888888,
              "#fdca26"
             ],
             [
              1,
              "#f0f921"
             ]
            ],
            "type": "histogram2d"
           }
          ],
          "histogram2dcontour": [
           {
            "colorbar": {
             "outlinewidth": 0,
             "ticks": ""
            },
            "colorscale": [
             [
              0,
              "#0d0887"
             ],
             [
              0.1111111111111111,
              "#46039f"
             ],
             [
              0.2222222222222222,
              "#7201a8"
             ],
             [
              0.3333333333333333,
              "#9c179e"
             ],
             [
              0.4444444444444444,
              "#bd3786"
             ],
             [
              0.5555555555555556,
              "#d8576b"
             ],
             [
              0.6666666666666666,
              "#ed7953"
             ],
             [
              0.7777777777777778,
              "#fb9f3a"
             ],
             [
              0.8888888888888888,
              "#fdca26"
             ],
             [
              1,
              "#f0f921"
             ]
            ],
            "type": "histogram2dcontour"
           }
          ],
          "mesh3d": [
           {
            "colorbar": {
             "outlinewidth": 0,
             "ticks": ""
            },
            "type": "mesh3d"
           }
          ],
          "parcoords": [
           {
            "line": {
             "colorbar": {
              "outlinewidth": 0,
              "ticks": ""
             }
            },
            "type": "parcoords"
           }
          ],
          "pie": [
           {
            "automargin": true,
            "type": "pie"
           }
          ],
          "scatter": [
           {
            "fillpattern": {
             "fillmode": "overlay",
             "size": 10,
             "solidity": 0.2
            },
            "type": "scatter"
           }
          ],
          "scatter3d": [
           {
            "line": {
             "colorbar": {
              "outlinewidth": 0,
              "ticks": ""
             }
            },
            "marker": {
             "colorbar": {
              "outlinewidth": 0,
              "ticks": ""
             }
            },
            "type": "scatter3d"
           }
          ],
          "scattercarpet": [
           {
            "marker": {
             "colorbar": {
              "outlinewidth": 0,
              "ticks": ""
             }
            },
            "type": "scattercarpet"
           }
          ],
          "scattergeo": [
           {
            "marker": {
             "colorbar": {
              "outlinewidth": 0,
              "ticks": ""
             }
            },
            "type": "scattergeo"
           }
          ],
          "scattergl": [
           {
            "marker": {
             "colorbar": {
              "outlinewidth": 0,
              "ticks": ""
             }
            },
            "type": "scattergl"
           }
          ],
          "scattermap": [
           {
            "marker": {
             "colorbar": {
              "outlinewidth": 0,
              "ticks": ""
             }
            },
            "type": "scattermap"
           }
          ],
          "scattermapbox": [
           {
            "marker": {
             "colorbar": {
              "outlinewidth": 0,
              "ticks": ""
             }
            },
            "type": "scattermapbox"
           }
          ],
          "scatterpolar": [
           {
            "marker": {
             "colorbar": {
              "outlinewidth": 0,
              "ticks": ""
             }
            },
            "type": "scatterpolar"
           }
          ],
          "scatterpolargl": [
           {
            "marker": {
             "colorbar": {
              "outlinewidth": 0,
              "ticks": ""
             }
            },
            "type": "scatterpolargl"
           }
          ],
          "scatterternary": [
           {
            "marker": {
             "colorbar": {
              "outlinewidth": 0,
              "ticks": ""
             }
            },
            "type": "scatterternary"
           }
          ],
          "surface": [
           {
            "colorbar": {
             "outlinewidth": 0,
             "ticks": ""
            },
            "colorscale": [
             [
              0,
              "#0d0887"
             ],
             [
              0.1111111111111111,
              "#46039f"
             ],
             [
              0.2222222222222222,
              "#7201a8"
             ],
             [
              0.3333333333333333,
              "#9c179e"
             ],
             [
              0.4444444444444444,
              "#bd3786"
             ],
             [
              0.5555555555555556,
              "#d8576b"
             ],
             [
              0.6666666666666666,
              "#ed7953"
             ],
             [
              0.7777777777777778,
              "#fb9f3a"
             ],
             [
              0.8888888888888888,
              "#fdca26"
             ],
             [
              1,
              "#f0f921"
             ]
            ],
            "type": "surface"
           }
          ],
          "table": [
           {
            "cells": {
             "fill": {
              "color": "#EBF0F8"
             },
             "line": {
              "color": "white"
             }
            },
            "header": {
             "fill": {
              "color": "#C8D4E3"
             },
             "line": {
              "color": "white"
             }
            },
            "type": "table"
           }
          ]
         },
         "layout": {
          "annotationdefaults": {
           "arrowcolor": "#2a3f5f",
           "arrowhead": 0,
           "arrowwidth": 1
          },
          "autotypenumbers": "strict",
          "coloraxis": {
           "colorbar": {
            "outlinewidth": 0,
            "ticks": ""
           }
          },
          "colorscale": {
           "diverging": [
            [
             0,
             "#8e0152"
            ],
            [
             0.1,
             "#c51b7d"
            ],
            [
             0.2,
             "#de77ae"
            ],
            [
             0.3,
             "#f1b6da"
            ],
            [
             0.4,
             "#fde0ef"
            ],
            [
             0.5,
             "#f7f7f7"
            ],
            [
             0.6,
             "#e6f5d0"
            ],
            [
             0.7,
             "#b8e186"
            ],
            [
             0.8,
             "#7fbc41"
            ],
            [
             0.9,
             "#4d9221"
            ],
            [
             1,
             "#276419"
            ]
           ],
           "sequential": [
            [
             0,
             "#0d0887"
            ],
            [
             0.1111111111111111,
             "#46039f"
            ],
            [
             0.2222222222222222,
             "#7201a8"
            ],
            [
             0.3333333333333333,
             "#9c179e"
            ],
            [
             0.4444444444444444,
             "#bd3786"
            ],
            [
             0.5555555555555556,
             "#d8576b"
            ],
            [
             0.6666666666666666,
             "#ed7953"
            ],
            [
             0.7777777777777778,
             "#fb9f3a"
            ],
            [
             0.8888888888888888,
             "#fdca26"
            ],
            [
             1,
             "#f0f921"
            ]
           ],
           "sequentialminus": [
            [
             0,
             "#0d0887"
            ],
            [
             0.1111111111111111,
             "#46039f"
            ],
            [
             0.2222222222222222,
             "#7201a8"
            ],
            [
             0.3333333333333333,
             "#9c179e"
            ],
            [
             0.4444444444444444,
             "#bd3786"
            ],
            [
             0.5555555555555556,
             "#d8576b"
            ],
            [
             0.6666666666666666,
             "#ed7953"
            ],
            [
             0.7777777777777778,
             "#fb9f3a"
            ],
            [
             0.8888888888888888,
             "#fdca26"
            ],
            [
             1,
             "#f0f921"
            ]
           ]
          },
          "colorway": [
           "#636efa",
           "#EF553B",
           "#00cc96",
           "#ab63fa",
           "#FFA15A",
           "#19d3f3",
           "#FF6692",
           "#B6E880",
           "#FF97FF",
           "#FECB52"
          ],
          "font": {
           "color": "#2a3f5f"
          },
          "geo": {
           "bgcolor": "white",
           "lakecolor": "white",
           "landcolor": "#E5ECF6",
           "showlakes": true,
           "showland": true,
           "subunitcolor": "white"
          },
          "hoverlabel": {
           "align": "left"
          },
          "hovermode": "closest",
          "mapbox": {
           "style": "light"
          },
          "paper_bgcolor": "white",
          "plot_bgcolor": "#E5ECF6",
          "polar": {
           "angularaxis": {
            "gridcolor": "white",
            "linecolor": "white",
            "ticks": ""
           },
           "bgcolor": "#E5ECF6",
           "radialaxis": {
            "gridcolor": "white",
            "linecolor": "white",
            "ticks": ""
           }
          },
          "scene": {
           "xaxis": {
            "backgroundcolor": "#E5ECF6",
            "gridcolor": "white",
            "gridwidth": 2,
            "linecolor": "white",
            "showbackground": true,
            "ticks": "",
            "zerolinecolor": "white"
           },
           "yaxis": {
            "backgroundcolor": "#E5ECF6",
            "gridcolor": "white",
            "gridwidth": 2,
            "linecolor": "white",
            "showbackground": true,
            "ticks": "",
            "zerolinecolor": "white"
           },
           "zaxis": {
            "backgroundcolor": "#E5ECF6",
            "gridcolor": "white",
            "gridwidth": 2,
            "linecolor": "white",
            "showbackground": true,
            "ticks": "",
            "zerolinecolor": "white"
           }
          },
          "shapedefaults": {
           "line": {
            "color": "#2a3f5f"
           }
          },
          "ternary": {
           "aaxis": {
            "gridcolor": "white",
            "linecolor": "white",
            "ticks": ""
           },
           "baxis": {
            "gridcolor": "white",
            "linecolor": "white",
            "ticks": ""
           },
           "bgcolor": "#E5ECF6",
           "caxis": {
            "gridcolor": "white",
            "linecolor": "white",
            "ticks": ""
           }
          },
          "title": {
           "x": 0.05
          },
          "xaxis": {
           "automargin": true,
           "gridcolor": "white",
           "linecolor": "white",
           "ticks": "",
           "title": {
            "standoff": 15
           },
           "zerolinecolor": "white",
           "zerolinewidth": 2
          },
          "yaxis": {
           "automargin": true,
           "gridcolor": "white",
           "linecolor": "white",
           "ticks": "",
           "title": {
            "standoff": 15
           },
           "zerolinecolor": "white",
           "zerolinewidth": 2
          }
         }
        },
        "title": {
         "text": "Frankenstein Locations: Word Count & Sentiment Analysis"
        }
       }
      }
     },
     "metadata": {},
     "output_type": "display_data"
    },
    {
     "name": "stdout",
     "output_type": "stream",
     "text": [
      "\n",
      "🗺️ Enhanced sentiment map created successfully!\n",
      "📊 Showing 50 unique locations\n",
      "🔴 Circle size = total words at location\n",
      "🎨 Color = average sentiment (red=negative, green=positive)\n",
      "📍 Total words at all locations: 71799\n",
      "📖 Total narrative words: 71,799\n",
      "🔢 Percentage coverage: 100.0%\n",
      "\n",
      "📈 SENTIMENT INSIGHTS:\n",
      "Overall average sentiment across all locations: 0.009\n",
      "📝 Mary Shelley writes about geographic locations with a generally neutral tone\n"
     ]
    }
   ],
   "source": [
    "# 2. Location sentiment map using processed data\n",
    "print(\"🌍 Creating location sentiment map...\")\n",
    "\n",
    "fig_sentiment = px.scatter_mapbox(\n",
    "    location_sentiment_summary,\n",
    "    lat=lat_col,\n",
    "    lon=lon_col,\n",
    "    hover_name='curated_name',\n",
    "    size=\"total_words\",\n",
    "    color=\"avg_sentiment\",\n",
    "    color_continuous_scale='RdYlGn',\n",
    "    color_continuous_midpoint=0,\n",
    "    hover_data={\"narrative_percent\": \":.2f\", \"avg_sentiment\": \":.3f\", \"sentiment_category\": True},\n",
    "    title=\"Frankenstein Emotional Geography: Location Sentiment Analysis\",\n",
    "    zoom=3,\n",
    "    height=700\n",
    ")\n",
    "\n",
    "fig_sentiment.update_layout(\n",
    "    mapbox_style=\"open-street-map\",\n",
    "    margin={\"r\":0,\"t\":50,\"l\":0,\"b\":0},\n",
    "    coloraxis_colorbar=dict(\n",
    "        title=\"Average Sentiment\",\n",
    "        tickvals=[-0.4, -0.2, 0, 0.2, 0.4],\n",
    "        ticktext=[\"Very Negative\", \"Negative\", \"Neutral\", \"Positive\", \"Very Positive\"]\n",
    "    )\n",
    ")\n",
    "\n",
    "fig_sentiment.show()\n",
    "\n",
    "print(f\"✅ Location sentiment map created with {len(location_sentiment_summary)} locations\")"
   ]
  },
  {
   "cell_type": "code",
   "execution_count": null,
   "id": "72563e32",
   "metadata": {},
   "outputs": [
    {
     "data": {
      "application/vnd.plotly.v1+json": {
       "config": {
        "plotlyServerURL": "https://plot.ly"
       },
       "data": [
        {
         "customdata": {
          "bdata": "EQDfCA4A4AZQAH0kJgBwEEEA0x99AHA2NQCYFxgAHw1tAB8/KAB/EQ==",
          "dtype": "i2",
          "shape": "10, 2"
         },
         "hovertemplate": "Character=%{x}<br>Average Sentiment Score=%{marker.color}<br>Total_Mentions=%{customdata[0]}<br>Total_Words=%{customdata[1]}<extra></extra>",
         "legendgroup": "",
         "marker": {
          "color": {
           "bdata": "aHXbPVFRvjymXpI8KBZXupxBBrykP0e8Z2QCviwtBb5AuAu+qoY5vg==",
           "dtype": "f4"
          },
          "coloraxis": "coloraxis",
          "pattern": {
           "shape": ""
          }
         },
         "name": "",
         "orientation": "v",
         "showlegend": false,
         "textposition": "auto",
         "type": "bar",
         "x": [
          "Agatha",
          "Ernest",
          "Elizabeth",
          "Felix",
          "Henry",
          "Alphonse",
          "Victor",
          "William",
          "Monster",
          "Justine"
         ],
         "xaxis": "x",
         "y": {
          "bdata": "aHXbPVFRvjymXpI8KBZXupxBBrykP0e8Z2QCviwtBb5AuAu+qoY5vg==",
          "dtype": "f4"
         },
         "yaxis": "y"
        }
       ],
       "layout": {
        "annotations": [
         {
          "showarrow": false,
          "text": "Neutral",
          "x": 1,
          "xanchor": "right",
          "xref": "x domain",
          "y": 0,
          "yanchor": "bottom",
          "yref": "y"
         }
        ],
        "barmode": "relative",
        "coloraxis": {
         "cmid": 0,
         "colorbar": {
          "title": {
           "text": "Average Sentiment Score"
          }
         },
         "colorscale": [
          [
           0,
           "rgb(165,0,38)"
          ],
          [
           0.1,
           "rgb(215,48,39)"
          ],
          [
           0.2,
           "rgb(244,109,67)"
          ],
          [
           0.3,
           "rgb(253,174,97)"
          ],
          [
           0.4,
           "rgb(254,224,139)"
          ],
          [
           0.5,
           "rgb(255,255,191)"
          ],
          [
           0.6,
           "rgb(217,239,139)"
          ],
          [
           0.7,
           "rgb(166,217,106)"
          ],
          [
           0.8,
           "rgb(102,189,99)"
          ],
          [
           0.9,
           "rgb(26,152,80)"
          ],
          [
           1,
           "rgb(0,104,55)"
          ]
         ]
        },
        "height": 500,
        "legend": {
         "tracegroupgap": 0
        },
        "shapes": [
         {
          "line": {
           "color": "gray",
           "dash": "dash"
          },
          "type": "line",
          "x0": 0,
          "x1": 1,
          "xref": "x domain",
          "y0": 0,
          "y1": 0,
          "yref": "y"
         }
        ],
        "showlegend": false,
        "template": {
         "data": {
          "bar": [
           {
            "error_x": {
             "color": "#2a3f5f"
            },
            "error_y": {
             "color": "#2a3f5f"
            },
            "marker": {
             "line": {
              "color": "#E5ECF6",
              "width": 0.5
             },
             "pattern": {
              "fillmode": "overlay",
              "size": 10,
              "solidity": 0.2
             }
            },
            "type": "bar"
           }
          ],
          "barpolar": [
           {
            "marker": {
             "line": {
              "color": "#E5ECF6",
              "width": 0.5
             },
             "pattern": {
              "fillmode": "overlay",
              "size": 10,
              "solidity": 0.2
             }
            },
            "type": "barpolar"
           }
          ],
          "carpet": [
           {
            "aaxis": {
             "endlinecolor": "#2a3f5f",
             "gridcolor": "white",
             "linecolor": "white",
             "minorgridcolor": "white",
             "startlinecolor": "#2a3f5f"
            },
            "baxis": {
             "endlinecolor": "#2a3f5f",
             "gridcolor": "white",
             "linecolor": "white",
             "minorgridcolor": "white",
             "startlinecolor": "#2a3f5f"
            },
            "type": "carpet"
           }
          ],
          "choropleth": [
           {
            "colorbar": {
             "outlinewidth": 0,
             "ticks": ""
            },
            "type": "choropleth"
           }
          ],
          "contour": [
           {
            "colorbar": {
             "outlinewidth": 0,
             "ticks": ""
            },
            "colorscale": [
             [
              0,
              "#0d0887"
             ],
             [
              0.1111111111111111,
              "#46039f"
             ],
             [
              0.2222222222222222,
              "#7201a8"
             ],
             [
              0.3333333333333333,
              "#9c179e"
             ],
             [
              0.4444444444444444,
              "#bd3786"
             ],
             [
              0.5555555555555556,
              "#d8576b"
             ],
             [
              0.6666666666666666,
              "#ed7953"
             ],
             [
              0.7777777777777778,
              "#fb9f3a"
             ],
             [
              0.8888888888888888,
              "#fdca26"
             ],
             [
              1,
              "#f0f921"
             ]
            ],
            "type": "contour"
           }
          ],
          "contourcarpet": [
           {
            "colorbar": {
             "outlinewidth": 0,
             "ticks": ""
            },
            "type": "contourcarpet"
           }
          ],
          "heatmap": [
           {
            "colorbar": {
             "outlinewidth": 0,
             "ticks": ""
            },
            "colorscale": [
             [
              0,
              "#0d0887"
             ],
             [
              0.1111111111111111,
              "#46039f"
             ],
             [
              0.2222222222222222,
              "#7201a8"
             ],
             [
              0.3333333333333333,
              "#9c179e"
             ],
             [
              0.4444444444444444,
              "#bd3786"
             ],
             [
              0.5555555555555556,
              "#d8576b"
             ],
             [
              0.6666666666666666,
              "#ed7953"
             ],
             [
              0.7777777777777778,
              "#fb9f3a"
             ],
             [
              0.8888888888888888,
              "#fdca26"
             ],
             [
              1,
              "#f0f921"
             ]
            ],
            "type": "heatmap"
           }
          ],
          "histogram": [
           {
            "marker": {
             "pattern": {
              "fillmode": "overlay",
              "size": 10,
              "solidity": 0.2
             }
            },
            "type": "histogram"
           }
          ],
          "histogram2d": [
           {
            "colorbar": {
             "outlinewidth": 0,
             "ticks": ""
            },
            "colorscale": [
             [
              0,
              "#0d0887"
             ],
             [
              0.1111111111111111,
              "#46039f"
             ],
             [
              0.2222222222222222,
              "#7201a8"
             ],
             [
              0.3333333333333333,
              "#9c179e"
             ],
             [
              0.4444444444444444,
              "#bd3786"
             ],
             [
              0.5555555555555556,
              "#d8576b"
             ],
             [
              0.6666666666666666,
              "#ed7953"
             ],
             [
              0.7777777777777778,
              "#fb9f3a"
             ],
             [
              0.8888888888888888,
              "#fdca26"
             ],
             [
              1,
              "#f0f921"
             ]
            ],
            "type": "histogram2d"
           }
          ],
          "histogram2dcontour": [
           {
            "colorbar": {
             "outlinewidth": 0,
             "ticks": ""
            },
            "colorscale": [
             [
              0,
              "#0d0887"
             ],
             [
              0.1111111111111111,
              "#46039f"
             ],
             [
              0.2222222222222222,
              "#7201a8"
             ],
             [
              0.3333333333333333,
              "#9c179e"
             ],
             [
              0.4444444444444444,
              "#bd3786"
             ],
             [
              0.5555555555555556,
              "#d8576b"
             ],
             [
              0.6666666666666666,
              "#ed7953"
             ],
             [
              0.7777777777777778,
              "#fb9f3a"
             ],
             [
              0.8888888888888888,
              "#fdca26"
             ],
             [
              1,
              "#f0f921"
             ]
            ],
            "type": "histogram2dcontour"
           }
          ],
          "mesh3d": [
           {
            "colorbar": {
             "outlinewidth": 0,
             "ticks": ""
            },
            "type": "mesh3d"
           }
          ],
          "parcoords": [
           {
            "line": {
             "colorbar": {
              "outlinewidth": 0,
              "ticks": ""
             }
            },
            "type": "parcoords"
           }
          ],
          "pie": [
           {
            "automargin": true,
            "type": "pie"
           }
          ],
          "scatter": [
           {
            "fillpattern": {
             "fillmode": "overlay",
             "size": 10,
             "solidity": 0.2
            },
            "type": "scatter"
           }
          ],
          "scatter3d": [
           {
            "line": {
             "colorbar": {
              "outlinewidth": 0,
              "ticks": ""
             }
            },
            "marker": {
             "colorbar": {
              "outlinewidth": 0,
              "ticks": ""
             }
            },
            "type": "scatter3d"
           }
          ],
          "scattercarpet": [
           {
            "marker": {
             "colorbar": {
              "outlinewidth": 0,
              "ticks": ""
             }
            },
            "type": "scattercarpet"
           }
          ],
          "scattergeo": [
           {
            "marker": {
             "colorbar": {
              "outlinewidth": 0,
              "ticks": ""
             }
            },
            "type": "scattergeo"
           }
          ],
          "scattergl": [
           {
            "marker": {
             "colorbar": {
              "outlinewidth": 0,
              "ticks": ""
             }
            },
            "type": "scattergl"
           }
          ],
          "scattermap": [
           {
            "marker": {
             "colorbar": {
              "outlinewidth": 0,
              "ticks": ""
             }
            },
            "type": "scattermap"
           }
          ],
          "scattermapbox": [
           {
            "marker": {
             "colorbar": {
              "outlinewidth": 0,
              "ticks": ""
             }
            },
            "type": "scattermapbox"
           }
          ],
          "scatterpolar": [
           {
            "marker": {
             "colorbar": {
              "outlinewidth": 0,
              "ticks": ""
             }
            },
            "type": "scatterpolar"
           }
          ],
          "scatterpolargl": [
           {
            "marker": {
             "colorbar": {
              "outlinewidth": 0,
              "ticks": ""
             }
            },
            "type": "scatterpolargl"
           }
          ],
          "scatterternary": [
           {
            "marker": {
             "colorbar": {
              "outlinewidth": 0,
              "ticks": ""
             }
            },
            "type": "scatterternary"
           }
          ],
          "surface": [
           {
            "colorbar": {
             "outlinewidth": 0,
             "ticks": ""
            },
            "colorscale": [
             [
              0,
              "#0d0887"
             ],
             [
              0.1111111111111111,
              "#46039f"
             ],
             [
              0.2222222222222222,
              "#7201a8"
             ],
             [
              0.3333333333333333,
              "#9c179e"
             ],
             [
              0.4444444444444444,
              "#bd3786"
             ],
             [
              0.5555555555555556,
              "#d8576b"
             ],
             [
              0.6666666666666666,
              "#ed7953"
             ],
             [
              0.7777777777777778,
              "#fb9f3a"
             ],
             [
              0.8888888888888888,
              "#fdca26"
             ],
             [
              1,
              "#f0f921"
             ]
            ],
            "type": "surface"
           }
          ],
          "table": [
           {
            "cells": {
             "fill": {
              "color": "#EBF0F8"
             },
             "line": {
              "color": "white"
             }
            },
            "header": {
             "fill": {
              "color": "#C8D4E3"
             },
             "line": {
              "color": "white"
             }
            },
            "type": "table"
           }
          ]
         },
         "layout": {
          "annotationdefaults": {
           "arrowcolor": "#2a3f5f",
           "arrowhead": 0,
           "arrowwidth": 1
          },
          "autotypenumbers": "strict",
          "coloraxis": {
           "colorbar": {
            "outlinewidth": 0,
            "ticks": ""
           }
          },
          "colorscale": {
           "diverging": [
            [
             0,
             "#8e0152"
            ],
            [
             0.1,
             "#c51b7d"
            ],
            [
             0.2,
             "#de77ae"
            ],
            [
             0.3,
             "#f1b6da"
            ],
            [
             0.4,
             "#fde0ef"
            ],
            [
             0.5,
             "#f7f7f7"
            ],
            [
             0.6,
             "#e6f5d0"
            ],
            [
             0.7,
             "#b8e186"
            ],
            [
             0.8,
             "#7fbc41"
            ],
            [
             0.9,
             "#4d9221"
            ],
            [
             1,
             "#276419"
            ]
           ],
           "sequential": [
            [
             0,
             "#0d0887"
            ],
            [
             0.1111111111111111,
             "#46039f"
            ],
            [
             0.2222222222222222,
             "#7201a8"
            ],
            [
             0.3333333333333333,
             "#9c179e"
            ],
            [
             0.4444444444444444,
             "#bd3786"
            ],
            [
             0.5555555555555556,
             "#d8576b"
            ],
            [
             0.6666666666666666,
             "#ed7953"
            ],
            [
             0.7777777777777778,
             "#fb9f3a"
            ],
            [
             0.8888888888888888,
             "#fdca26"
            ],
            [
             1,
             "#f0f921"
            ]
           ],
           "sequentialminus": [
            [
             0,
             "#0d0887"
            ],
            [
             0.1111111111111111,
             "#46039f"
            ],
            [
             0.2222222222222222,
             "#7201a8"
            ],
            [
             0.3333333333333333,
             "#9c179e"
            ],
            [
             0.4444444444444444,
             "#bd3786"
            ],
            [
             0.5555555555555556,
             "#d8576b"
            ],
            [
             0.6666666666666666,
             "#ed7953"
            ],
            [
             0.7777777777777778,
             "#fb9f3a"
            ],
            [
             0.8888888888888888,
             "#fdca26"
            ],
            [
             1,
             "#f0f921"
            ]
           ]
          },
          "colorway": [
           "#636efa",
           "#EF553B",
           "#00cc96",
           "#ab63fa",
           "#FFA15A",
           "#19d3f3",
           "#FF6692",
           "#B6E880",
           "#FF97FF",
           "#FECB52"
          ],
          "font": {
           "color": "#2a3f5f"
          },
          "geo": {
           "bgcolor": "white",
           "lakecolor": "white",
           "landcolor": "#E5ECF6",
           "showlakes": true,
           "showland": true,
           "subunitcolor": "white"
          },
          "hoverlabel": {
           "align": "left"
          },
          "hovermode": "closest",
          "mapbox": {
           "style": "light"
          },
          "paper_bgcolor": "white",
          "plot_bgcolor": "#E5ECF6",
          "polar": {
           "angularaxis": {
            "gridcolor": "white",
            "linecolor": "white",
            "ticks": ""
           },
           "bgcolor": "#E5ECF6",
           "radialaxis": {
            "gridcolor": "white",
            "linecolor": "white",
            "ticks": ""
           }
          },
          "scene": {
           "xaxis": {
            "backgroundcolor": "#E5ECF6",
            "gridcolor": "white",
            "gridwidth": 2,
            "linecolor": "white",
            "showbackground": true,
            "ticks": "",
            "zerolinecolor": "white"
           },
           "yaxis": {
            "backgroundcolor": "#E5ECF6",
            "gridcolor": "white",
            "gridwidth": 2,
            "linecolor": "white",
            "showbackground": true,
            "ticks": "",
            "zerolinecolor": "white"
           },
           "zaxis": {
            "backgroundcolor": "#E5ECF6",
            "gridcolor": "white",
            "gridwidth": 2,
            "linecolor": "white",
            "showbackground": true,
            "ticks": "",
            "zerolinecolor": "white"
           }
          },
          "shapedefaults": {
           "line": {
            "color": "#2a3f5f"
           }
          },
          "ternary": {
           "aaxis": {
            "gridcolor": "white",
            "linecolor": "white",
            "ticks": ""
           },
           "baxis": {
            "gridcolor": "white",
            "linecolor": "white",
            "ticks": ""
           },
           "bgcolor": "#E5ECF6",
           "caxis": {
            "gridcolor": "white",
            "linecolor": "white",
            "ticks": ""
           }
          },
          "title": {
           "x": 0.05
          },
          "xaxis": {
           "automargin": true,
           "gridcolor": "white",
           "linecolor": "white",
           "ticks": "",
           "title": {
            "standoff": 15
           },
           "zerolinecolor": "white",
           "zerolinewidth": 2
          },
          "yaxis": {
           "automargin": true,
           "gridcolor": "white",
           "linecolor": "white",
           "ticks": "",
           "title": {
            "standoff": 15
           },
           "zerolinecolor": "white",
           "zerolinewidth": 2
          }
         }
        },
        "title": {
         "text": "Average Sentiment by Character in Frankenstein"
        },
        "xaxis": {
         "anchor": "y",
         "domain": [
          0,
          1
         ],
         "title": {
          "text": "Character"
         }
        },
        "yaxis": {
         "anchor": "x",
         "domain": [
          0,
          1
         ],
         "title": {
          "text": "Average Sentiment Score"
         }
        }
       }
      }
     },
     "metadata": {},
     "output_type": "display_data"
    },
    {
     "data": {
      "application/vnd.plotly.v1+json": {
       "config": {
        "plotlyServerURL": "https://plot.ly"
       },
       "data": [
        {
         "marker": {
          "color": "green"
         },
         "name": "Positive",
         "opacity": 0.7,
         "type": "bar",
         "x": [
          "Agatha",
          "Ernest",
          "Elizabeth",
          "Felix",
          "Henry",
          "Alphonse",
          "Victor",
          "William",
          "Monster",
          "Justine"
         ],
         "y": {
          "bdata": "CgYbDhUjCAQSBQ==",
          "dtype": "i1"
         }
        },
        {
         "marker": {
          "color": "gray"
         },
         "name": "Neutral",
         "opacity": 0.7,
         "type": "bar",
         "x": [
          "Agatha",
          "Ernest",
          "Elizabeth",
          "Felix",
          "Henry",
          "Alphonse",
          "Victor",
          "William",
          "Monster",
          "Justine"
         ],
         "y": {
          "bdata": "BAUXDhIuFgYcBQ==",
          "dtype": "i1"
         }
        },
        {
         "marker": {
          "color": "red"
         },
         "name": "Negative",
         "opacity": 0.7,
         "type": "bar",
         "x": [
          "Agatha",
          "Ernest",
          "Elizabeth",
          "Felix",
          "Henry",
          "Alphonse",
          "Victor",
          "William",
          "Monster",
          "Justine"
         ],
         "y": {
          "bdata": "AwMeChosFw4/Hg==",
          "dtype": "i1"
         }
        }
       ],
       "layout": {
        "barmode": "stack",
        "height": 500,
        "template": {
         "data": {
          "bar": [
           {
            "error_x": {
             "color": "#2a3f5f"
            },
            "error_y": {
             "color": "#2a3f5f"
            },
            "marker": {
             "line": {
              "color": "#E5ECF6",
              "width": 0.5
             },
             "pattern": {
              "fillmode": "overlay",
              "size": 10,
              "solidity": 0.2
             }
            },
            "type": "bar"
           }
          ],
          "barpolar": [
           {
            "marker": {
             "line": {
              "color": "#E5ECF6",
              "width": 0.5
             },
             "pattern": {
              "fillmode": "overlay",
              "size": 10,
              "solidity": 0.2
             }
            },
            "type": "barpolar"
           }
          ],
          "carpet": [
           {
            "aaxis": {
             "endlinecolor": "#2a3f5f",
             "gridcolor": "white",
             "linecolor": "white",
             "minorgridcolor": "white",
             "startlinecolor": "#2a3f5f"
            },
            "baxis": {
             "endlinecolor": "#2a3f5f",
             "gridcolor": "white",
             "linecolor": "white",
             "minorgridcolor": "white",
             "startlinecolor": "#2a3f5f"
            },
            "type": "carpet"
           }
          ],
          "choropleth": [
           {
            "colorbar": {
             "outlinewidth": 0,
             "ticks": ""
            },
            "type": "choropleth"
           }
          ],
          "contour": [
           {
            "colorbar": {
             "outlinewidth": 0,
             "ticks": ""
            },
            "colorscale": [
             [
              0,
              "#0d0887"
             ],
             [
              0.1111111111111111,
              "#46039f"
             ],
             [
              0.2222222222222222,
              "#7201a8"
             ],
             [
              0.3333333333333333,
              "#9c179e"
             ],
             [
              0.4444444444444444,
              "#bd3786"
             ],
             [
              0.5555555555555556,
              "#d8576b"
             ],
             [
              0.6666666666666666,
              "#ed7953"
             ],
             [
              0.7777777777777778,
              "#fb9f3a"
             ],
             [
              0.8888888888888888,
              "#fdca26"
             ],
             [
              1,
              "#f0f921"
             ]
            ],
            "type": "contour"
           }
          ],
          "contourcarpet": [
           {
            "colorbar": {
             "outlinewidth": 0,
             "ticks": ""
            },
            "type": "contourcarpet"
           }
          ],
          "heatmap": [
           {
            "colorbar": {
             "outlinewidth": 0,
             "ticks": ""
            },
            "colorscale": [
             [
              0,
              "#0d0887"
             ],
             [
              0.1111111111111111,
              "#46039f"
             ],
             [
              0.2222222222222222,
              "#7201a8"
             ],
             [
              0.3333333333333333,
              "#9c179e"
             ],
             [
              0.4444444444444444,
              "#bd3786"
             ],
             [
              0.5555555555555556,
              "#d8576b"
             ],
             [
              0.6666666666666666,
              "#ed7953"
             ],
             [
              0.7777777777777778,
              "#fb9f3a"
             ],
             [
              0.8888888888888888,
              "#fdca26"
             ],
             [
              1,
              "#f0f921"
             ]
            ],
            "type": "heatmap"
           }
          ],
          "histogram": [
           {
            "marker": {
             "pattern": {
              "fillmode": "overlay",
              "size": 10,
              "solidity": 0.2
             }
            },
            "type": "histogram"
           }
          ],
          "histogram2d": [
           {
            "colorbar": {
             "outlinewidth": 0,
             "ticks": ""
            },
            "colorscale": [
             [
              0,
              "#0d0887"
             ],
             [
              0.1111111111111111,
              "#46039f"
             ],
             [
              0.2222222222222222,
              "#7201a8"
             ],
             [
              0.3333333333333333,
              "#9c179e"
             ],
             [
              0.4444444444444444,
              "#bd3786"
             ],
             [
              0.5555555555555556,
              "#d8576b"
             ],
             [
              0.6666666666666666,
              "#ed7953"
             ],
             [
              0.7777777777777778,
              "#fb9f3a"
             ],
             [
              0.8888888888888888,
              "#fdca26"
             ],
             [
              1,
              "#f0f921"
             ]
            ],
            "type": "histogram2d"
           }
          ],
          "histogram2dcontour": [
           {
            "colorbar": {
             "outlinewidth": 0,
             "ticks": ""
            },
            "colorscale": [
             [
              0,
              "#0d0887"
             ],
             [
              0.1111111111111111,
              "#46039f"
             ],
             [
              0.2222222222222222,
              "#7201a8"
             ],
             [
              0.3333333333333333,
              "#9c179e"
             ],
             [
              0.4444444444444444,
              "#bd3786"
             ],
             [
              0.5555555555555556,
              "#d8576b"
             ],
             [
              0.6666666666666666,
              "#ed7953"
             ],
             [
              0.7777777777777778,
              "#fb9f3a"
             ],
             [
              0.8888888888888888,
              "#fdca26"
             ],
             [
              1,
              "#f0f921"
             ]
            ],
            "type": "histogram2dcontour"
           }
          ],
          "mesh3d": [
           {
            "colorbar": {
             "outlinewidth": 0,
             "ticks": ""
            },
            "type": "mesh3d"
           }
          ],
          "parcoords": [
           {
            "line": {
             "colorbar": {
              "outlinewidth": 0,
              "ticks": ""
             }
            },
            "type": "parcoords"
           }
          ],
          "pie": [
           {
            "automargin": true,
            "type": "pie"
           }
          ],
          "scatter": [
           {
            "fillpattern": {
             "fillmode": "overlay",
             "size": 10,
             "solidity": 0.2
            },
            "type": "scatter"
           }
          ],
          "scatter3d": [
           {
            "line": {
             "colorbar": {
              "outlinewidth": 0,
              "ticks": ""
             }
            },
            "marker": {
             "colorbar": {
              "outlinewidth": 0,
              "ticks": ""
             }
            },
            "type": "scatter3d"
           }
          ],
          "scattercarpet": [
           {
            "marker": {
             "colorbar": {
              "outlinewidth": 0,
              "ticks": ""
             }
            },
            "type": "scattercarpet"
           }
          ],
          "scattergeo": [
           {
            "marker": {
             "colorbar": {
              "outlinewidth": 0,
              "ticks": ""
             }
            },
            "type": "scattergeo"
           }
          ],
          "scattergl": [
           {
            "marker": {
             "colorbar": {
              "outlinewidth": 0,
              "ticks": ""
             }
            },
            "type": "scattergl"
           }
          ],
          "scattermap": [
           {
            "marker": {
             "colorbar": {
              "outlinewidth": 0,
              "ticks": ""
             }
            },
            "type": "scattermap"
           }
          ],
          "scattermapbox": [
           {
            "marker": {
             "colorbar": {
              "outlinewidth": 0,
              "ticks": ""
             }
            },
            "type": "scattermapbox"
           }
          ],
          "scatterpolar": [
           {
            "marker": {
             "colorbar": {
              "outlinewidth": 0,
              "ticks": ""
             }
            },
            "type": "scatterpolar"
           }
          ],
          "scatterpolargl": [
           {
            "marker": {
             "colorbar": {
              "outlinewidth": 0,
              "ticks": ""
             }
            },
            "type": "scatterpolargl"
           }
          ],
          "scatterternary": [
           {
            "marker": {
             "colorbar": {
              "outlinewidth": 0,
              "ticks": ""
             }
            },
            "type": "scatterternary"
           }
          ],
          "surface": [
           {
            "colorbar": {
             "outlinewidth": 0,
             "ticks": ""
            },
            "colorscale": [
             [
              0,
              "#0d0887"
             ],
             [
              0.1111111111111111,
              "#46039f"
             ],
             [
              0.2222222222222222,
              "#7201a8"
             ],
             [
              0.3333333333333333,
              "#9c179e"
             ],
             [
              0.4444444444444444,
              "#bd3786"
             ],
             [
              0.5555555555555556,
              "#d8576b"
             ],
             [
              0.6666666666666666,
              "#ed7953"
             ],
             [
              0.7777777777777778,
              "#fb9f3a"
             ],
             [
              0.8888888888888888,
              "#fdca26"
             ],
             [
              1,
              "#f0f921"
             ]
            ],
            "type": "surface"
           }
          ],
          "table": [
           {
            "cells": {
             "fill": {
              "color": "#EBF0F8"
             },
             "line": {
              "color": "white"
             }
            },
            "header": {
             "fill": {
              "color": "#C8D4E3"
             },
             "line": {
              "color": "white"
             }
            },
            "type": "table"
           }
          ]
         },
         "layout": {
          "annotationdefaults": {
           "arrowcolor": "#2a3f5f",
           "arrowhead": 0,
           "arrowwidth": 1
          },
          "autotypenumbers": "strict",
          "coloraxis": {
           "colorbar": {
            "outlinewidth": 0,
            "ticks": ""
           }
          },
          "colorscale": {
           "diverging": [
            [
             0,
             "#8e0152"
            ],
            [
             0.1,
             "#c51b7d"
            ],
            [
             0.2,
             "#de77ae"
            ],
            [
             0.3,
             "#f1b6da"
            ],
            [
             0.4,
             "#fde0ef"
            ],
            [
             0.5,
             "#f7f7f7"
            ],
            [
             0.6,
             "#e6f5d0"
            ],
            [
             0.7,
             "#b8e186"
            ],
            [
             0.8,
             "#7fbc41"
            ],
            [
             0.9,
             "#4d9221"
            ],
            [
             1,
             "#276419"
            ]
           ],
           "sequential": [
            [
             0,
             "#0d0887"
            ],
            [
             0.1111111111111111,
             "#46039f"
            ],
            [
             0.2222222222222222,
             "#7201a8"
            ],
            [
             0.3333333333333333,
             "#9c179e"
            ],
            [
             0.4444444444444444,
             "#bd3786"
            ],
            [
             0.5555555555555556,
             "#d8576b"
            ],
            [
             0.6666666666666666,
             "#ed7953"
            ],
            [
             0.7777777777777778,
             "#fb9f3a"
            ],
            [
             0.8888888888888888,
             "#fdca26"
            ],
            [
             1,
             "#f0f921"
            ]
           ],
           "sequentialminus": [
            [
             0,
             "#0d0887"
            ],
            [
             0.1111111111111111,
             "#46039f"
            ],
            [
             0.2222222222222222,
             "#7201a8"
            ],
            [
             0.3333333333333333,
             "#9c179e"
            ],
            [
             0.4444444444444444,
             "#bd3786"
            ],
            [
             0.5555555555555556,
             "#d8576b"
            ],
            [
             0.6666666666666666,
             "#ed7953"
            ],
            [
             0.7777777777777778,
             "#fb9f3a"
            ],
            [
             0.8888888888888888,
             "#fdca26"
            ],
            [
             1,
             "#f0f921"
            ]
           ]
          },
          "colorway": [
           "#636efa",
           "#EF553B",
           "#00cc96",
           "#ab63fa",
           "#FFA15A",
           "#19d3f3",
           "#FF6692",
           "#B6E880",
           "#FF97FF",
           "#FECB52"
          ],
          "font": {
           "color": "#2a3f5f"
          },
          "geo": {
           "bgcolor": "white",
           "lakecolor": "white",
           "landcolor": "#E5ECF6",
           "showlakes": true,
           "showland": true,
           "subunitcolor": "white"
          },
          "hoverlabel": {
           "align": "left"
          },
          "hovermode": "closest",
          "mapbox": {
           "style": "light"
          },
          "paper_bgcolor": "white",
          "plot_bgcolor": "#E5ECF6",
          "polar": {
           "angularaxis": {
            "gridcolor": "white",
            "linecolor": "white",
            "ticks": ""
           },
           "bgcolor": "#E5ECF6",
           "radialaxis": {
            "gridcolor": "white",
            "linecolor": "white",
            "ticks": ""
           }
          },
          "scene": {
           "xaxis": {
            "backgroundcolor": "#E5ECF6",
            "gridcolor": "white",
            "gridwidth": 2,
            "linecolor": "white",
            "showbackground": true,
            "ticks": "",
            "zerolinecolor": "white"
           },
           "yaxis": {
            "backgroundcolor": "#E5ECF6",
            "gridcolor": "white",
            "gridwidth": 2,
            "linecolor": "white",
            "showbackground": true,
            "ticks": "",
            "zerolinecolor": "white"
           },
           "zaxis": {
            "backgroundcolor": "#E5ECF6",
            "gridcolor": "white",
            "gridwidth": 2,
            "linecolor": "white",
            "showbackground": true,
            "ticks": "",
            "zerolinecolor": "white"
           }
          },
          "shapedefaults": {
           "line": {
            "color": "#2a3f5f"
           }
          },
          "ternary": {
           "aaxis": {
            "gridcolor": "white",
            "linecolor": "white",
            "ticks": ""
           },
           "baxis": {
            "gridcolor": "white",
            "linecolor": "white",
            "ticks": ""
           },
           "bgcolor": "#E5ECF6",
           "caxis": {
            "gridcolor": "white",
            "linecolor": "white",
            "ticks": ""
           }
          },
          "title": {
           "x": 0.05
          },
          "xaxis": {
           "automargin": true,
           "gridcolor": "white",
           "linecolor": "white",
           "ticks": "",
           "title": {
            "standoff": 15
           },
           "zerolinecolor": "white",
           "zerolinewidth": 2
          },
          "yaxis": {
           "automargin": true,
           "gridcolor": "white",
           "linecolor": "white",
           "ticks": "",
           "title": {
            "standoff": 15
           },
           "zerolinecolor": "white",
           "zerolinewidth": 2
          }
         }
        },
        "title": {
         "text": "Sentiment Distribution by Character (Number of Paragraphs)"
        },
        "xaxis": {
         "title": {
          "text": "Character"
         }
        },
        "yaxis": {
         "title": {
          "text": "Number of Paragraphs"
         }
        }
       }
      }
     },
     "metadata": {},
     "output_type": "display_data"
    },
    {
     "data": {
      "application/vnd.plotly.v1+json": {
       "config": {
        "plotlyServerURL": "https://plot.ly"
       },
       "data": [
        {
         "hovertemplate": "<b>%{hovertext}</b><br><br>Number of Paragraph Mentions=%{x}<br>Average Sentiment Score=%{marker.color}<br>Total Words=%{marker.size}<extra></extra>",
         "hovertext": [
          "Agatha",
          "Ernest",
          "Elizabeth",
          "Felix",
          "Henry",
          "Alphonse",
          "Victor",
          "William",
          "Monster",
          "Justine"
         ],
         "legendgroup": "",
         "marker": {
          "color": {
           "bdata": "aHXbPVFRvjymXpI8KBZXupxBBrykP0e8Z2QCviwtBb5AuAu+qoY5vg==",
           "dtype": "f4"
          },
          "coloraxis": "coloraxis",
          "size": {
           "bdata": "3wjgBn0kcBDTH3A2mBcfDR8/fxE=",
           "dtype": "i2"
          },
          "sizemode": "area",
          "sizeref": 40.3975,
          "symbol": "circle"
         },
         "mode": "markers",
         "name": "",
         "orientation": "v",
         "showlegend": false,
         "type": "scatter",
         "x": {
          "bdata": "EQ5QJkF9NRhtKA==",
          "dtype": "i1"
         },
         "xaxis": "x",
         "y": {
          "bdata": "aHXbPVFRvjymXpI8KBZXupxBBrykP0e8Z2QCviwtBb5AuAu+qoY5vg==",
          "dtype": "f4"
         },
         "yaxis": "y"
        }
       ],
       "layout": {
        "annotations": [
         {
          "bgcolor": "rgba(0,255,0,0.1)",
          "bordercolor": "green",
          "showarrow": false,
          "text": "High Frequency<br>Positive",
          "x": 100,
          "y": 0.08572602272033691
         },
         {
          "bgcolor": "rgba(255,0,0,0.1)",
          "bordercolor": "red",
          "showarrow": false,
          "text": "High Frequency<br>Negative",
          "x": 100,
          "y": -0.14494220912456512
         }
        ],
        "coloraxis": {
         "cmid": 0,
         "colorbar": {
          "title": {
           "text": "Average Sentiment Score"
          }
         },
         "colorscale": [
          [
           0,
           "rgb(165,0,38)"
          ],
          [
           0.1,
           "rgb(215,48,39)"
          ],
          [
           0.2,
           "rgb(244,109,67)"
          ],
          [
           0.3,
           "rgb(253,174,97)"
          ],
          [
           0.4,
           "rgb(254,224,139)"
          ],
          [
           0.5,
           "rgb(255,255,191)"
          ],
          [
           0.6,
           "rgb(217,239,139)"
          ],
          [
           0.7,
           "rgb(166,217,106)"
          ],
          [
           0.8,
           "rgb(102,189,99)"
          ],
          [
           0.9,
           "rgb(26,152,80)"
          ],
          [
           1,
           "rgb(0,104,55)"
          ]
         ]
        },
        "height": 500,
        "legend": {
         "itemsizing": "constant",
         "tracegroupgap": 0
        },
        "shapes": [
         {
          "line": {
           "color": "gray",
           "dash": "dash"
          },
          "opacity": 0.5,
          "type": "line",
          "x0": 0,
          "x1": 1,
          "xref": "x domain",
          "y0": 0,
          "y1": 0,
          "yref": "y"
         },
         {
          "line": {
           "color": "gray",
           "dash": "dash"
          },
          "opacity": 0.5,
          "type": "line",
          "x0": 46.5,
          "x1": 46.5,
          "xref": "x",
          "y0": 0,
          "y1": 1,
          "yref": "y domain"
         }
        ],
        "template": {
         "data": {
          "bar": [
           {
            "error_x": {
             "color": "#2a3f5f"
            },
            "error_y": {
             "color": "#2a3f5f"
            },
            "marker": {
             "line": {
              "color": "#E5ECF6",
              "width": 0.5
             },
             "pattern": {
              "fillmode": "overlay",
              "size": 10,
              "solidity": 0.2
             }
            },
            "type": "bar"
           }
          ],
          "barpolar": [
           {
            "marker": {
             "line": {
              "color": "#E5ECF6",
              "width": 0.5
             },
             "pattern": {
              "fillmode": "overlay",
              "size": 10,
              "solidity": 0.2
             }
            },
            "type": "barpolar"
           }
          ],
          "carpet": [
           {
            "aaxis": {
             "endlinecolor": "#2a3f5f",
             "gridcolor": "white",
             "linecolor": "white",
             "minorgridcolor": "white",
             "startlinecolor": "#2a3f5f"
            },
            "baxis": {
             "endlinecolor": "#2a3f5f",
             "gridcolor": "white",
             "linecolor": "white",
             "minorgridcolor": "white",
             "startlinecolor": "#2a3f5f"
            },
            "type": "carpet"
           }
          ],
          "choropleth": [
           {
            "colorbar": {
             "outlinewidth": 0,
             "ticks": ""
            },
            "type": "choropleth"
           }
          ],
          "contour": [
           {
            "colorbar": {
             "outlinewidth": 0,
             "ticks": ""
            },
            "colorscale": [
             [
              0,
              "#0d0887"
             ],
             [
              0.1111111111111111,
              "#46039f"
             ],
             [
              0.2222222222222222,
              "#7201a8"
             ],
             [
              0.3333333333333333,
              "#9c179e"
             ],
             [
              0.4444444444444444,
              "#bd3786"
             ],
             [
              0.5555555555555556,
              "#d8576b"
             ],
             [
              0.6666666666666666,
              "#ed7953"
             ],
             [
              0.7777777777777778,
              "#fb9f3a"
             ],
             [
              0.8888888888888888,
              "#fdca26"
             ],
             [
              1,
              "#f0f921"
             ]
            ],
            "type": "contour"
           }
          ],
          "contourcarpet": [
           {
            "colorbar": {
             "outlinewidth": 0,
             "ticks": ""
            },
            "type": "contourcarpet"
           }
          ],
          "heatmap": [
           {
            "colorbar": {
             "outlinewidth": 0,
             "ticks": ""
            },
            "colorscale": [
             [
              0,
              "#0d0887"
             ],
             [
              0.1111111111111111,
              "#46039f"
             ],
             [
              0.2222222222222222,
              "#7201a8"
             ],
             [
              0.3333333333333333,
              "#9c179e"
             ],
             [
              0.4444444444444444,
              "#bd3786"
             ],
             [
              0.5555555555555556,
              "#d8576b"
             ],
             [
              0.6666666666666666,
              "#ed7953"
             ],
             [
              0.7777777777777778,
              "#fb9f3a"
             ],
             [
              0.8888888888888888,
              "#fdca26"
             ],
             [
              1,
              "#f0f921"
             ]
            ],
            "type": "heatmap"
           }
          ],
          "histogram": [
           {
            "marker": {
             "pattern": {
              "fillmode": "overlay",
              "size": 10,
              "solidity": 0.2
             }
            },
            "type": "histogram"
           }
          ],
          "histogram2d": [
           {
            "colorbar": {
             "outlinewidth": 0,
             "ticks": ""
            },
            "colorscale": [
             [
              0,
              "#0d0887"
             ],
             [
              0.1111111111111111,
              "#46039f"
             ],
             [
              0.2222222222222222,
              "#7201a8"
             ],
             [
              0.3333333333333333,
              "#9c179e"
             ],
             [
              0.4444444444444444,
              "#bd3786"
             ],
             [
              0.5555555555555556,
              "#d8576b"
             ],
             [
              0.6666666666666666,
              "#ed7953"
             ],
             [
              0.7777777777777778,
              "#fb9f3a"
             ],
             [
              0.8888888888888888,
              "#fdca26"
             ],
             [
              1,
              "#f0f921"
             ]
            ],
            "type": "histogram2d"
           }
          ],
          "histogram2dcontour": [
           {
            "colorbar": {
             "outlinewidth": 0,
             "ticks": ""
            },
            "colorscale": [
             [
              0,
              "#0d0887"
             ],
             [
              0.1111111111111111,
              "#46039f"
             ],
             [
              0.2222222222222222,
              "#7201a8"
             ],
             [
              0.3333333333333333,
              "#9c179e"
             ],
             [
              0.4444444444444444,
              "#bd3786"
             ],
             [
              0.5555555555555556,
              "#d8576b"
             ],
             [
              0.6666666666666666,
              "#ed7953"
             ],
             [
              0.7777777777777778,
              "#fb9f3a"
             ],
             [
              0.8888888888888888,
              "#fdca26"
             ],
             [
              1,
              "#f0f921"
             ]
            ],
            "type": "histogram2dcontour"
           }
          ],
          "mesh3d": [
           {
            "colorbar": {
             "outlinewidth": 0,
             "ticks": ""
            },
            "type": "mesh3d"
           }
          ],
          "parcoords": [
           {
            "line": {
             "colorbar": {
              "outlinewidth": 0,
              "ticks": ""
             }
            },
            "type": "parcoords"
           }
          ],
          "pie": [
           {
            "automargin": true,
            "type": "pie"
           }
          ],
          "scatter": [
           {
            "fillpattern": {
             "fillmode": "overlay",
             "size": 10,
             "solidity": 0.2
            },
            "type": "scatter"
           }
          ],
          "scatter3d": [
           {
            "line": {
             "colorbar": {
              "outlinewidth": 0,
              "ticks": ""
             }
            },
            "marker": {
             "colorbar": {
              "outlinewidth": 0,
              "ticks": ""
             }
            },
            "type": "scatter3d"
           }
          ],
          "scattercarpet": [
           {
            "marker": {
             "colorbar": {
              "outlinewidth": 0,
              "ticks": ""
             }
            },
            "type": "scattercarpet"
           }
          ],
          "scattergeo": [
           {
            "marker": {
             "colorbar": {
              "outlinewidth": 0,
              "ticks": ""
             }
            },
            "type": "scattergeo"
           }
          ],
          "scattergl": [
           {
            "marker": {
             "colorbar": {
              "outlinewidth": 0,
              "ticks": ""
             }
            },
            "type": "scattergl"
           }
          ],
          "scattermap": [
           {
            "marker": {
             "colorbar": {
              "outlinewidth": 0,
              "ticks": ""
             }
            },
            "type": "scattermap"
           }
          ],
          "scattermapbox": [
           {
            "marker": {
             "colorbar": {
              "outlinewidth": 0,
              "ticks": ""
             }
            },
            "type": "scattermapbox"
           }
          ],
          "scatterpolar": [
           {
            "marker": {
             "colorbar": {
              "outlinewidth": 0,
              "ticks": ""
             }
            },
            "type": "scatterpolar"
           }
          ],
          "scatterpolargl": [
           {
            "marker": {
             "colorbar": {
              "outlinewidth": 0,
              "ticks": ""
             }
            },
            "type": "scatterpolargl"
           }
          ],
          "scatterternary": [
           {
            "marker": {
             "colorbar": {
              "outlinewidth": 0,
              "ticks": ""
             }
            },
            "type": "scatterternary"
           }
          ],
          "surface": [
           {
            "colorbar": {
             "outlinewidth": 0,
             "ticks": ""
            },
            "colorscale": [
             [
              0,
              "#0d0887"
             ],
             [
              0.1111111111111111,
              "#46039f"
             ],
             [
              0.2222222222222222,
              "#7201a8"
             ],
             [
              0.3333333333333333,
              "#9c179e"
             ],
             [
              0.4444444444444444,
              "#bd3786"
             ],
             [
              0.5555555555555556,
              "#d8576b"
             ],
             [
              0.6666666666666666,
              "#ed7953"
             ],
             [
              0.7777777777777778,
              "#fb9f3a"
             ],
             [
              0.8888888888888888,
              "#fdca26"
             ],
             [
              1,
              "#f0f921"
             ]
            ],
            "type": "surface"
           }
          ],
          "table": [
           {
            "cells": {
             "fill": {
              "color": "#EBF0F8"
             },
             "line": {
              "color": "white"
             }
            },
            "header": {
             "fill": {
              "color": "#C8D4E3"
             },
             "line": {
              "color": "white"
             }
            },
            "type": "table"
           }
          ]
         },
         "layout": {
          "annotationdefaults": {
           "arrowcolor": "#2a3f5f",
           "arrowhead": 0,
           "arrowwidth": 1
          },
          "autotypenumbers": "strict",
          "coloraxis": {
           "colorbar": {
            "outlinewidth": 0,
            "ticks": ""
           }
          },
          "colorscale": {
           "diverging": [
            [
             0,
             "#8e0152"
            ],
            [
             0.1,
             "#c51b7d"
            ],
            [
             0.2,
             "#de77ae"
            ],
            [
             0.3,
             "#f1b6da"
            ],
            [
             0.4,
             "#fde0ef"
            ],
            [
             0.5,
             "#f7f7f7"
            ],
            [
             0.6,
             "#e6f5d0"
            ],
            [
             0.7,
             "#b8e186"
            ],
            [
             0.8,
             "#7fbc41"
            ],
            [
             0.9,
             "#4d9221"
            ],
            [
             1,
             "#276419"
            ]
           ],
           "sequential": [
            [
             0,
             "#0d0887"
            ],
            [
             0.1111111111111111,
             "#46039f"
            ],
            [
             0.2222222222222222,
             "#7201a8"
            ],
            [
             0.3333333333333333,
             "#9c179e"
            ],
            [
             0.4444444444444444,
             "#bd3786"
            ],
            [
             0.5555555555555556,
             "#d8576b"
            ],
            [
             0.6666666666666666,
             "#ed7953"
            ],
            [
             0.7777777777777778,
             "#fb9f3a"
            ],
            [
             0.8888888888888888,
             "#fdca26"
            ],
            [
             1,
             "#f0f921"
            ]
           ],
           "sequentialminus": [
            [
             0,
             "#0d0887"
            ],
            [
             0.1111111111111111,
             "#46039f"
            ],
            [
             0.2222222222222222,
             "#7201a8"
            ],
            [
             0.3333333333333333,
             "#9c179e"
            ],
            [
             0.4444444444444444,
             "#bd3786"
            ],
            [
             0.5555555555555556,
             "#d8576b"
            ],
            [
             0.6666666666666666,
             "#ed7953"
            ],
            [
             0.7777777777777778,
             "#fb9f3a"
            ],
            [
             0.8888888888888888,
             "#fdca26"
            ],
            [
             1,
             "#f0f921"
            ]
           ]
          },
          "colorway": [
           "#636efa",
           "#EF553B",
           "#00cc96",
           "#ab63fa",
           "#FFA15A",
           "#19d3f3",
           "#FF6692",
           "#B6E880",
           "#FF97FF",
           "#FECB52"
          ],
          "font": {
           "color": "#2a3f5f"
          },
          "geo": {
           "bgcolor": "white",
           "lakecolor": "white",
           "landcolor": "#E5ECF6",
           "showlakes": true,
           "showland": true,
           "subunitcolor": "white"
          },
          "hoverlabel": {
           "align": "left"
          },
          "hovermode": "closest",
          "mapbox": {
           "style": "light"
          },
          "paper_bgcolor": "white",
          "plot_bgcolor": "#E5ECF6",
          "polar": {
           "angularaxis": {
            "gridcolor": "white",
            "linecolor": "white",
            "ticks": ""
           },
           "bgcolor": "#E5ECF6",
           "radialaxis": {
            "gridcolor": "white",
            "linecolor": "white",
            "ticks": ""
           }
          },
          "scene": {
           "xaxis": {
            "backgroundcolor": "#E5ECF6",
            "gridcolor": "white",
            "gridwidth": 2,
            "linecolor": "white",
            "showbackground": true,
            "ticks": "",
            "zerolinecolor": "white"
           },
           "yaxis": {
            "backgroundcolor": "#E5ECF6",
            "gridcolor": "white",
            "gridwidth": 2,
            "linecolor": "white",
            "showbackground": true,
            "ticks": "",
            "zerolinecolor": "white"
           },
           "zaxis": {
            "backgroundcolor": "#E5ECF6",
            "gridcolor": "white",
            "gridwidth": 2,
            "linecolor": "white",
            "showbackground": true,
            "ticks": "",
            "zerolinecolor": "white"
           }
          },
          "shapedefaults": {
           "line": {
            "color": "#2a3f5f"
           }
          },
          "ternary": {
           "aaxis": {
            "gridcolor": "white",
            "linecolor": "white",
            "ticks": ""
           },
           "baxis": {
            "gridcolor": "white",
            "linecolor": "white",
            "ticks": ""
           },
           "bgcolor": "#E5ECF6",
           "caxis": {
            "gridcolor": "white",
            "linecolor": "white",
            "ticks": ""
           }
          },
          "title": {
           "x": 0.05
          },
          "xaxis": {
           "automargin": true,
           "gridcolor": "white",
           "linecolor": "white",
           "ticks": "",
           "title": {
            "standoff": 15
           },
           "zerolinecolor": "white",
           "zerolinewidth": 2
          },
          "yaxis": {
           "automargin": true,
           "gridcolor": "white",
           "linecolor": "white",
           "ticks": "",
           "title": {
            "standoff": 15
           },
           "zerolinecolor": "white",
           "zerolinewidth": 2
          }
         }
        },
        "title": {
         "text": "Character Sentiment vs Mention Frequency"
        },
        "xaxis": {
         "anchor": "y",
         "domain": [
          0,
          1
         ],
         "title": {
          "text": "Number of Paragraph Mentions"
         }
        },
        "yaxis": {
         "anchor": "x",
         "domain": [
          0,
          1
         ],
         "title": {
          "text": "Average Sentiment Score"
         }
        }
       }
      }
     },
     "metadata": {},
     "output_type": "display_data"
    },
    {
     "name": "stdout",
     "output_type": "stream",
     "text": [
      "📊 Interactive character sentiment visualizations created!\n",
      "🔍 Key insights:\n",
      "- Bar chart 1: Shows overall sentiment ranking of characters\n",
      "- Bar chart 2: Shows distribution of positive/neutral/negative paragraphs\n",
      "- Scatter plot: Compares sentiment vs frequency (bubble size = total words)\n"
     ]
    }
   ],
   "source": [
    "# 3. Character sentiment visualizations\n",
    "print(\"🎭 Creating character sentiment visualizations...\")\n",
    "\n",
    "# Character sentiment bar chart\n",
    "fig_char = px.bar(\n",
    "    character_sentiment_df,\n",
    "    x='Character',\n",
    "    y='Avg_Sentiment',\n",
    "    color='Avg_Sentiment',\n",
    "    color_continuous_scale='RdYlGn',\n",
    "    color_continuous_midpoint=0,\n",
    "    title='Character Sentiment Analysis in Frankenstein',\n",
    "    labels={'Avg_Sentiment': 'Average Sentiment Score'},\n",
    "    hover_data=['Total_Mentions', 'Total_Words']\n",
    ")\n",
    "\n",
    "fig_char.add_hline(y=0, line_dash=\"dash\", line_color=\"gray\")\n",
    "fig_char.update_layout(height=500, showlegend=False)\n",
    "fig_char.show()\n",
    "\n",
    "# Character frequency vs sentiment scatter\n",
    "fig_scatter = px.scatter(\n",
    "    character_sentiment_df,\n",
    "    x='Total_Mentions',\n",
    "    y='Avg_Sentiment',\n",
    "    size='Total_Words',\n",
    "    color='Avg_Sentiment',\n",
    "    color_continuous_scale='RdYlGn',\n",
    "    color_continuous_midpoint=0,\n",
    "    hover_name='Character',\n",
    "    title='Character Analysis: Frequency vs Sentiment',\n",
    "    labels={\n",
    "        'Total_Mentions': 'Paragraph Mentions',\n",
    "        'Avg_Sentiment': 'Average Sentiment',\n",
    "        'Total_Words': 'Total Words'\n",
    "    }\n",
    ")\n",
    "\n",
    "fig_scatter.add_hline(y=0, line_dash=\"dash\", line_color=\"gray\", opacity=0.5)\n",
    "fig_scatter.update_layout(height=500)\n",
    "fig_scatter.show()\n",
    "\n",
    "print(f\"✅ Character visualizations created for {len(character_sentiment_df)} characters\")\n",
    "\n",
    "# Summary insights\n",
    "most_positive = character_sentiment_df.iloc[0]\n",
    "most_negative = character_sentiment_df.iloc[-1]\n",
    "print(f\"\\n\udcca Key Insights:\")\n",
    "print(f\"✨ Most positive character: {most_positive['Character']} ({most_positive['Avg_Sentiment']:.3f})\")\n",
    "print(f\"⛈️ Most negative character: {most_negative['Character']} ({most_negative['Avg_Sentiment']:.3f})\")"
   ]
  }
 ],
 "metadata": {
  "kernelspec": {
   "display_name": "Python 3",
   "language": "python",
   "name": "python3"
  },
  "language_info": {
   "codemirror_mode": {
    "name": "ipython",
    "version": 3
   },
   "file_extension": ".py",
   "mimetype": "text/x-python",
   "name": "python",
   "nbconvert_exporter": "python",
   "pygments_lexer": "ipython3",
   "version": "3.13.7"
  }
 },
 "nbformat": 4,
 "nbformat_minor": 5
}
